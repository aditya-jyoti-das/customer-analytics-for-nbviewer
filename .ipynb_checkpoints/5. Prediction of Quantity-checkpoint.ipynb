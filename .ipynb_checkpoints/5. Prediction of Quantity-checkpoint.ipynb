{
 "cells": [
  {
   "cell_type": "code",
   "execution_count": 1,
   "id": "40e93baf-43ed-43a0-9d0f-f21a4d436593",
   "metadata": {},
   "outputs": [
    {
     "data": {
      "text/html": [
       "        <script type=\"text/javascript\">\n",
       "        window.PlotlyConfig = {MathJaxConfig: 'local'};\n",
       "        if (window.MathJax && window.MathJax.Hub && window.MathJax.Hub.Config) {window.MathJax.Hub.Config({SVG: {font: \"STIX-Web\"}});}\n",
       "        if (typeof require !== 'undefined') {\n",
       "        require.undef(\"plotly\");\n",
       "        requirejs.config({\n",
       "            paths: {\n",
       "                'plotly': ['https://cdn.plot.ly/plotly-2.32.0.min']\n",
       "            }\n",
       "        });\n",
       "        require(['plotly'], function(Plotly) {\n",
       "            window._Plotly = Plotly;\n",
       "        });\n",
       "        }\n",
       "        </script>\n",
       "        "
      ]
     },
     "metadata": {},
     "output_type": "display_data"
    }
   ],
   "source": [
    "import pandas as pd\n",
    "import numpy as np\n",
    "import matplotlib.pyplot as plt\n",
    "import plotly_express as px \n",
    "from sklearn.preprocessing import MinMaxScaler\n",
    "import plotly.figure_factory as ff\n",
    "from scipy.cluster.hierarchy import dendrogram, linkage\n",
    "import plotly.graph_objects as go\n",
    "from plotly.subplots import make_subplots\n",
    "from sklearn.cluster import KMeans\n",
    "from sklearn.decomposition import PCA\n",
    "import pickle\n",
    "import warnings\n",
    "warnings.ignore=True\n",
    "from IPython.display import display\n",
    "from sklearn.linear_model import LinearRegression\n",
    "\n",
    "from plotly.offline import init_notebook_mode,iplot,plot\n",
    "init_notebook_mode(connected=True) \n",
    "%matplotlib inline"
   ]
  },
  {
   "cell_type": "code",
   "execution_count": 2,
   "id": "0610d8ee-d4de-4230-ac34-6becf47220b7",
   "metadata": {},
   "outputs": [
    {
     "data": {
      "text/html": [
       "<div>\n",
       "<style scoped>\n",
       "    .dataframe tbody tr th:only-of-type {\n",
       "        vertical-align: middle;\n",
       "    }\n",
       "\n",
       "    .dataframe tbody tr th {\n",
       "        vertical-align: top;\n",
       "    }\n",
       "\n",
       "    .dataframe thead th {\n",
       "        text-align: right;\n",
       "    }\n",
       "</style>\n",
       "<table border=\"1\" class=\"dataframe\">\n",
       "  <thead>\n",
       "    <tr style=\"text-align: right;\">\n",
       "      <th></th>\n",
       "      <th>ID</th>\n",
       "      <th>Day</th>\n",
       "      <th>Incidence</th>\n",
       "      <th>Brand</th>\n",
       "      <th>Quantity</th>\n",
       "      <th>Last_Inc_Brand</th>\n",
       "      <th>Last_Inc_Quantity</th>\n",
       "      <th>Price_1</th>\n",
       "      <th>Price_2</th>\n",
       "      <th>Price_3</th>\n",
       "      <th>...</th>\n",
       "      <th>Promotion_3</th>\n",
       "      <th>Promotion_4</th>\n",
       "      <th>Promotion_5</th>\n",
       "      <th>Sex</th>\n",
       "      <th>Marital status</th>\n",
       "      <th>Age</th>\n",
       "      <th>Education</th>\n",
       "      <th>Income</th>\n",
       "      <th>Occupation</th>\n",
       "      <th>Settlement size</th>\n",
       "    </tr>\n",
       "  </thead>\n",
       "  <tbody>\n",
       "    <tr>\n",
       "      <th>0</th>\n",
       "      <td>200000001</td>\n",
       "      <td>1</td>\n",
       "      <td>0</td>\n",
       "      <td>0</td>\n",
       "      <td>0</td>\n",
       "      <td>0</td>\n",
       "      <td>0</td>\n",
       "      <td>1.59</td>\n",
       "      <td>1.87</td>\n",
       "      <td>2.01</td>\n",
       "      <td>...</td>\n",
       "      <td>0</td>\n",
       "      <td>0</td>\n",
       "      <td>0</td>\n",
       "      <td>0</td>\n",
       "      <td>0</td>\n",
       "      <td>47</td>\n",
       "      <td>1</td>\n",
       "      <td>110866</td>\n",
       "      <td>1</td>\n",
       "      <td>0</td>\n",
       "    </tr>\n",
       "    <tr>\n",
       "      <th>1</th>\n",
       "      <td>200000001</td>\n",
       "      <td>11</td>\n",
       "      <td>0</td>\n",
       "      <td>0</td>\n",
       "      <td>0</td>\n",
       "      <td>0</td>\n",
       "      <td>0</td>\n",
       "      <td>1.51</td>\n",
       "      <td>1.89</td>\n",
       "      <td>1.99</td>\n",
       "      <td>...</td>\n",
       "      <td>0</td>\n",
       "      <td>0</td>\n",
       "      <td>0</td>\n",
       "      <td>0</td>\n",
       "      <td>0</td>\n",
       "      <td>47</td>\n",
       "      <td>1</td>\n",
       "      <td>110866</td>\n",
       "      <td>1</td>\n",
       "      <td>0</td>\n",
       "    </tr>\n",
       "    <tr>\n",
       "      <th>2</th>\n",
       "      <td>200000001</td>\n",
       "      <td>12</td>\n",
       "      <td>0</td>\n",
       "      <td>0</td>\n",
       "      <td>0</td>\n",
       "      <td>0</td>\n",
       "      <td>0</td>\n",
       "      <td>1.51</td>\n",
       "      <td>1.89</td>\n",
       "      <td>1.99</td>\n",
       "      <td>...</td>\n",
       "      <td>0</td>\n",
       "      <td>0</td>\n",
       "      <td>0</td>\n",
       "      <td>0</td>\n",
       "      <td>0</td>\n",
       "      <td>47</td>\n",
       "      <td>1</td>\n",
       "      <td>110866</td>\n",
       "      <td>1</td>\n",
       "      <td>0</td>\n",
       "    </tr>\n",
       "    <tr>\n",
       "      <th>3</th>\n",
       "      <td>200000001</td>\n",
       "      <td>16</td>\n",
       "      <td>0</td>\n",
       "      <td>0</td>\n",
       "      <td>0</td>\n",
       "      <td>0</td>\n",
       "      <td>0</td>\n",
       "      <td>1.52</td>\n",
       "      <td>1.89</td>\n",
       "      <td>1.98</td>\n",
       "      <td>...</td>\n",
       "      <td>0</td>\n",
       "      <td>0</td>\n",
       "      <td>0</td>\n",
       "      <td>0</td>\n",
       "      <td>0</td>\n",
       "      <td>47</td>\n",
       "      <td>1</td>\n",
       "      <td>110866</td>\n",
       "      <td>1</td>\n",
       "      <td>0</td>\n",
       "    </tr>\n",
       "    <tr>\n",
       "      <th>4</th>\n",
       "      <td>200000001</td>\n",
       "      <td>18</td>\n",
       "      <td>0</td>\n",
       "      <td>0</td>\n",
       "      <td>0</td>\n",
       "      <td>0</td>\n",
       "      <td>0</td>\n",
       "      <td>1.52</td>\n",
       "      <td>1.89</td>\n",
       "      <td>1.99</td>\n",
       "      <td>...</td>\n",
       "      <td>0</td>\n",
       "      <td>0</td>\n",
       "      <td>0</td>\n",
       "      <td>0</td>\n",
       "      <td>0</td>\n",
       "      <td>47</td>\n",
       "      <td>1</td>\n",
       "      <td>110866</td>\n",
       "      <td>1</td>\n",
       "      <td>0</td>\n",
       "    </tr>\n",
       "  </tbody>\n",
       "</table>\n",
       "<p>5 rows × 24 columns</p>\n",
       "</div>"
      ],
      "text/plain": [
       "          ID  Day  Incidence  Brand  Quantity  Last_Inc_Brand  \\\n",
       "0  200000001    1          0      0         0               0   \n",
       "1  200000001   11          0      0         0               0   \n",
       "2  200000001   12          0      0         0               0   \n",
       "3  200000001   16          0      0         0               0   \n",
       "4  200000001   18          0      0         0               0   \n",
       "\n",
       "   Last_Inc_Quantity  Price_1  Price_2  Price_3  ...  Promotion_3  \\\n",
       "0                  0     1.59     1.87     2.01  ...            0   \n",
       "1                  0     1.51     1.89     1.99  ...            0   \n",
       "2                  0     1.51     1.89     1.99  ...            0   \n",
       "3                  0     1.52     1.89     1.98  ...            0   \n",
       "4                  0     1.52     1.89     1.99  ...            0   \n",
       "\n",
       "   Promotion_4  Promotion_5  Sex  Marital status  Age  Education  Income  \\\n",
       "0            0            0    0               0   47          1  110866   \n",
       "1            0            0    0               0   47          1  110866   \n",
       "2            0            0    0               0   47          1  110866   \n",
       "3            0            0    0               0   47          1  110866   \n",
       "4            0            0    0               0   47          1  110866   \n",
       "\n",
       "   Occupation  Settlement size  \n",
       "0           1                0  \n",
       "1           1                0  \n",
       "2           1                0  \n",
       "3           1                0  \n",
       "4           1                0  \n",
       "\n",
       "[5 rows x 24 columns]"
      ]
     },
     "execution_count": 2,
     "metadata": {},
     "output_type": "execute_result"
    }
   ],
   "source": [
    "purchase_data=pd.read_csv('purchase data.csv')\n",
    "purchase_data.head()"
   ]
  },
  {
   "cell_type": "code",
   "execution_count": 3,
   "id": "c7378818-6ab4-4c52-9462-cf12700424f1",
   "metadata": {},
   "outputs": [
    {
     "name": "stderr",
     "output_type": "stream",
     "text": [
      "C:\\Users\\adadi\\anaconda3\\envs\\HPOmenChallenge\\lib\\site-packages\\sklearn\\base.py:348: InconsistentVersionWarning:\n",
      "\n",
      "Trying to unpickle estimator MinMaxScaler from version 1.4.2 when using version 1.3.2. This might lead to breaking code or invalid results. Use at your own risk. For more info please refer to:\n",
      "https://scikit-learn.org/stable/model_persistence.html#security-maintainability-limitations\n",
      "\n"
     ]
    }
   ],
   "source": [
    "scalar=pickle.load(open('scalar.pickle','rb'))"
   ]
  },
  {
   "cell_type": "code",
   "execution_count": 4,
   "id": "29d2ec0e-d431-4448-b7b4-c045fedac2c3",
   "metadata": {},
   "outputs": [
    {
     "name": "stderr",
     "output_type": "stream",
     "text": [
      "C:\\Users\\adadi\\anaconda3\\envs\\HPOmenChallenge\\lib\\site-packages\\sklearn\\base.py:348: InconsistentVersionWarning:\n",
      "\n",
      "Trying to unpickle estimator PCA from version 1.4.2 when using version 1.3.2. This might lead to breaking code or invalid results. Use at your own risk. For more info please refer to:\n",
      "https://scikit-learn.org/stable/model_persistence.html#security-maintainability-limitations\n",
      "\n"
     ]
    }
   ],
   "source": [
    "pca=pickle.load(open('pca.pickle','rb'))"
   ]
  },
  {
   "cell_type": "code",
   "execution_count": 5,
   "id": "a64a508d-9e09-4540-a704-665ac88ae05b",
   "metadata": {},
   "outputs": [
    {
     "name": "stderr",
     "output_type": "stream",
     "text": [
      "C:\\Users\\adadi\\anaconda3\\envs\\HPOmenChallenge\\lib\\site-packages\\sklearn\\base.py:348: InconsistentVersionWarning:\n",
      "\n",
      "Trying to unpickle estimator KMeans from version 1.4.2 when using version 1.3.2. This might lead to breaking code or invalid results. Use at your own risk. For more info please refer to:\n",
      "https://scikit-learn.org/stable/model_persistence.html#security-maintainability-limitations\n",
      "\n"
     ]
    }
   ],
   "source": [
    "kmeans=pickle.load(open('kmeans.pickle','rb'))"
   ]
  },
  {
   "cell_type": "code",
   "execution_count": 6,
   "id": "db469a9a-a06e-48af-aec6-0312d6c2814b",
   "metadata": {},
   "outputs": [
    {
     "name": "stderr",
     "output_type": "stream",
     "text": [
      "C:\\Users\\adadi\\anaconda3\\envs\\HPOmenChallenge\\lib\\site-packages\\sklearn\\base.py:458: UserWarning:\n",
      "\n",
      "X has feature names, but MinMaxScaler was fitted without feature names\n",
      "\n",
      "C:\\Users\\adadi\\anaconda3\\envs\\HPOmenChallenge\\lib\\site-packages\\sklearn\\base.py:458: UserWarning:\n",
      "\n",
      "X has feature names, but KMeans was fitted without feature names\n",
      "\n"
     ]
    },
    {
     "data": {
      "text/html": [
       "<div>\n",
       "<style scoped>\n",
       "    .dataframe tbody tr th:only-of-type {\n",
       "        vertical-align: middle;\n",
       "    }\n",
       "\n",
       "    .dataframe tbody tr th {\n",
       "        vertical-align: top;\n",
       "    }\n",
       "\n",
       "    .dataframe thead th {\n",
       "        text-align: right;\n",
       "    }\n",
       "</style>\n",
       "<table border=\"1\" class=\"dataframe\">\n",
       "  <thead>\n",
       "    <tr style=\"text-align: right;\">\n",
       "      <th></th>\n",
       "      <th>Sex</th>\n",
       "      <th>Marital status</th>\n",
       "      <th>Age</th>\n",
       "      <th>Education</th>\n",
       "      <th>Income</th>\n",
       "      <th>Occupation</th>\n",
       "      <th>Settlement size</th>\n",
       "      <th>Gender(-)_MaritalStatus(-)</th>\n",
       "      <th>Life_Work_Experience(+)</th>\n",
       "      <th>Gender(+)_Married(-)</th>\n",
       "      <th>Segmentation_K_means</th>\n",
       "    </tr>\n",
       "    <tr>\n",
       "      <th>ID</th>\n",
       "      <th></th>\n",
       "      <th></th>\n",
       "      <th></th>\n",
       "      <th></th>\n",
       "      <th></th>\n",
       "      <th></th>\n",
       "      <th></th>\n",
       "      <th></th>\n",
       "      <th></th>\n",
       "      <th></th>\n",
       "      <th></th>\n",
       "    </tr>\n",
       "  </thead>\n",
       "  <tbody>\n",
       "    <tr>\n",
       "      <th>200000001</th>\n",
       "      <td>0.0</td>\n",
       "      <td>0.0</td>\n",
       "      <td>47.0</td>\n",
       "      <td>1.0</td>\n",
       "      <td>110866.0</td>\n",
       "      <td>1.0</td>\n",
       "      <td>0.0</td>\n",
       "      <td>0.562556</td>\n",
       "      <td>-0.423674</td>\n",
       "      <td>-0.084318</td>\n",
       "      <td>0</td>\n",
       "    </tr>\n",
       "    <tr>\n",
       "      <th>200000002</th>\n",
       "      <td>1.0</td>\n",
       "      <td>1.0</td>\n",
       "      <td>52.0</td>\n",
       "      <td>2.0</td>\n",
       "      <td>159052.0</td>\n",
       "      <td>2.0</td>\n",
       "      <td>1.0</td>\n",
       "      <td>-0.576534</td>\n",
       "      <td>0.680160</td>\n",
       "      <td>0.241501</td>\n",
       "      <td>1</td>\n",
       "    </tr>\n",
       "    <tr>\n",
       "      <th>200000003</th>\n",
       "      <td>0.0</td>\n",
       "      <td>0.0</td>\n",
       "      <td>28.0</td>\n",
       "      <td>0.0</td>\n",
       "      <td>113212.0</td>\n",
       "      <td>1.0</td>\n",
       "      <td>0.0</td>\n",
       "      <td>0.571322</td>\n",
       "      <td>-0.476422</td>\n",
       "      <td>-0.092157</td>\n",
       "      <td>0</td>\n",
       "    </tr>\n",
       "    <tr>\n",
       "      <th>200000004</th>\n",
       "      <td>0.0</td>\n",
       "      <td>0.0</td>\n",
       "      <td>37.0</td>\n",
       "      <td>1.0</td>\n",
       "      <td>119602.0</td>\n",
       "      <td>0.0</td>\n",
       "      <td>0.0</td>\n",
       "      <td>0.477406</td>\n",
       "      <td>-0.678954</td>\n",
       "      <td>-0.185573</td>\n",
       "      <td>0</td>\n",
       "    </tr>\n",
       "    <tr>\n",
       "      <th>200000005</th>\n",
       "      <td>0.0</td>\n",
       "      <td>0.0</td>\n",
       "      <td>49.0</td>\n",
       "      <td>1.0</td>\n",
       "      <td>121466.0</td>\n",
       "      <td>1.0</td>\n",
       "      <td>2.0</td>\n",
       "      <td>0.834888</td>\n",
       "      <td>0.298987</td>\n",
       "      <td>0.150102</td>\n",
       "      <td>0</td>\n",
       "    </tr>\n",
       "  </tbody>\n",
       "</table>\n",
       "</div>"
      ],
      "text/plain": [
       "           Sex  Marital status   Age  Education    Income  Occupation  \\\n",
       "ID                                                                      \n",
       "200000001  0.0             0.0  47.0        1.0  110866.0         1.0   \n",
       "200000002  1.0             1.0  52.0        2.0  159052.0         2.0   \n",
       "200000003  0.0             0.0  28.0        0.0  113212.0         1.0   \n",
       "200000004  0.0             0.0  37.0        1.0  119602.0         0.0   \n",
       "200000005  0.0             0.0  49.0        1.0  121466.0         1.0   \n",
       "\n",
       "           Settlement size  Gender(-)_MaritalStatus(-)  \\\n",
       "ID                                                       \n",
       "200000001              0.0                    0.562556   \n",
       "200000002              1.0                   -0.576534   \n",
       "200000003              0.0                    0.571322   \n",
       "200000004              0.0                    0.477406   \n",
       "200000005              2.0                    0.834888   \n",
       "\n",
       "           Life_Work_Experience(+)  Gender(+)_Married(-)  Segmentation_K_means  \n",
       "ID                                                                              \n",
       "200000001                -0.423674             -0.084318                     0  \n",
       "200000002                 0.680160              0.241501                     1  \n",
       "200000003                -0.476422             -0.092157                     0  \n",
       "200000004                -0.678954             -0.185573                     0  \n",
       "200000005                 0.298987              0.150102                     0  "
      ]
     },
     "execution_count": 6,
     "metadata": {},
     "output_type": "execute_result"
    }
   ],
   "source": [
    "CustomerDemographicData=purchase_data[['ID'\t,'Sex',\t'Marital status','Age','Education','Income','Occupation','Settlement size']]\n",
    "\n",
    "CustomerDemographicData=CustomerDemographicData.groupby(['ID']).mean()\n",
    "\n",
    "## standardization\n",
    "DemographicData=scalar.transform(CustomerDemographicData)\n",
    "\n",
    "## pca transformation\n",
    "CustomerDemographicData[['Gender(-)_MaritalStatus(-)','Life_Work_Experience(+)','Gender(+)_Married(-)']]=pca.transform(DemographicData)\n",
    "\n",
    "## segmentation\n",
    "CustomerDemographicData['Segmentation_K_means']=kmeans.predict(CustomerDemographicData.iloc[:,-3:])\n",
    "\n",
    "CustomerDemographicData.head()"
   ]
  },
  {
   "cell_type": "code",
   "execution_count": 7,
   "id": "91607acd-773d-4b0a-9dfb-d16fc6142d49",
   "metadata": {},
   "outputs": [
    {
     "data": {
      "text/plain": [
       "(500, 11)"
      ]
     },
     "execution_count": 7,
     "metadata": {},
     "output_type": "execute_result"
    }
   ],
   "source": [
    "CustomerDemographicData.shape"
   ]
  },
  {
   "cell_type": "code",
   "execution_count": 8,
   "id": "961e697b-162d-432a-b0a3-154e3e8ce068",
   "metadata": {},
   "outputs": [
    {
     "data": {
      "text/plain": [
       "(58693, 24)"
      ]
     },
     "execution_count": 8,
     "metadata": {},
     "output_type": "execute_result"
    }
   ],
   "source": [
    "purchase_data.shape"
   ]
  },
  {
   "cell_type": "code",
   "execution_count": 9,
   "id": "d3260282-cf54-4128-a0e8-0a535abe8925",
   "metadata": {},
   "outputs": [
    {
     "data": {
      "text/plain": [
       "array(['ID', 'Day', 'Incidence', 'Brand', 'Quantity', 'Last_Inc_Brand',\n",
       "       'Last_Inc_Quantity', 'Price_1', 'Price_2', 'Price_3', 'Price_4',\n",
       "       'Price_5', 'Promotion_1', 'Promotion_2', 'Promotion_3',\n",
       "       'Promotion_4', 'Promotion_5', 'Sex', 'Marital status', 'Age',\n",
       "       'Education', 'Income', 'Occupation', 'Settlement size'],\n",
       "      dtype=object)"
      ]
     },
     "execution_count": 9,
     "metadata": {},
     "output_type": "execute_result"
    }
   ],
   "source": [
    "purchase_data.columns.values"
   ]
  },
  {
   "cell_type": "code",
   "execution_count": 10,
   "id": "f6d7d7c7-d05c-422d-8ff7-71b3b71e87c0",
   "metadata": {},
   "outputs": [],
   "source": [
    "df_brnd_price_promotion_data=purchase_data[['ID','Incidence','Brand','Quantity','Price_1','Price_2','Price_3','Price_4','Price_5','Promotion_1','Promotion_2','Promotion_3','Promotion_4','Promotion_5']]"
   ]
  },
  {
   "cell_type": "code",
   "execution_count": 11,
   "id": "9dcd6123-0952-482b-a46c-ce2d9d2a9e7e",
   "metadata": {},
   "outputs": [],
   "source": [
    "df_brnd_price_promotion_data=df_brnd_price_promotion_data[df_brnd_price_promotion_data['Incidence']==1]"
   ]
  },
  {
   "cell_type": "code",
   "execution_count": 12,
   "id": "eabbe757-81d8-4f36-9940-0dfde6b2a0c8",
   "metadata": {},
   "outputs": [],
   "source": [
    "df_brnd_price_promotion_data.drop(columns=['Incidence'],inplace=True)"
   ]
  },
  {
   "cell_type": "code",
   "execution_count": 13,
   "id": "ec0cff1a-2b38-4936-94b2-cb10db428903",
   "metadata": {},
   "outputs": [
    {
     "data": {
      "text/html": [
       "<div>\n",
       "<style scoped>\n",
       "    .dataframe tbody tr th:only-of-type {\n",
       "        vertical-align: middle;\n",
       "    }\n",
       "\n",
       "    .dataframe tbody tr th {\n",
       "        vertical-align: top;\n",
       "    }\n",
       "\n",
       "    .dataframe thead th {\n",
       "        text-align: right;\n",
       "    }\n",
       "</style>\n",
       "<table border=\"1\" class=\"dataframe\">\n",
       "  <thead>\n",
       "    <tr style=\"text-align: right;\">\n",
       "      <th></th>\n",
       "      <th>ID</th>\n",
       "      <th>Brand</th>\n",
       "      <th>Quantity</th>\n",
       "      <th>Price_1</th>\n",
       "      <th>Price_2</th>\n",
       "      <th>Price_3</th>\n",
       "      <th>Price_4</th>\n",
       "      <th>Price_5</th>\n",
       "      <th>Promotion_1</th>\n",
       "      <th>Promotion_2</th>\n",
       "      <th>Promotion_3</th>\n",
       "      <th>Promotion_4</th>\n",
       "      <th>Promotion_5</th>\n",
       "    </tr>\n",
       "  </thead>\n",
       "  <tbody>\n",
       "    <tr>\n",
       "      <th>6</th>\n",
       "      <td>200000001</td>\n",
       "      <td>2</td>\n",
       "      <td>2</td>\n",
       "      <td>1.50</td>\n",
       "      <td>1.90</td>\n",
       "      <td>1.99</td>\n",
       "      <td>2.09</td>\n",
       "      <td>2.67</td>\n",
       "      <td>0</td>\n",
       "      <td>0</td>\n",
       "      <td>0</td>\n",
       "      <td>0</td>\n",
       "      <td>0</td>\n",
       "    </tr>\n",
       "    <tr>\n",
       "      <th>11</th>\n",
       "      <td>200000001</td>\n",
       "      <td>5</td>\n",
       "      <td>1</td>\n",
       "      <td>1.39</td>\n",
       "      <td>1.90</td>\n",
       "      <td>1.91</td>\n",
       "      <td>2.12</td>\n",
       "      <td>2.62</td>\n",
       "      <td>1</td>\n",
       "      <td>0</td>\n",
       "      <td>0</td>\n",
       "      <td>0</td>\n",
       "      <td>1</td>\n",
       "    </tr>\n",
       "    <tr>\n",
       "      <th>19</th>\n",
       "      <td>200000001</td>\n",
       "      <td>1</td>\n",
       "      <td>2</td>\n",
       "      <td>1.47</td>\n",
       "      <td>1.90</td>\n",
       "      <td>1.99</td>\n",
       "      <td>1.97</td>\n",
       "      <td>2.67</td>\n",
       "      <td>0</td>\n",
       "      <td>0</td>\n",
       "      <td>0</td>\n",
       "      <td>1</td>\n",
       "      <td>0</td>\n",
       "    </tr>\n",
       "    <tr>\n",
       "      <th>24</th>\n",
       "      <td>200000001</td>\n",
       "      <td>4</td>\n",
       "      <td>1</td>\n",
       "      <td>1.21</td>\n",
       "      <td>1.35</td>\n",
       "      <td>1.99</td>\n",
       "      <td>2.16</td>\n",
       "      <td>2.68</td>\n",
       "      <td>1</td>\n",
       "      <td>1</td>\n",
       "      <td>0</td>\n",
       "      <td>0</td>\n",
       "      <td>0</td>\n",
       "    </tr>\n",
       "    <tr>\n",
       "      <th>29</th>\n",
       "      <td>200000001</td>\n",
       "      <td>2</td>\n",
       "      <td>3</td>\n",
       "      <td>1.46</td>\n",
       "      <td>1.88</td>\n",
       "      <td>1.97</td>\n",
       "      <td>1.89</td>\n",
       "      <td>2.37</td>\n",
       "      <td>1</td>\n",
       "      <td>0</td>\n",
       "      <td>0</td>\n",
       "      <td>1</td>\n",
       "      <td>1</td>\n",
       "    </tr>\n",
       "  </tbody>\n",
       "</table>\n",
       "</div>"
      ],
      "text/plain": [
       "           ID  Brand  Quantity  Price_1  Price_2  Price_3  Price_4  Price_5  \\\n",
       "6   200000001      2         2     1.50     1.90     1.99     2.09     2.67   \n",
       "11  200000001      5         1     1.39     1.90     1.91     2.12     2.62   \n",
       "19  200000001      1         2     1.47     1.90     1.99     1.97     2.67   \n",
       "24  200000001      4         1     1.21     1.35     1.99     2.16     2.68   \n",
       "29  200000001      2         3     1.46     1.88     1.97     1.89     2.37   \n",
       "\n",
       "    Promotion_1  Promotion_2  Promotion_3  Promotion_4  Promotion_5  \n",
       "6             0            0            0            0            0  \n",
       "11            1            0            0            0            1  \n",
       "19            0            0            0            1            0  \n",
       "24            1            1            0            0            0  \n",
       "29            1            0            0            1            1  "
      ]
     },
     "execution_count": 13,
     "metadata": {},
     "output_type": "execute_result"
    }
   ],
   "source": [
    "df_brnd_price_promotion_data.head()"
   ]
  },
  {
   "cell_type": "code",
   "execution_count": 14,
   "id": "ac04186a-324d-41d2-96a9-ca033ba8968f",
   "metadata": {},
   "outputs": [],
   "source": [
    "df_brnd_price_promotion_data=pd.concat([df_brnd_price_promotion_data,pd.get_dummies(data=df_brnd_price_promotion_data[\"Brand\"],prefix='Brand')],axis=1)"
   ]
  },
  {
   "cell_type": "code",
   "execution_count": 15,
   "id": "00cad1bc-7276-4e12-b4db-81c4b291ac09",
   "metadata": {},
   "outputs": [
    {
     "data": {
      "text/html": [
       "<div>\n",
       "<style scoped>\n",
       "    .dataframe tbody tr th:only-of-type {\n",
       "        vertical-align: middle;\n",
       "    }\n",
       "\n",
       "    .dataframe tbody tr th {\n",
       "        vertical-align: top;\n",
       "    }\n",
       "\n",
       "    .dataframe thead th {\n",
       "        text-align: right;\n",
       "    }\n",
       "</style>\n",
       "<table border=\"1\" class=\"dataframe\">\n",
       "  <thead>\n",
       "    <tr style=\"text-align: right;\">\n",
       "      <th></th>\n",
       "      <th>ID</th>\n",
       "      <th>Brand</th>\n",
       "      <th>Quantity</th>\n",
       "      <th>Price_1</th>\n",
       "      <th>Price_2</th>\n",
       "      <th>Price_3</th>\n",
       "      <th>Price_4</th>\n",
       "      <th>Price_5</th>\n",
       "      <th>Promotion_1</th>\n",
       "      <th>Promotion_2</th>\n",
       "      <th>Promotion_3</th>\n",
       "      <th>Promotion_4</th>\n",
       "      <th>Promotion_5</th>\n",
       "      <th>Brand_1</th>\n",
       "      <th>Brand_2</th>\n",
       "      <th>Brand_3</th>\n",
       "      <th>Brand_4</th>\n",
       "      <th>Brand_5</th>\n",
       "    </tr>\n",
       "  </thead>\n",
       "  <tbody>\n",
       "    <tr>\n",
       "      <th>6</th>\n",
       "      <td>200000001</td>\n",
       "      <td>2</td>\n",
       "      <td>2</td>\n",
       "      <td>1.50</td>\n",
       "      <td>1.90</td>\n",
       "      <td>1.99</td>\n",
       "      <td>2.09</td>\n",
       "      <td>2.67</td>\n",
       "      <td>0</td>\n",
       "      <td>0</td>\n",
       "      <td>0</td>\n",
       "      <td>0</td>\n",
       "      <td>0</td>\n",
       "      <td>0</td>\n",
       "      <td>1</td>\n",
       "      <td>0</td>\n",
       "      <td>0</td>\n",
       "      <td>0</td>\n",
       "    </tr>\n",
       "    <tr>\n",
       "      <th>11</th>\n",
       "      <td>200000001</td>\n",
       "      <td>5</td>\n",
       "      <td>1</td>\n",
       "      <td>1.39</td>\n",
       "      <td>1.90</td>\n",
       "      <td>1.91</td>\n",
       "      <td>2.12</td>\n",
       "      <td>2.62</td>\n",
       "      <td>1</td>\n",
       "      <td>0</td>\n",
       "      <td>0</td>\n",
       "      <td>0</td>\n",
       "      <td>1</td>\n",
       "      <td>0</td>\n",
       "      <td>0</td>\n",
       "      <td>0</td>\n",
       "      <td>0</td>\n",
       "      <td>1</td>\n",
       "    </tr>\n",
       "    <tr>\n",
       "      <th>19</th>\n",
       "      <td>200000001</td>\n",
       "      <td>1</td>\n",
       "      <td>2</td>\n",
       "      <td>1.47</td>\n",
       "      <td>1.90</td>\n",
       "      <td>1.99</td>\n",
       "      <td>1.97</td>\n",
       "      <td>2.67</td>\n",
       "      <td>0</td>\n",
       "      <td>0</td>\n",
       "      <td>0</td>\n",
       "      <td>1</td>\n",
       "      <td>0</td>\n",
       "      <td>1</td>\n",
       "      <td>0</td>\n",
       "      <td>0</td>\n",
       "      <td>0</td>\n",
       "      <td>0</td>\n",
       "    </tr>\n",
       "    <tr>\n",
       "      <th>24</th>\n",
       "      <td>200000001</td>\n",
       "      <td>4</td>\n",
       "      <td>1</td>\n",
       "      <td>1.21</td>\n",
       "      <td>1.35</td>\n",
       "      <td>1.99</td>\n",
       "      <td>2.16</td>\n",
       "      <td>2.68</td>\n",
       "      <td>1</td>\n",
       "      <td>1</td>\n",
       "      <td>0</td>\n",
       "      <td>0</td>\n",
       "      <td>0</td>\n",
       "      <td>0</td>\n",
       "      <td>0</td>\n",
       "      <td>0</td>\n",
       "      <td>1</td>\n",
       "      <td>0</td>\n",
       "    </tr>\n",
       "    <tr>\n",
       "      <th>29</th>\n",
       "      <td>200000001</td>\n",
       "      <td>2</td>\n",
       "      <td>3</td>\n",
       "      <td>1.46</td>\n",
       "      <td>1.88</td>\n",
       "      <td>1.97</td>\n",
       "      <td>1.89</td>\n",
       "      <td>2.37</td>\n",
       "      <td>1</td>\n",
       "      <td>0</td>\n",
       "      <td>0</td>\n",
       "      <td>1</td>\n",
       "      <td>1</td>\n",
       "      <td>0</td>\n",
       "      <td>1</td>\n",
       "      <td>0</td>\n",
       "      <td>0</td>\n",
       "      <td>0</td>\n",
       "    </tr>\n",
       "  </tbody>\n",
       "</table>\n",
       "</div>"
      ],
      "text/plain": [
       "           ID  Brand  Quantity  Price_1  Price_2  Price_3  Price_4  Price_5  \\\n",
       "6   200000001      2         2     1.50     1.90     1.99     2.09     2.67   \n",
       "11  200000001      5         1     1.39     1.90     1.91     2.12     2.62   \n",
       "19  200000001      1         2     1.47     1.90     1.99     1.97     2.67   \n",
       "24  200000001      4         1     1.21     1.35     1.99     2.16     2.68   \n",
       "29  200000001      2         3     1.46     1.88     1.97     1.89     2.37   \n",
       "\n",
       "    Promotion_1  Promotion_2  Promotion_3  Promotion_4  Promotion_5  Brand_1  \\\n",
       "6             0            0            0            0            0        0   \n",
       "11            1            0            0            0            1        0   \n",
       "19            0            0            0            1            0        1   \n",
       "24            1            1            0            0            0        0   \n",
       "29            1            0            0            1            1        0   \n",
       "\n",
       "    Brand_2  Brand_3  Brand_4  Brand_5  \n",
       "6         1        0        0        0  \n",
       "11        0        0        0        1  \n",
       "19        0        0        0        0  \n",
       "24        0        0        1        0  \n",
       "29        1        0        0        0  "
      ]
     },
     "execution_count": 15,
     "metadata": {},
     "output_type": "execute_result"
    }
   ],
   "source": [
    "df_brnd_price_promotion_data.head()"
   ]
  },
  {
   "cell_type": "markdown",
   "id": "78d037f2-a1bc-4599-8037-17e876c267ec",
   "metadata": {},
   "source": [
    "## Building regression model"
   ]
  },
  {
   "cell_type": "code",
   "execution_count": 16,
   "id": "571b96c9-d5b0-4d9b-a78e-d775120ec8e2",
   "metadata": {},
   "outputs": [],
   "source": [
    "input_to_reg=pd.DataFrame(index=df_brnd_price_promotion_data.index)"
   ]
  },
  {
   "cell_type": "code",
   "execution_count": 17,
   "id": "75672206-711e-467c-94eb-0c627de0dfff",
   "metadata": {},
   "outputs": [],
   "source": [
    "input_to_reg['ID']=df_brnd_price_promotion_data['ID']"
   ]
  },
  {
   "cell_type": "code",
   "execution_count": 18,
   "id": "99acb008-7699-44ff-836d-755983b894ad",
   "metadata": {},
   "outputs": [],
   "source": [
    "input_to_reg['price']=((df_brnd_price_promotion_data['Brand_1']*df_brnd_price_promotion_data['Price_1']) +\n",
    "                      (df_brnd_price_promotion_data['Brand_2']*df_brnd_price_promotion_data['Price_2']) +\n",
    "                      (df_brnd_price_promotion_data['Brand_3']*df_brnd_price_promotion_data['Price_3']) +\n",
    "                      (df_brnd_price_promotion_data['Brand_4']*df_brnd_price_promotion_data['Price_4']) +\n",
    "                      (df_brnd_price_promotion_data['Brand_5']*df_brnd_price_promotion_data['Price_5']) )\n",
    "                      \n",
    "                        "
   ]
  },
  {
   "cell_type": "code",
   "execution_count": 19,
   "id": "2160c46c-9b44-4645-9b79-a7defb521cb4",
   "metadata": {},
   "outputs": [],
   "source": [
    "input_to_reg['promotion']=((df_brnd_price_promotion_data['Brand_1']*df_brnd_price_promotion_data['Promotion_1']) +\n",
    "                      (df_brnd_price_promotion_data['Brand_2']*df_brnd_price_promotion_data['Promotion_2']) +\n",
    "                      (df_brnd_price_promotion_data['Brand_3']*df_brnd_price_promotion_data['Promotion_3']) +\n",
    "                      (df_brnd_price_promotion_data['Brand_4']*df_brnd_price_promotion_data['Promotion_4']) +\n",
    "                      (df_brnd_price_promotion_data['Brand_5']*df_brnd_price_promotion_data['Promotion_5']) )"
   ]
  },
  {
   "cell_type": "code",
   "execution_count": 20,
   "id": "89261e3c-1c32-4230-b0fe-211bf74cb4ff",
   "metadata": {},
   "outputs": [
    {
     "data": {
      "text/html": [
       "<div>\n",
       "<style scoped>\n",
       "    .dataframe tbody tr th:only-of-type {\n",
       "        vertical-align: middle;\n",
       "    }\n",
       "\n",
       "    .dataframe tbody tr th {\n",
       "        vertical-align: top;\n",
       "    }\n",
       "\n",
       "    .dataframe thead th {\n",
       "        text-align: right;\n",
       "    }\n",
       "</style>\n",
       "<table border=\"1\" class=\"dataframe\">\n",
       "  <thead>\n",
       "    <tr style=\"text-align: right;\">\n",
       "      <th></th>\n",
       "      <th>ID</th>\n",
       "      <th>price</th>\n",
       "      <th>promotion</th>\n",
       "    </tr>\n",
       "  </thead>\n",
       "  <tbody>\n",
       "    <tr>\n",
       "      <th>count</th>\n",
       "      <td>1.463800e+04</td>\n",
       "      <td>14638.000000</td>\n",
       "      <td>14638.000000</td>\n",
       "    </tr>\n",
       "    <tr>\n",
       "      <th>mean</th>\n",
       "      <td>2.000003e+08</td>\n",
       "      <td>2.099212</td>\n",
       "      <td>0.227422</td>\n",
       "    </tr>\n",
       "    <tr>\n",
       "      <th>std</th>\n",
       "      <td>1.423786e+02</td>\n",
       "      <td>0.469609</td>\n",
       "      <td>0.419181</td>\n",
       "    </tr>\n",
       "    <tr>\n",
       "      <th>min</th>\n",
       "      <td>2.000000e+08</td>\n",
       "      <td>1.100000</td>\n",
       "      <td>0.000000</td>\n",
       "    </tr>\n",
       "    <tr>\n",
       "      <th>25%</th>\n",
       "      <td>2.000001e+08</td>\n",
       "      <td>1.850000</td>\n",
       "      <td>0.000000</td>\n",
       "    </tr>\n",
       "    <tr>\n",
       "      <th>50%</th>\n",
       "      <td>2.000003e+08</td>\n",
       "      <td>2.090000</td>\n",
       "      <td>0.000000</td>\n",
       "    </tr>\n",
       "    <tr>\n",
       "      <th>75%</th>\n",
       "      <td>2.000004e+08</td>\n",
       "      <td>2.620000</td>\n",
       "      <td>0.000000</td>\n",
       "    </tr>\n",
       "    <tr>\n",
       "      <th>max</th>\n",
       "      <td>2.000005e+08</td>\n",
       "      <td>2.800000</td>\n",
       "      <td>1.000000</td>\n",
       "    </tr>\n",
       "  </tbody>\n",
       "</table>\n",
       "</div>"
      ],
      "text/plain": [
       "                 ID         price     promotion\n",
       "count  1.463800e+04  14638.000000  14638.000000\n",
       "mean   2.000003e+08      2.099212      0.227422\n",
       "std    1.423786e+02      0.469609      0.419181\n",
       "min    2.000000e+08      1.100000      0.000000\n",
       "25%    2.000001e+08      1.850000      0.000000\n",
       "50%    2.000003e+08      2.090000      0.000000\n",
       "75%    2.000004e+08      2.620000      0.000000\n",
       "max    2.000005e+08      2.800000      1.000000"
      ]
     },
     "execution_count": 20,
     "metadata": {},
     "output_type": "execute_result"
    }
   ],
   "source": [
    "input_to_reg.describe()"
   ]
  },
  {
   "cell_type": "code",
   "execution_count": 21,
   "id": "52a07fa1-4272-482a-9ec0-0aa44db2d711",
   "metadata": {},
   "outputs": [],
   "source": [
    "target_of_reg=df_brnd_price_promotion_data[['ID','Quantity']]"
   ]
  },
  {
   "cell_type": "code",
   "execution_count": 22,
   "id": "3dd3fcab-3a2d-456a-bad5-0e4cd81ac97e",
   "metadata": {},
   "outputs": [
    {
     "data": {
      "text/html": [
       "<div>\n",
       "<style scoped>\n",
       "    .dataframe tbody tr th:only-of-type {\n",
       "        vertical-align: middle;\n",
       "    }\n",
       "\n",
       "    .dataframe tbody tr th {\n",
       "        vertical-align: top;\n",
       "    }\n",
       "\n",
       "    .dataframe thead th {\n",
       "        text-align: right;\n",
       "    }\n",
       "</style>\n",
       "<table border=\"1\" class=\"dataframe\">\n",
       "  <thead>\n",
       "    <tr style=\"text-align: right;\">\n",
       "      <th></th>\n",
       "      <th>Quantity</th>\n",
       "    </tr>\n",
       "    <tr>\n",
       "      <th>ID</th>\n",
       "      <th></th>\n",
       "    </tr>\n",
       "  </thead>\n",
       "  <tbody>\n",
       "    <tr>\n",
       "      <th>200000001</th>\n",
       "      <td>2</td>\n",
       "    </tr>\n",
       "    <tr>\n",
       "      <th>200000001</th>\n",
       "      <td>1</td>\n",
       "    </tr>\n",
       "    <tr>\n",
       "      <th>200000001</th>\n",
       "      <td>2</td>\n",
       "    </tr>\n",
       "    <tr>\n",
       "      <th>200000001</th>\n",
       "      <td>1</td>\n",
       "    </tr>\n",
       "    <tr>\n",
       "      <th>200000001</th>\n",
       "      <td>3</td>\n",
       "    </tr>\n",
       "  </tbody>\n",
       "</table>\n",
       "</div>"
      ],
      "text/plain": [
       "           Quantity\n",
       "ID                 \n",
       "200000001         2\n",
       "200000001         1\n",
       "200000001         2\n",
       "200000001         1\n",
       "200000001         3"
      ]
     },
     "execution_count": 22,
     "metadata": {},
     "output_type": "execute_result"
    }
   ],
   "source": [
    "target_of_reg.set_index('ID',inplace=True)\n",
    "target_of_reg.head()"
   ]
  },
  {
   "cell_type": "code",
   "execution_count": 23,
   "id": "7e62eaf9-a854-4ee0-a026-01909607042d",
   "metadata": {},
   "outputs": [
    {
     "data": {
      "text/html": [
       "<style>#sk-container-id-1 {color: black;}#sk-container-id-1 pre{padding: 0;}#sk-container-id-1 div.sk-toggleable {background-color: white;}#sk-container-id-1 label.sk-toggleable__label {cursor: pointer;display: block;width: 100%;margin-bottom: 0;padding: 0.3em;box-sizing: border-box;text-align: center;}#sk-container-id-1 label.sk-toggleable__label-arrow:before {content: \"▸\";float: left;margin-right: 0.25em;color: #696969;}#sk-container-id-1 label.sk-toggleable__label-arrow:hover:before {color: black;}#sk-container-id-1 div.sk-estimator:hover label.sk-toggleable__label-arrow:before {color: black;}#sk-container-id-1 div.sk-toggleable__content {max-height: 0;max-width: 0;overflow: hidden;text-align: left;background-color: #f0f8ff;}#sk-container-id-1 div.sk-toggleable__content pre {margin: 0.2em;color: black;border-radius: 0.25em;background-color: #f0f8ff;}#sk-container-id-1 input.sk-toggleable__control:checked~div.sk-toggleable__content {max-height: 200px;max-width: 100%;overflow: auto;}#sk-container-id-1 input.sk-toggleable__control:checked~label.sk-toggleable__label-arrow:before {content: \"▾\";}#sk-container-id-1 div.sk-estimator input.sk-toggleable__control:checked~label.sk-toggleable__label {background-color: #d4ebff;}#sk-container-id-1 div.sk-label input.sk-toggleable__control:checked~label.sk-toggleable__label {background-color: #d4ebff;}#sk-container-id-1 input.sk-hidden--visually {border: 0;clip: rect(1px 1px 1px 1px);clip: rect(1px, 1px, 1px, 1px);height: 1px;margin: -1px;overflow: hidden;padding: 0;position: absolute;width: 1px;}#sk-container-id-1 div.sk-estimator {font-family: monospace;background-color: #f0f8ff;border: 1px dotted black;border-radius: 0.25em;box-sizing: border-box;margin-bottom: 0.5em;}#sk-container-id-1 div.sk-estimator:hover {background-color: #d4ebff;}#sk-container-id-1 div.sk-parallel-item::after {content: \"\";width: 100%;border-bottom: 1px solid gray;flex-grow: 1;}#sk-container-id-1 div.sk-label:hover label.sk-toggleable__label {background-color: #d4ebff;}#sk-container-id-1 div.sk-serial::before {content: \"\";position: absolute;border-left: 1px solid gray;box-sizing: border-box;top: 0;bottom: 0;left: 50%;z-index: 0;}#sk-container-id-1 div.sk-serial {display: flex;flex-direction: column;align-items: center;background-color: white;padding-right: 0.2em;padding-left: 0.2em;position: relative;}#sk-container-id-1 div.sk-item {position: relative;z-index: 1;}#sk-container-id-1 div.sk-parallel {display: flex;align-items: stretch;justify-content: center;background-color: white;position: relative;}#sk-container-id-1 div.sk-item::before, #sk-container-id-1 div.sk-parallel-item::before {content: \"\";position: absolute;border-left: 1px solid gray;box-sizing: border-box;top: 0;bottom: 0;left: 50%;z-index: -1;}#sk-container-id-1 div.sk-parallel-item {display: flex;flex-direction: column;z-index: 1;position: relative;background-color: white;}#sk-container-id-1 div.sk-parallel-item:first-child::after {align-self: flex-end;width: 50%;}#sk-container-id-1 div.sk-parallel-item:last-child::after {align-self: flex-start;width: 50%;}#sk-container-id-1 div.sk-parallel-item:only-child::after {width: 0;}#sk-container-id-1 div.sk-dashed-wrapped {border: 1px dashed gray;margin: 0 0.4em 0.5em 0.4em;box-sizing: border-box;padding-bottom: 0.4em;background-color: white;}#sk-container-id-1 div.sk-label label {font-family: monospace;font-weight: bold;display: inline-block;line-height: 1.2em;}#sk-container-id-1 div.sk-label-container {text-align: center;}#sk-container-id-1 div.sk-container {/* jupyter's `normalize.less` sets `[hidden] { display: none; }` but bootstrap.min.css set `[hidden] { display: none !important; }` so we also need the `!important` here to be able to override the default hidden behavior on the sphinx rendered scikit-learn.org. See: https://github.com/scikit-learn/scikit-learn/issues/21755 */display: inline-block !important;position: relative;}#sk-container-id-1 div.sk-text-repr-fallback {display: none;}</style><div id=\"sk-container-id-1\" class=\"sk-top-container\"><div class=\"sk-text-repr-fallback\"><pre>LinearRegression()</pre><b>In a Jupyter environment, please rerun this cell to show the HTML representation or trust the notebook. <br />On GitHub, the HTML representation is unable to render, please try loading this page with nbviewer.org.</b></div><div class=\"sk-container\" hidden><div class=\"sk-item\"><div class=\"sk-estimator sk-toggleable\"><input class=\"sk-toggleable__control sk-hidden--visually\" id=\"sk-estimator-id-1\" type=\"checkbox\" checked><label for=\"sk-estimator-id-1\" class=\"sk-toggleable__label sk-toggleable__label-arrow\">LinearRegression</label><div class=\"sk-toggleable__content\"><pre>LinearRegression()</pre></div></div></div></div></div>"
      ],
      "text/plain": [
       "LinearRegression()"
      ]
     },
     "execution_count": 23,
     "metadata": {},
     "output_type": "execute_result"
    }
   ],
   "source": [
    "reg=LinearRegression()\n",
    "reg.fit(input_to_reg[['price','promotion']],target_of_reg.values)"
   ]
  },
  {
   "cell_type": "code",
   "execution_count": 24,
   "id": "bb48db2d-0e81-41ba-96ae-6ed4d91bad3c",
   "metadata": {},
   "outputs": [
    {
     "data": {
      "text/plain": [
       "array([[-0.8173651 , -0.10504673]])"
      ]
     },
     "execution_count": 24,
     "metadata": {},
     "output_type": "execute_result"
    }
   ],
   "source": [
    "reg.coef_"
   ]
  },
  {
   "cell_type": "markdown",
   "id": "8032a666-67cd-4655-b9c6-1f5ed0a3e53f",
   "metadata": {},
   "source": [
    "## determining price elasticity curve"
   ]
  },
  {
   "cell_type": "code",
   "execution_count": 25,
   "id": "e325b813-caba-4d23-b34d-ff61611d7955",
   "metadata": {},
   "outputs": [],
   "source": [
    "df_price_elasticity_price_promotion=pd.DataFrame({'price':np.arange(0.5,3.5,0.01)})\n",
    "df_price_elasticity_price_promotion['promotion_1']=1\n",
    "df_price_elasticity_price_promotion['promotion_0']=0"
   ]
  },
  {
   "cell_type": "code",
   "execution_count": 26,
   "id": "c30f7333-d27f-4b1a-95e8-20242ba026e3",
   "metadata": {},
   "outputs": [
    {
     "data": {
      "text/html": [
       "<div>\n",
       "<style scoped>\n",
       "    .dataframe tbody tr th:only-of-type {\n",
       "        vertical-align: middle;\n",
       "    }\n",
       "\n",
       "    .dataframe tbody tr th {\n",
       "        vertical-align: top;\n",
       "    }\n",
       "\n",
       "    .dataframe thead th {\n",
       "        text-align: right;\n",
       "    }\n",
       "</style>\n",
       "<table border=\"1\" class=\"dataframe\">\n",
       "  <thead>\n",
       "    <tr style=\"text-align: right;\">\n",
       "      <th></th>\n",
       "      <th>price</th>\n",
       "      <th>promotion_1</th>\n",
       "      <th>promotion_0</th>\n",
       "    </tr>\n",
       "  </thead>\n",
       "  <tbody>\n",
       "    <tr>\n",
       "      <th>0</th>\n",
       "      <td>0.50</td>\n",
       "      <td>1</td>\n",
       "      <td>0</td>\n",
       "    </tr>\n",
       "    <tr>\n",
       "      <th>1</th>\n",
       "      <td>0.51</td>\n",
       "      <td>1</td>\n",
       "      <td>0</td>\n",
       "    </tr>\n",
       "    <tr>\n",
       "      <th>2</th>\n",
       "      <td>0.52</td>\n",
       "      <td>1</td>\n",
       "      <td>0</td>\n",
       "    </tr>\n",
       "    <tr>\n",
       "      <th>3</th>\n",
       "      <td>0.53</td>\n",
       "      <td>1</td>\n",
       "      <td>0</td>\n",
       "    </tr>\n",
       "    <tr>\n",
       "      <th>4</th>\n",
       "      <td>0.54</td>\n",
       "      <td>1</td>\n",
       "      <td>0</td>\n",
       "    </tr>\n",
       "  </tbody>\n",
       "</table>\n",
       "</div>"
      ],
      "text/plain": [
       "   price  promotion_1  promotion_0\n",
       "0   0.50            1            0\n",
       "1   0.51            1            0\n",
       "2   0.52            1            0\n",
       "3   0.53            1            0\n",
       "4   0.54            1            0"
      ]
     },
     "execution_count": 26,
     "metadata": {},
     "output_type": "execute_result"
    }
   ],
   "source": [
    "df_price_elasticity_price_promotion.head()"
   ]
  },
  {
   "cell_type": "markdown",
   "id": "dd096ae2-01f6-41a5-9cb7-61ec29ec5ae1",
   "metadata": {},
   "source": [
    "# formula to find elasticity of quantity demanded with change in price is \n",
    "## coeffi_price*(price/quantity)"
   ]
  },
  {
   "cell_type": "code",
   "execution_count": 27,
   "id": "fbc6988c-62bc-4a90-b9c6-0dc4d18e0551",
   "metadata": {},
   "outputs": [
    {
     "name": "stderr",
     "output_type": "stream",
     "text": [
      "C:\\Users\\adadi\\anaconda3\\envs\\HPOmenChallenge\\lib\\site-packages\\sklearn\\base.py:465: UserWarning:\n",
      "\n",
      "X does not have valid feature names, but LinearRegression was fitted with feature names\n",
      "\n"
     ]
    }
   ],
   "source": [
    "df_price_elasticity_price_promotion['PE_with_promotion_1']=reg.coef_[0][0]*df_price_elasticity_price_promotion['price']/reg.predict(df_price_elasticity_price_promotion[['price','promotion_1']].values)[:,0]"
   ]
  },
  {
   "cell_type": "code",
   "execution_count": 28,
   "id": "471a65e1-3d37-496f-a003-6d8c99028c56",
   "metadata": {},
   "outputs": [
    {
     "name": "stderr",
     "output_type": "stream",
     "text": [
      "C:\\Users\\adadi\\anaconda3\\envs\\HPOmenChallenge\\lib\\site-packages\\sklearn\\base.py:465: UserWarning:\n",
      "\n",
      "X does not have valid feature names, but LinearRegression was fitted with feature names\n",
      "\n"
     ]
    }
   ],
   "source": [
    "df_price_elasticity_price_promotion['PE_with_promotion_0']=reg.coef_[0][0]*df_price_elasticity_price_promotion['price']/reg.predict(df_price_elasticity_price_promotion[['price','promotion_0']].values)[:,0]"
   ]
  },
  {
   "cell_type": "code",
   "execution_count": 29,
   "id": "d8159c33-d4a8-4bb4-b344-8572c2382411",
   "metadata": {},
   "outputs": [
    {
     "data": {
      "text/html": [
       "<div>\n",
       "<style scoped>\n",
       "    .dataframe tbody tr th:only-of-type {\n",
       "        vertical-align: middle;\n",
       "    }\n",
       "\n",
       "    .dataframe tbody tr th {\n",
       "        vertical-align: top;\n",
       "    }\n",
       "\n",
       "    .dataframe thead th {\n",
       "        text-align: right;\n",
       "    }\n",
       "</style>\n",
       "<table border=\"1\" class=\"dataframe\">\n",
       "  <thead>\n",
       "    <tr style=\"text-align: right;\">\n",
       "      <th></th>\n",
       "      <th>price</th>\n",
       "      <th>promotion_1</th>\n",
       "      <th>promotion_0</th>\n",
       "      <th>PE_with_promotion_1</th>\n",
       "      <th>PE_with_promotion_0</th>\n",
       "    </tr>\n",
       "  </thead>\n",
       "  <tbody>\n",
       "    <tr>\n",
       "      <th>0</th>\n",
       "      <td>0.50</td>\n",
       "      <td>1</td>\n",
       "      <td>0</td>\n",
       "      <td>-0.102157</td>\n",
       "      <td>-0.099543</td>\n",
       "    </tr>\n",
       "    <tr>\n",
       "      <th>1</th>\n",
       "      <td>0.51</td>\n",
       "      <td>1</td>\n",
       "      <td>0</td>\n",
       "      <td>-0.104413</td>\n",
       "      <td>-0.101736</td>\n",
       "    </tr>\n",
       "    <tr>\n",
       "      <th>2</th>\n",
       "      <td>0.52</td>\n",
       "      <td>1</td>\n",
       "      <td>0</td>\n",
       "      <td>-0.106679</td>\n",
       "      <td>-0.103939</td>\n",
       "    </tr>\n",
       "    <tr>\n",
       "      <th>3</th>\n",
       "      <td>0.53</td>\n",
       "      <td>1</td>\n",
       "      <td>0</td>\n",
       "      <td>-0.108954</td>\n",
       "      <td>-0.106150</td>\n",
       "    </tr>\n",
       "    <tr>\n",
       "      <th>4</th>\n",
       "      <td>0.54</td>\n",
       "      <td>1</td>\n",
       "      <td>0</td>\n",
       "      <td>-0.111238</td>\n",
       "      <td>-0.108369</td>\n",
       "    </tr>\n",
       "  </tbody>\n",
       "</table>\n",
       "</div>"
      ],
      "text/plain": [
       "   price  promotion_1  promotion_0  PE_with_promotion_1  PE_with_promotion_0\n",
       "0   0.50            1            0            -0.102157            -0.099543\n",
       "1   0.51            1            0            -0.104413            -0.101736\n",
       "2   0.52            1            0            -0.106679            -0.103939\n",
       "3   0.53            1            0            -0.108954            -0.106150\n",
       "4   0.54            1            0            -0.111238            -0.108369"
      ]
     },
     "execution_count": 29,
     "metadata": {},
     "output_type": "execute_result"
    }
   ],
   "source": [
    "df_price_elasticity_price_promotion.head()"
   ]
  },
  {
   "cell_type": "markdown",
   "id": "d71270ce-d4bb-4727-b034-b9d5288b0dd6",
   "metadata": {},
   "source": [
    "* from below elasticity curve of purchase quanity with change in price it is observed that purchase quantity is inelastic with increase in price up to point 2.7 and 2.77 . So it means that up to price point if we are increasing or decreasing the price then purchase quantity wont be affacted significantly.\n",
    "* by observing the price elasticity curve with promotion and without promotion it is noticed that these curve are very similar.\n",
    "* but with promotion it is expected that price elasticty will be less than price elasticity without promotion at each price point but it is higher with promotion.\n",
    "* The reason behind this is lack of promotion data."
   ]
  },
  {
   "cell_type": "code",
   "execution_count": 30,
   "id": "46ecc335-98ea-4635-b18c-898e718c2c99",
   "metadata": {
    "scrolled": true
   },
   "outputs": [
    {
     "data": {
      "application/vnd.plotly.v1+json": {
       "config": {
        "plotlyServerURL": "https://plot.ly"
       },
       "data": [
        {
         "hovertemplate": "PE=PE_with_promotion_0<br>price=%{x}<br>PEValue=%{y}<extra></extra>",
         "legendgroup": "PE_with_promotion_0",
         "line": {
          "color": "#636efa",
          "dash": "solid"
         },
         "marker": {
          "symbol": "circle"
         },
         "mode": "lines",
         "name": "PE_with_promotion_0",
         "orientation": "v",
         "showlegend": true,
         "type": "scatter",
         "x": [
          0.5,
          0.51,
          0.52,
          0.53,
          0.54,
          0.55,
          0.56,
          0.5700000000000001,
          0.5800000000000001,
          0.5900000000000001,
          0.6000000000000001,
          0.6100000000000001,
          0.6200000000000001,
          0.6300000000000001,
          0.6400000000000001,
          0.6500000000000001,
          0.6600000000000001,
          0.6700000000000002,
          0.6800000000000002,
          0.6900000000000002,
          0.7000000000000002,
          0.7100000000000002,
          0.7200000000000002,
          0.7300000000000002,
          0.7400000000000002,
          0.7500000000000002,
          0.7600000000000002,
          0.7700000000000002,
          0.7800000000000002,
          0.7900000000000003,
          0.8000000000000003,
          0.8100000000000003,
          0.8200000000000003,
          0.8300000000000003,
          0.8400000000000003,
          0.8500000000000003,
          0.8600000000000003,
          0.8700000000000003,
          0.8800000000000003,
          0.8900000000000003,
          0.9000000000000004,
          0.9100000000000004,
          0.9200000000000004,
          0.9300000000000004,
          0.9400000000000004,
          0.9500000000000004,
          0.9600000000000004,
          0.9700000000000004,
          0.9800000000000004,
          0.9900000000000004,
          1.0000000000000004,
          1.0100000000000005,
          1.0200000000000005,
          1.0300000000000005,
          1.0400000000000005,
          1.0500000000000005,
          1.0600000000000005,
          1.0700000000000005,
          1.0800000000000005,
          1.0900000000000005,
          1.1000000000000005,
          1.1100000000000005,
          1.1200000000000006,
          1.1300000000000006,
          1.1400000000000006,
          1.1500000000000006,
          1.1600000000000006,
          1.1700000000000006,
          1.1800000000000006,
          1.1900000000000006,
          1.2000000000000006,
          1.2100000000000006,
          1.2200000000000006,
          1.2300000000000006,
          1.2400000000000007,
          1.2500000000000007,
          1.2600000000000007,
          1.2700000000000007,
          1.2800000000000007,
          1.2900000000000007,
          1.3000000000000007,
          1.3100000000000007,
          1.3200000000000007,
          1.3300000000000007,
          1.3400000000000007,
          1.3500000000000008,
          1.3600000000000008,
          1.3700000000000008,
          1.3800000000000008,
          1.3900000000000008,
          1.4000000000000008,
          1.4100000000000008,
          1.4200000000000008,
          1.4300000000000008,
          1.4400000000000008,
          1.4500000000000008,
          1.4600000000000009,
          1.4700000000000009,
          1.4800000000000009,
          1.4900000000000009,
          1.5000000000000009,
          1.510000000000001,
          1.520000000000001,
          1.530000000000001,
          1.540000000000001,
          1.550000000000001,
          1.560000000000001,
          1.570000000000001,
          1.580000000000001,
          1.590000000000001,
          1.600000000000001,
          1.610000000000001,
          1.620000000000001,
          1.630000000000001,
          1.640000000000001,
          1.650000000000001,
          1.660000000000001,
          1.670000000000001,
          1.680000000000001,
          1.690000000000001,
          1.700000000000001,
          1.710000000000001,
          1.720000000000001,
          1.730000000000001,
          1.740000000000001,
          1.750000000000001,
          1.7600000000000011,
          1.7700000000000011,
          1.7800000000000011,
          1.7900000000000011,
          1.8000000000000012,
          1.8100000000000012,
          1.8200000000000012,
          1.8300000000000012,
          1.8400000000000012,
          1.8500000000000012,
          1.8600000000000012,
          1.8700000000000012,
          1.8800000000000012,
          1.8900000000000012,
          1.9000000000000012,
          1.9100000000000013,
          1.9200000000000013,
          1.9300000000000013,
          1.9400000000000013,
          1.9500000000000013,
          1.9600000000000013,
          1.9700000000000013,
          1.9800000000000013,
          1.9900000000000013,
          2.0000000000000013,
          2.0100000000000016,
          2.0200000000000014,
          2.030000000000001,
          2.0400000000000014,
          2.0500000000000016,
          2.0600000000000014,
          2.070000000000001,
          2.0800000000000014,
          2.0900000000000016,
          2.1000000000000014,
          2.110000000000001,
          2.1200000000000014,
          2.1300000000000017,
          2.1400000000000015,
          2.1500000000000012,
          2.1600000000000015,
          2.1700000000000017,
          2.1800000000000015,
          2.1900000000000013,
          2.2000000000000015,
          2.2100000000000017,
          2.2200000000000015,
          2.2300000000000013,
          2.2400000000000015,
          2.2500000000000018,
          2.2600000000000016,
          2.2700000000000014,
          2.2800000000000016,
          2.290000000000002,
          2.3000000000000016,
          2.3100000000000014,
          2.3200000000000016,
          2.330000000000002,
          2.3400000000000016,
          2.3500000000000014,
          2.3600000000000017,
          2.370000000000002,
          2.3800000000000017,
          2.3900000000000015,
          2.4000000000000017,
          2.410000000000002,
          2.4200000000000017,
          2.4300000000000015,
          2.4400000000000017,
          2.450000000000002,
          2.4600000000000017,
          2.4700000000000015,
          2.4800000000000018,
          2.490000000000002,
          2.5000000000000018,
          2.5100000000000016,
          2.520000000000002,
          2.530000000000002,
          2.540000000000002,
          2.5500000000000016,
          2.560000000000002,
          2.570000000000002,
          2.580000000000002,
          2.5900000000000016,
          2.600000000000002,
          2.610000000000002,
          2.620000000000002,
          2.6300000000000017,
          2.640000000000002,
          2.650000000000002,
          2.660000000000002,
          2.6700000000000017,
          2.680000000000002,
          2.690000000000002,
          2.700000000000002,
          2.7100000000000017,
          2.720000000000002,
          2.730000000000002,
          2.740000000000002,
          2.7500000000000018,
          2.760000000000002,
          2.7700000000000022,
          2.780000000000002,
          2.790000000000002,
          2.800000000000002,
          2.8100000000000023,
          2.820000000000002,
          2.830000000000002,
          2.840000000000002,
          2.8500000000000023,
          2.860000000000002,
          2.870000000000002,
          2.880000000000002,
          2.8900000000000023,
          2.900000000000002,
          2.910000000000002,
          2.920000000000002,
          2.9300000000000024,
          2.940000000000002,
          2.950000000000002,
          2.960000000000002,
          2.9700000000000024,
          2.980000000000002,
          2.990000000000002,
          3.000000000000002,
          3.0100000000000025,
          3.0200000000000022,
          3.030000000000002,
          3.0400000000000023,
          3.0500000000000025,
          3.0600000000000023,
          3.070000000000002,
          3.0800000000000023,
          3.0900000000000025,
          3.1000000000000023,
          3.110000000000002,
          3.1200000000000023,
          3.1300000000000026,
          3.1400000000000023,
          3.150000000000002,
          3.1600000000000024,
          3.1700000000000026,
          3.1800000000000024,
          3.190000000000002,
          3.2000000000000024,
          3.2100000000000026,
          3.2200000000000024,
          3.230000000000002,
          3.2400000000000024,
          3.2500000000000027,
          3.2600000000000025,
          3.2700000000000022,
          3.2800000000000025,
          3.2900000000000027,
          3.3000000000000025,
          3.3100000000000023,
          3.3200000000000025,
          3.3300000000000027,
          3.3400000000000025,
          3.3500000000000023,
          3.3600000000000025,
          3.3700000000000028,
          3.3800000000000026,
          3.3900000000000023,
          3.4000000000000026,
          3.410000000000003,
          3.4200000000000026,
          3.4300000000000024,
          3.4400000000000026,
          3.450000000000003,
          3.4600000000000026,
          3.4700000000000024,
          3.4800000000000026,
          3.490000000000003
         ],
         "xaxis": "x",
         "y": [
          -0.09954297526620741,
          -0.10173637760592555,
          -0.10393854837084307,
          -0.10614954024573185,
          -0.10836940633828362,
          -0.11059820018336211,
          -0.11283597574730662,
          -0.11508278743228782,
          -0.11733869008071643,
          -0.11960373897970525,
          -0.12187798986558593,
          -0.12416149892848072,
          -0.12645432281693014,
          -0.12875651864257764,
          -0.13106814398491126,
          -0.13338925689606448,
          -0.1357199159056755,
          -0.13806018002580736,
          -0.14041010875592813,
          -0.14276976208795397,
          -0.14513920051135396,
          -0.14751848501831907,
          -0.14990767710899588,
          -0.15230683879678525,
          -0.154716032613708,
          -0.15713532161583757,
          -0.15956476938880165,
          -0.16200444005335263,
          -0.16445439827100924,
          -0.16691470924976903,
          -0.1693854387498937,
          -0.17186665308976848,
          -0.17435841915183536,
          -0.17686080438860308,
          -0.17937387682873362,
          -0.18189770508320693,
          -0.18443235835156505,
          -0.18697790642823672,
          -0.18953441970894372,
          -0.19210196919719003,
          -0.19468062651083573,
          -0.1972704638887555,
          -0.19987155419758496,
          -0.20248397093855422,
          -0.20510778825441156,
          -0.2077430809364375,
          -0.21038992443155155,
          -0.21304839484951202,
          -0.2157185689702115,
          -0.21840052425106862,
          -0.2210943388345178,
          -0.22380009155559888,
          -0.22651786194964746,
          -0.22924773026008838,
          -0.23198977744633306,
          -0.23474408519178322,
          -0.2375107359119419,
          -0.24028981276263375,
          -0.2430813996483367,
          -0.24588558123062576,
          -0.24870244293673222,
          -0.2515320709682182,
          -0.2543745523097706,
          -0.25722997473811365,
          -0.26009842683104545,
          -0.26297999797659627,
          -0.26587477838231455,
          -0.26878285908468025,
          -0.2717043319586479,
          -0.27463928972732254,
          -0.2775878259717693,
          -0.2805500351409597,
          -0.28352601256185694,
          -0.28651585444964156,
          -0.2895196579180806,
          -0.2925375209900429,
          -0.2955695426081612,
          -0.2986158226456462,
          -0.3016764619172516,
          -0.3047515621903969,
          -0.30784122619644627,
          -0.310945557642149,
          -0.3140646612212427,
          -0.31719864262622366,
          -0.32034760856028466,
          -0.323511666749425,
          -0.32669092595473576,
          -0.3298854959848613,
          -0.33309548770864195,
          -0.33632101306794027,
          -0.33956218509065383,
          -0.3428191179039179,
          -0.3460919267475006,
          -0.34938072798739567,
          -0.3526856391296138,
          -0.3560067788341779,
          -0.3593442669293242,
          -0.36269822442591476,
          -0.3660687735320628,
          -0.36945603766797636,
          -0.3728601414810225,
          -0.37628121086101785,
          -0.37971937295574765,
          -0.38317475618671765,
          -0.3866474902651443,
          -0.3901377062081854,
          -0.39364553635541755,
          -0.3971711143855624,
          -0.4007145753334687,
          -0.4042760556073527,
          -0.40785569300630203,
          -0.4114536267380489,
          -0.41506999743701567,
          -0.41870494718263906,
          -0.42235861951797676,
          -0.4260311594686035,
          -0.42972271356179936,
          -0.4334334298460382,
          -0.43716345791077865,
          -0.44091294890656685,
          -0.4446820555654531,
          -0.44847093222173057,
          -0.45227973483300116,
          -0.45610862100157457,
          -0.45995774999620664,
          -0.4638272827741829,
          -0.46771738200375573,
          -0.4716282120869386,
          -0.47555993918266637,
          -0.47951273123032856,
          -0.4834867579736804,
          -0.48748219098514156,
          -0.4914992036904876,
          -0.4955379713939437,
          -0.4995986713036861,
          -0.5036814825577612,
          -0.5077865862504279,
          -0.5119141654589335,
          -0.5160644052707313,
          -0.5202374928111454,
          -0.5244336172714963,
          -0.5286529699376923,
          -0.5328957442192965,
          -0.53716213567908,
          -0.5414523420630701,
          -0.5457665633311033,
          -0.5501050016878907,
          -0.5544678616146115,
          -0.5588553499010386,
          -0.563267675678211,
          -0.5677050504516626,
          -0.5721676881352191,
          -0.5766558050853716,
          -0.5811696201362438,
          -0.5857093546351593,
          -0.5902752324788233,
          -0.5948674801501331,
          -0.5994863267556267,
          -0.6041320040635844,
          -0.6088047465427956,
          -0.6135047914020065,
          -0.6182323786300606,
          -0.6229877510367474,
          -0.6277711542943718,
          -0.6325828369800627,
          -0.6374230506188335,
          -0.6422920497274118,
          -0.6471900918588503,
          -0.6521174376479424,
          -0.6570743508574528,
          -0.6620610984251841,
          -0.6670779505118949,
          -0.6721251805500879,
          -0.6772030652936898,
          -0.6823118848686364,
          -0.6874519228243843,
          -0.6926234661863732,
          -0.6978268055094531,
          -0.7030622349323017,
          -0.7083300522328493,
          -0.7136305588847384,
          -0.7189640601148364,
          -0.7243308649618246,
          -0.7297312863358904,
          -0.7351656410795415,
          -0.7406342500295757,
          -0.7461374380802189,
          -0.7516755342474699,
          -0.7572488717346719,
          -0.7628577879993406,
          -0.7685026248212745,
          -0.7741837283719791,
          -0.7799014492854334,
          -0.7856561427302297,
          -0.7914481684831169,
          -0.797277891003979,
          -0.8031456795122828,
          -0.8090519080650304,
          -0.814996955636244,
          -0.8209812061980272,
          -0.8270050488032332,
          -0.833068877669781,
          -0.8391730922666537,
          -0.8453180974016227,
          -0.8515043033107353,
          -0.857732125749611,
          -0.8640019860865819,
          -0.8703143113977296,
          -0.876669534563858,
          -0.8830680943694504,
          -0.889510435603658,
          -0.8959970091633663,
          -0.9025282721583958,
          -0.909104688018881,
          -0.9157267266048871,
          -0.9223948643183124,
          -0.9291095842171391,
          -0.935871376132086,
          -0.9426807367857226,
          -0.9495381699141053,
          -0.9564441863910006,
          -0.9633993043547568,
          -0.9704040493378933,
          -0.9774589543994695,
          -0.9845645602603128,
          -0.9917214154411699,
          -0.9989300764038582,
          -1.0061911076954924,
          -1.0135050820958695,
          -1.0208725807680876,
          -1.0282941934124816,
          -1.0357705184239665,
          -1.0433021630528703,
          -1.0508897435693558,
          -1.0585338854315112,
          -1.0662352234572214,
          -1.0739944019999066,
          -1.0818120751282405,
          -1.089688906809943,
          -1.0976255710997633,
          -1.1056227523317659,
          -1.1136811453160285,
          -1.1218014555398734,
          -1.1299843993737595,
          -1.1382307042819524,
          -1.1465411090381106,
          -1.1549163639459172,
          -1.1633572310648959,
          -1.1718644844415562,
          -1.1804389103460156,
          -1.1890813075142463,
          -1.1977924873961063,
          -1.206573274409317,
          -1.2154245061995546,
          -1.224347033906824,
          -1.233341722438297,
          -1.2424094507477963,
          -1.251551112122117,
          -1.2607676144743811,
          -1.2700598806446226,
          -1.279428848707819,
          -1.2888754722895832,
          -1.2984007208897366,
          -1.3080055802139912,
          -1.317691052513992,
          -1.327458156935951,
          -1.3373079298781347,
          -1.3472414253574672,
          -1.3572597153855226,
          -1.3673638903541898,
          -1.377555059431291,
          -1.3878343509664717,
          -1.3982029129076585,
          -1.4086619132284213,
          -1.4192125403665605,
          -1.4298560036742753,
          -1.4405935338802667,
          -1.4514263835641503,
          -1.4623558276435535,
          -1.4733831638743071,
          -1.4845097133641332,
          -1.4957368211002657,
          -1.5070658564914365,
          -1.5184982139246916,
          -1.5300353133375129,
          -1.541678600805737,
          -1.5534295491477856,
          -1.565289658545727,
          -1.577260457183734,
          -1.5893435019045017,
          -1.6015403788842122,
          -1.613852704326668,
          -1.6262821251772315,
          -1.6388303198572296,
          -1.6514989990195164,
          -1.6642899063258976,
          -1.6772048192471727,
          -1.6902455498865596,
          -1.7034139458272979,
          -1.7167118910052672
         ],
         "yaxis": "y"
        },
        {
         "hovertemplate": "PE=PE_with_promotion_1<br>price=%{x}<br>PEValue=%{y}<extra></extra>",
         "legendgroup": "PE_with_promotion_1",
         "line": {
          "color": "#EF553B",
          "dash": "solid"
         },
         "marker": {
          "symbol": "circle"
         },
         "mode": "lines",
         "name": "PE_with_promotion_1",
         "orientation": "v",
         "showlegend": true,
         "type": "scatter",
         "x": [
          0.5,
          0.51,
          0.52,
          0.53,
          0.54,
          0.55,
          0.56,
          0.5700000000000001,
          0.5800000000000001,
          0.5900000000000001,
          0.6000000000000001,
          0.6100000000000001,
          0.6200000000000001,
          0.6300000000000001,
          0.6400000000000001,
          0.6500000000000001,
          0.6600000000000001,
          0.6700000000000002,
          0.6800000000000002,
          0.6900000000000002,
          0.7000000000000002,
          0.7100000000000002,
          0.7200000000000002,
          0.7300000000000002,
          0.7400000000000002,
          0.7500000000000002,
          0.7600000000000002,
          0.7700000000000002,
          0.7800000000000002,
          0.7900000000000003,
          0.8000000000000003,
          0.8100000000000003,
          0.8200000000000003,
          0.8300000000000003,
          0.8400000000000003,
          0.8500000000000003,
          0.8600000000000003,
          0.8700000000000003,
          0.8800000000000003,
          0.8900000000000003,
          0.9000000000000004,
          0.9100000000000004,
          0.9200000000000004,
          0.9300000000000004,
          0.9400000000000004,
          0.9500000000000004,
          0.9600000000000004,
          0.9700000000000004,
          0.9800000000000004,
          0.9900000000000004,
          1.0000000000000004,
          1.0100000000000005,
          1.0200000000000005,
          1.0300000000000005,
          1.0400000000000005,
          1.0500000000000005,
          1.0600000000000005,
          1.0700000000000005,
          1.0800000000000005,
          1.0900000000000005,
          1.1000000000000005,
          1.1100000000000005,
          1.1200000000000006,
          1.1300000000000006,
          1.1400000000000006,
          1.1500000000000006,
          1.1600000000000006,
          1.1700000000000006,
          1.1800000000000006,
          1.1900000000000006,
          1.2000000000000006,
          1.2100000000000006,
          1.2200000000000006,
          1.2300000000000006,
          1.2400000000000007,
          1.2500000000000007,
          1.2600000000000007,
          1.2700000000000007,
          1.2800000000000007,
          1.2900000000000007,
          1.3000000000000007,
          1.3100000000000007,
          1.3200000000000007,
          1.3300000000000007,
          1.3400000000000007,
          1.3500000000000008,
          1.3600000000000008,
          1.3700000000000008,
          1.3800000000000008,
          1.3900000000000008,
          1.4000000000000008,
          1.4100000000000008,
          1.4200000000000008,
          1.4300000000000008,
          1.4400000000000008,
          1.4500000000000008,
          1.4600000000000009,
          1.4700000000000009,
          1.4800000000000009,
          1.4900000000000009,
          1.5000000000000009,
          1.510000000000001,
          1.520000000000001,
          1.530000000000001,
          1.540000000000001,
          1.550000000000001,
          1.560000000000001,
          1.570000000000001,
          1.580000000000001,
          1.590000000000001,
          1.600000000000001,
          1.610000000000001,
          1.620000000000001,
          1.630000000000001,
          1.640000000000001,
          1.650000000000001,
          1.660000000000001,
          1.670000000000001,
          1.680000000000001,
          1.690000000000001,
          1.700000000000001,
          1.710000000000001,
          1.720000000000001,
          1.730000000000001,
          1.740000000000001,
          1.750000000000001,
          1.7600000000000011,
          1.7700000000000011,
          1.7800000000000011,
          1.7900000000000011,
          1.8000000000000012,
          1.8100000000000012,
          1.8200000000000012,
          1.8300000000000012,
          1.8400000000000012,
          1.8500000000000012,
          1.8600000000000012,
          1.8700000000000012,
          1.8800000000000012,
          1.8900000000000012,
          1.9000000000000012,
          1.9100000000000013,
          1.9200000000000013,
          1.9300000000000013,
          1.9400000000000013,
          1.9500000000000013,
          1.9600000000000013,
          1.9700000000000013,
          1.9800000000000013,
          1.9900000000000013,
          2.0000000000000013,
          2.0100000000000016,
          2.0200000000000014,
          2.030000000000001,
          2.0400000000000014,
          2.0500000000000016,
          2.0600000000000014,
          2.070000000000001,
          2.0800000000000014,
          2.0900000000000016,
          2.1000000000000014,
          2.110000000000001,
          2.1200000000000014,
          2.1300000000000017,
          2.1400000000000015,
          2.1500000000000012,
          2.1600000000000015,
          2.1700000000000017,
          2.1800000000000015,
          2.1900000000000013,
          2.2000000000000015,
          2.2100000000000017,
          2.2200000000000015,
          2.2300000000000013,
          2.2400000000000015,
          2.2500000000000018,
          2.2600000000000016,
          2.2700000000000014,
          2.2800000000000016,
          2.290000000000002,
          2.3000000000000016,
          2.3100000000000014,
          2.3200000000000016,
          2.330000000000002,
          2.3400000000000016,
          2.3500000000000014,
          2.3600000000000017,
          2.370000000000002,
          2.3800000000000017,
          2.3900000000000015,
          2.4000000000000017,
          2.410000000000002,
          2.4200000000000017,
          2.4300000000000015,
          2.4400000000000017,
          2.450000000000002,
          2.4600000000000017,
          2.4700000000000015,
          2.4800000000000018,
          2.490000000000002,
          2.5000000000000018,
          2.5100000000000016,
          2.520000000000002,
          2.530000000000002,
          2.540000000000002,
          2.5500000000000016,
          2.560000000000002,
          2.570000000000002,
          2.580000000000002,
          2.5900000000000016,
          2.600000000000002,
          2.610000000000002,
          2.620000000000002,
          2.6300000000000017,
          2.640000000000002,
          2.650000000000002,
          2.660000000000002,
          2.6700000000000017,
          2.680000000000002,
          2.690000000000002,
          2.700000000000002,
          2.7100000000000017,
          2.720000000000002,
          2.730000000000002,
          2.740000000000002,
          2.7500000000000018,
          2.760000000000002,
          2.7700000000000022,
          2.780000000000002,
          2.790000000000002,
          2.800000000000002,
          2.8100000000000023,
          2.820000000000002,
          2.830000000000002,
          2.840000000000002,
          2.8500000000000023,
          2.860000000000002,
          2.870000000000002,
          2.880000000000002,
          2.8900000000000023,
          2.900000000000002,
          2.910000000000002,
          2.920000000000002,
          2.9300000000000024,
          2.940000000000002,
          2.950000000000002,
          2.960000000000002,
          2.9700000000000024,
          2.980000000000002,
          2.990000000000002,
          3.000000000000002,
          3.0100000000000025,
          3.0200000000000022,
          3.030000000000002,
          3.0400000000000023,
          3.0500000000000025,
          3.0600000000000023,
          3.070000000000002,
          3.0800000000000023,
          3.0900000000000025,
          3.1000000000000023,
          3.110000000000002,
          3.1200000000000023,
          3.1300000000000026,
          3.1400000000000023,
          3.150000000000002,
          3.1600000000000024,
          3.1700000000000026,
          3.1800000000000024,
          3.190000000000002,
          3.2000000000000024,
          3.2100000000000026,
          3.2200000000000024,
          3.230000000000002,
          3.2400000000000024,
          3.2500000000000027,
          3.2600000000000025,
          3.2700000000000022,
          3.2800000000000025,
          3.2900000000000027,
          3.3000000000000025,
          3.3100000000000023,
          3.3200000000000025,
          3.3300000000000027,
          3.3400000000000025,
          3.3500000000000023,
          3.3600000000000025,
          3.3700000000000028,
          3.3800000000000026,
          3.3900000000000023,
          3.4000000000000026,
          3.410000000000003,
          3.4200000000000026,
          3.4300000000000024,
          3.4400000000000026,
          3.450000000000003,
          3.4600000000000026,
          3.4700000000000024,
          3.4800000000000026,
          3.490000000000003
         ],
         "xaxis": "x",
         "y": [
          -0.10215678690009704,
          -0.10441325308700208,
          -0.10667897763951854,
          -0.10895401765591797,
          -0.111238430704955,
          -0.11353227483072333,
          -0.11583560855757177,
          -0.11814849089508181,
          -0.12047098134310671,
          -0.12280313989687393,
          -0.1251450270521512,
          -0.1274967038104774,
          -0.12985823168445942,
          -0.1322296727031353,
          -0.1346110894174053,
          -0.13700254490553182,
          -0.13940410277870852,
          -0.14181582718670083,
          -0.1442377828235575,
          -0.14667003493339584,
          -0.14911264931625995,
          -0.15156569233405484,
          -0.15402923091655632,
          -0.15650333256749807,
          -0.1589880653707375,
          -0.16148349799650102,
          -0.16398969970771035,
          -0.16650674036639063,
          -0.1690346904401624,
          -0.17157362100881735,
          -0.17412360377098074,
          -0.17668471105086064,
          -0.1792570158050856,
          -0.18184059162963248,
          -0.1844355127668454,
          -0.1870418541125472,
          -0.18965969122324552,
          -0.19228910032343371,
          -0.1949301583129894,
          -0.19758294277467123,
          -0.20024753198171602,
          -0.20292400490553705,
          -0.2056124412235263,
          -0.2083129213269607,
          -0.21102552632901572,
          -0.2137503380728865,
          -0.2164874391400191,
          -0.2192369128584536,
          -0.22199884331128006,
          -0.22477331534521025,
          -0.227560414579266,
          -0.2303602274135868,
          -0.23317284103835761,
          -0.23599834344286033,
          -0.238836823424649,
          -0.24168837059885243,
          -0.24455307540760535,
          -0.24743102912961024,
          -0.25032232388983255,
          -0.25322705266933065,
          -0.25614530931522334,
          -0.25907718855079676,
          -0.26202278598575385,
          -0.26498219812660667,
          -0.2679555223872167,
          -0.27094285709948335,
          -0.2739443015241839,
          -0.2769599558619681,
          -0.27998992126450806,
          -0.28303429984580886,
          -0.28609319469367933,
          -0.2891667098813685,
          -0.2922549504793687,
          -0.29535802256738913,
          -0.29847603324650157,
          -0.30160909065146313,
          -0.30475730396321676,
          -0.3079207834215741,
          -0.31109964033808307,
          -0.3142939871090841,
          -0.31750393722895703,
          -0.3207296053035627,
          -0.3239711070638827,
          -0.3272285593798607,
          -0.33050208027444805,
          -0.333791788937858,
          -0.3370978057420322,
          -0.3404202522553223,
          -0.34375925125739143,
          -0.3471149267543387,
          -0.35048740399405126,
          -0.3538768094817872,
          -0.35728327099599333,
          -0.36070691760436346,
          -0.3641478796801393,
          -0.3676062889186599,
          -0.3710822783541627,
          -0.3745759823768429,
          -0.3780875367501727,
          -0.3816170786284877,
          -0.3851647465748438,
          -0.3887306805791503,
          -0.3923150220765835,
          -0.395917913966286,
          -0.3995395006303578,
          -0.4031799279531431,
          -0.4068393433408193,
          -0.4105178957412927,
          -0.4142157356644085,
          -0.41793301520247783,
          -0.42166988805113054,
          -0.4254265095304982,
          -0.42920303660673415,
          -0.4329996279138759,
          -0.43681644377605733,
          -0.4406536462300771,
          -0.44451139904832887,
          -0.44838986776210216,
          -0.45228921968525776,
          -0.4562096239382888,
          -0.46015125147277064,
          -0.46411427509620984,
          -0.4680988694972993,
          -0.47210521127158595,
          -0.4761334789475606,
          -0.4801838530131765,
          -0.48425651594280694,
          -0.4883516522246481,
          -0.4924694483885767,
          -0.49661009303447246,
          -0.5007737768610124,
          -0.504960692694947,
          -0.5091710355208684,
          -0.5134050025114795,
          -0.517662793058374,
          -0.5219446088033375,
          -0.5262506536701793,
          -0.5305811338971073,
          -0.5349362580696548,
          -0.5393162371541713,
          -0.5437212845318884,
          -0.548151616033572,
          -0.5526074499747733,
          -0.5570890071916897,
          -0.5615965110776495,
          -0.5661301876202316,
          -0.5706902654390329,
          -0.5752769758240995,
          -0.579890552775031,
          -0.584531233040775,
          -0.5891992561601256,
          -0.5938948645029385,
          -0.5986183033120799,
          -0.6033698207461237,
          -0.608149667922811,
          -0.6129580989632912,
          -0.6177953710371572,
          -0.6226617444082955,
          -0.627557482481565,
          -0.6324828518503223,
          -0.6374381223448156,
          -0.6424235670814594,
          -0.6474394625130158,
          -0.6524860884796929,
          -0.6575637282611904,
          -0.6626726686297049,
          -0.6678131999039197,
          -0.6729856160039979,
          -0.6781902145076028,
          -0.6834272967069681,
          -0.6886971676670385,
          -0.6940001362847062,
          -0.6993365153491672,
          -0.7047066216034228,
          -0.7101107758069499,
          -0.7155493027995665,
          -0.721022531566521,
          -0.7265307953048317,
          -0.7320744314909033,
          -0.7376537819494502,
          -0.7432691929237565,
          -0.748921015147304,
          -0.7546096039167958,
          -0.7603353191666109,
          -0.7660985255447209,
          -0.7718995924901054,
          -0.7777388943116927,
          -0.783616810268872,
          -0.7895337246536044,
          -0.7954900268741772,
          -0.8014861115406331,
          -0.8075223785519176,
          -0.8135992331847861,
          -0.819717086184509,
          -0.8258763538574193,
          -0.8320774581653456,
          -0.8383208268219757,
          -0.8446068933912003,
          -0.8509360973874761,
          -0.8573088843782662,
          -0.863725706088603,
          -0.8701870205078263,
          -0.8766932919985485,
          -0.8832449914079025,
          -0.8898425961811287,
          -0.8964865904775589,
          -0.903177465289052,
          -0.909915718560949,
          -0.9167018553156048,
          -0.9235363877785646,
          -0.9304198355074474,
          -0.9373527255236076,
          -0.9443355924466438,
          -0.9513689786318279,
          -0.9584534343105277,
          -0.9655895177336968,
          -0.9727777953185168,
          -0.980018841798267,
          -0.9873132403755075,
          -0.9946615828786587,
          -1.0020644699220707,
          -1.0095225110696686,
          -1.0170363250022703,
          -1.0246065396886694,
          -1.0322337925605882,
          -1.0399187306915996,
          -1.0476620109801233,
          -1.0554643003366035,
          -1.0633262758749877,
          -1.071248625108613,
          -1.0792320461506226,
          -1.0872772479190347,
          -1.0953849503465924,
          -1.103555884595525,
          -1.111790793277348,
          -1.1200904306778519,
          -1.1284555629874138,
          -1.1368869685367864,
          -1.1453854380385098,
          -1.153951774834108,
          -1.162586795147232,
          -1.171291328342919,
          -1.180066217193131,
          -1.1889123181487657,
          -1.1978305016183117,
          -1.2068216522533481,
          -1.215886669241076,
          -1.2250264666040913,
          -1.2342419735076087,
          -1.243534134574349,
          -1.2529039102073218,
          -1.2623522769207234,
          -1.2718802276792016,
          -1.281488772245729,
          -1.291178937538341,
          -1.300951767995999,
          -1.3108083259538668,
          -1.3207496920282635,
          -1.3307769655116057,
          -1.3408912647776234,
          -1.3510937276971784,
          -1.361385512065004,
          -1.3717677960376995,
          -1.3822417785833285,
          -1.3928086799429895,
          -1.403469742104721,
          -1.4142262292901315,
          -1.4250794284541564,
          -1.4360306497983562,
          -1.4470812272981879,
          -1.458232519244686,
          -1.4694859088010308,
          -1.4808428045744653,
          -1.4923046412040755,
          -1.5038728799649324,
          -1.5155490093891393,
          -1.5273345459043397,
          -1.5392310344902582,
          -1.5512400493538667,
          -1.5633631946238065,
          -1.5756021050646989,
          -1.5879584468120227,
          -1.6004339181282412,
          -1.613030250180906,
          -1.6257492078434892,
          -1.6385925905197136,
          -1.6515622329922002,
          -1.6646600062962589,
          -1.677887818619713,
          -1.6912476162296566,
          -1.7047413844270904,
          -1.7183711485304214,
          -1.7321389748888512,
          -1.7460469719267155,
          -1.7600972912198867,
          -1.774292128605384,
          -1.7886337253254079,
          -1.803124369207041,
          -1.817766395878921,
          -1.8325621900262399
         ],
         "yaxis": "y"
        }
       ],
       "layout": {
        "height": 300,
        "legend": {
         "title": {
          "text": "PE"
         },
         "tracegroupgap": 0
        },
        "margin": {
         "t": 60
        },
        "template": {
         "data": {
          "bar": [
           {
            "error_x": {
             "color": "#2a3f5f"
            },
            "error_y": {
             "color": "#2a3f5f"
            },
            "marker": {
             "line": {
              "color": "#E5ECF6",
              "width": 0.5
             },
             "pattern": {
              "fillmode": "overlay",
              "size": 10,
              "solidity": 0.2
             }
            },
            "type": "bar"
           }
          ],
          "barpolar": [
           {
            "marker": {
             "line": {
              "color": "#E5ECF6",
              "width": 0.5
             },
             "pattern": {
              "fillmode": "overlay",
              "size": 10,
              "solidity": 0.2
             }
            },
            "type": "barpolar"
           }
          ],
          "carpet": [
           {
            "aaxis": {
             "endlinecolor": "#2a3f5f",
             "gridcolor": "white",
             "linecolor": "white",
             "minorgridcolor": "white",
             "startlinecolor": "#2a3f5f"
            },
            "baxis": {
             "endlinecolor": "#2a3f5f",
             "gridcolor": "white",
             "linecolor": "white",
             "minorgridcolor": "white",
             "startlinecolor": "#2a3f5f"
            },
            "type": "carpet"
           }
          ],
          "choropleth": [
           {
            "colorbar": {
             "outlinewidth": 0,
             "ticks": ""
            },
            "type": "choropleth"
           }
          ],
          "contour": [
           {
            "colorbar": {
             "outlinewidth": 0,
             "ticks": ""
            },
            "colorscale": [
             [
              0,
              "#0d0887"
             ],
             [
              0.1111111111111111,
              "#46039f"
             ],
             [
              0.2222222222222222,
              "#7201a8"
             ],
             [
              0.3333333333333333,
              "#9c179e"
             ],
             [
              0.4444444444444444,
              "#bd3786"
             ],
             [
              0.5555555555555556,
              "#d8576b"
             ],
             [
              0.6666666666666666,
              "#ed7953"
             ],
             [
              0.7777777777777778,
              "#fb9f3a"
             ],
             [
              0.8888888888888888,
              "#fdca26"
             ],
             [
              1,
              "#f0f921"
             ]
            ],
            "type": "contour"
           }
          ],
          "contourcarpet": [
           {
            "colorbar": {
             "outlinewidth": 0,
             "ticks": ""
            },
            "type": "contourcarpet"
           }
          ],
          "heatmap": [
           {
            "colorbar": {
             "outlinewidth": 0,
             "ticks": ""
            },
            "colorscale": [
             [
              0,
              "#0d0887"
             ],
             [
              0.1111111111111111,
              "#46039f"
             ],
             [
              0.2222222222222222,
              "#7201a8"
             ],
             [
              0.3333333333333333,
              "#9c179e"
             ],
             [
              0.4444444444444444,
              "#bd3786"
             ],
             [
              0.5555555555555556,
              "#d8576b"
             ],
             [
              0.6666666666666666,
              "#ed7953"
             ],
             [
              0.7777777777777778,
              "#fb9f3a"
             ],
             [
              0.8888888888888888,
              "#fdca26"
             ],
             [
              1,
              "#f0f921"
             ]
            ],
            "type": "heatmap"
           }
          ],
          "heatmapgl": [
           {
            "colorbar": {
             "outlinewidth": 0,
             "ticks": ""
            },
            "colorscale": [
             [
              0,
              "#0d0887"
             ],
             [
              0.1111111111111111,
              "#46039f"
             ],
             [
              0.2222222222222222,
              "#7201a8"
             ],
             [
              0.3333333333333333,
              "#9c179e"
             ],
             [
              0.4444444444444444,
              "#bd3786"
             ],
             [
              0.5555555555555556,
              "#d8576b"
             ],
             [
              0.6666666666666666,
              "#ed7953"
             ],
             [
              0.7777777777777778,
              "#fb9f3a"
             ],
             [
              0.8888888888888888,
              "#fdca26"
             ],
             [
              1,
              "#f0f921"
             ]
            ],
            "type": "heatmapgl"
           }
          ],
          "histogram": [
           {
            "marker": {
             "pattern": {
              "fillmode": "overlay",
              "size": 10,
              "solidity": 0.2
             }
            },
            "type": "histogram"
           }
          ],
          "histogram2d": [
           {
            "colorbar": {
             "outlinewidth": 0,
             "ticks": ""
            },
            "colorscale": [
             [
              0,
              "#0d0887"
             ],
             [
              0.1111111111111111,
              "#46039f"
             ],
             [
              0.2222222222222222,
              "#7201a8"
             ],
             [
              0.3333333333333333,
              "#9c179e"
             ],
             [
              0.4444444444444444,
              "#bd3786"
             ],
             [
              0.5555555555555556,
              "#d8576b"
             ],
             [
              0.6666666666666666,
              "#ed7953"
             ],
             [
              0.7777777777777778,
              "#fb9f3a"
             ],
             [
              0.8888888888888888,
              "#fdca26"
             ],
             [
              1,
              "#f0f921"
             ]
            ],
            "type": "histogram2d"
           }
          ],
          "histogram2dcontour": [
           {
            "colorbar": {
             "outlinewidth": 0,
             "ticks": ""
            },
            "colorscale": [
             [
              0,
              "#0d0887"
             ],
             [
              0.1111111111111111,
              "#46039f"
             ],
             [
              0.2222222222222222,
              "#7201a8"
             ],
             [
              0.3333333333333333,
              "#9c179e"
             ],
             [
              0.4444444444444444,
              "#bd3786"
             ],
             [
              0.5555555555555556,
              "#d8576b"
             ],
             [
              0.6666666666666666,
              "#ed7953"
             ],
             [
              0.7777777777777778,
              "#fb9f3a"
             ],
             [
              0.8888888888888888,
              "#fdca26"
             ],
             [
              1,
              "#f0f921"
             ]
            ],
            "type": "histogram2dcontour"
           }
          ],
          "mesh3d": [
           {
            "colorbar": {
             "outlinewidth": 0,
             "ticks": ""
            },
            "type": "mesh3d"
           }
          ],
          "parcoords": [
           {
            "line": {
             "colorbar": {
              "outlinewidth": 0,
              "ticks": ""
             }
            },
            "type": "parcoords"
           }
          ],
          "pie": [
           {
            "automargin": true,
            "type": "pie"
           }
          ],
          "scatter": [
           {
            "fillpattern": {
             "fillmode": "overlay",
             "size": 10,
             "solidity": 0.2
            },
            "type": "scatter"
           }
          ],
          "scatter3d": [
           {
            "line": {
             "colorbar": {
              "outlinewidth": 0,
              "ticks": ""
             }
            },
            "marker": {
             "colorbar": {
              "outlinewidth": 0,
              "ticks": ""
             }
            },
            "type": "scatter3d"
           }
          ],
          "scattercarpet": [
           {
            "marker": {
             "colorbar": {
              "outlinewidth": 0,
              "ticks": ""
             }
            },
            "type": "scattercarpet"
           }
          ],
          "scattergeo": [
           {
            "marker": {
             "colorbar": {
              "outlinewidth": 0,
              "ticks": ""
             }
            },
            "type": "scattergeo"
           }
          ],
          "scattergl": [
           {
            "marker": {
             "colorbar": {
              "outlinewidth": 0,
              "ticks": ""
             }
            },
            "type": "scattergl"
           }
          ],
          "scattermapbox": [
           {
            "marker": {
             "colorbar": {
              "outlinewidth": 0,
              "ticks": ""
             }
            },
            "type": "scattermapbox"
           }
          ],
          "scatterpolar": [
           {
            "marker": {
             "colorbar": {
              "outlinewidth": 0,
              "ticks": ""
             }
            },
            "type": "scatterpolar"
           }
          ],
          "scatterpolargl": [
           {
            "marker": {
             "colorbar": {
              "outlinewidth": 0,
              "ticks": ""
             }
            },
            "type": "scatterpolargl"
           }
          ],
          "scatterternary": [
           {
            "marker": {
             "colorbar": {
              "outlinewidth": 0,
              "ticks": ""
             }
            },
            "type": "scatterternary"
           }
          ],
          "surface": [
           {
            "colorbar": {
             "outlinewidth": 0,
             "ticks": ""
            },
            "colorscale": [
             [
              0,
              "#0d0887"
             ],
             [
              0.1111111111111111,
              "#46039f"
             ],
             [
              0.2222222222222222,
              "#7201a8"
             ],
             [
              0.3333333333333333,
              "#9c179e"
             ],
             [
              0.4444444444444444,
              "#bd3786"
             ],
             [
              0.5555555555555556,
              "#d8576b"
             ],
             [
              0.6666666666666666,
              "#ed7953"
             ],
             [
              0.7777777777777778,
              "#fb9f3a"
             ],
             [
              0.8888888888888888,
              "#fdca26"
             ],
             [
              1,
              "#f0f921"
             ]
            ],
            "type": "surface"
           }
          ],
          "table": [
           {
            "cells": {
             "fill": {
              "color": "#EBF0F8"
             },
             "line": {
              "color": "white"
             }
            },
            "header": {
             "fill": {
              "color": "#C8D4E3"
             },
             "line": {
              "color": "white"
             }
            },
            "type": "table"
           }
          ]
         },
         "layout": {
          "annotationdefaults": {
           "arrowcolor": "#2a3f5f",
           "arrowhead": 0,
           "arrowwidth": 1
          },
          "autotypenumbers": "strict",
          "coloraxis": {
           "colorbar": {
            "outlinewidth": 0,
            "ticks": ""
           }
          },
          "colorscale": {
           "diverging": [
            [
             0,
             "#8e0152"
            ],
            [
             0.1,
             "#c51b7d"
            ],
            [
             0.2,
             "#de77ae"
            ],
            [
             0.3,
             "#f1b6da"
            ],
            [
             0.4,
             "#fde0ef"
            ],
            [
             0.5,
             "#f7f7f7"
            ],
            [
             0.6,
             "#e6f5d0"
            ],
            [
             0.7,
             "#b8e186"
            ],
            [
             0.8,
             "#7fbc41"
            ],
            [
             0.9,
             "#4d9221"
            ],
            [
             1,
             "#276419"
            ]
           ],
           "sequential": [
            [
             0,
             "#0d0887"
            ],
            [
             0.1111111111111111,
             "#46039f"
            ],
            [
             0.2222222222222222,
             "#7201a8"
            ],
            [
             0.3333333333333333,
             "#9c179e"
            ],
            [
             0.4444444444444444,
             "#bd3786"
            ],
            [
             0.5555555555555556,
             "#d8576b"
            ],
            [
             0.6666666666666666,
             "#ed7953"
            ],
            [
             0.7777777777777778,
             "#fb9f3a"
            ],
            [
             0.8888888888888888,
             "#fdca26"
            ],
            [
             1,
             "#f0f921"
            ]
           ],
           "sequentialminus": [
            [
             0,
             "#0d0887"
            ],
            [
             0.1111111111111111,
             "#46039f"
            ],
            [
             0.2222222222222222,
             "#7201a8"
            ],
            [
             0.3333333333333333,
             "#9c179e"
            ],
            [
             0.4444444444444444,
             "#bd3786"
            ],
            [
             0.5555555555555556,
             "#d8576b"
            ],
            [
             0.6666666666666666,
             "#ed7953"
            ],
            [
             0.7777777777777778,
             "#fb9f3a"
            ],
            [
             0.8888888888888888,
             "#fdca26"
            ],
            [
             1,
             "#f0f921"
            ]
           ]
          },
          "colorway": [
           "#636efa",
           "#EF553B",
           "#00cc96",
           "#ab63fa",
           "#FFA15A",
           "#19d3f3",
           "#FF6692",
           "#B6E880",
           "#FF97FF",
           "#FECB52"
          ],
          "font": {
           "color": "#2a3f5f"
          },
          "geo": {
           "bgcolor": "white",
           "lakecolor": "white",
           "landcolor": "#E5ECF6",
           "showlakes": true,
           "showland": true,
           "subunitcolor": "white"
          },
          "hoverlabel": {
           "align": "left"
          },
          "hovermode": "closest",
          "mapbox": {
           "style": "light"
          },
          "paper_bgcolor": "white",
          "plot_bgcolor": "#E5ECF6",
          "polar": {
           "angularaxis": {
            "gridcolor": "white",
            "linecolor": "white",
            "ticks": ""
           },
           "bgcolor": "#E5ECF6",
           "radialaxis": {
            "gridcolor": "white",
            "linecolor": "white",
            "ticks": ""
           }
          },
          "scene": {
           "xaxis": {
            "backgroundcolor": "#E5ECF6",
            "gridcolor": "white",
            "gridwidth": 2,
            "linecolor": "white",
            "showbackground": true,
            "ticks": "",
            "zerolinecolor": "white"
           },
           "yaxis": {
            "backgroundcolor": "#E5ECF6",
            "gridcolor": "white",
            "gridwidth": 2,
            "linecolor": "white",
            "showbackground": true,
            "ticks": "",
            "zerolinecolor": "white"
           },
           "zaxis": {
            "backgroundcolor": "#E5ECF6",
            "gridcolor": "white",
            "gridwidth": 2,
            "linecolor": "white",
            "showbackground": true,
            "ticks": "",
            "zerolinecolor": "white"
           }
          },
          "shapedefaults": {
           "line": {
            "color": "#2a3f5f"
           }
          },
          "ternary": {
           "aaxis": {
            "gridcolor": "white",
            "linecolor": "white",
            "ticks": ""
           },
           "baxis": {
            "gridcolor": "white",
            "linecolor": "white",
            "ticks": ""
           },
           "bgcolor": "#E5ECF6",
           "caxis": {
            "gridcolor": "white",
            "linecolor": "white",
            "ticks": ""
           }
          },
          "title": {
           "x": 0.05
          },
          "xaxis": {
           "automargin": true,
           "gridcolor": "white",
           "linecolor": "white",
           "ticks": "",
           "title": {
            "standoff": 15
           },
           "zerolinecolor": "white",
           "zerolinewidth": 2
          },
          "yaxis": {
           "automargin": true,
           "gridcolor": "white",
           "linecolor": "white",
           "ticks": "",
           "title": {
            "standoff": 15
           },
           "zerolinecolor": "white",
           "zerolinewidth": 2
          }
         }
        },
        "title": {
         "text": "Price Elasticity of Purchase quantity (with promotion and without promotion)"
        },
        "width": 1100,
        "xaxis": {
         "anchor": "y",
         "autorange": true,
         "domain": [
          0,
          1
         ],
         "range": [
          0.5,
          3.490000000000003
         ],
         "title": {
          "text": "Avg Price of chocolate brand"
         },
         "type": "linear"
        },
        "yaxis": {
         "anchor": "x",
         "autorange": true,
         "domain": [
          0,
          1
         ],
         "range": [
          -1.9288410352906862,
          -0.0032641300017611646
         ],
         "title": {
          "text": "Mean Price Elasticity of Purchase quantity"
         },
         "type": "linear"
        }
       }
      },
      "image/png": "[encoded data removed]",
      "text/html": [
       "<div>                            <div id=\"23558040-d613-4e70-8671-434650b75b09\" class=\"plotly-graph-div\" style=\"height:300px; width:1100px;\"></div>            <script type=\"text/javascript\">                require([\"plotly\"], function(Plotly) {                    window.PLOTLYENV=window.PLOTLYENV || {};                                    if (document.getElementById(\"23558040-d613-4e70-8671-434650b75b09\")) {                    Plotly.newPlot(                        \"23558040-d613-4e70-8671-434650b75b09\",                        [{\"hovertemplate\":\"PE=PE_with_promotion_0\\u003cbr\\u003eprice=%{x}\\u003cbr\\u003ePEValue=%{y}\\u003cextra\\u003e\\u003c\\u002fextra\\u003e\",\"legendgroup\":\"PE_with_promotion_0\",\"line\":{\"color\":\"#636efa\",\"dash\":\"solid\"},\"marker\":{\"symbol\":\"circle\"},\"mode\":\"lines\",\"name\":\"PE_with_promotion_0\",\"orientation\":\"v\",\"showlegend\":true,\"x\":[0.5,0.51,0.52,0.53,0.54,0.55,0.56,0.5700000000000001,0.5800000000000001,0.5900000000000001,0.6000000000000001,0.6100000000000001,0.6200000000000001,0.6300000000000001,0.6400000000000001,0.6500000000000001,0.6600000000000001,0.6700000000000002,0.6800000000000002,0.6900000000000002,0.7000000000000002,0.7100000000000002,0.7200000000000002,0.7300000000000002,0.7400000000000002,0.7500000000000002,0.7600000000000002,0.7700000000000002,0.7800000000000002,0.7900000000000003,0.8000000000000003,0.8100000000000003,0.8200000000000003,0.8300000000000003,0.8400000000000003,0.8500000000000003,0.8600000000000003,0.8700000000000003,0.8800000000000003,0.8900000000000003,0.9000000000000004,0.9100000000000004,0.9200000000000004,0.9300000000000004,0.9400000000000004,0.9500000000000004,0.9600000000000004,0.9700000000000004,0.9800000000000004,0.9900000000000004,1.0000000000000004,1.0100000000000005,1.0200000000000005,1.0300000000000005,1.0400000000000005,1.0500000000000005,1.0600000000000005,1.0700000000000005,1.0800000000000005,1.0900000000000005,1.1000000000000005,1.1100000000000005,1.1200000000000006,1.1300000000000006,1.1400000000000006,1.1500000000000006,1.1600000000000006,1.1700000000000006,1.1800000000000006,1.1900000000000006,1.2000000000000006,1.2100000000000006,1.2200000000000006,1.2300000000000006,1.2400000000000007,1.2500000000000007,1.2600000000000007,1.2700000000000007,1.2800000000000007,1.2900000000000007,1.3000000000000007,1.3100000000000007,1.3200000000000007,1.3300000000000007,1.3400000000000007,1.3500000000000008,1.3600000000000008,1.3700000000000008,1.3800000000000008,1.3900000000000008,1.4000000000000008,1.4100000000000008,1.4200000000000008,1.4300000000000008,1.4400000000000008,1.4500000000000008,1.4600000000000009,1.4700000000000009,1.4800000000000009,1.4900000000000009,1.5000000000000009,1.510000000000001,1.520000000000001,1.530000000000001,1.540000000000001,1.550000000000001,1.560000000000001,1.570000000000001,1.580000000000001,1.590000000000001,1.600000000000001,1.610000000000001,1.620000000000001,1.630000000000001,1.640000000000001,1.650000000000001,1.660000000000001,1.670000000000001,1.680000000000001,1.690000000000001,1.700000000000001,1.710000000000001,1.720000000000001,1.730000000000001,1.740000000000001,1.750000000000001,1.7600000000000011,1.7700000000000011,1.7800000000000011,1.7900000000000011,1.8000000000000012,1.8100000000000012,1.8200000000000012,1.8300000000000012,1.8400000000000012,1.8500000000000012,1.8600000000000012,1.8700000000000012,1.8800000000000012,1.8900000000000012,1.9000000000000012,1.9100000000000013,1.9200000000000013,1.9300000000000013,1.9400000000000013,1.9500000000000013,1.9600000000000013,1.9700000000000013,1.9800000000000013,1.9900000000000013,2.0000000000000013,2.0100000000000016,2.0200000000000014,2.030000000000001,2.0400000000000014,2.0500000000000016,2.0600000000000014,2.070000000000001,2.0800000000000014,2.0900000000000016,2.1000000000000014,2.110000000000001,2.1200000000000014,2.1300000000000017,2.1400000000000015,2.1500000000000012,2.1600000000000015,2.1700000000000017,2.1800000000000015,2.1900000000000013,2.2000000000000015,2.2100000000000017,2.2200000000000015,2.2300000000000013,2.2400000000000015,2.2500000000000018,2.2600000000000016,2.2700000000000014,2.2800000000000016,2.290000000000002,2.3000000000000016,2.3100000000000014,2.3200000000000016,2.330000000000002,2.3400000000000016,2.3500000000000014,2.3600000000000017,2.370000000000002,2.3800000000000017,2.3900000000000015,2.4000000000000017,2.410000000000002,2.4200000000000017,2.4300000000000015,2.4400000000000017,2.450000000000002,2.4600000000000017,2.4700000000000015,2.4800000000000018,2.490000000000002,2.5000000000000018,2.5100000000000016,2.520000000000002,2.530000000000002,2.540000000000002,2.5500000000000016,2.560000000000002,2.570000000000002,2.580000000000002,2.5900000000000016,2.600000000000002,2.610000000000002,2.620000000000002,2.6300000000000017,2.640000000000002,2.650000000000002,2.660000000000002,2.6700000000000017,2.680000000000002,2.690000000000002,2.700000000000002,2.7100000000000017,2.720000000000002,2.730000000000002,2.740000000000002,2.7500000000000018,2.760000000000002,2.7700000000000022,2.780000000000002,2.790000000000002,2.800000000000002,2.8100000000000023,2.820000000000002,2.830000000000002,2.840000000000002,2.8500000000000023,2.860000000000002,2.870000000000002,2.880000000000002,2.8900000000000023,2.900000000000002,2.910000000000002,2.920000000000002,2.9300000000000024,2.940000000000002,2.950000000000002,2.960000000000002,2.9700000000000024,2.980000000000002,2.990000000000002,3.000000000000002,3.0100000000000025,3.0200000000000022,3.030000000000002,3.0400000000000023,3.0500000000000025,3.0600000000000023,3.070000000000002,3.0800000000000023,3.0900000000000025,3.1000000000000023,3.110000000000002,3.1200000000000023,3.1300000000000026,3.1400000000000023,3.150000000000002,3.1600000000000024,3.1700000000000026,3.1800000000000024,3.190000000000002,3.2000000000000024,3.2100000000000026,3.2200000000000024,3.230000000000002,3.2400000000000024,3.2500000000000027,3.2600000000000025,3.2700000000000022,3.2800000000000025,3.2900000000000027,3.3000000000000025,3.3100000000000023,3.3200000000000025,3.3300000000000027,3.3400000000000025,3.3500000000000023,3.3600000000000025,3.3700000000000028,3.3800000000000026,3.3900000000000023,3.4000000000000026,3.410000000000003,3.4200000000000026,3.4300000000000024,3.4400000000000026,3.450000000000003,3.4600000000000026,3.4700000000000024,3.4800000000000026,3.490000000000003],\"xaxis\":\"x\",\"y\":[-0.09954297526620741,-0.10173637760592555,-0.10393854837084307,-0.10614954024573185,-0.10836940633828362,-0.11059820018336211,-0.11283597574730662,-0.11508278743228782,-0.11733869008071643,-0.11960373897970525,-0.12187798986558593,-0.12416149892848072,-0.12645432281693014,-0.12875651864257764,-0.13106814398491126,-0.13338925689606448,-0.1357199159056755,-0.13806018002580736,-0.14041010875592813,-0.14276976208795397,-0.14513920051135396,-0.14751848501831907,-0.14990767710899588,-0.15230683879678525,-0.154716032613708,-0.15713532161583757,-0.15956476938880165,-0.16200444005335263,-0.16445439827100924,-0.16691470924976903,-0.1693854387498937,-0.17186665308976848,-0.17435841915183536,-0.17686080438860308,-0.17937387682873362,-0.18189770508320693,-0.18443235835156505,-0.18697790642823672,-0.18953441970894372,-0.19210196919719003,-0.19468062651083573,-0.1972704638887555,-0.19987155419758496,-0.20248397093855422,-0.20510778825441156,-0.2077430809364375,-0.21038992443155155,-0.21304839484951202,-0.2157185689702115,-0.21840052425106862,-0.2210943388345178,-0.22380009155559888,-0.22651786194964746,-0.22924773026008838,-0.23198977744633306,-0.23474408519178322,-0.2375107359119419,-0.24028981276263375,-0.2430813996483367,-0.24588558123062576,-0.24870244293673222,-0.2515320709682182,-0.2543745523097706,-0.25722997473811365,-0.26009842683104545,-0.26297999797659627,-0.26587477838231455,-0.26878285908468025,-0.2717043319586479,-0.27463928972732254,-0.2775878259717693,-0.2805500351409597,-0.28352601256185694,-0.28651585444964156,-0.2895196579180806,-0.2925375209900429,-0.2955695426081612,-0.2986158226456462,-0.3016764619172516,-0.3047515621903969,-0.30784122619644627,-0.310945557642149,-0.3140646612212427,-0.31719864262622366,-0.32034760856028466,-0.323511666749425,-0.32669092595473576,-0.3298854959848613,-0.33309548770864195,-0.33632101306794027,-0.33956218509065383,-0.3428191179039179,-0.3460919267475006,-0.34938072798739567,-0.3526856391296138,-0.3560067788341779,-0.3593442669293242,-0.36269822442591476,-0.3660687735320628,-0.36945603766797636,-0.3728601414810225,-0.37628121086101785,-0.37971937295574765,-0.38317475618671765,-0.3866474902651443,-0.3901377062081854,-0.39364553635541755,-0.3971711143855624,-0.4007145753334687,-0.4042760556073527,-0.40785569300630203,-0.4114536267380489,-0.41506999743701567,-0.41870494718263906,-0.42235861951797676,-0.4260311594686035,-0.42972271356179936,-0.4334334298460382,-0.43716345791077865,-0.44091294890656685,-0.4446820555654531,-0.44847093222173057,-0.45227973483300116,-0.45610862100157457,-0.45995774999620664,-0.4638272827741829,-0.46771738200375573,-0.4716282120869386,-0.47555993918266637,-0.47951273123032856,-0.4834867579736804,-0.48748219098514156,-0.4914992036904876,-0.4955379713939437,-0.4995986713036861,-0.5036814825577612,-0.5077865862504279,-0.5119141654589335,-0.5160644052707313,-0.5202374928111454,-0.5244336172714963,-0.5286529699376923,-0.5328957442192965,-0.53716213567908,-0.5414523420630701,-0.5457665633311033,-0.5501050016878907,-0.5544678616146115,-0.5588553499010386,-0.563267675678211,-0.5677050504516626,-0.5721676881352191,-0.5766558050853716,-0.5811696201362438,-0.5857093546351593,-0.5902752324788233,-0.5948674801501331,-0.5994863267556267,-0.6041320040635844,-0.6088047465427956,-0.6135047914020065,-0.6182323786300606,-0.6229877510367474,-0.6277711542943718,-0.6325828369800627,-0.6374230506188335,-0.6422920497274118,-0.6471900918588503,-0.6521174376479424,-0.6570743508574528,-0.6620610984251841,-0.6670779505118949,-0.6721251805500879,-0.6772030652936898,-0.6823118848686364,-0.6874519228243843,-0.6926234661863732,-0.6978268055094531,-0.7030622349323017,-0.7083300522328493,-0.7136305588847384,-0.7189640601148364,-0.7243308649618246,-0.7297312863358904,-0.7351656410795415,-0.7406342500295757,-0.7461374380802189,-0.7516755342474699,-0.7572488717346719,-0.7628577879993406,-0.7685026248212745,-0.7741837283719791,-0.7799014492854334,-0.7856561427302297,-0.7914481684831169,-0.797277891003979,-0.8031456795122828,-0.8090519080650304,-0.814996955636244,-0.8209812061980272,-0.8270050488032332,-0.833068877669781,-0.8391730922666537,-0.8453180974016227,-0.8515043033107353,-0.857732125749611,-0.8640019860865819,-0.8703143113977296,-0.876669534563858,-0.8830680943694504,-0.889510435603658,-0.8959970091633663,-0.9025282721583958,-0.909104688018881,-0.9157267266048871,-0.9223948643183124,-0.9291095842171391,-0.935871376132086,-0.9426807367857226,-0.9495381699141053,-0.9564441863910006,-0.9633993043547568,-0.9704040493378933,-0.9774589543994695,-0.9845645602603128,-0.9917214154411699,-0.9989300764038582,-1.0061911076954924,-1.0135050820958695,-1.0208725807680876,-1.0282941934124816,-1.0357705184239665,-1.0433021630528703,-1.0508897435693558,-1.0585338854315112,-1.0662352234572214,-1.0739944019999066,-1.0818120751282405,-1.089688906809943,-1.0976255710997633,-1.1056227523317659,-1.1136811453160285,-1.1218014555398734,-1.1299843993737595,-1.1382307042819524,-1.1465411090381106,-1.1549163639459172,-1.1633572310648959,-1.1718644844415562,-1.1804389103460156,-1.1890813075142463,-1.1977924873961063,-1.206573274409317,-1.2154245061995546,-1.224347033906824,-1.233341722438297,-1.2424094507477963,-1.251551112122117,-1.2607676144743811,-1.2700598806446226,-1.279428848707819,-1.2888754722895832,-1.2984007208897366,-1.3080055802139912,-1.317691052513992,-1.327458156935951,-1.3373079298781347,-1.3472414253574672,-1.3572597153855226,-1.3673638903541898,-1.377555059431291,-1.3878343509664717,-1.3982029129076585,-1.4086619132284213,-1.4192125403665605,-1.4298560036742753,-1.4405935338802667,-1.4514263835641503,-1.4623558276435535,-1.4733831638743071,-1.4845097133641332,-1.4957368211002657,-1.5070658564914365,-1.5184982139246916,-1.5300353133375129,-1.541678600805737,-1.5534295491477856,-1.565289658545727,-1.577260457183734,-1.5893435019045017,-1.6015403788842122,-1.613852704326668,-1.6262821251772315,-1.6388303198572296,-1.6514989990195164,-1.6642899063258976,-1.6772048192471727,-1.6902455498865596,-1.7034139458272979,-1.7167118910052672],\"yaxis\":\"y\",\"type\":\"scatter\"},{\"hovertemplate\":\"PE=PE_with_promotion_1\\u003cbr\\u003eprice=%{x}\\u003cbr\\u003ePEValue=%{y}\\u003cextra\\u003e\\u003c\\u002fextra\\u003e\",\"legendgroup\":\"PE_with_promotion_1\",\"line\":{\"color\":\"#EF553B\",\"dash\":\"solid\"},\"marker\":{\"symbol\":\"circle\"},\"mode\":\"lines\",\"name\":\"PE_with_promotion_1\",\"orientation\":\"v\",\"showlegend\":true,\"x\":[0.5,0.51,0.52,0.53,0.54,0.55,0.56,0.5700000000000001,0.5800000000000001,0.5900000000000001,0.6000000000000001,0.6100000000000001,0.6200000000000001,0.6300000000000001,0.6400000000000001,0.6500000000000001,0.6600000000000001,0.6700000000000002,0.6800000000000002,0.6900000000000002,0.7000000000000002,0.7100000000000002,0.7200000000000002,0.7300000000000002,0.7400000000000002,0.7500000000000002,0.7600000000000002,0.7700000000000002,0.7800000000000002,0.7900000000000003,0.8000000000000003,0.8100000000000003,0.8200000000000003,0.8300000000000003,0.8400000000000003,0.8500000000000003,0.8600000000000003,0.8700000000000003,0.8800000000000003,0.8900000000000003,0.9000000000000004,0.9100000000000004,0.9200000000000004,0.9300000000000004,0.9400000000000004,0.9500000000000004,0.9600000000000004,0.9700000000000004,0.9800000000000004,0.9900000000000004,1.0000000000000004,1.0100000000000005,1.0200000000000005,1.0300000000000005,1.0400000000000005,1.0500000000000005,1.0600000000000005,1.0700000000000005,1.0800000000000005,1.0900000000000005,1.1000000000000005,1.1100000000000005,1.1200000000000006,1.1300000000000006,1.1400000000000006,1.1500000000000006,1.1600000000000006,1.1700000000000006,1.1800000000000006,1.1900000000000006,1.2000000000000006,1.2100000000000006,1.2200000000000006,1.2300000000000006,1.2400000000000007,1.2500000000000007,1.2600000000000007,1.2700000000000007,1.2800000000000007,1.2900000000000007,1.3000000000000007,1.3100000000000007,1.3200000000000007,1.3300000000000007,1.3400000000000007,1.3500000000000008,1.3600000000000008,1.3700000000000008,1.3800000000000008,1.3900000000000008,1.4000000000000008,1.4100000000000008,1.4200000000000008,1.4300000000000008,1.4400000000000008,1.4500000000000008,1.4600000000000009,1.4700000000000009,1.4800000000000009,1.4900000000000009,1.5000000000000009,1.510000000000001,1.520000000000001,1.530000000000001,1.540000000000001,1.550000000000001,1.560000000000001,1.570000000000001,1.580000000000001,1.590000000000001,1.600000000000001,1.610000000000001,1.620000000000001,1.630000000000001,1.640000000000001,1.650000000000001,1.660000000000001,1.670000000000001,1.680000000000001,1.690000000000001,1.700000000000001,1.710000000000001,1.720000000000001,1.730000000000001,1.740000000000001,1.750000000000001,1.7600000000000011,1.7700000000000011,1.7800000000000011,1.7900000000000011,1.8000000000000012,1.8100000000000012,1.8200000000000012,1.8300000000000012,1.8400000000000012,1.8500000000000012,1.8600000000000012,1.8700000000000012,1.8800000000000012,1.8900000000000012,1.9000000000000012,1.9100000000000013,1.9200000000000013,1.9300000000000013,1.9400000000000013,1.9500000000000013,1.9600000000000013,1.9700000000000013,1.9800000000000013,1.9900000000000013,2.0000000000000013,2.0100000000000016,2.0200000000000014,2.030000000000001,2.0400000000000014,2.0500000000000016,2.0600000000000014,2.070000000000001,2.0800000000000014,2.0900000000000016,2.1000000000000014,2.110000000000001,2.1200000000000014,2.1300000000000017,2.1400000000000015,2.1500000000000012,2.1600000000000015,2.1700000000000017,2.1800000000000015,2.1900000000000013,2.2000000000000015,2.2100000000000017,2.2200000000000015,2.2300000000000013,2.2400000000000015,2.2500000000000018,2.2600000000000016,2.2700000000000014,2.2800000000000016,2.290000000000002,2.3000000000000016,2.3100000000000014,2.3200000000000016,2.330000000000002,2.3400000000000016,2.3500000000000014,2.3600000000000017,2.370000000000002,2.3800000000000017,2.3900000000000015,2.4000000000000017,2.410000000000002,2.4200000000000017,2.4300000000000015,2.4400000000000017,2.450000000000002,2.4600000000000017,2.4700000000000015,2.4800000000000018,2.490000000000002,2.5000000000000018,2.5100000000000016,2.520000000000002,2.530000000000002,2.540000000000002,2.5500000000000016,2.560000000000002,2.570000000000002,2.580000000000002,2.5900000000000016,2.600000000000002,2.610000000000002,2.620000000000002,2.6300000000000017,2.640000000000002,2.650000000000002,2.660000000000002,2.6700000000000017,2.680000000000002,2.690000000000002,2.700000000000002,2.7100000000000017,2.720000000000002,2.730000000000002,2.740000000000002,2.7500000000000018,2.760000000000002,2.7700000000000022,2.780000000000002,2.790000000000002,2.800000000000002,2.8100000000000023,2.820000000000002,2.830000000000002,2.840000000000002,2.8500000000000023,2.860000000000002,2.870000000000002,2.880000000000002,2.8900000000000023,2.900000000000002,2.910000000000002,2.920000000000002,2.9300000000000024,2.940000000000002,2.950000000000002,2.960000000000002,2.9700000000000024,2.980000000000002,2.990000000000002,3.000000000000002,3.0100000000000025,3.0200000000000022,3.030000000000002,3.0400000000000023,3.0500000000000025,3.0600000000000023,3.070000000000002,3.0800000000000023,3.0900000000000025,3.1000000000000023,3.110000000000002,3.1200000000000023,3.1300000000000026,3.1400000000000023,3.150000000000002,3.1600000000000024,3.1700000000000026,3.1800000000000024,3.190000000000002,3.2000000000000024,3.2100000000000026,3.2200000000000024,3.230000000000002,3.2400000000000024,3.2500000000000027,3.2600000000000025,3.2700000000000022,3.2800000000000025,3.2900000000000027,3.3000000000000025,3.3100000000000023,3.3200000000000025,3.3300000000000027,3.3400000000000025,3.3500000000000023,3.3600000000000025,3.3700000000000028,3.3800000000000026,3.3900000000000023,3.4000000000000026,3.410000000000003,3.4200000000000026,3.4300000000000024,3.4400000000000026,3.450000000000003,3.4600000000000026,3.4700000000000024,3.4800000000000026,3.490000000000003],\"xaxis\":\"x\",\"y\":[-0.10215678690009704,-0.10441325308700208,-0.10667897763951854,-0.10895401765591797,-0.111238430704955,-0.11353227483072333,-0.11583560855757177,-0.11814849089508181,-0.12047098134310671,-0.12280313989687393,-0.1251450270521512,-0.1274967038104774,-0.12985823168445942,-0.1322296727031353,-0.1346110894174053,-0.13700254490553182,-0.13940410277870852,-0.14181582718670083,-0.1442377828235575,-0.14667003493339584,-0.14911264931625995,-0.15156569233405484,-0.15402923091655632,-0.15650333256749807,-0.1589880653707375,-0.16148349799650102,-0.16398969970771035,-0.16650674036639063,-0.1690346904401624,-0.17157362100881735,-0.17412360377098074,-0.17668471105086064,-0.1792570158050856,-0.18184059162963248,-0.1844355127668454,-0.1870418541125472,-0.18965969122324552,-0.19228910032343371,-0.1949301583129894,-0.19758294277467123,-0.20024753198171602,-0.20292400490553705,-0.2056124412235263,-0.2083129213269607,-0.21102552632901572,-0.2137503380728865,-0.2164874391400191,-0.2192369128584536,-0.22199884331128006,-0.22477331534521025,-0.227560414579266,-0.2303602274135868,-0.23317284103835761,-0.23599834344286033,-0.238836823424649,-0.24168837059885243,-0.24455307540760535,-0.24743102912961024,-0.25032232388983255,-0.25322705266933065,-0.25614530931522334,-0.25907718855079676,-0.26202278598575385,-0.26498219812660667,-0.2679555223872167,-0.27094285709948335,-0.2739443015241839,-0.2769599558619681,-0.27998992126450806,-0.28303429984580886,-0.28609319469367933,-0.2891667098813685,-0.2922549504793687,-0.29535802256738913,-0.29847603324650157,-0.30160909065146313,-0.30475730396321676,-0.3079207834215741,-0.31109964033808307,-0.3142939871090841,-0.31750393722895703,-0.3207296053035627,-0.3239711070638827,-0.3272285593798607,-0.33050208027444805,-0.333791788937858,-0.3370978057420322,-0.3404202522553223,-0.34375925125739143,-0.3471149267543387,-0.35048740399405126,-0.3538768094817872,-0.35728327099599333,-0.36070691760436346,-0.3641478796801393,-0.3676062889186599,-0.3710822783541627,-0.3745759823768429,-0.3780875367501727,-0.3816170786284877,-0.3851647465748438,-0.3887306805791503,-0.3923150220765835,-0.395917913966286,-0.3995395006303578,-0.4031799279531431,-0.4068393433408193,-0.4105178957412927,-0.4142157356644085,-0.41793301520247783,-0.42166988805113054,-0.4254265095304982,-0.42920303660673415,-0.4329996279138759,-0.43681644377605733,-0.4406536462300771,-0.44451139904832887,-0.44838986776210216,-0.45228921968525776,-0.4562096239382888,-0.46015125147277064,-0.46411427509620984,-0.4680988694972993,-0.47210521127158595,-0.4761334789475606,-0.4801838530131765,-0.48425651594280694,-0.4883516522246481,-0.4924694483885767,-0.49661009303447246,-0.5007737768610124,-0.504960692694947,-0.5091710355208684,-0.5134050025114795,-0.517662793058374,-0.5219446088033375,-0.5262506536701793,-0.5305811338971073,-0.5349362580696548,-0.5393162371541713,-0.5437212845318884,-0.548151616033572,-0.5526074499747733,-0.5570890071916897,-0.5615965110776495,-0.5661301876202316,-0.5706902654390329,-0.5752769758240995,-0.579890552775031,-0.584531233040775,-0.5891992561601256,-0.5938948645029385,-0.5986183033120799,-0.6033698207461237,-0.608149667922811,-0.6129580989632912,-0.6177953710371572,-0.6226617444082955,-0.627557482481565,-0.6324828518503223,-0.6374381223448156,-0.6424235670814594,-0.6474394625130158,-0.6524860884796929,-0.6575637282611904,-0.6626726686297049,-0.6678131999039197,-0.6729856160039979,-0.6781902145076028,-0.6834272967069681,-0.6886971676670385,-0.6940001362847062,-0.6993365153491672,-0.7047066216034228,-0.7101107758069499,-0.7155493027995665,-0.721022531566521,-0.7265307953048317,-0.7320744314909033,-0.7376537819494502,-0.7432691929237565,-0.748921015147304,-0.7546096039167958,-0.7603353191666109,-0.7660985255447209,-0.7718995924901054,-0.7777388943116927,-0.783616810268872,-0.7895337246536044,-0.7954900268741772,-0.8014861115406331,-0.8075223785519176,-0.8135992331847861,-0.819717086184509,-0.8258763538574193,-0.8320774581653456,-0.8383208268219757,-0.8446068933912003,-0.8509360973874761,-0.8573088843782662,-0.863725706088603,-0.8701870205078263,-0.8766932919985485,-0.8832449914079025,-0.8898425961811287,-0.8964865904775589,-0.903177465289052,-0.909915718560949,-0.9167018553156048,-0.9235363877785646,-0.9304198355074474,-0.9373527255236076,-0.9443355924466438,-0.9513689786318279,-0.9584534343105277,-0.9655895177336968,-0.9727777953185168,-0.980018841798267,-0.9873132403755075,-0.9946615828786587,-1.0020644699220707,-1.0095225110696686,-1.0170363250022703,-1.0246065396886694,-1.0322337925605882,-1.0399187306915996,-1.0476620109801233,-1.0554643003366035,-1.0633262758749877,-1.071248625108613,-1.0792320461506226,-1.0872772479190347,-1.0953849503465924,-1.103555884595525,-1.111790793277348,-1.1200904306778519,-1.1284555629874138,-1.1368869685367864,-1.1453854380385098,-1.153951774834108,-1.162586795147232,-1.171291328342919,-1.180066217193131,-1.1889123181487657,-1.1978305016183117,-1.2068216522533481,-1.215886669241076,-1.2250264666040913,-1.2342419735076087,-1.243534134574349,-1.2529039102073218,-1.2623522769207234,-1.2718802276792016,-1.281488772245729,-1.291178937538341,-1.300951767995999,-1.3108083259538668,-1.3207496920282635,-1.3307769655116057,-1.3408912647776234,-1.3510937276971784,-1.361385512065004,-1.3717677960376995,-1.3822417785833285,-1.3928086799429895,-1.403469742104721,-1.4142262292901315,-1.4250794284541564,-1.4360306497983562,-1.4470812272981879,-1.458232519244686,-1.4694859088010308,-1.4808428045744653,-1.4923046412040755,-1.5038728799649324,-1.5155490093891393,-1.5273345459043397,-1.5392310344902582,-1.5512400493538667,-1.5633631946238065,-1.5756021050646989,-1.5879584468120227,-1.6004339181282412,-1.613030250180906,-1.6257492078434892,-1.6385925905197136,-1.6515622329922002,-1.6646600062962589,-1.677887818619713,-1.6912476162296566,-1.7047413844270904,-1.7183711485304214,-1.7321389748888512,-1.7460469719267155,-1.7600972912198867,-1.774292128605384,-1.7886337253254079,-1.803124369207041,-1.817766395878921,-1.8325621900262399],\"yaxis\":\"y\",\"type\":\"scatter\"}],                        {\"template\":{\"data\":{\"histogram2dcontour\":[{\"type\":\"histogram2dcontour\",\"colorbar\":{\"outlinewidth\":0,\"ticks\":\"\"},\"colorscale\":[[0.0,\"#0d0887\"],[0.1111111111111111,\"#46039f\"],[0.2222222222222222,\"#7201a8\"],[0.3333333333333333,\"#9c179e\"],[0.4444444444444444,\"#bd3786\"],[0.5555555555555556,\"#d8576b\"],[0.6666666666666666,\"#ed7953\"],[0.7777777777777778,\"#fb9f3a\"],[0.8888888888888888,\"#fdca26\"],[1.0,\"#f0f921\"]]}],\"choropleth\":[{\"type\":\"choropleth\",\"colorbar\":{\"outlinewidth\":0,\"ticks\":\"\"}}],\"histogram2d\":[{\"type\":\"histogram2d\",\"colorbar\":{\"outlinewidth\":0,\"ticks\":\"\"},\"colorscale\":[[0.0,\"#0d0887\"],[0.1111111111111111,\"#46039f\"],[0.2222222222222222,\"#7201a8\"],[0.3333333333333333,\"#9c179e\"],[0.4444444444444444,\"#bd3786\"],[0.5555555555555556,\"#d8576b\"],[0.6666666666666666,\"#ed7953\"],[0.7777777777777778,\"#fb9f3a\"],[0.8888888888888888,\"#fdca26\"],[1.0,\"#f0f921\"]]}],\"heatmap\":[{\"type\":\"heatmap\",\"colorbar\":{\"outlinewidth\":0,\"ticks\":\"\"},\"colorscale\":[[0.0,\"#0d0887\"],[0.1111111111111111,\"#46039f\"],[0.2222222222222222,\"#7201a8\"],[0.3333333333333333,\"#9c179e\"],[0.4444444444444444,\"#bd3786\"],[0.5555555555555556,\"#d8576b\"],[0.6666666666666666,\"#ed7953\"],[0.7777777777777778,\"#fb9f3a\"],[0.8888888888888888,\"#fdca26\"],[1.0,\"#f0f921\"]]}],\"heatmapgl\":[{\"type\":\"heatmapgl\",\"colorbar\":{\"outlinewidth\":0,\"ticks\":\"\"},\"colorscale\":[[0.0,\"#0d0887\"],[0.1111111111111111,\"#46039f\"],[0.2222222222222222,\"#7201a8\"],[0.3333333333333333,\"#9c179e\"],[0.4444444444444444,\"#bd3786\"],[0.5555555555555556,\"#d8576b\"],[0.6666666666666666,\"#ed7953\"],[0.7777777777777778,\"#fb9f3a\"],[0.8888888888888888,\"#fdca26\"],[1.0,\"#f0f921\"]]}],\"contourcarpet\":[{\"type\":\"contourcarpet\",\"colorbar\":{\"outlinewidth\":0,\"ticks\":\"\"}}],\"contour\":[{\"type\":\"contour\",\"colorbar\":{\"outlinewidth\":0,\"ticks\":\"\"},\"colorscale\":[[0.0,\"#0d0887\"],[0.1111111111111111,\"#46039f\"],[0.2222222222222222,\"#7201a8\"],[0.3333333333333333,\"#9c179e\"],[0.4444444444444444,\"#bd3786\"],[0.5555555555555556,\"#d8576b\"],[0.6666666666666666,\"#ed7953\"],[0.7777777777777778,\"#fb9f3a\"],[0.8888888888888888,\"#fdca26\"],[1.0,\"#f0f921\"]]}],\"surface\":[{\"type\":\"surface\",\"colorbar\":{\"outlinewidth\":0,\"ticks\":\"\"},\"colorscale\":[[0.0,\"#0d0887\"],[0.1111111111111111,\"#46039f\"],[0.2222222222222222,\"#7201a8\"],[0.3333333333333333,\"#9c179e\"],[0.4444444444444444,\"#bd3786\"],[0.5555555555555556,\"#d8576b\"],[0.6666666666666666,\"#ed7953\"],[0.7777777777777778,\"#fb9f3a\"],[0.8888888888888888,\"#fdca26\"],[1.0,\"#f0f921\"]]}],\"mesh3d\":[{\"type\":\"mesh3d\",\"colorbar\":{\"outlinewidth\":0,\"ticks\":\"\"}}],\"scatter\":[{\"fillpattern\":{\"fillmode\":\"overlay\",\"size\":10,\"solidity\":0.2},\"type\":\"scatter\"}],\"parcoords\":[{\"type\":\"parcoords\",\"line\":{\"colorbar\":{\"outlinewidth\":0,\"ticks\":\"\"}}}],\"scatterpolargl\":[{\"type\":\"scatterpolargl\",\"marker\":{\"colorbar\":{\"outlinewidth\":0,\"ticks\":\"\"}}}],\"bar\":[{\"error_x\":{\"color\":\"#2a3f5f\"},\"error_y\":{\"color\":\"#2a3f5f\"},\"marker\":{\"line\":{\"color\":\"#E5ECF6\",\"width\":0.5},\"pattern\":{\"fillmode\":\"overlay\",\"size\":10,\"solidity\":0.2}},\"type\":\"bar\"}],\"scattergeo\":[{\"type\":\"scattergeo\",\"marker\":{\"colorbar\":{\"outlinewidth\":0,\"ticks\":\"\"}}}],\"scatterpolar\":[{\"type\":\"scatterpolar\",\"marker\":{\"colorbar\":{\"outlinewidth\":0,\"ticks\":\"\"}}}],\"histogram\":[{\"marker\":{\"pattern\":{\"fillmode\":\"overlay\",\"size\":10,\"solidity\":0.2}},\"type\":\"histogram\"}],\"scattergl\":[{\"type\":\"scattergl\",\"marker\":{\"colorbar\":{\"outlinewidth\":0,\"ticks\":\"\"}}}],\"scatter3d\":[{\"type\":\"scatter3d\",\"line\":{\"colorbar\":{\"outlinewidth\":0,\"ticks\":\"\"}},\"marker\":{\"colorbar\":{\"outlinewidth\":0,\"ticks\":\"\"}}}],\"scattermapbox\":[{\"type\":\"scattermapbox\",\"marker\":{\"colorbar\":{\"outlinewidth\":0,\"ticks\":\"\"}}}],\"scatterternary\":[{\"type\":\"scatterternary\",\"marker\":{\"colorbar\":{\"outlinewidth\":0,\"ticks\":\"\"}}}],\"scattercarpet\":[{\"type\":\"scattercarpet\",\"marker\":{\"colorbar\":{\"outlinewidth\":0,\"ticks\":\"\"}}}],\"carpet\":[{\"aaxis\":{\"endlinecolor\":\"#2a3f5f\",\"gridcolor\":\"white\",\"linecolor\":\"white\",\"minorgridcolor\":\"white\",\"startlinecolor\":\"#2a3f5f\"},\"baxis\":{\"endlinecolor\":\"#2a3f5f\",\"gridcolor\":\"white\",\"linecolor\":\"white\",\"minorgridcolor\":\"white\",\"startlinecolor\":\"#2a3f5f\"},\"type\":\"carpet\"}],\"table\":[{\"cells\":{\"fill\":{\"color\":\"#EBF0F8\"},\"line\":{\"color\":\"white\"}},\"header\":{\"fill\":{\"color\":\"#C8D4E3\"},\"line\":{\"color\":\"white\"}},\"type\":\"table\"}],\"barpolar\":[{\"marker\":{\"line\":{\"color\":\"#E5ECF6\",\"width\":0.5},\"pattern\":{\"fillmode\":\"overlay\",\"size\":10,\"solidity\":0.2}},\"type\":\"barpolar\"}],\"pie\":[{\"automargin\":true,\"type\":\"pie\"}]},\"layout\":{\"autotypenumbers\":\"strict\",\"colorway\":[\"#636efa\",\"#EF553B\",\"#00cc96\",\"#ab63fa\",\"#FFA15A\",\"#19d3f3\",\"#FF6692\",\"#B6E880\",\"#FF97FF\",\"#FECB52\"],\"font\":{\"color\":\"#2a3f5f\"},\"hovermode\":\"closest\",\"hoverlabel\":{\"align\":\"left\"},\"paper_bgcolor\":\"white\",\"plot_bgcolor\":\"#E5ECF6\",\"polar\":{\"bgcolor\":\"#E5ECF6\",\"angularaxis\":{\"gridcolor\":\"white\",\"linecolor\":\"white\",\"ticks\":\"\"},\"radialaxis\":{\"gridcolor\":\"white\",\"linecolor\":\"white\",\"ticks\":\"\"}},\"ternary\":{\"bgcolor\":\"#E5ECF6\",\"aaxis\":{\"gridcolor\":\"white\",\"linecolor\":\"white\",\"ticks\":\"\"},\"baxis\":{\"gridcolor\":\"white\",\"linecolor\":\"white\",\"ticks\":\"\"},\"caxis\":{\"gridcolor\":\"white\",\"linecolor\":\"white\",\"ticks\":\"\"}},\"coloraxis\":{\"colorbar\":{\"outlinewidth\":0,\"ticks\":\"\"}},\"colorscale\":{\"sequential\":[[0.0,\"#0d0887\"],[0.1111111111111111,\"#46039f\"],[0.2222222222222222,\"#7201a8\"],[0.3333333333333333,\"#9c179e\"],[0.4444444444444444,\"#bd3786\"],[0.5555555555555556,\"#d8576b\"],[0.6666666666666666,\"#ed7953\"],[0.7777777777777778,\"#fb9f3a\"],[0.8888888888888888,\"#fdca26\"],[1.0,\"#f0f921\"]],\"sequentialminus\":[[0.0,\"#0d0887\"],[0.1111111111111111,\"#46039f\"],[0.2222222222222222,\"#7201a8\"],[0.3333333333333333,\"#9c179e\"],[0.4444444444444444,\"#bd3786\"],[0.5555555555555556,\"#d8576b\"],[0.6666666666666666,\"#ed7953\"],[0.7777777777777778,\"#fb9f3a\"],[0.8888888888888888,\"#fdca26\"],[1.0,\"#f0f921\"]],\"diverging\":[[0,\"#8e0152\"],[0.1,\"#c51b7d\"],[0.2,\"#de77ae\"],[0.3,\"#f1b6da\"],[0.4,\"#fde0ef\"],[0.5,\"#f7f7f7\"],[0.6,\"#e6f5d0\"],[0.7,\"#b8e186\"],[0.8,\"#7fbc41\"],[0.9,\"#4d9221\"],[1,\"#276419\"]]},\"xaxis\":{\"gridcolor\":\"white\",\"linecolor\":\"white\",\"ticks\":\"\",\"title\":{\"standoff\":15},\"zerolinecolor\":\"white\",\"automargin\":true,\"zerolinewidth\":2},\"yaxis\":{\"gridcolor\":\"white\",\"linecolor\":\"white\",\"ticks\":\"\",\"title\":{\"standoff\":15},\"zerolinecolor\":\"white\",\"automargin\":true,\"zerolinewidth\":2},\"scene\":{\"xaxis\":{\"backgroundcolor\":\"#E5ECF6\",\"gridcolor\":\"white\",\"linecolor\":\"white\",\"showbackground\":true,\"ticks\":\"\",\"zerolinecolor\":\"white\",\"gridwidth\":2},\"yaxis\":{\"backgroundcolor\":\"#E5ECF6\",\"gridcolor\":\"white\",\"linecolor\":\"white\",\"showbackground\":true,\"ticks\":\"\",\"zerolinecolor\":\"white\",\"gridwidth\":2},\"zaxis\":{\"backgroundcolor\":\"#E5ECF6\",\"gridcolor\":\"white\",\"linecolor\":\"white\",\"showbackground\":true,\"ticks\":\"\",\"zerolinecolor\":\"white\",\"gridwidth\":2}},\"shapedefaults\":{\"line\":{\"color\":\"#2a3f5f\"}},\"annotationdefaults\":{\"arrowcolor\":\"#2a3f5f\",\"arrowhead\":0,\"arrowwidth\":1},\"geo\":{\"bgcolor\":\"white\",\"landcolor\":\"#E5ECF6\",\"subunitcolor\":\"white\",\"showland\":true,\"showlakes\":true,\"lakecolor\":\"white\"},\"title\":{\"x\":0.05},\"mapbox\":{\"style\":\"light\"}}},\"xaxis\":{\"anchor\":\"y\",\"domain\":[0.0,1.0],\"title\":{\"text\":\"Avg Price of chocolate brand\"}},\"yaxis\":{\"anchor\":\"x\",\"domain\":[0.0,1.0],\"title\":{\"text\":\"Mean Price Elasticity of Purchase quantity\"}},\"legend\":{\"title\":{\"text\":\"PE\"},\"tracegroupgap\":0},\"margin\":{\"t\":60},\"width\":1100,\"height\":300,\"title\":{\"text\":\"Price Elasticity of Purchase quantity (with promotion and without promotion)\"}},                        {\"responsive\": true}                    ).then(function(){\n",
       "                            \n",
       "var gd = document.getElementById('23558040-d613-4e70-8671-434650b75b09');\n",
       "var x = new MutationObserver(function (mutations, observer) {{\n",
       "        var display = window.getComputedStyle(gd).display;\n",
       "        if (!display || display === 'none') {{\n",
       "            console.log([gd, 'removed!']);\n",
       "            Plotly.purge(gd);\n",
       "            observer.disconnect();\n",
       "        }}\n",
       "}});\n",
       "\n",
       "// Listen for the removal of the full notebook cells\n",
       "var notebookContainer = gd.closest('#notebook-container');\n",
       "if (notebookContainer) {{\n",
       "    x.observe(notebookContainer, {childList: true});\n",
       "}}\n",
       "\n",
       "// Listen for the clearing of the current output cell\n",
       "var outputEl = gd.closest('.output');\n",
       "if (outputEl) {{\n",
       "    x.observe(outputEl, {childList: true});\n",
       "}}\n",
       "\n",
       "                        })                };                });            </script>        </div>"
      ]
     },
     "metadata": {},
     "output_type": "display_data"
    }
   ],
   "source": [
    "\n",
    "PE_0_1_promotion=df_price_elasticity_price_promotion.melt(id_vars=['price'],var_name='PE',value_name='PEValue',value_vars=['PE_with_promotion_0','PE_with_promotion_1'])\n",
    "# PE_0_1_promotion\n",
    "fig=px.line(PE_0_1_promotion,x=\"price\",y='PEValue',color='PE')\n",
    "fig.update_layout(width=1100,height=300,title='Price Elasticity of Purchase quantity (with promotion and without promotion)',\n",
    "                  xaxis=dict(title='Avg Price of chocolate brand'),\n",
    "                  yaxis=dict(title='Mean Price Elasticity of Purchase quantity'))\n",
    "fig.show()"
   ]
  },
  {
   "cell_type": "markdown",
   "id": "bfaaa179-8368-40b5-a13a-2c9a191e90d2",
   "metadata": {},
   "source": [
    "## segment wise purchase quantity prediction"
   ]
  },
  {
   "cell_type": "code",
   "execution_count": 31,
   "id": "46b5fe4a-dbf5-42f9-8473-d1934e640585",
   "metadata": {},
   "outputs": [
    {
     "data": {
      "text/html": [
       "<div>\n",
       "<style scoped>\n",
       "    .dataframe tbody tr th:only-of-type {\n",
       "        vertical-align: middle;\n",
       "    }\n",
       "\n",
       "    .dataframe tbody tr th {\n",
       "        vertical-align: top;\n",
       "    }\n",
       "\n",
       "    .dataframe thead th {\n",
       "        text-align: right;\n",
       "    }\n",
       "</style>\n",
       "<table border=\"1\" class=\"dataframe\">\n",
       "  <thead>\n",
       "    <tr style=\"text-align: right;\">\n",
       "      <th></th>\n",
       "      <th>ID</th>\n",
       "      <th>price</th>\n",
       "      <th>promotion</th>\n",
       "    </tr>\n",
       "  </thead>\n",
       "  <tbody>\n",
       "    <tr>\n",
       "      <th>6</th>\n",
       "      <td>200000001</td>\n",
       "      <td>1.90</td>\n",
       "      <td>0</td>\n",
       "    </tr>\n",
       "    <tr>\n",
       "      <th>11</th>\n",
       "      <td>200000001</td>\n",
       "      <td>2.62</td>\n",
       "      <td>1</td>\n",
       "    </tr>\n",
       "    <tr>\n",
       "      <th>19</th>\n",
       "      <td>200000001</td>\n",
       "      <td>1.47</td>\n",
       "      <td>0</td>\n",
       "    </tr>\n",
       "    <tr>\n",
       "      <th>24</th>\n",
       "      <td>200000001</td>\n",
       "      <td>2.16</td>\n",
       "      <td>0</td>\n",
       "    </tr>\n",
       "    <tr>\n",
       "      <th>29</th>\n",
       "      <td>200000001</td>\n",
       "      <td>1.88</td>\n",
       "      <td>0</td>\n",
       "    </tr>\n",
       "  </tbody>\n",
       "</table>\n",
       "</div>"
      ],
      "text/plain": [
       "           ID  price  promotion\n",
       "6   200000001   1.90          0\n",
       "11  200000001   2.62          1\n",
       "19  200000001   1.47          0\n",
       "24  200000001   2.16          0\n",
       "29  200000001   1.88          0"
      ]
     },
     "execution_count": 31,
     "metadata": {},
     "output_type": "execute_result"
    }
   ],
   "source": [
    "input_to_reg.head()"
   ]
  },
  {
   "cell_type": "code",
   "execution_count": 32,
   "id": "f39c7fa7-f0a7-4c53-9a7b-4afc7ecf2341",
   "metadata": {},
   "outputs": [
    {
     "data": {
      "text/html": [
       "<div>\n",
       "<style scoped>\n",
       "    .dataframe tbody tr th:only-of-type {\n",
       "        vertical-align: middle;\n",
       "    }\n",
       "\n",
       "    .dataframe tbody tr th {\n",
       "        vertical-align: top;\n",
       "    }\n",
       "\n",
       "    .dataframe thead th {\n",
       "        text-align: right;\n",
       "    }\n",
       "</style>\n",
       "<table border=\"1\" class=\"dataframe\">\n",
       "  <thead>\n",
       "    <tr style=\"text-align: right;\">\n",
       "      <th></th>\n",
       "      <th>Segmentation_K_means</th>\n",
       "    </tr>\n",
       "    <tr>\n",
       "      <th>ID</th>\n",
       "      <th></th>\n",
       "    </tr>\n",
       "  </thead>\n",
       "  <tbody>\n",
       "    <tr>\n",
       "      <th>200000001</th>\n",
       "      <td>0</td>\n",
       "    </tr>\n",
       "    <tr>\n",
       "      <th>200000002</th>\n",
       "      <td>1</td>\n",
       "    </tr>\n",
       "    <tr>\n",
       "      <th>200000003</th>\n",
       "      <td>0</td>\n",
       "    </tr>\n",
       "    <tr>\n",
       "      <th>200000004</th>\n",
       "      <td>0</td>\n",
       "    </tr>\n",
       "    <tr>\n",
       "      <th>200000005</th>\n",
       "      <td>0</td>\n",
       "    </tr>\n",
       "  </tbody>\n",
       "</table>\n",
       "</div>"
      ],
      "text/plain": [
       "           Segmentation_K_means\n",
       "ID                             \n",
       "200000001                     0\n",
       "200000002                     1\n",
       "200000003                     0\n",
       "200000004                     0\n",
       "200000005                     0"
      ]
     },
     "execution_count": 32,
     "metadata": {},
     "output_type": "execute_result"
    }
   ],
   "source": [
    "CustomerDemographicData[['Segmentation_K_means']].head()"
   ]
  },
  {
   "cell_type": "code",
   "execution_count": 33,
   "id": "86b1d801-451c-4331-99c9-c006389f8c4c",
   "metadata": {},
   "outputs": [],
   "source": [
    "input_to_reg.set_index('ID',inplace=True)"
   ]
  },
  {
   "cell_type": "code",
   "execution_count": 34,
   "id": "c2116ad0-2b08-4eda-9078-f75ecab38c70",
   "metadata": {},
   "outputs": [],
   "source": [
    "input_to_reg=input_to_reg.join(CustomerDemographicData[['Segmentation_K_means']])"
   ]
  },
  {
   "cell_type": "code",
   "execution_count": 35,
   "id": "652d8d74-d79c-4b35-8541-63783fb0724c",
   "metadata": {},
   "outputs": [
    {
     "data": {
      "text/html": [
       "<div>\n",
       "<style scoped>\n",
       "    .dataframe tbody tr th:only-of-type {\n",
       "        vertical-align: middle;\n",
       "    }\n",
       "\n",
       "    .dataframe tbody tr th {\n",
       "        vertical-align: top;\n",
       "    }\n",
       "\n",
       "    .dataframe thead th {\n",
       "        text-align: right;\n",
       "    }\n",
       "</style>\n",
       "<table border=\"1\" class=\"dataframe\">\n",
       "  <thead>\n",
       "    <tr style=\"text-align: right;\">\n",
       "      <th></th>\n",
       "      <th>price</th>\n",
       "      <th>promotion</th>\n",
       "      <th>Segmentation_K_means</th>\n",
       "    </tr>\n",
       "    <tr>\n",
       "      <th>ID</th>\n",
       "      <th></th>\n",
       "      <th></th>\n",
       "      <th></th>\n",
       "    </tr>\n",
       "  </thead>\n",
       "  <tbody>\n",
       "    <tr>\n",
       "      <th>200000001</th>\n",
       "      <td>1.90</td>\n",
       "      <td>0</td>\n",
       "      <td>0</td>\n",
       "    </tr>\n",
       "    <tr>\n",
       "      <th>200000001</th>\n",
       "      <td>2.62</td>\n",
       "      <td>1</td>\n",
       "      <td>0</td>\n",
       "    </tr>\n",
       "    <tr>\n",
       "      <th>200000001</th>\n",
       "      <td>1.47</td>\n",
       "      <td>0</td>\n",
       "      <td>0</td>\n",
       "    </tr>\n",
       "    <tr>\n",
       "      <th>200000001</th>\n",
       "      <td>2.16</td>\n",
       "      <td>0</td>\n",
       "      <td>0</td>\n",
       "    </tr>\n",
       "    <tr>\n",
       "      <th>200000001</th>\n",
       "      <td>1.88</td>\n",
       "      <td>0</td>\n",
       "      <td>0</td>\n",
       "    </tr>\n",
       "  </tbody>\n",
       "</table>\n",
       "</div>"
      ],
      "text/plain": [
       "           price  promotion  Segmentation_K_means\n",
       "ID                                               \n",
       "200000001   1.90          0                     0\n",
       "200000001   2.62          1                     0\n",
       "200000001   1.47          0                     0\n",
       "200000001   2.16          0                     0\n",
       "200000001   1.88          0                     0"
      ]
     },
     "execution_count": 35,
     "metadata": {},
     "output_type": "execute_result"
    }
   ],
   "source": [
    "input_to_reg.head()"
   ]
  },
  {
   "cell_type": "code",
   "execution_count": 36,
   "id": "bf10046a-c844-45cc-97ce-6508999fbb14",
   "metadata": {
    "scrolled": true
   },
   "outputs": [
    {
     "data": {
      "text/html": [
       "<style>#sk-container-id-2 {color: black;}#sk-container-id-2 pre{padding: 0;}#sk-container-id-2 div.sk-toggleable {background-color: white;}#sk-container-id-2 label.sk-toggleable__label {cursor: pointer;display: block;width: 100%;margin-bottom: 0;padding: 0.3em;box-sizing: border-box;text-align: center;}#sk-container-id-2 label.sk-toggleable__label-arrow:before {content: \"▸\";float: left;margin-right: 0.25em;color: #696969;}#sk-container-id-2 label.sk-toggleable__label-arrow:hover:before {color: black;}#sk-container-id-2 div.sk-estimator:hover label.sk-toggleable__label-arrow:before {color: black;}#sk-container-id-2 div.sk-toggleable__content {max-height: 0;max-width: 0;overflow: hidden;text-align: left;background-color: #f0f8ff;}#sk-container-id-2 div.sk-toggleable__content pre {margin: 0.2em;color: black;border-radius: 0.25em;background-color: #f0f8ff;}#sk-container-id-2 input.sk-toggleable__control:checked~div.sk-toggleable__content {max-height: 200px;max-width: 100%;overflow: auto;}#sk-container-id-2 input.sk-toggleable__control:checked~label.sk-toggleable__label-arrow:before {content: \"▾\";}#sk-container-id-2 div.sk-estimator input.sk-toggleable__control:checked~label.sk-toggleable__label {background-color: #d4ebff;}#sk-container-id-2 div.sk-label input.sk-toggleable__control:checked~label.sk-toggleable__label {background-color: #d4ebff;}#sk-container-id-2 input.sk-hidden--visually {border: 0;clip: rect(1px 1px 1px 1px);clip: rect(1px, 1px, 1px, 1px);height: 1px;margin: -1px;overflow: hidden;padding: 0;position: absolute;width: 1px;}#sk-container-id-2 div.sk-estimator {font-family: monospace;background-color: #f0f8ff;border: 1px dotted black;border-radius: 0.25em;box-sizing: border-box;margin-bottom: 0.5em;}#sk-container-id-2 div.sk-estimator:hover {background-color: #d4ebff;}#sk-container-id-2 div.sk-parallel-item::after {content: \"\";width: 100%;border-bottom: 1px solid gray;flex-grow: 1;}#sk-container-id-2 div.sk-label:hover label.sk-toggleable__label {background-color: #d4ebff;}#sk-container-id-2 div.sk-serial::before {content: \"\";position: absolute;border-left: 1px solid gray;box-sizing: border-box;top: 0;bottom: 0;left: 50%;z-index: 0;}#sk-container-id-2 div.sk-serial {display: flex;flex-direction: column;align-items: center;background-color: white;padding-right: 0.2em;padding-left: 0.2em;position: relative;}#sk-container-id-2 div.sk-item {position: relative;z-index: 1;}#sk-container-id-2 div.sk-parallel {display: flex;align-items: stretch;justify-content: center;background-color: white;position: relative;}#sk-container-id-2 div.sk-item::before, #sk-container-id-2 div.sk-parallel-item::before {content: \"\";position: absolute;border-left: 1px solid gray;box-sizing: border-box;top: 0;bottom: 0;left: 50%;z-index: -1;}#sk-container-id-2 div.sk-parallel-item {display: flex;flex-direction: column;z-index: 1;position: relative;background-color: white;}#sk-container-id-2 div.sk-parallel-item:first-child::after {align-self: flex-end;width: 50%;}#sk-container-id-2 div.sk-parallel-item:last-child::after {align-self: flex-start;width: 50%;}#sk-container-id-2 div.sk-parallel-item:only-child::after {width: 0;}#sk-container-id-2 div.sk-dashed-wrapped {border: 1px dashed gray;margin: 0 0.4em 0.5em 0.4em;box-sizing: border-box;padding-bottom: 0.4em;background-color: white;}#sk-container-id-2 div.sk-label label {font-family: monospace;font-weight: bold;display: inline-block;line-height: 1.2em;}#sk-container-id-2 div.sk-label-container {text-align: center;}#sk-container-id-2 div.sk-container {/* jupyter's `normalize.less` sets `[hidden] { display: none; }` but bootstrap.min.css set `[hidden] { display: none !important; }` so we also need the `!important` here to be able to override the default hidden behavior on the sphinx rendered scikit-learn.org. See: https://github.com/scikit-learn/scikit-learn/issues/21755 */display: inline-block !important;position: relative;}#sk-container-id-2 div.sk-text-repr-fallback {display: none;}</style><div id=\"sk-container-id-2\" class=\"sk-top-container\"><div class=\"sk-text-repr-fallback\"><pre>LinearRegression()</pre><b>In a Jupyter environment, please rerun this cell to show the HTML representation or trust the notebook. <br />On GitHub, the HTML representation is unable to render, please try loading this page with nbviewer.org.</b></div><div class=\"sk-container\" hidden><div class=\"sk-item\"><div class=\"sk-estimator sk-toggleable\"><input class=\"sk-toggleable__control sk-hidden--visually\" id=\"sk-estimator-id-2\" type=\"checkbox\" checked><label for=\"sk-estimator-id-2\" class=\"sk-toggleable__label sk-toggleable__label-arrow\">LinearRegression</label><div class=\"sk-toggleable__content\"><pre>LinearRegression()</pre></div></div></div></div></div>"
      ],
      "text/plain": [
       "LinearRegression()"
      ]
     },
     "execution_count": 36,
     "metadata": {},
     "output_type": "execute_result"
    }
   ],
   "source": [
    "reg_0=LinearRegression()\n",
    "input_for_segment0=input_to_reg.loc[input_to_reg['Segmentation_K_means']==0,['price','promotion']]\n",
    "target_of_reg_seg0=target_of_reg.loc[input_to_reg['Segmentation_K_means']==0]\n",
    "reg_0.fit(input_for_segment0[['price','promotion']].values,target_of_reg_seg0['Quantity'].values)\n",
    "\n",
    "reg_1=LinearRegression()\n",
    "input_for_segment1=input_to_reg.loc[input_to_reg['Segmentation_K_means']==1,['price','promotion']]\n",
    "target_of_reg_seg1=target_of_reg.loc[input_to_reg['Segmentation_K_means']==1]\n",
    "reg_1.fit(input_for_segment1[['price','promotion']].values,target_of_reg_seg1['Quantity'].values)\n",
    "\n",
    "reg_2=LinearRegression()\n",
    "input_for_segment2=input_to_reg.loc[input_to_reg['Segmentation_K_means']==2,['price','promotion']]\n",
    "target_of_reg_seg2=target_of_reg.loc[input_to_reg['Segmentation_K_means']==2]\n",
    "reg_2.fit(input_for_segment2[['price','promotion']].values,target_of_reg_seg2['Quantity'].values)\n",
    "\n",
    "reg_3=LinearRegression()\n",
    "input_for_segment3=input_to_reg.loc[input_to_reg['Segmentation_K_means']==3,['price','promotion']]\n",
    "target_of_reg_seg3=target_of_reg.loc[input_to_reg['Segmentation_K_means']==3]\n",
    "reg_3.fit(input_for_segment3[['price','promotion']].values,target_of_reg_seg3['Quantity'].values)\n",
    "\n"
   ]
  },
  {
   "cell_type": "code",
   "execution_count": 37,
   "id": "ee0436c5-fd82-4903-bd1c-001f8cc2d880",
   "metadata": {},
   "outputs": [
    {
     "data": {
      "text/plain": [
       "(array([-0.72716763, -0.02705851]),\n",
       " array([-0.91989417, -0.14425495]),\n",
       " array([-0.73224986, -0.12079802]),\n",
       " array([-0.86749059, -0.14789009]))"
      ]
     },
     "execution_count": 37,
     "metadata": {},
     "output_type": "execute_result"
    }
   ],
   "source": [
    "reg_0.coef_,reg_1.coef_,reg_2.coef_,reg_3.coef_"
   ]
  },
  {
   "cell_type": "markdown",
   "id": "f908e04d-677f-4775-9fbf-147a7adbd856",
   "metadata": {},
   "source": [
    "# price elasticity of purchase quantity for customer of segment 0"
   ]
  },
  {
   "cell_type": "code",
   "execution_count": 38,
   "id": "d5a7ce2a-afa3-4dc4-a43e-e9b669411a90",
   "metadata": {},
   "outputs": [
    {
     "name": "stderr",
     "output_type": "stream",
     "text": [
      "C:\\Users\\adadi\\anaconda3\\envs\\HPOmenChallenge\\lib\\site-packages\\sklearn\\base.py:458: UserWarning:\n",
      "\n",
      "X has feature names, but LinearRegression was fitted without feature names\n",
      "\n",
      "C:\\Users\\adadi\\anaconda3\\envs\\HPOmenChallenge\\lib\\site-packages\\sklearn\\base.py:458: UserWarning:\n",
      "\n",
      "X has feature names, but LinearRegression was fitted without feature names\n",
      "\n"
     ]
    }
   ],
   "source": [
    "df_price_elasticity_price_promotion['PE_with_promotion1_segm0']=reg_0.coef_[0]*(df_price_elasticity_price_promotion['price']/\n",
    "                                                                               reg_0.predict(df_price_elasticity_price_promotion[['price','promotion_1']])\n",
    "                                                                               )\n",
    "df_price_elasticity_price_promotion['PE_with_promotion0_segm0']=reg_0.coef_[0]*(df_price_elasticity_price_promotion['price']/\n",
    "                                                                               reg_0.predict(df_price_elasticity_price_promotion[['price','promotion_0']])\n",
    "                                                                               )\n"
   ]
  },
  {
   "cell_type": "code",
   "execution_count": 39,
   "id": "a9dd121e-e4e2-491e-b2d5-7eccb1c4a161",
   "metadata": {},
   "outputs": [
    {
     "data": {
      "application/vnd.plotly.v1+json": {
       "config": {
        "plotlyServerURL": "https://plot.ly"
       },
       "data": [
        {
         "hovertemplate": "PE=PE_with_promotion1_segm0<br>price=%{x}<br>PEValue=%{y}<extra></extra>",
         "legendgroup": "PE_with_promotion1_segm0",
         "line": {
          "color": "#636efa",
          "dash": "solid"
         },
         "marker": {
          "symbol": "circle"
         },
         "mode": "lines",
         "name": "PE_with_promotion1_segm0",
         "orientation": "v",
         "showlegend": true,
         "type": "scatter",
         "x": [
          0.5,
          0.51,
          0.52,
          0.53,
          0.54,
          0.55,
          0.56,
          0.5700000000000001,
          0.5800000000000001,
          0.5900000000000001,
          0.6000000000000001,
          0.6100000000000001,
          0.6200000000000001,
          0.6300000000000001,
          0.6400000000000001,
          0.6500000000000001,
          0.6600000000000001,
          0.6700000000000002,
          0.6800000000000002,
          0.6900000000000002,
          0.7000000000000002,
          0.7100000000000002,
          0.7200000000000002,
          0.7300000000000002,
          0.7400000000000002,
          0.7500000000000002,
          0.7600000000000002,
          0.7700000000000002,
          0.7800000000000002,
          0.7900000000000003,
          0.8000000000000003,
          0.8100000000000003,
          0.8200000000000003,
          0.8300000000000003,
          0.8400000000000003,
          0.8500000000000003,
          0.8600000000000003,
          0.8700000000000003,
          0.8800000000000003,
          0.8900000000000003,
          0.9000000000000004,
          0.9100000000000004,
          0.9200000000000004,
          0.9300000000000004,
          0.9400000000000004,
          0.9500000000000004,
          0.9600000000000004,
          0.9700000000000004,
          0.9800000000000004,
          0.9900000000000004,
          1.0000000000000004,
          1.0100000000000005,
          1.0200000000000005,
          1.0300000000000005,
          1.0400000000000005,
          1.0500000000000005,
          1.0600000000000005,
          1.0700000000000005,
          1.0800000000000005,
          1.0900000000000005,
          1.1000000000000005,
          1.1100000000000005,
          1.1200000000000006,
          1.1300000000000006,
          1.1400000000000006,
          1.1500000000000006,
          1.1600000000000006,
          1.1700000000000006,
          1.1800000000000006,
          1.1900000000000006,
          1.2000000000000006,
          1.2100000000000006,
          1.2200000000000006,
          1.2300000000000006,
          1.2400000000000007,
          1.2500000000000007,
          1.2600000000000007,
          1.2700000000000007,
          1.2800000000000007,
          1.2900000000000007,
          1.3000000000000007,
          1.3100000000000007,
          1.3200000000000007,
          1.3300000000000007,
          1.3400000000000007,
          1.3500000000000008,
          1.3600000000000008,
          1.3700000000000008,
          1.3800000000000008,
          1.3900000000000008,
          1.4000000000000008,
          1.4100000000000008,
          1.4200000000000008,
          1.4300000000000008,
          1.4400000000000008,
          1.4500000000000008,
          1.4600000000000009,
          1.4700000000000009,
          1.4800000000000009,
          1.4900000000000009,
          1.5000000000000009,
          1.510000000000001,
          1.520000000000001,
          1.530000000000001,
          1.540000000000001,
          1.550000000000001,
          1.560000000000001,
          1.570000000000001,
          1.580000000000001,
          1.590000000000001,
          1.600000000000001,
          1.610000000000001,
          1.620000000000001,
          1.630000000000001,
          1.640000000000001,
          1.650000000000001,
          1.660000000000001,
          1.670000000000001,
          1.680000000000001,
          1.690000000000001,
          1.700000000000001,
          1.710000000000001,
          1.720000000000001,
          1.730000000000001,
          1.740000000000001,
          1.750000000000001,
          1.7600000000000011,
          1.7700000000000011,
          1.7800000000000011,
          1.7900000000000011,
          1.8000000000000012,
          1.8100000000000012,
          1.8200000000000012,
          1.8300000000000012,
          1.8400000000000012,
          1.8500000000000012,
          1.8600000000000012,
          1.8700000000000012,
          1.8800000000000012,
          1.8900000000000012,
          1.9000000000000012,
          1.9100000000000013,
          1.9200000000000013,
          1.9300000000000013,
          1.9400000000000013,
          1.9500000000000013,
          1.9600000000000013,
          1.9700000000000013,
          1.9800000000000013,
          1.9900000000000013,
          2.0000000000000013,
          2.0100000000000016,
          2.0200000000000014,
          2.030000000000001,
          2.0400000000000014,
          2.0500000000000016,
          2.0600000000000014,
          2.070000000000001,
          2.0800000000000014,
          2.0900000000000016,
          2.1000000000000014,
          2.110000000000001,
          2.1200000000000014,
          2.1300000000000017,
          2.1400000000000015,
          2.1500000000000012,
          2.1600000000000015,
          2.1700000000000017,
          2.1800000000000015,
          2.1900000000000013,
          2.2000000000000015,
          2.2100000000000017,
          2.2200000000000015,
          2.2300000000000013,
          2.2400000000000015,
          2.2500000000000018,
          2.2600000000000016,
          2.2700000000000014,
          2.2800000000000016,
          2.290000000000002,
          2.3000000000000016,
          2.3100000000000014,
          2.3200000000000016,
          2.330000000000002,
          2.3400000000000016,
          2.3500000000000014,
          2.3600000000000017,
          2.370000000000002,
          2.3800000000000017,
          2.3900000000000015,
          2.4000000000000017,
          2.410000000000002,
          2.4200000000000017,
          2.4300000000000015,
          2.4400000000000017,
          2.450000000000002,
          2.4600000000000017,
          2.4700000000000015,
          2.4800000000000018,
          2.490000000000002,
          2.5000000000000018,
          2.5100000000000016,
          2.520000000000002,
          2.530000000000002,
          2.540000000000002,
          2.5500000000000016,
          2.560000000000002,
          2.570000000000002,
          2.580000000000002,
          2.5900000000000016,
          2.600000000000002,
          2.610000000000002,
          2.620000000000002,
          2.6300000000000017,
          2.640000000000002,
          2.650000000000002,
          2.660000000000002,
          2.6700000000000017,
          2.680000000000002,
          2.690000000000002,
          2.700000000000002,
          2.7100000000000017,
          2.720000000000002,
          2.730000000000002,
          2.740000000000002,
          2.7500000000000018,
          2.760000000000002,
          2.7700000000000022,
          2.780000000000002,
          2.790000000000002,
          2.800000000000002,
          2.8100000000000023,
          2.820000000000002,
          2.830000000000002,
          2.840000000000002,
          2.8500000000000023,
          2.860000000000002,
          2.870000000000002,
          2.880000000000002,
          2.8900000000000023,
          2.900000000000002,
          2.910000000000002,
          2.920000000000002,
          2.9300000000000024,
          2.940000000000002,
          2.950000000000002,
          2.960000000000002,
          2.9700000000000024,
          2.980000000000002,
          2.990000000000002,
          3.000000000000002,
          3.0100000000000025,
          3.0200000000000022,
          3.030000000000002,
          3.0400000000000023,
          3.0500000000000025,
          3.0600000000000023,
          3.070000000000002,
          3.0800000000000023,
          3.0900000000000025,
          3.1000000000000023,
          3.110000000000002,
          3.1200000000000023,
          3.1300000000000026,
          3.1400000000000023,
          3.150000000000002,
          3.1600000000000024,
          3.1700000000000026,
          3.1800000000000024,
          3.190000000000002,
          3.2000000000000024,
          3.2100000000000026,
          3.2200000000000024,
          3.230000000000002,
          3.2400000000000024,
          3.2500000000000027,
          3.2600000000000025,
          3.2700000000000022,
          3.2800000000000025,
          3.2900000000000027,
          3.3000000000000025,
          3.3100000000000023,
          3.3200000000000025,
          3.3300000000000027,
          3.3400000000000025,
          3.3500000000000023,
          3.3600000000000025,
          3.3700000000000028,
          3.3800000000000026,
          3.3900000000000023,
          3.4000000000000026,
          3.410000000000003,
          3.4200000000000026,
          3.4300000000000024,
          3.4400000000000026,
          3.450000000000003,
          3.4600000000000026,
          3.4700000000000024,
          3.4800000000000026,
          3.490000000000003
         ],
         "xaxis": "x",
         "y": [
          -0.09441487868464027,
          -0.09648536934716817,
          -0.09856370905736024,
          -0.10064994253254828,
          -0.10274411483039328,
          -0.10484627135212912,
          -0.10695645784584361,
          -0.1090747204097972,
          -0.11120110549577983,
          -0.11333565991250646,
          -0.11547843082905185,
          -0.11762946577832506,
          -0.11978881266058423,
          -0.1219565197469922,
          -0.12413263568321342,
          -0.12631720949305303,
          -0.12851029058213811,
          -0.13071192874164234,
          -0.13292217415205412,
          -0.1351410773869892,
          -0.13736868941704783,
          -0.139605061613718,
          -0.14185024575332408,
          -0.1441042940210229,
          -0.1463672590148469,
          -0.14863919374979526,
          -0.1509201516619743,
          -0.15321018661278663,
          -0.15550935289317083,
          -0.1578177052278919,
          -0.16013529877988325,
          -0.1624621891546407,
          -0.16479843240466982,
          -0.16714408503398667,
          -0.16949920400267346,
          -0.1718638467314889,
          -0.1742380711065352,
          -0.17662193548398128,
          -0.17901549869484448,
          -0.18141882004982965,
          -0.18383195934422863,
          -0.18625497686287912,
          -0.18868793338518505,
          -0.1911308901901986,
          -0.19358390906176495,
          -0.19604705229373115,
          -0.19852038269521907,
          -0.20100396359596437,
          -0.20349785885172156,
          -0.2060021328497372,
          -0.20851685051429064,
          -0.2110420773123051,
          -0.2135778792590287,
          -0.21612432292378742,
          -0.21868147543581,
          -0.2212494044901274,
          -0.22382817835354604,
          -0.22641786587069773,
          -0.229018536470166,
          -0.23163026017069066,
          -0.2342531075874518,
          -0.23688714993843424,
          -0.23953245905087334,
          -0.24218910736778412,
          -0.24485716795457446,
          -0.2475367145057432,
          -0.2502278213516655,
          -0.25293056346546616,
          -0.25564501646998206,
          -0.2583712566448152,
          -0.2611093609334784,
          -0.2638594069506338,
          -0.2666214729894266,
          -0.2693956380289153,
          -0.2721819817415996,
          -0.2749805845010476,
          -0.2777915273896243,
          -0.2806148922063219,
          -0.28345076147469467,
          -0.2862992184508995,
          -0.2891603471318432,
          -0.29203423226343944,
          -0.2949209593489762,
          -0.29782061465759513,
          -0.3007332852328857,
          -0.30365905890159534,
          -0.3065980242824568,
          -0.3095502707951358,
          -0.3125158886693001,
          -0.31549496895381157,
          -0.31848760352604494,
          -0.3214938851013324,
          -0.3245139072425392,
          -0.3275477643697697,
          -0.3305955517702081,
          -0.3336573656080943,
          -0.336733302934838,
          -0.3398234616992735,
          -0.34292794075805644,
          -0.3460468398862055,
          -0.34918025978779216,
          -0.352328302106779,
          -0.3554910694380108,
          -0.3586686653383598,
          -0.36186119433802855,
          -0.36506876195201227,
          -0.36829147469172324,
          -0.37152944007678085,
          -0.37478276664696913,
          -0.3780515639743647,
          -0.3813359426756385,
          -0.38463601442453355,
          -0.38795189196452257,
          -0.3912836891216468,
          -0.3946315208175414,
          -0.3979955030826486,
          -0.401375753069623,
          -0.40477238906693114,
          -0.4081855305126502,
          -0.4116152980084678,
          -0.415061813333887,
          -0.41852519946063965,
          -0.4220055805673126,
          -0.4255030820541891,
          -0.4290178305583102,
          -0.43254995396875906,
          -0.43609958144217253,
          -0.43966684341848494,
          -0.4432518716369054,
          -0.4468547991521358,
          -0.4504757603508319,
          -0.4541148909683121,
          -0.457772328105518,
          -0.46144821024623256,
          -0.4651426772745588,
          -0.4688558704926643,
          -0.47258793263879606,
          -0.47633900790557077,
          -0.4801092419585461,
          -0.4838987819550763,
          -0.4877077765634581,
          -0.49153637598237315,
          -0.4953847319606314,
          -0.4992529978172192,
          -0.5031413284616618,
          -0.5070498804147022,
          -0.5109788118293033,
          -0.5149282825119798,
          -0.5188984539444655,
          -0.5228894893057232,
          -0.5269015534942999,
          -0.530934813151039,
          -0.5349894366821515,
          -0.5390655942826572,
          -0.5431634579601973,
          -0.5472832015592298,
          -0.551425000785615,
          -0.5555890332315946,
          -0.5597754784011757,
          -0.5639845177359242,
          -0.5682163346411786,
          -0.5724711145126905,
          -0.5767490447636987,
          -0.5810503148524463,
          -0.5853751163101516,
          -0.5897236427694373,
          -0.5940960899932297,
          -0.598492655904135,
          -0.6029135406143052,
          -0.6073589464557994,
          -0.6118290780114519,
          -0.6163241421462565,
          -0.6208443480392786,
          -0.6253899072161038,
          -0.629961033581833,
          -0.6345579434546371,
          -0.6391808555998799,
          -0.6438299912648241,
          -0.6485055742139262,
          -0.6532078307647379,
          -0.6579369898244227,
          -0.6626932829269019,
          -0.6674769442706404,
          -0.6722882107570888,
          -0.6771273220297892,
          -0.6819945205141674,
          -0.6868900514580153,
          -0.6918141629726837,
          -0.6967671060749995,
          -0.7017491347299212,
          -0.7067605058939475,
          -0.711801479559295,
          -0.7168723187988609,
          -0.7219732898119898,
          -0.7271046619710552,
          -0.7322667078688779,
          -0.7374597033669977,
          -0.7426839276448163,
          -0.7479396632496278,
          -0.7532271961475581,
          -0.7585468157754324,
          -0.7638988150935895,
          -0.7692834906396624,
          -0.774701142583348,
          -0.7801520747821853,
          -0.7856365948383668,
          -0.791155014156601,
          -0.7967076480030507,
          -0.8022948155653742,
          -0.8079168400138875,
          -0.8135740485638759,
          -0.8192667725390773,
          -0.8249953474363685,
          -0.8307601129916745,
          -0.8365614132471323,
          -0.8423995966195337,
          -0.8482750159700814,
          -0.8541880286754807,
          -0.860138996700402,
          -0.8661282866713411,
          -0.8721562699519153,
          -0.8782233227196182,
          -0.8843298260440764,
          -0.8904761659668333,
          -0.8966627335827049,
          -0.9028899251227323,
          -0.9091581420387789,
          -0.915467791089802,
          -0.9218192844298408,
          -0.9282130396977634,
          -0.9346494801088082,
          -0.9411290345479668,
          -0.9476521376652485,
          -0.9542192299728736,
          -0.9608307579444387,
          -0.9674871741161005,
          -0.9741889371898305,
          -0.9809365121387849,
          -0.9877303703148442,
          -0.9945709895583711,
          -1.0014588543102454,
          -1.0083944557262265,
          -1.0153782917937038,
          -1.0224108674508865,
          -1.0294926947085046,
          -1.0366242927740716,
          -1.0438061881787772,
          -1.051038914907073,
          -1.0583230145290217,
          -1.0656590363354768,
          -1.073047537476161,
          -1.0804890831007186,
          -1.08798424650282,
          -1.09553360926739,
          -1.1031377614210407,
          -1.110797301585794,
          -1.1185128371361732,
          -1.1262849843597555,
          -1.134114368621269,
          -1.1420016245303273,
          -1.149947396112902,
          -1.157952336986623,
          -1.1660171105400086,
          -1.1741423901157306,
          -1.1823288591980223,
          -1.190577211604332,
          -1.1988881516813434,
          -1.2072623945054717,
          -1.2157006660879595,
          -1.2242037035846989,
          -1.2327722555108986,
          -1.2414070819607326,
          -1.2501089548321087,
          -1.2588786580566917,
          -1.2677169878353252,
          -1.2766247528790016,
          -1.2856027746555374,
          -1.2946518876421056,
          -1.3037729395837905,
          -1.3129667917583348,
          -1.3222343192472499,
          -1.3315764112134736,
          -1.3409939711857515,
          -1.3504879173499418,
          -1.3600591828474382,
          -1.3697087160809094,
          -1.3794374810275754,
          -1.3892464575602272,
          -1.3991366417762228,
          -1.4091090463346883,
          -1.419164700802163,
          -1.4293046520069361,
          -1.4395299644023334,
          -1.4498417204392198,
          -1.4602410209479848,
          -1.4707289855303007,
          -1.481306752960943,
          -1.4919754815999806,
          -1.502736349815641,
          -1.5135905564181782
         ],
         "yaxis": "y"
        },
        {
         "hovertemplate": "PE=PE_with_promotion0_segm0<br>price=%{x}<br>PEValue=%{y}<extra></extra>",
         "legendgroup": "PE_with_promotion0_segm0",
         "line": {
          "color": "#EF553B",
          "dash": "solid"
         },
         "marker": {
          "symbol": "circle"
         },
         "mode": "lines",
         "name": "PE_with_promotion0_segm0",
         "orientation": "v",
         "showlegend": true,
         "type": "scatter",
         "x": [
          0.5,
          0.51,
          0.52,
          0.53,
          0.54,
          0.55,
          0.56,
          0.5700000000000001,
          0.5800000000000001,
          0.5900000000000001,
          0.6000000000000001,
          0.6100000000000001,
          0.6200000000000001,
          0.6300000000000001,
          0.6400000000000001,
          0.6500000000000001,
          0.6600000000000001,
          0.6700000000000002,
          0.6800000000000002,
          0.6900000000000002,
          0.7000000000000002,
          0.7100000000000002,
          0.7200000000000002,
          0.7300000000000002,
          0.7400000000000002,
          0.7500000000000002,
          0.7600000000000002,
          0.7700000000000002,
          0.7800000000000002,
          0.7900000000000003,
          0.8000000000000003,
          0.8100000000000003,
          0.8200000000000003,
          0.8300000000000003,
          0.8400000000000003,
          0.8500000000000003,
          0.8600000000000003,
          0.8700000000000003,
          0.8800000000000003,
          0.8900000000000003,
          0.9000000000000004,
          0.9100000000000004,
          0.9200000000000004,
          0.9300000000000004,
          0.9400000000000004,
          0.9500000000000004,
          0.9600000000000004,
          0.9700000000000004,
          0.9800000000000004,
          0.9900000000000004,
          1.0000000000000004,
          1.0100000000000005,
          1.0200000000000005,
          1.0300000000000005,
          1.0400000000000005,
          1.0500000000000005,
          1.0600000000000005,
          1.0700000000000005,
          1.0800000000000005,
          1.0900000000000005,
          1.1000000000000005,
          1.1100000000000005,
          1.1200000000000006,
          1.1300000000000006,
          1.1400000000000006,
          1.1500000000000006,
          1.1600000000000006,
          1.1700000000000006,
          1.1800000000000006,
          1.1900000000000006,
          1.2000000000000006,
          1.2100000000000006,
          1.2200000000000006,
          1.2300000000000006,
          1.2400000000000007,
          1.2500000000000007,
          1.2600000000000007,
          1.2700000000000007,
          1.2800000000000007,
          1.2900000000000007,
          1.3000000000000007,
          1.3100000000000007,
          1.3200000000000007,
          1.3300000000000007,
          1.3400000000000007,
          1.3500000000000008,
          1.3600000000000008,
          1.3700000000000008,
          1.3800000000000008,
          1.3900000000000008,
          1.4000000000000008,
          1.4100000000000008,
          1.4200000000000008,
          1.4300000000000008,
          1.4400000000000008,
          1.4500000000000008,
          1.4600000000000009,
          1.4700000000000009,
          1.4800000000000009,
          1.4900000000000009,
          1.5000000000000009,
          1.510000000000001,
          1.520000000000001,
          1.530000000000001,
          1.540000000000001,
          1.550000000000001,
          1.560000000000001,
          1.570000000000001,
          1.580000000000001,
          1.590000000000001,
          1.600000000000001,
          1.610000000000001,
          1.620000000000001,
          1.630000000000001,
          1.640000000000001,
          1.650000000000001,
          1.660000000000001,
          1.670000000000001,
          1.680000000000001,
          1.690000000000001,
          1.700000000000001,
          1.710000000000001,
          1.720000000000001,
          1.730000000000001,
          1.740000000000001,
          1.750000000000001,
          1.7600000000000011,
          1.7700000000000011,
          1.7800000000000011,
          1.7900000000000011,
          1.8000000000000012,
          1.8100000000000012,
          1.8200000000000012,
          1.8300000000000012,
          1.8400000000000012,
          1.8500000000000012,
          1.8600000000000012,
          1.8700000000000012,
          1.8800000000000012,
          1.8900000000000012,
          1.9000000000000012,
          1.9100000000000013,
          1.9200000000000013,
          1.9300000000000013,
          1.9400000000000013,
          1.9500000000000013,
          1.9600000000000013,
          1.9700000000000013,
          1.9800000000000013,
          1.9900000000000013,
          2.0000000000000013,
          2.0100000000000016,
          2.0200000000000014,
          2.030000000000001,
          2.0400000000000014,
          2.0500000000000016,
          2.0600000000000014,
          2.070000000000001,
          2.0800000000000014,
          2.0900000000000016,
          2.1000000000000014,
          2.110000000000001,
          2.1200000000000014,
          2.1300000000000017,
          2.1400000000000015,
          2.1500000000000012,
          2.1600000000000015,
          2.1700000000000017,
          2.1800000000000015,
          2.1900000000000013,
          2.2000000000000015,
          2.2100000000000017,
          2.2200000000000015,
          2.2300000000000013,
          2.2400000000000015,
          2.2500000000000018,
          2.2600000000000016,
          2.2700000000000014,
          2.2800000000000016,
          2.290000000000002,
          2.3000000000000016,
          2.3100000000000014,
          2.3200000000000016,
          2.330000000000002,
          2.3400000000000016,
          2.3500000000000014,
          2.3600000000000017,
          2.370000000000002,
          2.3800000000000017,
          2.3900000000000015,
          2.4000000000000017,
          2.410000000000002,
          2.4200000000000017,
          2.4300000000000015,
          2.4400000000000017,
          2.450000000000002,
          2.4600000000000017,
          2.4700000000000015,
          2.4800000000000018,
          2.490000000000002,
          2.5000000000000018,
          2.5100000000000016,
          2.520000000000002,
          2.530000000000002,
          2.540000000000002,
          2.5500000000000016,
          2.560000000000002,
          2.570000000000002,
          2.580000000000002,
          2.5900000000000016,
          2.600000000000002,
          2.610000000000002,
          2.620000000000002,
          2.6300000000000017,
          2.640000000000002,
          2.650000000000002,
          2.660000000000002,
          2.6700000000000017,
          2.680000000000002,
          2.690000000000002,
          2.700000000000002,
          2.7100000000000017,
          2.720000000000002,
          2.730000000000002,
          2.740000000000002,
          2.7500000000000018,
          2.760000000000002,
          2.7700000000000022,
          2.780000000000002,
          2.790000000000002,
          2.800000000000002,
          2.8100000000000023,
          2.820000000000002,
          2.830000000000002,
          2.840000000000002,
          2.8500000000000023,
          2.860000000000002,
          2.870000000000002,
          2.880000000000002,
          2.8900000000000023,
          2.900000000000002,
          2.910000000000002,
          2.920000000000002,
          2.9300000000000024,
          2.940000000000002,
          2.950000000000002,
          2.960000000000002,
          2.9700000000000024,
          2.980000000000002,
          2.990000000000002,
          3.000000000000002,
          3.0100000000000025,
          3.0200000000000022,
          3.030000000000002,
          3.0400000000000023,
          3.0500000000000025,
          3.0600000000000023,
          3.070000000000002,
          3.0800000000000023,
          3.0900000000000025,
          3.1000000000000023,
          3.110000000000002,
          3.1200000000000023,
          3.1300000000000026,
          3.1400000000000023,
          3.150000000000002,
          3.1600000000000024,
          3.1700000000000026,
          3.1800000000000024,
          3.190000000000002,
          3.2000000000000024,
          3.2100000000000026,
          3.2200000000000024,
          3.230000000000002,
          3.2400000000000024,
          3.2500000000000027,
          3.2600000000000025,
          3.2700000000000022,
          3.2800000000000025,
          3.2900000000000027,
          3.3000000000000025,
          3.3100000000000023,
          3.3200000000000025,
          3.3300000000000027,
          3.3400000000000025,
          3.3500000000000023,
          3.3600000000000025,
          3.3700000000000028,
          3.3800000000000026,
          3.3900000000000023,
          3.4000000000000026,
          3.410000000000003,
          3.4200000000000026,
          3.4300000000000024,
          3.4400000000000026,
          3.450000000000003,
          3.4600000000000026,
          3.4700000000000024,
          3.4800000000000026,
          3.490000000000003
         ],
         "xaxis": "x",
         "y": [
          -0.09375610044939944,
          -0.09581087954732713,
          -0.0978733935761534,
          -0.09994368629385039,
          -0.10202180178907663,
          -0.10410778448430691,
          -0.10620167913899747,
          -0.10830353085278759,
          -0.11041338506873741,
          -0.11253128757660316,
          -0.11465728451614965,
          -0.11679142238050093,
          -0.11893374801952955,
          -0.12108430864328486,
          -0.12324315182546089,
          -0.12541032550690445,
          -0.1275858779991639,
          -0.12976985798807908,
          -0.13196231453741306,
          -0.1341632970925265,
          -0.13637285548409453,
          -0.1385910399318676,
          -0.14081790104847602,
          -0.14305348984327973,
          -0.1452978577262629,
          -0.1475510565119751,
          -0.1498131384235183,
          -0.152084156096582,
          -0.1543641625835255,
          -0.15665321135750945,
          -0.1589513563166759,
          -0.16125865178837887,
          -0.16357515253346533,
          -0.16590091375060756,
          -0.16823599108068746,
          -0.17058044061123387,
          -0.17293431888091323,
          -0.17529768288407455,
          -0.17767059007534958,
          -0.18005309837430877,
          -0.18244526617017365,
          -0.18484715232658694,
          -0.18725881618644077,
          -0.18968031757676396,
          -0.19211171681366931,
          -0.19455307470736166,
          -0.19700445256720747,
          -0.19946591220686727,
          -0.2019375159494912,
          -0.20441932663297915,
          -0.2069114076153063,
          -0.2094138227799143,
          -0.21192663654117064,
          -0.21444991384989534,
          -0.2169837201989574,
          -0.219528121628941,
          -0.22208318473388333,
          -0.22464897666708442,
          -0.22722556514699055,
          -0.22981301846315183,
          -0.2324114054822554,
          -0.2350207956542356,
          -0.23764125901846103,
          -0.24027286621000193,
          -0.24291568846597625,
          -0.245569797631978,
          -0.24823526616858774,
          -0.2509121671579669,
          -0.25360057431053723,
          -0.25630056197174644,
          -0.2590122051289215,
          -0.26173557941821085,
          -0.2644707611316172,
          -0.26721782722412146,
          -0.26997685532090016,
          -0.2727479237246371,
          -0.27553111142293135,
          -0.2783264980958021,
          -0.2811341641232929,
          -0.28395419059317584,
          -0.28678665930875813,
          -0.28963165279679215,
          -0.2924892543154905,
          -0.2953595478626481,
          -0.2982426181838722,
          -0.3011385507809235,
          -0.30404743192016814,
          -0.30696934864114395,
          -0.3099043887652421,
          -0.3128526409045055,
          -0.31581419447054676,
          -0.31878913968358735,
          -0.3217775675816187,
          -0.3247795700296889,
          -0.3277952397293165,
          -0.3308246702280324,
          -0.3338679559290529,
          -0.33692519210108607,
          -0.3399964748882732,
          -0.3430819013202674,
          -0.3461815693224516,
          -0.3492955777262991,
          -0.3524240262798776,
          -0.35556701565849985,
          -0.3587246474755228,
          -0.3618970242932993,
          -0.3650842496342818,
          -0.368286427992284,
          -0.37150366484389985,
          -0.3747360666600853,
          -0.3779837409179037,
          -0.3812467961124378,
          -0.3845253417688717,
          -0.3878194884547455,
          -0.391129347792385,
          -0.3944550324715093,
          -0.3977966562620208,
          -0.40115433402697853,
          -0.40452818173575894,
          -0.4079183164774082,
          -0.41132485647418726,
          -0.41474792109531483,
          -0.41818763087091015,
          -0.4216441075061403,
          -0.42511747389557436,
          -0.42860785413774927,
          -0.43211537354994883,
          -0.43564015868320277,
          -0.4391823373375066,
          -0.44274203857726757,
          -0.44631939274698057,
          -0.44991453148713806,
          -0.4535275877503776,
          -0.45715869581787083,
          -0.46080799131596,
          -0.46447561123304426,
          -0.4681616939367211,
          -0.471866379191187,
          -0.4755898081749031,
          -0.47933212349852883,
          -0.4830934692231295,
          -0.4868739908786622,
          -0.4906738354827453,
          -0.49449315155971674,
          -0.498332089159985,
          -0.5021907998796806,
          -0.5060694368806108,
          -0.5099681549105254,
          -0.5138871103236959,
          -0.5178264611018194,
          -0.5217863668752466,
          -0.5257669889445444,
          -0.5297684903023977,
          -0.5337910356558568,
          -0.5378347914489364,
          -0.5418999258855728,
          -0.5459866089529468,
          -0.5500950124451789,
          -0.5542253099874018,
          -0.5583776770602199,
          -0.5625522910245615,
          -0.5667493311469324,
          -0.5709689786250763,
          -0.5752114166140514,
          -0.5794768302527308,
          -0.5837654066907356,
          -0.5880773351158066,
          -0.5924128067816234,
          -0.5967720150360836,
          -0.6011551553500453,
          -0.6055624253465449,
          -0.6099940248304986,
          -0.6144501558188976,
          -0.6189310225715061,
          -0.6234368316220718,
          -0.6279677918100576,
          -0.6325241143129097,
          -0.6371060126788656,
          -0.6417137028603177,
          -0.6463474032477413,
          -0.6510073347041999,
          -0.6556937206004371,
          -0.6604067868505682,
          -0.6651467619483828,
          -0.6699138770042714,
          -0.6747083657827885,
          -0.679530464740864,
          -0.684380413066676,
          -0.6892584527192005,
          -0.6941648284684503,
          -0.6990997879364155,
          -0.7040635816387231,
          -0.7090564630270284,
          -0.714078688532155,
          -0.7191305176079948,
          -0.7242122127761907,
          -0.7293240396716097,
          -0.7344662670886308,
          -0.7396391670282599,
          -0.7448430147460905,
          -0.7500780888011251,
          -0.7553446711054852,
          -0.7606430469750132,
          -0.7659735051807985,
          -0.7713363380016414,
          -0.7767318412774753,
          -0.78216031446377,
          -0.7876220606869312,
          -0.7931173868007271,
          -0.7986466034437552,
          -0.8042100250979781,
          -0.8098079701483456,
          -0.8154407609435341,
          -0.8211087238578223,
          -0.8268121893541284,
          -0.8325514920482369,
          -0.838326970774239,
          -0.8441389686512167,
          -0.8499878331511925,
          -0.8558739161683785,
          -0.86179757408975,
          -0.8677591678669782,
          -0.8737590630897459,
          -0.8797976300604812,
          -0.8858752438705433,
          -0.89199228447789,
          -0.89814913678626,
          -0.9043461907259077,
          -0.9105838413359243,
          -0.9168624888481836,
          -0.9231825387729462,
          -0.9295444019861631,
          -0.9359484948185192,
          -0.9423952391462551,
          -0.9488850624838101,
          -0.9554183980783263,
          -0.9619956850060631,
          -0.9686173682707638,
          -0.9752838989040186,
          -0.9819957340676737,
          -0.9887533371583391,
          -0.9955571779140382,
          -1.0024077325230552,
          -1.0093054837350313,
          -1.0162509209743664,
          -1.023244540455981,
          -1.0302868453034943,
          -1.0373783456698793,
          -1.0445195588606555,
          -1.0517110094596833,
          -1.0589532294576205,
          -1.0662467583831077,
          -1.073592143436756,
          -1.0809899396279994,
          -1.0884407099148892,
          -1.0959450253468996,
          -1.1035034652108267,
          -1.111116617179853,
          -1.1187850774658632,
          -1.1265094509750875,
          -1.1342903514671672,
          -1.1421284017177225,
          -1.1500242336845152,
          -1.1579784886773,
          -1.165991817531461,
          -1.174064880785532,
          -1.1821983488627001,
          -1.1903929022563968,
          -1.198649231720091,
          -1.206968038461388,
          -1.2153500343405523,
          -1.2237959420735698,
          -1.2323064954398744,
          -1.2408824394948637,
          -1.249524530787331,
          -1.2582335375819464,
          -1.267010240086928,
          -1.2758554306870444,
          -1.284769914182089,
          -1.2937545080309847,
          -1.3028100426016682,
          -1.3119373614269199,
          -1.3211373214662978,
          -1.330410793374354,
          -1.3397586617753061,
          -1.3491818255443422,
          -1.3586811980957574,
          -1.3682577076781017,
          -1.3779122976765539,
          -1.3876459269227197,
          -1.3974595700120684,
          -1.4073542176292302,
          -1.4173308768813833,
          -1.4273905716399682,
          -1.4375343428909633,
          -1.4477632490939836,
          -1.4580783665504609,
          -1.4684807897811698,
          -1.478971631913381,
          -1.4895520250779293
         ],
         "yaxis": "y"
        }
       ],
       "layout": {
        "height": 300,
        "legend": {
         "title": {
          "text": "PE"
         },
         "tracegroupgap": 0
        },
        "margin": {
         "t": 60
        },
        "template": {
         "data": {
          "bar": [
           {
            "error_x": {
             "color": "#2a3f5f"
            },
            "error_y": {
             "color": "#2a3f5f"
            },
            "marker": {
             "line": {
              "color": "#E5ECF6",
              "width": 0.5
             },
             "pattern": {
              "fillmode": "overlay",
              "size": 10,
              "solidity": 0.2
             }
            },
            "type": "bar"
           }
          ],
          "barpolar": [
           {
            "marker": {
             "line": {
              "color": "#E5ECF6",
              "width": 0.5
             },
             "pattern": {
              "fillmode": "overlay",
              "size": 10,
              "solidity": 0.2
             }
            },
            "type": "barpolar"
           }
          ],
          "carpet": [
           {
            "aaxis": {
             "endlinecolor": "#2a3f5f",
             "gridcolor": "white",
             "linecolor": "white",
             "minorgridcolor": "white",
             "startlinecolor": "#2a3f5f"
            },
            "baxis": {
             "endlinecolor": "#2a3f5f",
             "gridcolor": "white",
             "linecolor": "white",
             "minorgridcolor": "white",
             "startlinecolor": "#2a3f5f"
            },
            "type": "carpet"
           }
          ],
          "choropleth": [
           {
            "colorbar": {
             "outlinewidth": 0,
             "ticks": ""
            },
            "type": "choropleth"
           }
          ],
          "contour": [
           {
            "colorbar": {
             "outlinewidth": 0,
             "ticks": ""
            },
            "colorscale": [
             [
              0,
              "#0d0887"
             ],
             [
              0.1111111111111111,
              "#46039f"
             ],
             [
              0.2222222222222222,
              "#7201a8"
             ],
             [
              0.3333333333333333,
              "#9c179e"
             ],
             [
              0.4444444444444444,
              "#bd3786"
             ],
             [
              0.5555555555555556,
              "#d8576b"
             ],
             [
              0.6666666666666666,
              "#ed7953"
             ],
             [
              0.7777777777777778,
              "#fb9f3a"
             ],
             [
              0.8888888888888888,
              "#fdca26"
             ],
             [
              1,
              "#f0f921"
             ]
            ],
            "type": "contour"
           }
          ],
          "contourcarpet": [
           {
            "colorbar": {
             "outlinewidth": 0,
             "ticks": ""
            },
            "type": "contourcarpet"
           }
          ],
          "heatmap": [
           {
            "colorbar": {
             "outlinewidth": 0,
             "ticks": ""
            },
            "colorscale": [
             [
              0,
              "#0d0887"
             ],
             [
              0.1111111111111111,
              "#46039f"
             ],
             [
              0.2222222222222222,
              "#7201a8"
             ],
             [
              0.3333333333333333,
              "#9c179e"
             ],
             [
              0.4444444444444444,
              "#bd3786"
             ],
             [
              0.5555555555555556,
              "#d8576b"
             ],
             [
              0.6666666666666666,
              "#ed7953"
             ],
             [
              0.7777777777777778,
              "#fb9f3a"
             ],
             [
              0.8888888888888888,
              "#fdca26"
             ],
             [
              1,
              "#f0f921"
             ]
            ],
            "type": "heatmap"
           }
          ],
          "heatmapgl": [
           {
            "colorbar": {
             "outlinewidth": 0,
             "ticks": ""
            },
            "colorscale": [
             [
              0,
              "#0d0887"
             ],
             [
              0.1111111111111111,
              "#46039f"
             ],
             [
              0.2222222222222222,
              "#7201a8"
             ],
             [
              0.3333333333333333,
              "#9c179e"
             ],
             [
              0.4444444444444444,
              "#bd3786"
             ],
             [
              0.5555555555555556,
              "#d8576b"
             ],
             [
              0.6666666666666666,
              "#ed7953"
             ],
             [
              0.7777777777777778,
              "#fb9f3a"
             ],
             [
              0.8888888888888888,
              "#fdca26"
             ],
             [
              1,
              "#f0f921"
             ]
            ],
            "type": "heatmapgl"
           }
          ],
          "histogram": [
           {
            "marker": {
             "pattern": {
              "fillmode": "overlay",
              "size": 10,
              "solidity": 0.2
             }
            },
            "type": "histogram"
           }
          ],
          "histogram2d": [
           {
            "colorbar": {
             "outlinewidth": 0,
             "ticks": ""
            },
            "colorscale": [
             [
              0,
              "#0d0887"
             ],
             [
              0.1111111111111111,
              "#46039f"
             ],
             [
              0.2222222222222222,
              "#7201a8"
             ],
             [
              0.3333333333333333,
              "#9c179e"
             ],
             [
              0.4444444444444444,
              "#bd3786"
             ],
             [
              0.5555555555555556,
              "#d8576b"
             ],
             [
              0.6666666666666666,
              "#ed7953"
             ],
             [
              0.7777777777777778,
              "#fb9f3a"
             ],
             [
              0.8888888888888888,
              "#fdca26"
             ],
             [
              1,
              "#f0f921"
             ]
            ],
            "type": "histogram2d"
           }
          ],
          "histogram2dcontour": [
           {
            "colorbar": {
             "outlinewidth": 0,
             "ticks": ""
            },
            "colorscale": [
             [
              0,
              "#0d0887"
             ],
             [
              0.1111111111111111,
              "#46039f"
             ],
             [
              0.2222222222222222,
              "#7201a8"
             ],
             [
              0.3333333333333333,
              "#9c179e"
             ],
             [
              0.4444444444444444,
              "#bd3786"
             ],
             [
              0.5555555555555556,
              "#d8576b"
             ],
             [
              0.6666666666666666,
              "#ed7953"
             ],
             [
              0.7777777777777778,
              "#fb9f3a"
             ],
             [
              0.8888888888888888,
              "#fdca26"
             ],
             [
              1,
              "#f0f921"
             ]
            ],
            "type": "histogram2dcontour"
           }
          ],
          "mesh3d": [
           {
            "colorbar": {
             "outlinewidth": 0,
             "ticks": ""
            },
            "type": "mesh3d"
           }
          ],
          "parcoords": [
           {
            "line": {
             "colorbar": {
              "outlinewidth": 0,
              "ticks": ""
             }
            },
            "type": "parcoords"
           }
          ],
          "pie": [
           {
            "automargin": true,
            "type": "pie"
           }
          ],
          "scatter": [
           {
            "fillpattern": {
             "fillmode": "overlay",
             "size": 10,
             "solidity": 0.2
            },
            "type": "scatter"
           }
          ],
          "scatter3d": [
           {
            "line": {
             "colorbar": {
              "outlinewidth": 0,
              "ticks": ""
             }
            },
            "marker": {
             "colorbar": {
              "outlinewidth": 0,
              "ticks": ""
             }
            },
            "type": "scatter3d"
           }
          ],
          "scattercarpet": [
           {
            "marker": {
             "colorbar": {
              "outlinewidth": 0,
              "ticks": ""
             }
            },
            "type": "scattercarpet"
           }
          ],
          "scattergeo": [
           {
            "marker": {
             "colorbar": {
              "outlinewidth": 0,
              "ticks": ""
             }
            },
            "type": "scattergeo"
           }
          ],
          "scattergl": [
           {
            "marker": {
             "colorbar": {
              "outlinewidth": 0,
              "ticks": ""
             }
            },
            "type": "scattergl"
           }
          ],
          "scattermapbox": [
           {
            "marker": {
             "colorbar": {
              "outlinewidth": 0,
              "ticks": ""
             }
            },
            "type": "scattermapbox"
           }
          ],
          "scatterpolar": [
           {
            "marker": {
             "colorbar": {
              "outlinewidth": 0,
              "ticks": ""
             }
            },
            "type": "scatterpolar"
           }
          ],
          "scatterpolargl": [
           {
            "marker": {
             "colorbar": {
              "outlinewidth": 0,
              "ticks": ""
             }
            },
            "type": "scatterpolargl"
           }
          ],
          "scatterternary": [
           {
            "marker": {
             "colorbar": {
              "outlinewidth": 0,
              "ticks": ""
             }
            },
            "type": "scatterternary"
           }
          ],
          "surface": [
           {
            "colorbar": {
             "outlinewidth": 0,
             "ticks": ""
            },
            "colorscale": [
             [
              0,
              "#0d0887"
             ],
             [
              0.1111111111111111,
              "#46039f"
             ],
             [
              0.2222222222222222,
              "#7201a8"
             ],
             [
              0.3333333333333333,
              "#9c179e"
             ],
             [
              0.4444444444444444,
              "#bd3786"
             ],
             [
              0.5555555555555556,
              "#d8576b"
             ],
             [
              0.6666666666666666,
              "#ed7953"
             ],
             [
              0.7777777777777778,
              "#fb9f3a"
             ],
             [
              0.8888888888888888,
              "#fdca26"
             ],
             [
              1,
              "#f0f921"
             ]
            ],
            "type": "surface"
           }
          ],
          "table": [
           {
            "cells": {
             "fill": {
              "color": "#EBF0F8"
             },
             "line": {
              "color": "white"
             }
            },
            "header": {
             "fill": {
              "color": "#C8D4E3"
             },
             "line": {
              "color": "white"
             }
            },
            "type": "table"
           }
          ]
         },
         "layout": {
          "annotationdefaults": {
           "arrowcolor": "#2a3f5f",
           "arrowhead": 0,
           "arrowwidth": 1
          },
          "autotypenumbers": "strict",
          "coloraxis": {
           "colorbar": {
            "outlinewidth": 0,
            "ticks": ""
           }
          },
          "colorscale": {
           "diverging": [
            [
             0,
             "#8e0152"
            ],
            [
             0.1,
             "#c51b7d"
            ],
            [
             0.2,
             "#de77ae"
            ],
            [
             0.3,
             "#f1b6da"
            ],
            [
             0.4,
             "#fde0ef"
            ],
            [
             0.5,
             "#f7f7f7"
            ],
            [
             0.6,
             "#e6f5d0"
            ],
            [
             0.7,
             "#b8e186"
            ],
            [
             0.8,
             "#7fbc41"
            ],
            [
             0.9,
             "#4d9221"
            ],
            [
             1,
             "#276419"
            ]
           ],
           "sequential": [
            [
             0,
             "#0d0887"
            ],
            [
             0.1111111111111111,
             "#46039f"
            ],
            [
             0.2222222222222222,
             "#7201a8"
            ],
            [
             0.3333333333333333,
             "#9c179e"
            ],
            [
             0.4444444444444444,
             "#bd3786"
            ],
            [
             0.5555555555555556,
             "#d8576b"
            ],
            [
             0.6666666666666666,
             "#ed7953"
            ],
            [
             0.7777777777777778,
             "#fb9f3a"
            ],
            [
             0.8888888888888888,
             "#fdca26"
            ],
            [
             1,
             "#f0f921"
            ]
           ],
           "sequentialminus": [
            [
             0,
             "#0d0887"
            ],
            [
             0.1111111111111111,
             "#46039f"
            ],
            [
             0.2222222222222222,
             "#7201a8"
            ],
            [
             0.3333333333333333,
             "#9c179e"
            ],
            [
             0.4444444444444444,
             "#bd3786"
            ],
            [
             0.5555555555555556,
             "#d8576b"
            ],
            [
             0.6666666666666666,
             "#ed7953"
            ],
            [
             0.7777777777777778,
             "#fb9f3a"
            ],
            [
             0.8888888888888888,
             "#fdca26"
            ],
            [
             1,
             "#f0f921"
            ]
           ]
          },
          "colorway": [
           "#636efa",
           "#EF553B",
           "#00cc96",
           "#ab63fa",
           "#FFA15A",
           "#19d3f3",
           "#FF6692",
           "#B6E880",
           "#FF97FF",
           "#FECB52"
          ],
          "font": {
           "color": "#2a3f5f"
          },
          "geo": {
           "bgcolor": "white",
           "lakecolor": "white",
           "landcolor": "#E5ECF6",
           "showlakes": true,
           "showland": true,
           "subunitcolor": "white"
          },
          "hoverlabel": {
           "align": "left"
          },
          "hovermode": "closest",
          "mapbox": {
           "style": "light"
          },
          "paper_bgcolor": "white",
          "plot_bgcolor": "#E5ECF6",
          "polar": {
           "angularaxis": {
            "gridcolor": "white",
            "linecolor": "white",
            "ticks": ""
           },
           "bgcolor": "#E5ECF6",
           "radialaxis": {
            "gridcolor": "white",
            "linecolor": "white",
            "ticks": ""
           }
          },
          "scene": {
           "xaxis": {
            "backgroundcolor": "#E5ECF6",
            "gridcolor": "white",
            "gridwidth": 2,
            "linecolor": "white",
            "showbackground": true,
            "ticks": "",
            "zerolinecolor": "white"
           },
           "yaxis": {
            "backgroundcolor": "#E5ECF6",
            "gridcolor": "white",
            "gridwidth": 2,
            "linecolor": "white",
            "showbackground": true,
            "ticks": "",
            "zerolinecolor": "white"
           },
           "zaxis": {
            "backgroundcolor": "#E5ECF6",
            "gridcolor": "white",
            "gridwidth": 2,
            "linecolor": "white",
            "showbackground": true,
            "ticks": "",
            "zerolinecolor": "white"
           }
          },
          "shapedefaults": {
           "line": {
            "color": "#2a3f5f"
           }
          },
          "ternary": {
           "aaxis": {
            "gridcolor": "white",
            "linecolor": "white",
            "ticks": ""
           },
           "baxis": {
            "gridcolor": "white",
            "linecolor": "white",
            "ticks": ""
           },
           "bgcolor": "#E5ECF6",
           "caxis": {
            "gridcolor": "white",
            "linecolor": "white",
            "ticks": ""
           }
          },
          "title": {
           "x": 0.05
          },
          "xaxis": {
           "automargin": true,
           "gridcolor": "white",
           "linecolor": "white",
           "ticks": "",
           "title": {
            "standoff": 15
           },
           "zerolinecolor": "white",
           "zerolinewidth": 2
          },
          "yaxis": {
           "automargin": true,
           "gridcolor": "white",
           "linecolor": "white",
           "ticks": "",
           "title": {
            "standoff": 15
           },
           "zerolinecolor": "white",
           "zerolinewidth": 2
          }
         }
        },
        "title": {
         "text": "Price Elasticity of Purchase quantity (with promotion and without promotion) for customer segment 0"
        },
        "width": 1100,
        "xaxis": {
         "anchor": "y",
         "autorange": true,
         "domain": [
          0,
          1
         ],
         "range": [
          0.5,
          3.490000000000003
         ],
         "title": {
          "text": "Avg Price of chocolate brand"
         },
         "type": "linear"
        },
        "yaxis": {
         "anchor": "x",
         "autorange": true,
         "domain": [
          0,
          1
         ],
         "range": [
          -1.5924702484164437,
          -0.014876408451133957
         ],
         "title": {
          "text": "Mean Price Elasticity of Purchase quantity"
         },
         "type": "linear"
        }
       }
      },
      "image/png": "[encoded data removed]",
      "text/html": [
       "<div>                            <div id=\"264a6e3f-2f2d-4231-92f2-1e9b5abdb414\" class=\"plotly-graph-div\" style=\"height:300px; width:1100px;\"></div>            <script type=\"text/javascript\">                require([\"plotly\"], function(Plotly) {                    window.PLOTLYENV=window.PLOTLYENV || {};                                    if (document.getElementById(\"264a6e3f-2f2d-4231-92f2-1e9b5abdb414\")) {                    Plotly.newPlot(                        \"264a6e3f-2f2d-4231-92f2-1e9b5abdb414\",                        [{\"hovertemplate\":\"PE=PE_with_promotion1_segm0\\u003cbr\\u003eprice=%{x}\\u003cbr\\u003ePEValue=%{y}\\u003cextra\\u003e\\u003c\\u002fextra\\u003e\",\"legendgroup\":\"PE_with_promotion1_segm0\",\"line\":{\"color\":\"#636efa\",\"dash\":\"solid\"},\"marker\":{\"symbol\":\"circle\"},\"mode\":\"lines\",\"name\":\"PE_with_promotion1_segm0\",\"orientation\":\"v\",\"showlegend\":true,\"x\":[0.5,0.51,0.52,0.53,0.54,0.55,0.56,0.5700000000000001,0.5800000000000001,0.5900000000000001,0.6000000000000001,0.6100000000000001,0.6200000000000001,0.6300000000000001,0.6400000000000001,0.6500000000000001,0.6600000000000001,0.6700000000000002,0.6800000000000002,0.6900000000000002,0.7000000000000002,0.7100000000000002,0.7200000000000002,0.7300000000000002,0.7400000000000002,0.7500000000000002,0.7600000000000002,0.7700000000000002,0.7800000000000002,0.7900000000000003,0.8000000000000003,0.8100000000000003,0.8200000000000003,0.8300000000000003,0.8400000000000003,0.8500000000000003,0.8600000000000003,0.8700000000000003,0.8800000000000003,0.8900000000000003,0.9000000000000004,0.9100000000000004,0.9200000000000004,0.9300000000000004,0.9400000000000004,0.9500000000000004,0.9600000000000004,0.9700000000000004,0.9800000000000004,0.9900000000000004,1.0000000000000004,1.0100000000000005,1.0200000000000005,1.0300000000000005,1.0400000000000005,1.0500000000000005,1.0600000000000005,1.0700000000000005,1.0800000000000005,1.0900000000000005,1.1000000000000005,1.1100000000000005,1.1200000000000006,1.1300000000000006,1.1400000000000006,1.1500000000000006,1.1600000000000006,1.1700000000000006,1.1800000000000006,1.1900000000000006,1.2000000000000006,1.2100000000000006,1.2200000000000006,1.2300000000000006,1.2400000000000007,1.2500000000000007,1.2600000000000007,1.2700000000000007,1.2800000000000007,1.2900000000000007,1.3000000000000007,1.3100000000000007,1.3200000000000007,1.3300000000000007,1.3400000000000007,1.3500000000000008,1.3600000000000008,1.3700000000000008,1.3800000000000008,1.3900000000000008,1.4000000000000008,1.4100000000000008,1.4200000000000008,1.4300000000000008,1.4400000000000008,1.4500000000000008,1.4600000000000009,1.4700000000000009,1.4800000000000009,1.4900000000000009,1.5000000000000009,1.510000000000001,1.520000000000001,1.530000000000001,1.540000000000001,1.550000000000001,1.560000000000001,1.570000000000001,1.580000000000001,1.590000000000001,1.600000000000001,1.610000000000001,1.620000000000001,1.630000000000001,1.640000000000001,1.650000000000001,1.660000000000001,1.670000000000001,1.680000000000001,1.690000000000001,1.700000000000001,1.710000000000001,1.720000000000001,1.730000000000001,1.740000000000001,1.750000000000001,1.7600000000000011,1.7700000000000011,1.7800000000000011,1.7900000000000011,1.8000000000000012,1.8100000000000012,1.8200000000000012,1.8300000000000012,1.8400000000000012,1.8500000000000012,1.8600000000000012,1.8700000000000012,1.8800000000000012,1.8900000000000012,1.9000000000000012,1.9100000000000013,1.9200000000000013,1.9300000000000013,1.9400000000000013,1.9500000000000013,1.9600000000000013,1.9700000000000013,1.9800000000000013,1.9900000000000013,2.0000000000000013,2.0100000000000016,2.0200000000000014,2.030000000000001,2.0400000000000014,2.0500000000000016,2.0600000000000014,2.070000000000001,2.0800000000000014,2.0900000000000016,2.1000000000000014,2.110000000000001,2.1200000000000014,2.1300000000000017,2.1400000000000015,2.1500000000000012,2.1600000000000015,2.1700000000000017,2.1800000000000015,2.1900000000000013,2.2000000000000015,2.2100000000000017,2.2200000000000015,2.2300000000000013,2.2400000000000015,2.2500000000000018,2.2600000000000016,2.2700000000000014,2.2800000000000016,2.290000000000002,2.3000000000000016,2.3100000000000014,2.3200000000000016,2.330000000000002,2.3400000000000016,2.3500000000000014,2.3600000000000017,2.370000000000002,2.3800000000000017,2.3900000000000015,2.4000000000000017,2.410000000000002,2.4200000000000017,2.4300000000000015,2.4400000000000017,2.450000000000002,2.4600000000000017,2.4700000000000015,2.4800000000000018,2.490000000000002,2.5000000000000018,2.5100000000000016,2.520000000000002,2.530000000000002,2.540000000000002,2.5500000000000016,2.560000000000002,2.570000000000002,2.580000000000002,2.5900000000000016,2.600000000000002,2.610000000000002,2.620000000000002,2.6300000000000017,2.640000000000002,2.650000000000002,2.660000000000002,2.6700000000000017,2.680000000000002,2.690000000000002,2.700000000000002,2.7100000000000017,2.720000000000002,2.730000000000002,2.740000000000002,2.7500000000000018,2.760000000000002,2.7700000000000022,2.780000000000002,2.790000000000002,2.800000000000002,2.8100000000000023,2.820000000000002,2.830000000000002,2.840000000000002,2.8500000000000023,2.860000000000002,2.870000000000002,2.880000000000002,2.8900000000000023,2.900000000000002,2.910000000000002,2.920000000000002,2.9300000000000024,2.940000000000002,2.950000000000002,2.960000000000002,2.9700000000000024,2.980000000000002,2.990000000000002,3.000000000000002,3.0100000000000025,3.0200000000000022,3.030000000000002,3.0400000000000023,3.0500000000000025,3.0600000000000023,3.070000000000002,3.0800000000000023,3.0900000000000025,3.1000000000000023,3.110000000000002,3.1200000000000023,3.1300000000000026,3.1400000000000023,3.150000000000002,3.1600000000000024,3.1700000000000026,3.1800000000000024,3.190000000000002,3.2000000000000024,3.2100000000000026,3.2200000000000024,3.230000000000002,3.2400000000000024,3.2500000000000027,3.2600000000000025,3.2700000000000022,3.2800000000000025,3.2900000000000027,3.3000000000000025,3.3100000000000023,3.3200000000000025,3.3300000000000027,3.3400000000000025,3.3500000000000023,3.3600000000000025,3.3700000000000028,3.3800000000000026,3.3900000000000023,3.4000000000000026,3.410000000000003,3.4200000000000026,3.4300000000000024,3.4400000000000026,3.450000000000003,3.4600000000000026,3.4700000000000024,3.4800000000000026,3.490000000000003],\"xaxis\":\"x\",\"y\":[-0.09441487868464027,-0.09648536934716817,-0.09856370905736024,-0.10064994253254828,-0.10274411483039328,-0.10484627135212912,-0.10695645784584361,-0.1090747204097972,-0.11120110549577983,-0.11333565991250646,-0.11547843082905185,-0.11762946577832506,-0.11978881266058423,-0.1219565197469922,-0.12413263568321342,-0.12631720949305303,-0.12851029058213811,-0.13071192874164234,-0.13292217415205412,-0.1351410773869892,-0.13736868941704783,-0.139605061613718,-0.14185024575332408,-0.1441042940210229,-0.1463672590148469,-0.14863919374979526,-0.1509201516619743,-0.15321018661278663,-0.15550935289317083,-0.1578177052278919,-0.16013529877988325,-0.1624621891546407,-0.16479843240466982,-0.16714408503398667,-0.16949920400267346,-0.1718638467314889,-0.1742380711065352,-0.17662193548398128,-0.17901549869484448,-0.18141882004982965,-0.18383195934422863,-0.18625497686287912,-0.18868793338518505,-0.1911308901901986,-0.19358390906176495,-0.19604705229373115,-0.19852038269521907,-0.20100396359596437,-0.20349785885172156,-0.2060021328497372,-0.20851685051429064,-0.2110420773123051,-0.2135778792590287,-0.21612432292378742,-0.21868147543581,-0.2212494044901274,-0.22382817835354604,-0.22641786587069773,-0.229018536470166,-0.23163026017069066,-0.2342531075874518,-0.23688714993843424,-0.23953245905087334,-0.24218910736778412,-0.24485716795457446,-0.2475367145057432,-0.2502278213516655,-0.25293056346546616,-0.25564501646998206,-0.2583712566448152,-0.2611093609334784,-0.2638594069506338,-0.2666214729894266,-0.2693956380289153,-0.2721819817415996,-0.2749805845010476,-0.2777915273896243,-0.2806148922063219,-0.28345076147469467,-0.2862992184508995,-0.2891603471318432,-0.29203423226343944,-0.2949209593489762,-0.29782061465759513,-0.3007332852328857,-0.30365905890159534,-0.3065980242824568,-0.3095502707951358,-0.3125158886693001,-0.31549496895381157,-0.31848760352604494,-0.3214938851013324,-0.3245139072425392,-0.3275477643697697,-0.3305955517702081,-0.3336573656080943,-0.336733302934838,-0.3398234616992735,-0.34292794075805644,-0.3460468398862055,-0.34918025978779216,-0.352328302106779,-0.3554910694380108,-0.3586686653383598,-0.36186119433802855,-0.36506876195201227,-0.36829147469172324,-0.37152944007678085,-0.37478276664696913,-0.3780515639743647,-0.3813359426756385,-0.38463601442453355,-0.38795189196452257,-0.3912836891216468,-0.3946315208175414,-0.3979955030826486,-0.401375753069623,-0.40477238906693114,-0.4081855305126502,-0.4116152980084678,-0.415061813333887,-0.41852519946063965,-0.4220055805673126,-0.4255030820541891,-0.4290178305583102,-0.43254995396875906,-0.43609958144217253,-0.43966684341848494,-0.4432518716369054,-0.4468547991521358,-0.4504757603508319,-0.4541148909683121,-0.457772328105518,-0.46144821024623256,-0.4651426772745588,-0.4688558704926643,-0.47258793263879606,-0.47633900790557077,-0.4801092419585461,-0.4838987819550763,-0.4877077765634581,-0.49153637598237315,-0.4953847319606314,-0.4992529978172192,-0.5031413284616618,-0.5070498804147022,-0.5109788118293033,-0.5149282825119798,-0.5188984539444655,-0.5228894893057232,-0.5269015534942999,-0.530934813151039,-0.5349894366821515,-0.5390655942826572,-0.5431634579601973,-0.5472832015592298,-0.551425000785615,-0.5555890332315946,-0.5597754784011757,-0.5639845177359242,-0.5682163346411786,-0.5724711145126905,-0.5767490447636987,-0.5810503148524463,-0.5853751163101516,-0.5897236427694373,-0.5940960899932297,-0.598492655904135,-0.6029135406143052,-0.6073589464557994,-0.6118290780114519,-0.6163241421462565,-0.6208443480392786,-0.6253899072161038,-0.629961033581833,-0.6345579434546371,-0.6391808555998799,-0.6438299912648241,-0.6485055742139262,-0.6532078307647379,-0.6579369898244227,-0.6626932829269019,-0.6674769442706404,-0.6722882107570888,-0.6771273220297892,-0.6819945205141674,-0.6868900514580153,-0.6918141629726837,-0.6967671060749995,-0.7017491347299212,-0.7067605058939475,-0.711801479559295,-0.7168723187988609,-0.7219732898119898,-0.7271046619710552,-0.7322667078688779,-0.7374597033669977,-0.7426839276448163,-0.7479396632496278,-0.7532271961475581,-0.7585468157754324,-0.7638988150935895,-0.7692834906396624,-0.774701142583348,-0.7801520747821853,-0.7856365948383668,-0.791155014156601,-0.7967076480030507,-0.8022948155653742,-0.8079168400138875,-0.8135740485638759,-0.8192667725390773,-0.8249953474363685,-0.8307601129916745,-0.8365614132471323,-0.8423995966195337,-0.8482750159700814,-0.8541880286754807,-0.860138996700402,-0.8661282866713411,-0.8721562699519153,-0.8782233227196182,-0.8843298260440764,-0.8904761659668333,-0.8966627335827049,-0.9028899251227323,-0.9091581420387789,-0.915467791089802,-0.9218192844298408,-0.9282130396977634,-0.9346494801088082,-0.9411290345479668,-0.9476521376652485,-0.9542192299728736,-0.9608307579444387,-0.9674871741161005,-0.9741889371898305,-0.9809365121387849,-0.9877303703148442,-0.9945709895583711,-1.0014588543102454,-1.0083944557262265,-1.0153782917937038,-1.0224108674508865,-1.0294926947085046,-1.0366242927740716,-1.0438061881787772,-1.051038914907073,-1.0583230145290217,-1.0656590363354768,-1.073047537476161,-1.0804890831007186,-1.08798424650282,-1.09553360926739,-1.1031377614210407,-1.110797301585794,-1.1185128371361732,-1.1262849843597555,-1.134114368621269,-1.1420016245303273,-1.149947396112902,-1.157952336986623,-1.1660171105400086,-1.1741423901157306,-1.1823288591980223,-1.190577211604332,-1.1988881516813434,-1.2072623945054717,-1.2157006660879595,-1.2242037035846989,-1.2327722555108986,-1.2414070819607326,-1.2501089548321087,-1.2588786580566917,-1.2677169878353252,-1.2766247528790016,-1.2856027746555374,-1.2946518876421056,-1.3037729395837905,-1.3129667917583348,-1.3222343192472499,-1.3315764112134736,-1.3409939711857515,-1.3504879173499418,-1.3600591828474382,-1.3697087160809094,-1.3794374810275754,-1.3892464575602272,-1.3991366417762228,-1.4091090463346883,-1.419164700802163,-1.4293046520069361,-1.4395299644023334,-1.4498417204392198,-1.4602410209479848,-1.4707289855303007,-1.481306752960943,-1.4919754815999806,-1.502736349815641,-1.5135905564181782],\"yaxis\":\"y\",\"type\":\"scatter\"},{\"hovertemplate\":\"PE=PE_with_promotion0_segm0\\u003cbr\\u003eprice=%{x}\\u003cbr\\u003ePEValue=%{y}\\u003cextra\\u003e\\u003c\\u002fextra\\u003e\",\"legendgroup\":\"PE_with_promotion0_segm0\",\"line\":{\"color\":\"#EF553B\",\"dash\":\"solid\"},\"marker\":{\"symbol\":\"circle\"},\"mode\":\"lines\",\"name\":\"PE_with_promotion0_segm0\",\"orientation\":\"v\",\"showlegend\":true,\"x\":[0.5,0.51,0.52,0.53,0.54,0.55,0.56,0.5700000000000001,0.5800000000000001,0.5900000000000001,0.6000000000000001,0.6100000000000001,0.6200000000000001,0.6300000000000001,0.6400000000000001,0.6500000000000001,0.6600000000000001,0.6700000000000002,0.6800000000000002,0.6900000000000002,0.7000000000000002,0.7100000000000002,0.7200000000000002,0.7300000000000002,0.7400000000000002,0.7500000000000002,0.7600000000000002,0.7700000000000002,0.7800000000000002,0.7900000000000003,0.8000000000000003,0.8100000000000003,0.8200000000000003,0.8300000000000003,0.8400000000000003,0.8500000000000003,0.8600000000000003,0.8700000000000003,0.8800000000000003,0.8900000000000003,0.9000000000000004,0.9100000000000004,0.9200000000000004,0.9300000000000004,0.9400000000000004,0.9500000000000004,0.9600000000000004,0.9700000000000004,0.9800000000000004,0.9900000000000004,1.0000000000000004,1.0100000000000005,1.0200000000000005,1.0300000000000005,1.0400000000000005,1.0500000000000005,1.0600000000000005,1.0700000000000005,1.0800000000000005,1.0900000000000005,1.1000000000000005,1.1100000000000005,1.1200000000000006,1.1300000000000006,1.1400000000000006,1.1500000000000006,1.1600000000000006,1.1700000000000006,1.1800000000000006,1.1900000000000006,1.2000000000000006,1.2100000000000006,1.2200000000000006,1.2300000000000006,1.2400000000000007,1.2500000000000007,1.2600000000000007,1.2700000000000007,1.2800000000000007,1.2900000000000007,1.3000000000000007,1.3100000000000007,1.3200000000000007,1.3300000000000007,1.3400000000000007,1.3500000000000008,1.3600000000000008,1.3700000000000008,1.3800000000000008,1.3900000000000008,1.4000000000000008,1.4100000000000008,1.4200000000000008,1.4300000000000008,1.4400000000000008,1.4500000000000008,1.4600000000000009,1.4700000000000009,1.4800000000000009,1.4900000000000009,1.5000000000000009,1.510000000000001,1.520000000000001,1.530000000000001,1.540000000000001,1.550000000000001,1.560000000000001,1.570000000000001,1.580000000000001,1.590000000000001,1.600000000000001,1.610000000000001,1.620000000000001,1.630000000000001,1.640000000000001,1.650000000000001,1.660000000000001,1.670000000000001,1.680000000000001,1.690000000000001,1.700000000000001,1.710000000000001,1.720000000000001,1.730000000000001,1.740000000000001,1.750000000000001,1.7600000000000011,1.7700000000000011,1.7800000000000011,1.7900000000000011,1.8000000000000012,1.8100000000000012,1.8200000000000012,1.8300000000000012,1.8400000000000012,1.8500000000000012,1.8600000000000012,1.8700000000000012,1.8800000000000012,1.8900000000000012,1.9000000000000012,1.9100000000000013,1.9200000000000013,1.9300000000000013,1.9400000000000013,1.9500000000000013,1.9600000000000013,1.9700000000000013,1.9800000000000013,1.9900000000000013,2.0000000000000013,2.0100000000000016,2.0200000000000014,2.030000000000001,2.0400000000000014,2.0500000000000016,2.0600000000000014,2.070000000000001,2.0800000000000014,2.0900000000000016,2.1000000000000014,2.110000000000001,2.1200000000000014,2.1300000000000017,2.1400000000000015,2.1500000000000012,2.1600000000000015,2.1700000000000017,2.1800000000000015,2.1900000000000013,2.2000000000000015,2.2100000000000017,2.2200000000000015,2.2300000000000013,2.2400000000000015,2.2500000000000018,2.2600000000000016,2.2700000000000014,2.2800000000000016,2.290000000000002,2.3000000000000016,2.3100000000000014,2.3200000000000016,2.330000000000002,2.3400000000000016,2.3500000000000014,2.3600000000000017,2.370000000000002,2.3800000000000017,2.3900000000000015,2.4000000000000017,2.410000000000002,2.4200000000000017,2.4300000000000015,2.4400000000000017,2.450000000000002,2.4600000000000017,2.4700000000000015,2.4800000000000018,2.490000000000002,2.5000000000000018,2.5100000000000016,2.520000000000002,2.530000000000002,2.540000000000002,2.5500000000000016,2.560000000000002,2.570000000000002,2.580000000000002,2.5900000000000016,2.600000000000002,2.610000000000002,2.620000000000002,2.6300000000000017,2.640000000000002,2.650000000000002,2.660000000000002,2.6700000000000017,2.680000000000002,2.690000000000002,2.700000000000002,2.7100000000000017,2.720000000000002,2.730000000000002,2.740000000000002,2.7500000000000018,2.760000000000002,2.7700000000000022,2.780000000000002,2.790000000000002,2.800000000000002,2.8100000000000023,2.820000000000002,2.830000000000002,2.840000000000002,2.8500000000000023,2.860000000000002,2.870000000000002,2.880000000000002,2.8900000000000023,2.900000000000002,2.910000000000002,2.920000000000002,2.9300000000000024,2.940000000000002,2.950000000000002,2.960000000000002,2.9700000000000024,2.980000000000002,2.990000000000002,3.000000000000002,3.0100000000000025,3.0200000000000022,3.030000000000002,3.0400000000000023,3.0500000000000025,3.0600000000000023,3.070000000000002,3.0800000000000023,3.0900000000000025,3.1000000000000023,3.110000000000002,3.1200000000000023,3.1300000000000026,3.1400000000000023,3.150000000000002,3.1600000000000024,3.1700000000000026,3.1800000000000024,3.190000000000002,3.2000000000000024,3.2100000000000026,3.2200000000000024,3.230000000000002,3.2400000000000024,3.2500000000000027,3.2600000000000025,3.2700000000000022,3.2800000000000025,3.2900000000000027,3.3000000000000025,3.3100000000000023,3.3200000000000025,3.3300000000000027,3.3400000000000025,3.3500000000000023,3.3600000000000025,3.3700000000000028,3.3800000000000026,3.3900000000000023,3.4000000000000026,3.410000000000003,3.4200000000000026,3.4300000000000024,3.4400000000000026,3.450000000000003,3.4600000000000026,3.4700000000000024,3.4800000000000026,3.490000000000003],\"xaxis\":\"x\",\"y\":[-0.09375610044939944,-0.09581087954732713,-0.0978733935761534,-0.09994368629385039,-0.10202180178907663,-0.10410778448430691,-0.10620167913899747,-0.10830353085278759,-0.11041338506873741,-0.11253128757660316,-0.11465728451614965,-0.11679142238050093,-0.11893374801952955,-0.12108430864328486,-0.12324315182546089,-0.12541032550690445,-0.1275858779991639,-0.12976985798807908,-0.13196231453741306,-0.1341632970925265,-0.13637285548409453,-0.1385910399318676,-0.14081790104847602,-0.14305348984327973,-0.1452978577262629,-0.1475510565119751,-0.1498131384235183,-0.152084156096582,-0.1543641625835255,-0.15665321135750945,-0.1589513563166759,-0.16125865178837887,-0.16357515253346533,-0.16590091375060756,-0.16823599108068746,-0.17058044061123387,-0.17293431888091323,-0.17529768288407455,-0.17767059007534958,-0.18005309837430877,-0.18244526617017365,-0.18484715232658694,-0.18725881618644077,-0.18968031757676396,-0.19211171681366931,-0.19455307470736166,-0.19700445256720747,-0.19946591220686727,-0.2019375159494912,-0.20441932663297915,-0.2069114076153063,-0.2094138227799143,-0.21192663654117064,-0.21444991384989534,-0.2169837201989574,-0.219528121628941,-0.22208318473388333,-0.22464897666708442,-0.22722556514699055,-0.22981301846315183,-0.2324114054822554,-0.2350207956542356,-0.23764125901846103,-0.24027286621000193,-0.24291568846597625,-0.245569797631978,-0.24823526616858774,-0.2509121671579669,-0.25360057431053723,-0.25630056197174644,-0.2590122051289215,-0.26173557941821085,-0.2644707611316172,-0.26721782722412146,-0.26997685532090016,-0.2727479237246371,-0.27553111142293135,-0.2783264980958021,-0.2811341641232929,-0.28395419059317584,-0.28678665930875813,-0.28963165279679215,-0.2924892543154905,-0.2953595478626481,-0.2982426181838722,-0.3011385507809235,-0.30404743192016814,-0.30696934864114395,-0.3099043887652421,-0.3128526409045055,-0.31581419447054676,-0.31878913968358735,-0.3217775675816187,-0.3247795700296889,-0.3277952397293165,-0.3308246702280324,-0.3338679559290529,-0.33692519210108607,-0.3399964748882732,-0.3430819013202674,-0.3461815693224516,-0.3492955777262991,-0.3524240262798776,-0.35556701565849985,-0.3587246474755228,-0.3618970242932993,-0.3650842496342818,-0.368286427992284,-0.37150366484389985,-0.3747360666600853,-0.3779837409179037,-0.3812467961124378,-0.3845253417688717,-0.3878194884547455,-0.391129347792385,-0.3944550324715093,-0.3977966562620208,-0.40115433402697853,-0.40452818173575894,-0.4079183164774082,-0.41132485647418726,-0.41474792109531483,-0.41818763087091015,-0.4216441075061403,-0.42511747389557436,-0.42860785413774927,-0.43211537354994883,-0.43564015868320277,-0.4391823373375066,-0.44274203857726757,-0.44631939274698057,-0.44991453148713806,-0.4535275877503776,-0.45715869581787083,-0.46080799131596,-0.46447561123304426,-0.4681616939367211,-0.471866379191187,-0.4755898081749031,-0.47933212349852883,-0.4830934692231295,-0.4868739908786622,-0.4906738354827453,-0.49449315155971674,-0.498332089159985,-0.5021907998796806,-0.5060694368806108,-0.5099681549105254,-0.5138871103236959,-0.5178264611018194,-0.5217863668752466,-0.5257669889445444,-0.5297684903023977,-0.5337910356558568,-0.5378347914489364,-0.5418999258855728,-0.5459866089529468,-0.5500950124451789,-0.5542253099874018,-0.5583776770602199,-0.5625522910245615,-0.5667493311469324,-0.5709689786250763,-0.5752114166140514,-0.5794768302527308,-0.5837654066907356,-0.5880773351158066,-0.5924128067816234,-0.5967720150360836,-0.6011551553500453,-0.6055624253465449,-0.6099940248304986,-0.6144501558188976,-0.6189310225715061,-0.6234368316220718,-0.6279677918100576,-0.6325241143129097,-0.6371060126788656,-0.6417137028603177,-0.6463474032477413,-0.6510073347041999,-0.6556937206004371,-0.6604067868505682,-0.6651467619483828,-0.6699138770042714,-0.6747083657827885,-0.679530464740864,-0.684380413066676,-0.6892584527192005,-0.6941648284684503,-0.6990997879364155,-0.7040635816387231,-0.7090564630270284,-0.714078688532155,-0.7191305176079948,-0.7242122127761907,-0.7293240396716097,-0.7344662670886308,-0.7396391670282599,-0.7448430147460905,-0.7500780888011251,-0.7553446711054852,-0.7606430469750132,-0.7659735051807985,-0.7713363380016414,-0.7767318412774753,-0.78216031446377,-0.7876220606869312,-0.7931173868007271,-0.7986466034437552,-0.8042100250979781,-0.8098079701483456,-0.8154407609435341,-0.8211087238578223,-0.8268121893541284,-0.8325514920482369,-0.838326970774239,-0.8441389686512167,-0.8499878331511925,-0.8558739161683785,-0.86179757408975,-0.8677591678669782,-0.8737590630897459,-0.8797976300604812,-0.8858752438705433,-0.89199228447789,-0.89814913678626,-0.9043461907259077,-0.9105838413359243,-0.9168624888481836,-0.9231825387729462,-0.9295444019861631,-0.9359484948185192,-0.9423952391462551,-0.9488850624838101,-0.9554183980783263,-0.9619956850060631,-0.9686173682707638,-0.9752838989040186,-0.9819957340676737,-0.9887533371583391,-0.9955571779140382,-1.0024077325230552,-1.0093054837350313,-1.0162509209743664,-1.023244540455981,-1.0302868453034943,-1.0373783456698793,-1.0445195588606555,-1.0517110094596833,-1.0589532294576205,-1.0662467583831077,-1.073592143436756,-1.0809899396279994,-1.0884407099148892,-1.0959450253468996,-1.1035034652108267,-1.111116617179853,-1.1187850774658632,-1.1265094509750875,-1.1342903514671672,-1.1421284017177225,-1.1500242336845152,-1.1579784886773,-1.165991817531461,-1.174064880785532,-1.1821983488627001,-1.1903929022563968,-1.198649231720091,-1.206968038461388,-1.2153500343405523,-1.2237959420735698,-1.2323064954398744,-1.2408824394948637,-1.249524530787331,-1.2582335375819464,-1.267010240086928,-1.2758554306870444,-1.284769914182089,-1.2937545080309847,-1.3028100426016682,-1.3119373614269199,-1.3211373214662978,-1.330410793374354,-1.3397586617753061,-1.3491818255443422,-1.3586811980957574,-1.3682577076781017,-1.3779122976765539,-1.3876459269227197,-1.3974595700120684,-1.4073542176292302,-1.4173308768813833,-1.4273905716399682,-1.4375343428909633,-1.4477632490939836,-1.4580783665504609,-1.4684807897811698,-1.478971631913381,-1.4895520250779293],\"yaxis\":\"y\",\"type\":\"scatter\"}],                        {\"template\":{\"data\":{\"histogram2dcontour\":[{\"type\":\"histogram2dcontour\",\"colorbar\":{\"outlinewidth\":0,\"ticks\":\"\"},\"colorscale\":[[0.0,\"#0d0887\"],[0.1111111111111111,\"#46039f\"],[0.2222222222222222,\"#7201a8\"],[0.3333333333333333,\"#9c179e\"],[0.4444444444444444,\"#bd3786\"],[0.5555555555555556,\"#d8576b\"],[0.6666666666666666,\"#ed7953\"],[0.7777777777777778,\"#fb9f3a\"],[0.8888888888888888,\"#fdca26\"],[1.0,\"#f0f921\"]]}],\"choropleth\":[{\"type\":\"choropleth\",\"colorbar\":{\"outlinewidth\":0,\"ticks\":\"\"}}],\"histogram2d\":[{\"type\":\"histogram2d\",\"colorbar\":{\"outlinewidth\":0,\"ticks\":\"\"},\"colorscale\":[[0.0,\"#0d0887\"],[0.1111111111111111,\"#46039f\"],[0.2222222222222222,\"#7201a8\"],[0.3333333333333333,\"#9c179e\"],[0.4444444444444444,\"#bd3786\"],[0.5555555555555556,\"#d8576b\"],[0.6666666666666666,\"#ed7953\"],[0.7777777777777778,\"#fb9f3a\"],[0.8888888888888888,\"#fdca26\"],[1.0,\"#f0f921\"]]}],\"heatmap\":[{\"type\":\"heatmap\",\"colorbar\":{\"outlinewidth\":0,\"ticks\":\"\"},\"colorscale\":[[0.0,\"#0d0887\"],[0.1111111111111111,\"#46039f\"],[0.2222222222222222,\"#7201a8\"],[0.3333333333333333,\"#9c179e\"],[0.4444444444444444,\"#bd3786\"],[0.5555555555555556,\"#d8576b\"],[0.6666666666666666,\"#ed7953\"],[0.7777777777777778,\"#fb9f3a\"],[0.8888888888888888,\"#fdca26\"],[1.0,\"#f0f921\"]]}],\"heatmapgl\":[{\"type\":\"heatmapgl\",\"colorbar\":{\"outlinewidth\":0,\"ticks\":\"\"},\"colorscale\":[[0.0,\"#0d0887\"],[0.1111111111111111,\"#46039f\"],[0.2222222222222222,\"#7201a8\"],[0.3333333333333333,\"#9c179e\"],[0.4444444444444444,\"#bd3786\"],[0.5555555555555556,\"#d8576b\"],[0.6666666666666666,\"#ed7953\"],[0.7777777777777778,\"#fb9f3a\"],[0.8888888888888888,\"#fdca26\"],[1.0,\"#f0f921\"]]}],\"contourcarpet\":[{\"type\":\"contourcarpet\",\"colorbar\":{\"outlinewidth\":0,\"ticks\":\"\"}}],\"contour\":[{\"type\":\"contour\",\"colorbar\":{\"outlinewidth\":0,\"ticks\":\"\"},\"colorscale\":[[0.0,\"#0d0887\"],[0.1111111111111111,\"#46039f\"],[0.2222222222222222,\"#7201a8\"],[0.3333333333333333,\"#9c179e\"],[0.4444444444444444,\"#bd3786\"],[0.5555555555555556,\"#d8576b\"],[0.6666666666666666,\"#ed7953\"],[0.7777777777777778,\"#fb9f3a\"],[0.8888888888888888,\"#fdca26\"],[1.0,\"#f0f921\"]]}],\"surface\":[{\"type\":\"surface\",\"colorbar\":{\"outlinewidth\":0,\"ticks\":\"\"},\"colorscale\":[[0.0,\"#0d0887\"],[0.1111111111111111,\"#46039f\"],[0.2222222222222222,\"#7201a8\"],[0.3333333333333333,\"#9c179e\"],[0.4444444444444444,\"#bd3786\"],[0.5555555555555556,\"#d8576b\"],[0.6666666666666666,\"#ed7953\"],[0.7777777777777778,\"#fb9f3a\"],[0.8888888888888888,\"#fdca26\"],[1.0,\"#f0f921\"]]}],\"mesh3d\":[{\"type\":\"mesh3d\",\"colorbar\":{\"outlinewidth\":0,\"ticks\":\"\"}}],\"scatter\":[{\"fillpattern\":{\"fillmode\":\"overlay\",\"size\":10,\"solidity\":0.2},\"type\":\"scatter\"}],\"parcoords\":[{\"type\":\"parcoords\",\"line\":{\"colorbar\":{\"outlinewidth\":0,\"ticks\":\"\"}}}],\"scatterpolargl\":[{\"type\":\"scatterpolargl\",\"marker\":{\"colorbar\":{\"outlinewidth\":0,\"ticks\":\"\"}}}],\"bar\":[{\"error_x\":{\"color\":\"#2a3f5f\"},\"error_y\":{\"color\":\"#2a3f5f\"},\"marker\":{\"line\":{\"color\":\"#E5ECF6\",\"width\":0.5},\"pattern\":{\"fillmode\":\"overlay\",\"size\":10,\"solidity\":0.2}},\"type\":\"bar\"}],\"scattergeo\":[{\"type\":\"scattergeo\",\"marker\":{\"colorbar\":{\"outlinewidth\":0,\"ticks\":\"\"}}}],\"scatterpolar\":[{\"type\":\"scatterpolar\",\"marker\":{\"colorbar\":{\"outlinewidth\":0,\"ticks\":\"\"}}}],\"histogram\":[{\"marker\":{\"pattern\":{\"fillmode\":\"overlay\",\"size\":10,\"solidity\":0.2}},\"type\":\"histogram\"}],\"scattergl\":[{\"type\":\"scattergl\",\"marker\":{\"colorbar\":{\"outlinewidth\":0,\"ticks\":\"\"}}}],\"scatter3d\":[{\"type\":\"scatter3d\",\"line\":{\"colorbar\":{\"outlinewidth\":0,\"ticks\":\"\"}},\"marker\":{\"colorbar\":{\"outlinewidth\":0,\"ticks\":\"\"}}}],\"scattermapbox\":[{\"type\":\"scattermapbox\",\"marker\":{\"colorbar\":{\"outlinewidth\":0,\"ticks\":\"\"}}}],\"scatterternary\":[{\"type\":\"scatterternary\",\"marker\":{\"colorbar\":{\"outlinewidth\":0,\"ticks\":\"\"}}}],\"scattercarpet\":[{\"type\":\"scattercarpet\",\"marker\":{\"colorbar\":{\"outlinewidth\":0,\"ticks\":\"\"}}}],\"carpet\":[{\"aaxis\":{\"endlinecolor\":\"#2a3f5f\",\"gridcolor\":\"white\",\"linecolor\":\"white\",\"minorgridcolor\":\"white\",\"startlinecolor\":\"#2a3f5f\"},\"baxis\":{\"endlinecolor\":\"#2a3f5f\",\"gridcolor\":\"white\",\"linecolor\":\"white\",\"minorgridcolor\":\"white\",\"startlinecolor\":\"#2a3f5f\"},\"type\":\"carpet\"}],\"table\":[{\"cells\":{\"fill\":{\"color\":\"#EBF0F8\"},\"line\":{\"color\":\"white\"}},\"header\":{\"fill\":{\"color\":\"#C8D4E3\"},\"line\":{\"color\":\"white\"}},\"type\":\"table\"}],\"barpolar\":[{\"marker\":{\"line\":{\"color\":\"#E5ECF6\",\"width\":0.5},\"pattern\":{\"fillmode\":\"overlay\",\"size\":10,\"solidity\":0.2}},\"type\":\"barpolar\"}],\"pie\":[{\"automargin\":true,\"type\":\"pie\"}]},\"layout\":{\"autotypenumbers\":\"strict\",\"colorway\":[\"#636efa\",\"#EF553B\",\"#00cc96\",\"#ab63fa\",\"#FFA15A\",\"#19d3f3\",\"#FF6692\",\"#B6E880\",\"#FF97FF\",\"#FECB52\"],\"font\":{\"color\":\"#2a3f5f\"},\"hovermode\":\"closest\",\"hoverlabel\":{\"align\":\"left\"},\"paper_bgcolor\":\"white\",\"plot_bgcolor\":\"#E5ECF6\",\"polar\":{\"bgcolor\":\"#E5ECF6\",\"angularaxis\":{\"gridcolor\":\"white\",\"linecolor\":\"white\",\"ticks\":\"\"},\"radialaxis\":{\"gridcolor\":\"white\",\"linecolor\":\"white\",\"ticks\":\"\"}},\"ternary\":{\"bgcolor\":\"#E5ECF6\",\"aaxis\":{\"gridcolor\":\"white\",\"linecolor\":\"white\",\"ticks\":\"\"},\"baxis\":{\"gridcolor\":\"white\",\"linecolor\":\"white\",\"ticks\":\"\"},\"caxis\":{\"gridcolor\":\"white\",\"linecolor\":\"white\",\"ticks\":\"\"}},\"coloraxis\":{\"colorbar\":{\"outlinewidth\":0,\"ticks\":\"\"}},\"colorscale\":{\"sequential\":[[0.0,\"#0d0887\"],[0.1111111111111111,\"#46039f\"],[0.2222222222222222,\"#7201a8\"],[0.3333333333333333,\"#9c179e\"],[0.4444444444444444,\"#bd3786\"],[0.5555555555555556,\"#d8576b\"],[0.6666666666666666,\"#ed7953\"],[0.7777777777777778,\"#fb9f3a\"],[0.8888888888888888,\"#fdca26\"],[1.0,\"#f0f921\"]],\"sequentialminus\":[[0.0,\"#0d0887\"],[0.1111111111111111,\"#46039f\"],[0.2222222222222222,\"#7201a8\"],[0.3333333333333333,\"#9c179e\"],[0.4444444444444444,\"#bd3786\"],[0.5555555555555556,\"#d8576b\"],[0.6666666666666666,\"#ed7953\"],[0.7777777777777778,\"#fb9f3a\"],[0.8888888888888888,\"#fdca26\"],[1.0,\"#f0f921\"]],\"diverging\":[[0,\"#8e0152\"],[0.1,\"#c51b7d\"],[0.2,\"#de77ae\"],[0.3,\"#f1b6da\"],[0.4,\"#fde0ef\"],[0.5,\"#f7f7f7\"],[0.6,\"#e6f5d0\"],[0.7,\"#b8e186\"],[0.8,\"#7fbc41\"],[0.9,\"#4d9221\"],[1,\"#276419\"]]},\"xaxis\":{\"gridcolor\":\"white\",\"linecolor\":\"white\",\"ticks\":\"\",\"title\":{\"standoff\":15},\"zerolinecolor\":\"white\",\"automargin\":true,\"zerolinewidth\":2},\"yaxis\":{\"gridcolor\":\"white\",\"linecolor\":\"white\",\"ticks\":\"\",\"title\":{\"standoff\":15},\"zerolinecolor\":\"white\",\"automargin\":true,\"zerolinewidth\":2},\"scene\":{\"xaxis\":{\"backgroundcolor\":\"#E5ECF6\",\"gridcolor\":\"white\",\"linecolor\":\"white\",\"showbackground\":true,\"ticks\":\"\",\"zerolinecolor\":\"white\",\"gridwidth\":2},\"yaxis\":{\"backgroundcolor\":\"#E5ECF6\",\"gridcolor\":\"white\",\"linecolor\":\"white\",\"showbackground\":true,\"ticks\":\"\",\"zerolinecolor\":\"white\",\"gridwidth\":2},\"zaxis\":{\"backgroundcolor\":\"#E5ECF6\",\"gridcolor\":\"white\",\"linecolor\":\"white\",\"showbackground\":true,\"ticks\":\"\",\"zerolinecolor\":\"white\",\"gridwidth\":2}},\"shapedefaults\":{\"line\":{\"color\":\"#2a3f5f\"}},\"annotationdefaults\":{\"arrowcolor\":\"#2a3f5f\",\"arrowhead\":0,\"arrowwidth\":1},\"geo\":{\"bgcolor\":\"white\",\"landcolor\":\"#E5ECF6\",\"subunitcolor\":\"white\",\"showland\":true,\"showlakes\":true,\"lakecolor\":\"white\"},\"title\":{\"x\":0.05},\"mapbox\":{\"style\":\"light\"}}},\"xaxis\":{\"anchor\":\"y\",\"domain\":[0.0,1.0],\"title\":{\"text\":\"Avg Price of chocolate brand\"}},\"yaxis\":{\"anchor\":\"x\",\"domain\":[0.0,1.0],\"title\":{\"text\":\"Mean Price Elasticity of Purchase quantity\"}},\"legend\":{\"title\":{\"text\":\"PE\"},\"tracegroupgap\":0},\"margin\":{\"t\":60},\"width\":1100,\"height\":300,\"title\":{\"text\":\"Price Elasticity of Purchase quantity (with promotion and without promotion) for customer segment 0\"}},                        {\"responsive\": true}                    ).then(function(){\n",
       "                            \n",
       "var gd = document.getElementById('264a6e3f-2f2d-4231-92f2-1e9b5abdb414');\n",
       "var x = new MutationObserver(function (mutations, observer) {{\n",
       "        var display = window.getComputedStyle(gd).display;\n",
       "        if (!display || display === 'none') {{\n",
       "            console.log([gd, 'removed!']);\n",
       "            Plotly.purge(gd);\n",
       "            observer.disconnect();\n",
       "        }}\n",
       "}});\n",
       "\n",
       "// Listen for the removal of the full notebook cells\n",
       "var notebookContainer = gd.closest('#notebook-container');\n",
       "if (notebookContainer) {{\n",
       "    x.observe(notebookContainer, {childList: true});\n",
       "}}\n",
       "\n",
       "// Listen for the clearing of the current output cell\n",
       "var outputEl = gd.closest('.output');\n",
       "if (outputEl) {{\n",
       "    x.observe(outputEl, {childList: true});\n",
       "}}\n",
       "\n",
       "                        })                };                });            </script>        </div>"
      ]
     },
     "metadata": {},
     "output_type": "display_data"
    }
   ],
   "source": [
    "PE_0_1_promotion=df_price_elasticity_price_promotion.melt(id_vars=['price'],var_name='PE',value_name='PEValue',value_vars=['PE_with_promotion1_segm0','PE_with_promotion0_segm0'])\n",
    "# PE_0_1_promotion\n",
    "fig=px.line(PE_0_1_promotion,x=\"price\",y='PEValue',color='PE')\n",
    "fig.update_layout(width=1100,height=300,title='Price Elasticity of Purchase quantity (with promotion and without promotion) for customer segment 0',\n",
    "                  xaxis=dict(title='Avg Price of chocolate brand'),\n",
    "                  yaxis=dict(title='Mean Price Elasticity of Purchase quantity'))\n",
    "fig.show()"
   ]
  },
  {
   "cell_type": "markdown",
   "id": "0bf34fab-868e-467b-8fe0-bd2872af46e4",
   "metadata": {},
   "source": [
    "# price elasticity of purchase quantity for customer of segment 1"
   ]
  },
  {
   "cell_type": "code",
   "execution_count": 40,
   "id": "0db5a97d-6abd-4012-94c6-50efe2382348",
   "metadata": {},
   "outputs": [
    {
     "name": "stderr",
     "output_type": "stream",
     "text": [
      "C:\\Users\\adadi\\anaconda3\\envs\\HPOmenChallenge\\lib\\site-packages\\sklearn\\base.py:458: UserWarning:\n",
      "\n",
      "X has feature names, but LinearRegression was fitted without feature names\n",
      "\n",
      "C:\\Users\\adadi\\anaconda3\\envs\\HPOmenChallenge\\lib\\site-packages\\sklearn\\base.py:458: UserWarning:\n",
      "\n",
      "X has feature names, but LinearRegression was fitted without feature names\n",
      "\n"
     ]
    }
   ],
   "source": [
    "df_price_elasticity_price_promotion['PE_with_promotion1_segm1']=reg_1.coef_[0]*(df_price_elasticity_price_promotion['price']/\n",
    "                                                                               reg_0.predict(df_price_elasticity_price_promotion[['price','promotion_1']])\n",
    "                                                                               )\n",
    "df_price_elasticity_price_promotion['PE_with_promotion0_segm1']=reg_1.coef_[0]*(df_price_elasticity_price_promotion['price']/\n",
    "                                                                               reg_0.predict(df_price_elasticity_price_promotion[['price','promotion_0']])\n",
    "                                                                               )"
   ]
  },
  {
   "cell_type": "code",
   "execution_count": 41,
   "id": "4a5c63ad-8c78-4d49-83a0-63f069b6c9d5",
   "metadata": {},
   "outputs": [
    {
     "data": {
      "application/vnd.plotly.v1+json": {
       "config": {
        "plotlyServerURL": "https://plot.ly"
       },
       "data": [
        {
         "hovertemplate": "PE=PE_with_promotion1_segm1<br>price=%{x}<br>PEValue=%{y}<extra></extra>",
         "legendgroup": "PE_with_promotion1_segm1",
         "line": {
          "color": "#636efa",
          "dash": "solid"
         },
         "marker": {
          "symbol": "circle"
         },
         "mode": "lines",
         "name": "PE_with_promotion1_segm1",
         "orientation": "v",
         "showlegend": true,
         "type": "scatter",
         "x": [
          0.5,
          0.51,
          0.52,
          0.53,
          0.54,
          0.55,
          0.56,
          0.5700000000000001,
          0.5800000000000001,
          0.5900000000000001,
          0.6000000000000001,
          0.6100000000000001,
          0.6200000000000001,
          0.6300000000000001,
          0.6400000000000001,
          0.6500000000000001,
          0.6600000000000001,
          0.6700000000000002,
          0.6800000000000002,
          0.6900000000000002,
          0.7000000000000002,
          0.7100000000000002,
          0.7200000000000002,
          0.7300000000000002,
          0.7400000000000002,
          0.7500000000000002,
          0.7600000000000002,
          0.7700000000000002,
          0.7800000000000002,
          0.7900000000000003,
          0.8000000000000003,
          0.8100000000000003,
          0.8200000000000003,
          0.8300000000000003,
          0.8400000000000003,
          0.8500000000000003,
          0.8600000000000003,
          0.8700000000000003,
          0.8800000000000003,
          0.8900000000000003,
          0.9000000000000004,
          0.9100000000000004,
          0.9200000000000004,
          0.9300000000000004,
          0.9400000000000004,
          0.9500000000000004,
          0.9600000000000004,
          0.9700000000000004,
          0.9800000000000004,
          0.9900000000000004,
          1.0000000000000004,
          1.0100000000000005,
          1.0200000000000005,
          1.0300000000000005,
          1.0400000000000005,
          1.0500000000000005,
          1.0600000000000005,
          1.0700000000000005,
          1.0800000000000005,
          1.0900000000000005,
          1.1000000000000005,
          1.1100000000000005,
          1.1200000000000006,
          1.1300000000000006,
          1.1400000000000006,
          1.1500000000000006,
          1.1600000000000006,
          1.1700000000000006,
          1.1800000000000006,
          1.1900000000000006,
          1.2000000000000006,
          1.2100000000000006,
          1.2200000000000006,
          1.2300000000000006,
          1.2400000000000007,
          1.2500000000000007,
          1.2600000000000007,
          1.2700000000000007,
          1.2800000000000007,
          1.2900000000000007,
          1.3000000000000007,
          1.3100000000000007,
          1.3200000000000007,
          1.3300000000000007,
          1.3400000000000007,
          1.3500000000000008,
          1.3600000000000008,
          1.3700000000000008,
          1.3800000000000008,
          1.3900000000000008,
          1.4000000000000008,
          1.4100000000000008,
          1.4200000000000008,
          1.4300000000000008,
          1.4400000000000008,
          1.4500000000000008,
          1.4600000000000009,
          1.4700000000000009,
          1.4800000000000009,
          1.4900000000000009,
          1.5000000000000009,
          1.510000000000001,
          1.520000000000001,
          1.530000000000001,
          1.540000000000001,
          1.550000000000001,
          1.560000000000001,
          1.570000000000001,
          1.580000000000001,
          1.590000000000001,
          1.600000000000001,
          1.610000000000001,
          1.620000000000001,
          1.630000000000001,
          1.640000000000001,
          1.650000000000001,
          1.660000000000001,
          1.670000000000001,
          1.680000000000001,
          1.690000000000001,
          1.700000000000001,
          1.710000000000001,
          1.720000000000001,
          1.730000000000001,
          1.740000000000001,
          1.750000000000001,
          1.7600000000000011,
          1.7700000000000011,
          1.7800000000000011,
          1.7900000000000011,
          1.8000000000000012,
          1.8100000000000012,
          1.8200000000000012,
          1.8300000000000012,
          1.8400000000000012,
          1.8500000000000012,
          1.8600000000000012,
          1.8700000000000012,
          1.8800000000000012,
          1.8900000000000012,
          1.9000000000000012,
          1.9100000000000013,
          1.9200000000000013,
          1.9300000000000013,
          1.9400000000000013,
          1.9500000000000013,
          1.9600000000000013,
          1.9700000000000013,
          1.9800000000000013,
          1.9900000000000013,
          2.0000000000000013,
          2.0100000000000016,
          2.0200000000000014,
          2.030000000000001,
          2.0400000000000014,
          2.0500000000000016,
          2.0600000000000014,
          2.070000000000001,
          2.0800000000000014,
          2.0900000000000016,
          2.1000000000000014,
          2.110000000000001,
          2.1200000000000014,
          2.1300000000000017,
          2.1400000000000015,
          2.1500000000000012,
          2.1600000000000015,
          2.1700000000000017,
          2.1800000000000015,
          2.1900000000000013,
          2.2000000000000015,
          2.2100000000000017,
          2.2200000000000015,
          2.2300000000000013,
          2.2400000000000015,
          2.2500000000000018,
          2.2600000000000016,
          2.2700000000000014,
          2.2800000000000016,
          2.290000000000002,
          2.3000000000000016,
          2.3100000000000014,
          2.3200000000000016,
          2.330000000000002,
          2.3400000000000016,
          2.3500000000000014,
          2.3600000000000017,
          2.370000000000002,
          2.3800000000000017,
          2.3900000000000015,
          2.4000000000000017,
          2.410000000000002,
          2.4200000000000017,
          2.4300000000000015,
          2.4400000000000017,
          2.450000000000002,
          2.4600000000000017,
          2.4700000000000015,
          2.4800000000000018,
          2.490000000000002,
          2.5000000000000018,
          2.5100000000000016,
          2.520000000000002,
          2.530000000000002,
          2.540000000000002,
          2.5500000000000016,
          2.560000000000002,
          2.570000000000002,
          2.580000000000002,
          2.5900000000000016,
          2.600000000000002,
          2.610000000000002,
          2.620000000000002,
          2.6300000000000017,
          2.640000000000002,
          2.650000000000002,
          2.660000000000002,
          2.6700000000000017,
          2.680000000000002,
          2.690000000000002,
          2.700000000000002,
          2.7100000000000017,
          2.720000000000002,
          2.730000000000002,
          2.740000000000002,
          2.7500000000000018,
          2.760000000000002,
          2.7700000000000022,
          2.780000000000002,
          2.790000000000002,
          2.800000000000002,
          2.8100000000000023,
          2.820000000000002,
          2.830000000000002,
          2.840000000000002,
          2.8500000000000023,
          2.860000000000002,
          2.870000000000002,
          2.880000000000002,
          2.8900000000000023,
          2.900000000000002,
          2.910000000000002,
          2.920000000000002,
          2.9300000000000024,
          2.940000000000002,
          2.950000000000002,
          2.960000000000002,
          2.9700000000000024,
          2.980000000000002,
          2.990000000000002,
          3.000000000000002,
          3.0100000000000025,
          3.0200000000000022,
          3.030000000000002,
          3.0400000000000023,
          3.0500000000000025,
          3.0600000000000023,
          3.070000000000002,
          3.0800000000000023,
          3.0900000000000025,
          3.1000000000000023,
          3.110000000000002,
          3.1200000000000023,
          3.1300000000000026,
          3.1400000000000023,
          3.150000000000002,
          3.1600000000000024,
          3.1700000000000026,
          3.1800000000000024,
          3.190000000000002,
          3.2000000000000024,
          3.2100000000000026,
          3.2200000000000024,
          3.230000000000002,
          3.2400000000000024,
          3.2500000000000027,
          3.2600000000000025,
          3.2700000000000022,
          3.2800000000000025,
          3.2900000000000027,
          3.3000000000000025,
          3.3100000000000023,
          3.3200000000000025,
          3.3300000000000027,
          3.3400000000000025,
          3.3500000000000023,
          3.3600000000000025,
          3.3700000000000028,
          3.3800000000000026,
          3.3900000000000023,
          3.4000000000000026,
          3.410000000000003,
          3.4200000000000026,
          3.4300000000000024,
          3.4400000000000026,
          3.450000000000003,
          3.4600000000000026,
          3.4700000000000024,
          3.4800000000000026,
          3.490000000000003
         ],
         "xaxis": "x",
         "y": [
          -0.11943834171258423,
          -0.12205758959712294,
          -0.12468676681960172,
          -0.12732592994911257,
          -0.12997513598527655,
          -0.13263444236234725,
          -0.1353039069533615,
          -0.13798358807433744,
          -0.14067354448852126,
          -0.14337383541068263,
          -0.14608452051145976,
          -0.14880565992175485,
          -0.1515373142371804,
          -0.15427954452255707,
          -0.15703241231646414,
          -0.15979597963584294,
          -0.16257030898065375,
          -0.16535546333858772,
          -0.16815150618983357,
          -0.1709585015119008,
          -0.17377651378449926,
          -0.17660560799447642,
          -0.17944584964081317,
          -0.1822973047396785,
          -0.18516003982954457,
          -0.18803412197636193,
          -0.1909196187787974,
          -0.19381659837353346,
          -0.1967251294406316,
          -0.19964528120895997,
          -0.20257712346168594,
          -0.20552072654183495,
          -0.2084761613579164,
          -0.2114434993896174,
          -0.2144228126935656,
          -0.21741417390916165,
          -0.22041765626448298,
          -0.22343333358225922,
          -0.22646128028592064,
          -0.22950157140572025,
          -0.23255428258493163,
          -0.23561949008612218,
          -0.238697270797504,
          -0.24178770223936272,
          -0.24489086257056614,
          -0.24800683059515333,
          -0.25113568576900525,
          -0.25427750820659867,
          -0.2574323786878439,
          -0.2606003786650084,
          -0.2637815902697263,
          -0.2669760963200962,
          -0.27018398032786844,
          -0.2734053265057222,
          -0.2766402197746349,
          -0.2798887457713444,
          -0.28315099085590634,
          -0.2864270421193466,
          -0.28971698739141205,
          -0.29302091524841906,
          -0.29633891502120324,
          -0.2996710768031708,
          -0.30301749145845236,
          -0.30637825063016305,
          -0.30975344674876787,
          -0.3131431730405555,
          -0.3165475235362219,
          -0.3199665930795653,
          -0.32340047733629385,
          -0.3268492728029481,
          -0.3303130768159406,
          -0.33379198756071254,
          -0.33728610408101184,
          -0.3407955262882922,
          -0.34432035497123614,
          -0.3478606918054042,
          -0.35141663936301093,
          -0.3549883011228313,
          -0.35857578148023844,
          -0.3621791857573748,
          -0.3657986202134594,
          -0.36943419205523254,
          -0.37308600944754156,
          -0.376754181524067,
          -0.380438818398195,
          -0.38414003117403545,
          -0.3878579319575895,
          -0.39159263386806825,
          -0.3953442510493653,
          -0.399112898681686,
          -0.40289869299333453,
          -0.4067017512726632,
          -0.4105221918801848,
          -0.4143601342608518,
          -0.4182156989565049,
          -0.422089007618493,
          -0.4259801830204678,
          -0.4298893490713567,
          -0.4338166308285147,
          -0.4377621545110606,
          -0.4417260475133995,
          -0.44570843841893376,
          -0.44970945701396703,
          -0.4537292343018039,
          -0.45776790251704785,
          -0.46182559514010185,
          -0.4659024469118737,
          -0.46999859384869064,
          -0.4741141732574263,
          -0.47824932375084284,
          -0.48240418526315326,
          -0.48657889906580626,
          -0.49077360778349827,
          -0.4949884554104153,
          -0.4992235873267107,
          -0.50347915031522,
          -0.5077552925784191,
          -0.5120521637556286,
          -0.516369914940469,
          -0.520708698698572,
          -0.5250686690855492,
          -0.5294499816652263,
          -0.5338527935281456,
          -0.538277263310341,
          -0.5427235512123907,
          -0.5471918190187532,
          -0.5516822301173899,
          -0.5561949495196807,
          -0.560730143880637,
          -0.5652879815194177,
          -0.5698686324401527,
          -0.5744722683530804,
          -0.5790990626960038,
          -0.5837491906560716,
          -0.5884228291918895,
          -0.5931201570559678,
          -0.5978413548175109,
          -0.6025866048855549,
          -0.6073560915324614,
          -0.6121500009177702,
          -0.6169685211124194,
          -0.6218118421233414,
          -0.6266801559184387,
          -0.6315736564519454,
          -0.6364925396901866,
          -0.6414370036377378,
          -0.6464072483639938,
          -0.6514034760301538,
          -0.6564258909166322,
          -0.6614746994509003,
          -0.6665501102357685,
          -0.6716523340781165,
          -0.6767815840180806,
          -0.6819380753587061,
          -0.6871220256960721,
          -0.6923336549499,
          -0.6975731853946537,
          -0.7028408416911408,
          -0.7081368509186227,
          -0.7134614426074447,
          -0.7188148487721989,
          -0.724197303945423,
          -0.7296090452118517,
          -0.7350503122432261,
          -0.7405213473336787,
          -0.7460223954356965,
          -0.7515537041966801,
          -0.7571155239961057,
          -0.7627081079833069,
          -0.7683317121158817,
          -0.7739865951987436,
          -0.7796730189238223,
          -0.7853912479104348,
          -0.7911415497463332,
          -0.7969241950294458,
          -0.8027394574103236,
          -0.8085876136353084,
          -0.8144689435904366,
          -0.8203837303460885,
          -0.8263322602024049,
          -0.8323148227354826,
          -0.8383317108443642,
          -0.8443832207988401,
          -0.8504696522880775,
          -0.8565913084700922,
          -0.8627484960220868,
          -0.8689415251916615,
          -0.8751707098489259,
          -0.8814363675395247,
          -0.8877388195385997,
          -0.8940783909057017,
          -0.9004554105406786,
          -0.9068702112405538,
          -0.913323129757423,
          -0.9198145068573821,
          -0.9263446873805129,
          -0.9329140203019484,
          -0.9395228587940406,
          -0.9461715602896513,
          -0.9528604865465916,
          -0.959590003713237,
          -0.9663604823953386,
          -0.9731722977240584,
          -0.9800258294252544,
          -0.9869214618900428,
          -0.9938595842466657,
          -1.0008405904336894,
          -1.0078648792745648,
          -1.01493285455358,
          -1.0220449250932342,
          -1.0292015048330627,
          -1.0364030129099473,
          -1.043649873739946,
          -1.0509425171016706,
          -1.0582813782212517,
          -1.0656668978589212,
          -1.073099522397257,
          -1.0805797039311156,
          -1.0881079003593002,
          -1.095684575477998,
          -1.1033101990760306,
          -1.1109852470319526,
          -1.1187102014130497,
          -1.1264855505762676,
          -1.13431178927113,
          -1.1421894187446773,
          -1.1501189468484843,
          -1.1581008881477977,
          -1.1661357640328436,
          -1.1742241028323614,
          -1.1823664399294078,
          -1.1905633178794868,
          -1.1988152865310662,
          -1.2071229031485284,
          -1.21548673253762,
          -1.2239073471734512,
          -1.2323853273311185,
          -1.2409212612190006,
          -1.2495157451148,
          -1.2581693835043917,
          -1.2668827892235504,
          -1.2756565836026246,
          -1.2844913966142277,
          -1.2933878670240218,
          -1.3023466425446695,
          -1.311368379993034,
          -1.320453745450701,
          -1.3296034144279114,
          -1.3388180720309864,
          -1.3480984131333351,
          -1.3574451425501302,
          -1.3668589752167426,
          -1.3763406363710398,
          -1.3858908617396357,
          -1.3955103977281935,
          -1.4052000016158896,
          -1.4149604417541422,
          -1.4247924977697133,
          -1.4346969607723006,
          -1.444674633566726,
          -1.4547263308698555,
          -1.4648528795323605,
          -1.4750551187654504,
          -1.4853339003727106,
          -1.4956900889871787,
          -1.5061245623137953,
          -1.5166382113773769,
          -1.5272319407762485,
          -1.5379066689417014,
          -1.5486633284034237,
          -1.5595028660610615,
          -1.5704262434620846,
          -1.5814344370861257,
          -1.5925284386359695,
          -1.603709255335368,
          -1.6149779102338797,
          -1.6263354425189191,
          -1.637782907835224,
          -1.6493213786119323,
          -1.660951944397501,
          -1.6726757122026688,
          -1.6844938068517037,
          -1.696407371342156,
          -1.70841756721337,
          -1.720525574924,
          -1.7327325942387828,
          -1.7450398446248423,
          -1.7574485656577932,
          -1.7699600174379313,
          -1.782575481016808,
          -1.7952962588344816,
          -1.808123675167768,
          -1.8210590765898118,
          -1.8341038324413153,
          -1.8472593353137643,
          -1.8605270015450182,
          -1.8739082717276259,
          -1.8874046112302632,
          -1.901017510732672,
          -1.9147484867745206
         ],
         "yaxis": "y"
        },
        {
         "hovertemplate": "PE=PE_with_promotion0_segm1<br>price=%{x}<br>PEValue=%{y}<extra></extra>",
         "legendgroup": "PE_with_promotion0_segm1",
         "line": {
          "color": "#EF553B",
          "dash": "solid"
         },
         "marker": {
          "symbol": "circle"
         },
         "mode": "lines",
         "name": "PE_with_promotion0_segm1",
         "orientation": "v",
         "showlegend": true,
         "type": "scatter",
         "x": [
          0.5,
          0.51,
          0.52,
          0.53,
          0.54,
          0.55,
          0.56,
          0.5700000000000001,
          0.5800000000000001,
          0.5900000000000001,
          0.6000000000000001,
          0.6100000000000001,
          0.6200000000000001,
          0.6300000000000001,
          0.6400000000000001,
          0.6500000000000001,
          0.6600000000000001,
          0.6700000000000002,
          0.6800000000000002,
          0.6900000000000002,
          0.7000000000000002,
          0.7100000000000002,
          0.7200000000000002,
          0.7300000000000002,
          0.7400000000000002,
          0.7500000000000002,
          0.7600000000000002,
          0.7700000000000002,
          0.7800000000000002,
          0.7900000000000003,
          0.8000000000000003,
          0.8100000000000003,
          0.8200000000000003,
          0.8300000000000003,
          0.8400000000000003,
          0.8500000000000003,
          0.8600000000000003,
          0.8700000000000003,
          0.8800000000000003,
          0.8900000000000003,
          0.9000000000000004,
          0.9100000000000004,
          0.9200000000000004,
          0.9300000000000004,
          0.9400000000000004,
          0.9500000000000004,
          0.9600000000000004,
          0.9700000000000004,
          0.9800000000000004,
          0.9900000000000004,
          1.0000000000000004,
          1.0100000000000005,
          1.0200000000000005,
          1.0300000000000005,
          1.0400000000000005,
          1.0500000000000005,
          1.0600000000000005,
          1.0700000000000005,
          1.0800000000000005,
          1.0900000000000005,
          1.1000000000000005,
          1.1100000000000005,
          1.1200000000000006,
          1.1300000000000006,
          1.1400000000000006,
          1.1500000000000006,
          1.1600000000000006,
          1.1700000000000006,
          1.1800000000000006,
          1.1900000000000006,
          1.2000000000000006,
          1.2100000000000006,
          1.2200000000000006,
          1.2300000000000006,
          1.2400000000000007,
          1.2500000000000007,
          1.2600000000000007,
          1.2700000000000007,
          1.2800000000000007,
          1.2900000000000007,
          1.3000000000000007,
          1.3100000000000007,
          1.3200000000000007,
          1.3300000000000007,
          1.3400000000000007,
          1.3500000000000008,
          1.3600000000000008,
          1.3700000000000008,
          1.3800000000000008,
          1.3900000000000008,
          1.4000000000000008,
          1.4100000000000008,
          1.4200000000000008,
          1.4300000000000008,
          1.4400000000000008,
          1.4500000000000008,
          1.4600000000000009,
          1.4700000000000009,
          1.4800000000000009,
          1.4900000000000009,
          1.5000000000000009,
          1.510000000000001,
          1.520000000000001,
          1.530000000000001,
          1.540000000000001,
          1.550000000000001,
          1.560000000000001,
          1.570000000000001,
          1.580000000000001,
          1.590000000000001,
          1.600000000000001,
          1.610000000000001,
          1.620000000000001,
          1.630000000000001,
          1.640000000000001,
          1.650000000000001,
          1.660000000000001,
          1.670000000000001,
          1.680000000000001,
          1.690000000000001,
          1.700000000000001,
          1.710000000000001,
          1.720000000000001,
          1.730000000000001,
          1.740000000000001,
          1.750000000000001,
          1.7600000000000011,
          1.7700000000000011,
          1.7800000000000011,
          1.7900000000000011,
          1.8000000000000012,
          1.8100000000000012,
          1.8200000000000012,
          1.8300000000000012,
          1.8400000000000012,
          1.8500000000000012,
          1.8600000000000012,
          1.8700000000000012,
          1.8800000000000012,
          1.8900000000000012,
          1.9000000000000012,
          1.9100000000000013,
          1.9200000000000013,
          1.9300000000000013,
          1.9400000000000013,
          1.9500000000000013,
          1.9600000000000013,
          1.9700000000000013,
          1.9800000000000013,
          1.9900000000000013,
          2.0000000000000013,
          2.0100000000000016,
          2.0200000000000014,
          2.030000000000001,
          2.0400000000000014,
          2.0500000000000016,
          2.0600000000000014,
          2.070000000000001,
          2.0800000000000014,
          2.0900000000000016,
          2.1000000000000014,
          2.110000000000001,
          2.1200000000000014,
          2.1300000000000017,
          2.1400000000000015,
          2.1500000000000012,
          2.1600000000000015,
          2.1700000000000017,
          2.1800000000000015,
          2.1900000000000013,
          2.2000000000000015,
          2.2100000000000017,
          2.2200000000000015,
          2.2300000000000013,
          2.2400000000000015,
          2.2500000000000018,
          2.2600000000000016,
          2.2700000000000014,
          2.2800000000000016,
          2.290000000000002,
          2.3000000000000016,
          2.3100000000000014,
          2.3200000000000016,
          2.330000000000002,
          2.3400000000000016,
          2.3500000000000014,
          2.3600000000000017,
          2.370000000000002,
          2.3800000000000017,
          2.3900000000000015,
          2.4000000000000017,
          2.410000000000002,
          2.4200000000000017,
          2.4300000000000015,
          2.4400000000000017,
          2.450000000000002,
          2.4600000000000017,
          2.4700000000000015,
          2.4800000000000018,
          2.490000000000002,
          2.5000000000000018,
          2.5100000000000016,
          2.520000000000002,
          2.530000000000002,
          2.540000000000002,
          2.5500000000000016,
          2.560000000000002,
          2.570000000000002,
          2.580000000000002,
          2.5900000000000016,
          2.600000000000002,
          2.610000000000002,
          2.620000000000002,
          2.6300000000000017,
          2.640000000000002,
          2.650000000000002,
          2.660000000000002,
          2.6700000000000017,
          2.680000000000002,
          2.690000000000002,
          2.700000000000002,
          2.7100000000000017,
          2.720000000000002,
          2.730000000000002,
          2.740000000000002,
          2.7500000000000018,
          2.760000000000002,
          2.7700000000000022,
          2.780000000000002,
          2.790000000000002,
          2.800000000000002,
          2.8100000000000023,
          2.820000000000002,
          2.830000000000002,
          2.840000000000002,
          2.8500000000000023,
          2.860000000000002,
          2.870000000000002,
          2.880000000000002,
          2.8900000000000023,
          2.900000000000002,
          2.910000000000002,
          2.920000000000002,
          2.9300000000000024,
          2.940000000000002,
          2.950000000000002,
          2.960000000000002,
          2.9700000000000024,
          2.980000000000002,
          2.990000000000002,
          3.000000000000002,
          3.0100000000000025,
          3.0200000000000022,
          3.030000000000002,
          3.0400000000000023,
          3.0500000000000025,
          3.0600000000000023,
          3.070000000000002,
          3.0800000000000023,
          3.0900000000000025,
          3.1000000000000023,
          3.110000000000002,
          3.1200000000000023,
          3.1300000000000026,
          3.1400000000000023,
          3.150000000000002,
          3.1600000000000024,
          3.1700000000000026,
          3.1800000000000024,
          3.190000000000002,
          3.2000000000000024,
          3.2100000000000026,
          3.2200000000000024,
          3.230000000000002,
          3.2400000000000024,
          3.2500000000000027,
          3.2600000000000025,
          3.2700000000000022,
          3.2800000000000025,
          3.2900000000000027,
          3.3000000000000025,
          3.3100000000000023,
          3.3200000000000025,
          3.3300000000000027,
          3.3400000000000025,
          3.3500000000000023,
          3.3600000000000025,
          3.3700000000000028,
          3.3800000000000026,
          3.3900000000000023,
          3.4000000000000026,
          3.410000000000003,
          3.4200000000000026,
          3.4300000000000024,
          3.4400000000000026,
          3.450000000000003,
          3.4600000000000026,
          3.4700000000000024,
          3.4800000000000026,
          3.490000000000003
         ],
         "xaxis": "x",
         "y": [
          -0.11860496268303192,
          -0.12120433485255934,
          -0.12381349199806364,
          -0.12643248947501104,
          -0.1290613830571984,
          -0.13170022894071254,
          -0.13434908374793447,
          -0.13700800453158934,
          -0.1396770487788426,
          -0.14235627441544305,
          -0.14504573980991345,
          -0.1477455037777892,
          -0.15045562558590586,
          -0.15317616495673597,
          -0.15590718207277632,
          -0.1586487375809855,
          -0.16140089259727342,
          -0.1641637087110427,
          -0.16693724798978293,
          -0.1697215729837189,
          -0.17251674673051254,
          -0.1753228327600205,
          -0.17813989509910724,
          -0.18096799827651489,
          -0.18380720732779027,
          -0.1866575878002703,
          -0.1895192057581262,
          -0.1923921277874676,
          -0.19527642100150708,
          -0.1981721530457865,
          -0.20107939210346512,
          -0.20399820690067133,
          -0.20692866671191826,
          -0.20987084136558437,
          -0.2128248012494598,
          -0.2157906173163597,
          -0.21876836108980507,
          -0.22175810466977244,
          -0.22475992073851314,
          -0.22777388256644324,
          -0.23080006401810496,
          -0.233838539558201,
          -0.23688938425770248,
          -0.2399526738000315,
          -0.2430284844873195,
          -0.2461168932467429,
          -0.24921797763693618,
          -0.2523318158544845,
          -0.2554584867404965,
          -0.25859806978725836,
          -0.261750645144971,
          -0.26491629362856983,
          -0.2680950967246315,
          -0.27128713659836484,
          -0.2744924961006911,
          -0.2777112587754115,
          -0.2809435088664658,
          -0.28418933132528257,
          -0.287448811818221,
          -0.29072203673410824,
          -0.29400909319187096,
          -0.2973100690482656,
          -0.3006250529057049,
          -0.30395413412018607,
          -0.30729740280931944,
          -0.3106549498604601,
          -0.31402686693894416,
          -0.31741324649643055,
          -0.32081418177935106,
          -0.32422976683746885,
          -0.3276600965325485,
          -0.33110526654713784,
          -0.3345653733934647,
          -0.33804051442244903,
          -0.34153078783283347,
          -0.34503629268043245,
          -0.34855712888750384,
          -0.35209339725224265,
          -0.35564519945840073,
          -0.3592126380850333,
          -0.3627958166163738,
          -0.366394839451841,
          -0.37000981191617804,
          -0.3736408402697272,
          -0.3772880317188414,
          -0.3809514944264357,
          -0.38463133752267975,
          -0.38832767111583405,
          -0.3920406063032328,
          -0.39577025518241393,
          -0.3995167308624013,
          -0.4032801474751387,
          -0.40706062018707945,
          -0.41085826521093477,
          -0.4146731998175817,
          -0.4185055423481348,
          -0.42235541222618234,
          -0.42622292997019207,
          -0.4301082172060874,
          -0.434011396679997,
          -0.4379325922711816,
          -0.44187192900513966,
          -0.44582953306689593,
          -0.44980553181447436,
          -0.45380005379256033,
          -0.457813228746354,
          -0.4618451876356176,
          -0.4658960626489213,
          -0.4699659872180891,
          -0.4740550960328499,
          -0.4781635250556961,
          -0.48229141153695243,
          -0.4864388940300604,
          -0.4906061124070807,
          -0.4947932078744171,
          -0.4990003229887659,
          -0.5032276016732954,
          -0.5074751892340577,
          -0.511743232376638,
          -0.5160318792230454,
          -0.5203412793288474,
          -0.5246715837005567,
          -0.5290229448132676,
          -0.5333955166285544,
          -0.5377894546126291,
          -0.5422049157547674,
          -0.546642058586006,
          -0.5511010431981158,
          -0.5555820312628559,
          -0.5600851860515137,
          -0.564610672454735,
          -0.5691586570026506,
          -0.5737293078853044,
          -0.5783227949733848,
          -0.5829392898392716,
          -0.5875789657783973,
          -0.5922419978309313,
          -0.5969285628037936,
          -0.6016388392930009,
          -0.6063730077063547,
          -0.6111312502864736,
          -0.6159137511341795,
          -0.6207206962322409,
          -0.6255522734694831,
          -0.630408672665267,
          -0.6352900855943501,
          -0.6401967060121291,
          -0.6451287296802768,
          -0.6500863543927767,
          -0.6550697800023654,
          -0.6600792084473883,
          -0.6651148437790768,
          -0.6701768921892539,
          -0.6752655620384795,
          -0.6803810638846377,
          -0.6855236105119793,
          -0.690693416960626,
          -0.6958907005565453,
          -0.7011156809420036,
          -0.706368580106508,
          -0.7116496224182456,
          -0.7169590346560301,
          -0.7222970460417629,
          -0.7276638882734215,
          -0.7330597955585831,
          -0.7384850046484964,
          -0.7439397548727068,
          -0.7494242881742498,
          -0.7549388491454246,
          -0.760483685064155,
          -0.7660590459309501,
          -0.7716651845064781,
          -0.7773023563497654,
          -0.7829708198570291,
          -0.7886708363011604,
          -0.7944026698718666,
          -0.8001665877164904,
          -0.8059628599815143,
          -0.8117917598547661,
          -0.8176535636083399,
          -0.8235485506422455,
          -0.8294770035288016,
          -0.8354392080577876,
          -0.8414354532823659,
          -0.8474660315657976,
          -0.8535312386289596,
          -0.8596313735986846,
          -0.8657667390569357,
          -0.8719376410908388,
          -0.8781443893435861,
          -0.8843872970662273,
          -0.8906666811703711,
          -0.8969828622818109,
          -0.9033361647950995,
          -0.9097269169290839,
          -0.9161554507834297,
          -0.922622102396148,
          -0.92912721180215,
          -0.9356711230928494,
          -0.9422541844768344,
          -0.9488767483416296,
          -0.955539171316579,
          -0.9622418143368611,
          -0.9689850427086709,
          -0.9757692261755876,
          -0.9825947389861576,
          -0.9894619599627148,
          -0.9963712725714644,
          -1.0033230649938638,
          -1.0103177301993207,
          -1.0173556660192433,
          -1.0244372752224635,
          -1.0315629655920755,
          -1.0387331500037102,
          -1.0459482465052807,
          -1.0532086783982297,
          -1.0605148743203163,
          -1.0678672683299715,
          -1.0752662999922593,
          -1.082712414466478,
          -1.0902060625954388,
          -1.0977477009964638,
          -1.1053377921541323,
          -1.112976804514822,
          -1.120665212583088,
          -1.1284034970199126,
          -1.136192144742876,
          -1.1440316490282887,
          -1.1519225096153298,
          -1.1598652328122412,
          -1.1678603316046225,
          -1.1759083257658705,
          -1.1840097419698241,
          -1.192165113905657,
          -1.2003749823950745,
          -1.2086398955118645,
          -1.2169604087038657,
          -1.225337084917405,
          -1.23377049472426,
          -1.242261216451212,
          -1.2508098363122488,
          -1.2594169485434845,
          -1.2680831555408525,
          -1.276809068000648,
          -1.285595305062985,
          -1.2944424944582382,
          -1.3033512726565448,
          -1.312322285020436,
          -1.3213561859606815,
          -1.3304536390954236,
          -1.3396153174126784,
          -1.3488419034362928,
          -1.3581340893954417,
          -1.367492577397752,
          -1.3769180796061478,
          -1.3864113184195055,
          -1.3959730266572201,
          -1.4056039477477782,
          -1.4153048359214435,
          -1.4250764564071505,
          -1.434919585633729,
          -1.4448350114355577,
          -1.454823533262768,
          -1.4648859623961097,
          -1.4750231221666101,
          -1.4852358481801415,
          -1.495524988547032,
          -1.505891404116844,
          -1.5163359687184697,
          -1.526859569405674,
          -1.5374631067082323,
          -1.5481474948888125,
          -1.5589136622057571,
          -1.5697625511819229,
          -1.5806951188797407,
          -1.5917123371826616,
          -1.6028151930831716,
          -1.614004688977546,
          -1.6252818429675298,
          -1.6366476891691388,
          -1.6481032780287723,
          -1.6596496766468476,
          -1.6712879691091576,
          -1.6830192568261715,
          -1.694844658880507,
          -1.706765312382791,
          -1.7187823728361624,
          -1.7308970145096465,
          -1.7431104308206673,
          -1.755423834726955,
          -1.767838459128116,
          -1.7803555572771437,
          -1.7929764032021678,
          -1.8057022921387342,
          -1.8185345409729188,
          -1.8314744886955978,
          -1.8445234968682112,
          -1.8576829501003473,
          -1.8709542565395056,
          -1.8843388483734027
         ],
         "yaxis": "y"
        }
       ],
       "layout": {
        "height": 300,
        "legend": {
         "title": {
          "text": "PE"
         },
         "tracegroupgap": 0
        },
        "margin": {
         "t": 60
        },
        "template": {
         "data": {
          "bar": [
           {
            "error_x": {
             "color": "#2a3f5f"
            },
            "error_y": {
             "color": "#2a3f5f"
            },
            "marker": {
             "line": {
              "color": "#E5ECF6",
              "width": 0.5
             },
             "pattern": {
              "fillmode": "overlay",
              "size": 10,
              "solidity": 0.2
             }
            },
            "type": "bar"
           }
          ],
          "barpolar": [
           {
            "marker": {
             "line": {
              "color": "#E5ECF6",
              "width": 0.5
             },
             "pattern": {
              "fillmode": "overlay",
              "size": 10,
              "solidity": 0.2
             }
            },
            "type": "barpolar"
           }
          ],
          "carpet": [
           {
            "aaxis": {
             "endlinecolor": "#2a3f5f",
             "gridcolor": "white",
             "linecolor": "white",
             "minorgridcolor": "white",
             "startlinecolor": "#2a3f5f"
            },
            "baxis": {
             "endlinecolor": "#2a3f5f",
             "gridcolor": "white",
             "linecolor": "white",
             "minorgridcolor": "white",
             "startlinecolor": "#2a3f5f"
            },
            "type": "carpet"
           }
          ],
          "choropleth": [
           {
            "colorbar": {
             "outlinewidth": 0,
             "ticks": ""
            },
            "type": "choropleth"
           }
          ],
          "contour": [
           {
            "colorbar": {
             "outlinewidth": 0,
             "ticks": ""
            },
            "colorscale": [
             [
              0,
              "#0d0887"
             ],
             [
              0.1111111111111111,
              "#46039f"
             ],
             [
              0.2222222222222222,
              "#7201a8"
             ],
             [
              0.3333333333333333,
              "#9c179e"
             ],
             [
              0.4444444444444444,
              "#bd3786"
             ],
             [
              0.5555555555555556,
              "#d8576b"
             ],
             [
              0.6666666666666666,
              "#ed7953"
             ],
             [
              0.7777777777777778,
              "#fb9f3a"
             ],
             [
              0.8888888888888888,
              "#fdca26"
             ],
             [
              1,
              "#f0f921"
             ]
            ],
            "type": "contour"
           }
          ],
          "contourcarpet": [
           {
            "colorbar": {
             "outlinewidth": 0,
             "ticks": ""
            },
            "type": "contourcarpet"
           }
          ],
          "heatmap": [
           {
            "colorbar": {
             "outlinewidth": 0,
             "ticks": ""
            },
            "colorscale": [
             [
              0,
              "#0d0887"
             ],
             [
              0.1111111111111111,
              "#46039f"
             ],
             [
              0.2222222222222222,
              "#7201a8"
             ],
             [
              0.3333333333333333,
              "#9c179e"
             ],
             [
              0.4444444444444444,
              "#bd3786"
             ],
             [
              0.5555555555555556,
              "#d8576b"
             ],
             [
              0.6666666666666666,
              "#ed7953"
             ],
             [
              0.7777777777777778,
              "#fb9f3a"
             ],
             [
              0.8888888888888888,
              "#fdca26"
             ],
             [
              1,
              "#f0f921"
             ]
            ],
            "type": "heatmap"
           }
          ],
          "heatmapgl": [
           {
            "colorbar": {
             "outlinewidth": 0,
             "ticks": ""
            },
            "colorscale": [
             [
              0,
              "#0d0887"
             ],
             [
              0.1111111111111111,
              "#46039f"
             ],
             [
              0.2222222222222222,
              "#7201a8"
             ],
             [
              0.3333333333333333,
              "#9c179e"
             ],
             [
              0.4444444444444444,
              "#bd3786"
             ],
             [
              0.5555555555555556,
              "#d8576b"
             ],
             [
              0.6666666666666666,
              "#ed7953"
             ],
             [
              0.7777777777777778,
              "#fb9f3a"
             ],
             [
              0.8888888888888888,
              "#fdca26"
             ],
             [
              1,
              "#f0f921"
             ]
            ],
            "type": "heatmapgl"
           }
          ],
          "histogram": [
           {
            "marker": {
             "pattern": {
              "fillmode": "overlay",
              "size": 10,
              "solidity": 0.2
             }
            },
            "type": "histogram"
           }
          ],
          "histogram2d": [
           {
            "colorbar": {
             "outlinewidth": 0,
             "ticks": ""
            },
            "colorscale": [
             [
              0,
              "#0d0887"
             ],
             [
              0.1111111111111111,
              "#46039f"
             ],
             [
              0.2222222222222222,
              "#7201a8"
             ],
             [
              0.3333333333333333,
              "#9c179e"
             ],
             [
              0.4444444444444444,
              "#bd3786"
             ],
             [
              0.5555555555555556,
              "#d8576b"
             ],
             [
              0.6666666666666666,
              "#ed7953"
             ],
             [
              0.7777777777777778,
              "#fb9f3a"
             ],
             [
              0.8888888888888888,
              "#fdca26"
             ],
             [
              1,
              "#f0f921"
             ]
            ],
            "type": "histogram2d"
           }
          ],
          "histogram2dcontour": [
           {
            "colorbar": {
             "outlinewidth": 0,
             "ticks": ""
            },
            "colorscale": [
             [
              0,
              "#0d0887"
             ],
             [
              0.1111111111111111,
              "#46039f"
             ],
             [
              0.2222222222222222,
              "#7201a8"
             ],
             [
              0.3333333333333333,
              "#9c179e"
             ],
             [
              0.4444444444444444,
              "#bd3786"
             ],
             [
              0.5555555555555556,
              "#d8576b"
             ],
             [
              0.6666666666666666,
              "#ed7953"
             ],
             [
              0.7777777777777778,
              "#fb9f3a"
             ],
             [
              0.8888888888888888,
              "#fdca26"
             ],
             [
              1,
              "#f0f921"
             ]
            ],
            "type": "histogram2dcontour"
           }
          ],
          "mesh3d": [
           {
            "colorbar": {
             "outlinewidth": 0,
             "ticks": ""
            },
            "type": "mesh3d"
           }
          ],
          "parcoords": [
           {
            "line": {
             "colorbar": {
              "outlinewidth": 0,
              "ticks": ""
             }
            },
            "type": "parcoords"
           }
          ],
          "pie": [
           {
            "automargin": true,
            "type": "pie"
           }
          ],
          "scatter": [
           {
            "fillpattern": {
             "fillmode": "overlay",
             "size": 10,
             "solidity": 0.2
            },
            "type": "scatter"
           }
          ],
          "scatter3d": [
           {
            "line": {
             "colorbar": {
              "outlinewidth": 0,
              "ticks": ""
             }
            },
            "marker": {
             "colorbar": {
              "outlinewidth": 0,
              "ticks": ""
             }
            },
            "type": "scatter3d"
           }
          ],
          "scattercarpet": [
           {
            "marker": {
             "colorbar": {
              "outlinewidth": 0,
              "ticks": ""
             }
            },
            "type": "scattercarpet"
           }
          ],
          "scattergeo": [
           {
            "marker": {
             "colorbar": {
              "outlinewidth": 0,
              "ticks": ""
             }
            },
            "type": "scattergeo"
           }
          ],
          "scattergl": [
           {
            "marker": {
             "colorbar": {
              "outlinewidth": 0,
              "ticks": ""
             }
            },
            "type": "scattergl"
           }
          ],
          "scattermapbox": [
           {
            "marker": {
             "colorbar": {
              "outlinewidth": 0,
              "ticks": ""
             }
            },
            "type": "scattermapbox"
           }
          ],
          "scatterpolar": [
           {
            "marker": {
             "colorbar": {
              "outlinewidth": 0,
              "ticks": ""
             }
            },
            "type": "scatterpolar"
           }
          ],
          "scatterpolargl": [
           {
            "marker": {
             "colorbar": {
              "outlinewidth": 0,
              "ticks": ""
             }
            },
            "type": "scatterpolargl"
           }
          ],
          "scatterternary": [
           {
            "marker": {
             "colorbar": {
              "outlinewidth": 0,
              "ticks": ""
             }
            },
            "type": "scatterternary"
           }
          ],
          "surface": [
           {
            "colorbar": {
             "outlinewidth": 0,
             "ticks": ""
            },
            "colorscale": [
             [
              0,
              "#0d0887"
             ],
             [
              0.1111111111111111,
              "#46039f"
             ],
             [
              0.2222222222222222,
              "#7201a8"
             ],
             [
              0.3333333333333333,
              "#9c179e"
             ],
             [
              0.4444444444444444,
              "#bd3786"
             ],
             [
              0.5555555555555556,
              "#d8576b"
             ],
             [
              0.6666666666666666,
              "#ed7953"
             ],
             [
              0.7777777777777778,
              "#fb9f3a"
             ],
             [
              0.8888888888888888,
              "#fdca26"
             ],
             [
              1,
              "#f0f921"
             ]
            ],
            "type": "surface"
           }
          ],
          "table": [
           {
            "cells": {
             "fill": {
              "color": "#EBF0F8"
             },
             "line": {
              "color": "white"
             }
            },
            "header": {
             "fill": {
              "color": "#C8D4E3"
             },
             "line": {
              "color": "white"
             }
            },
            "type": "table"
           }
          ]
         },
         "layout": {
          "annotationdefaults": {
           "arrowcolor": "#2a3f5f",
           "arrowhead": 0,
           "arrowwidth": 1
          },
          "autotypenumbers": "strict",
          "coloraxis": {
           "colorbar": {
            "outlinewidth": 0,
            "ticks": ""
           }
          },
          "colorscale": {
           "diverging": [
            [
             0,
             "#8e0152"
            ],
            [
             0.1,
             "#c51b7d"
            ],
            [
             0.2,
             "#de77ae"
            ],
            [
             0.3,
             "#f1b6da"
            ],
            [
             0.4,
             "#fde0ef"
            ],
            [
             0.5,
             "#f7f7f7"
            ],
            [
             0.6,
             "#e6f5d0"
            ],
            [
             0.7,
             "#b8e186"
            ],
            [
             0.8,
             "#7fbc41"
            ],
            [
             0.9,
             "#4d9221"
            ],
            [
             1,
             "#276419"
            ]
           ],
           "sequential": [
            [
             0,
             "#0d0887"
            ],
            [
             0.1111111111111111,
             "#46039f"
            ],
            [
             0.2222222222222222,
             "#7201a8"
            ],
            [
             0.3333333333333333,
             "#9c179e"
            ],
            [
             0.4444444444444444,
             "#bd3786"
            ],
            [
             0.5555555555555556,
             "#d8576b"
            ],
            [
             0.6666666666666666,
             "#ed7953"
            ],
            [
             0.7777777777777778,
             "#fb9f3a"
            ],
            [
             0.8888888888888888,
             "#fdca26"
            ],
            [
             1,
             "#f0f921"
            ]
           ],
           "sequentialminus": [
            [
             0,
             "#0d0887"
            ],
            [
             0.1111111111111111,
             "#46039f"
            ],
            [
             0.2222222222222222,
             "#7201a8"
            ],
            [
             0.3333333333333333,
             "#9c179e"
            ],
            [
             0.4444444444444444,
             "#bd3786"
            ],
            [
             0.5555555555555556,
             "#d8576b"
            ],
            [
             0.6666666666666666,
             "#ed7953"
            ],
            [
             0.7777777777777778,
             "#fb9f3a"
            ],
            [
             0.8888888888888888,
             "#fdca26"
            ],
            [
             1,
             "#f0f921"
            ]
           ]
          },
          "colorway": [
           "#636efa",
           "#EF553B",
           "#00cc96",
           "#ab63fa",
           "#FFA15A",
           "#19d3f3",
           "#FF6692",
           "#B6E880",
           "#FF97FF",
           "#FECB52"
          ],
          "font": {
           "color": "#2a3f5f"
          },
          "geo": {
           "bgcolor": "white",
           "lakecolor": "white",
           "landcolor": "#E5ECF6",
           "showlakes": true,
           "showland": true,
           "subunitcolor": "white"
          },
          "hoverlabel": {
           "align": "left"
          },
          "hovermode": "closest",
          "mapbox": {
           "style": "light"
          },
          "paper_bgcolor": "white",
          "plot_bgcolor": "#E5ECF6",
          "polar": {
           "angularaxis": {
            "gridcolor": "white",
            "linecolor": "white",
            "ticks": ""
           },
           "bgcolor": "#E5ECF6",
           "radialaxis": {
            "gridcolor": "white",
            "linecolor": "white",
            "ticks": ""
           }
          },
          "scene": {
           "xaxis": {
            "backgroundcolor": "#E5ECF6",
            "gridcolor": "white",
            "gridwidth": 2,
            "linecolor": "white",
            "showbackground": true,
            "ticks": "",
            "zerolinecolor": "white"
           },
           "yaxis": {
            "backgroundcolor": "#E5ECF6",
            "gridcolor": "white",
            "gridwidth": 2,
            "linecolor": "white",
            "showbackground": true,
            "ticks": "",
            "zerolinecolor": "white"
           },
           "zaxis": {
            "backgroundcolor": "#E5ECF6",
            "gridcolor": "white",
            "gridwidth": 2,
            "linecolor": "white",
            "showbackground": true,
            "ticks": "",
            "zerolinecolor": "white"
           }
          },
          "shapedefaults": {
           "line": {
            "color": "#2a3f5f"
           }
          },
          "ternary": {
           "aaxis": {
            "gridcolor": "white",
            "linecolor": "white",
            "ticks": ""
           },
           "baxis": {
            "gridcolor": "white",
            "linecolor": "white",
            "ticks": ""
           },
           "bgcolor": "#E5ECF6",
           "caxis": {
            "gridcolor": "white",
            "linecolor": "white",
            "ticks": ""
           }
          },
          "title": {
           "x": 0.05
          },
          "xaxis": {
           "automargin": true,
           "gridcolor": "white",
           "linecolor": "white",
           "ticks": "",
           "title": {
            "standoff": 15
           },
           "zerolinecolor": "white",
           "zerolinewidth": 2
          },
          "yaxis": {
           "automargin": true,
           "gridcolor": "white",
           "linecolor": "white",
           "ticks": "",
           "title": {
            "standoff": 15
           },
           "zerolinecolor": "white",
           "zerolinewidth": 2
          }
         }
        },
        "title": {
         "text": "Price Elasticity of Purchase quantity (with promotion and without promotion) for customer segment 1"
        },
        "width": 1100,
        "xaxis": {
         "anchor": "y",
         "autorange": true,
         "domain": [
          0,
          1
         ],
         "range": [
          0.5,
          3.490000000000003
         ],
         "title": {
          "text": "Avg Price of chocolate brand"
         },
         "type": "linear"
        },
        "yaxis": {
         "anchor": "x",
         "autorange": true,
         "domain": [
          0,
          1
         ],
         "range": [
          -2.0145342381129367,
          -0.01881921134461588
         ],
         "title": {
          "text": "Mean Price Elasticity of Purchase quantity"
         },
         "type": "linear"
        }
       }
      },
      "image/png": "[encoded data removed]",
      "text/html": [
       "<div>                            <div id=\"8a0a17d9-ad5d-4855-862d-0ee67af8ae1e\" class=\"plotly-graph-div\" style=\"height:300px; width:1100px;\"></div>            <script type=\"text/javascript\">                require([\"plotly\"], function(Plotly) {                    window.PLOTLYENV=window.PLOTLYENV || {};                                    if (document.getElementById(\"8a0a17d9-ad5d-4855-862d-0ee67af8ae1e\")) {                    Plotly.newPlot(                        \"8a0a17d9-ad5d-4855-862d-0ee67af8ae1e\",                        [{\"hovertemplate\":\"PE=PE_with_promotion1_segm1\\u003cbr\\u003eprice=%{x}\\u003cbr\\u003ePEValue=%{y}\\u003cextra\\u003e\\u003c\\u002fextra\\u003e\",\"legendgroup\":\"PE_with_promotion1_segm1\",\"line\":{\"color\":\"#636efa\",\"dash\":\"solid\"},\"marker\":{\"symbol\":\"circle\"},\"mode\":\"lines\",\"name\":\"PE_with_promotion1_segm1\",\"orientation\":\"v\",\"showlegend\":true,\"x\":[0.5,0.51,0.52,0.53,0.54,0.55,0.56,0.5700000000000001,0.5800000000000001,0.5900000000000001,0.6000000000000001,0.6100000000000001,0.6200000000000001,0.6300000000000001,0.6400000000000001,0.6500000000000001,0.6600000000000001,0.6700000000000002,0.6800000000000002,0.6900000000000002,0.7000000000000002,0.7100000000000002,0.7200000000000002,0.7300000000000002,0.7400000000000002,0.7500000000000002,0.7600000000000002,0.7700000000000002,0.7800000000000002,0.7900000000000003,0.8000000000000003,0.8100000000000003,0.8200000000000003,0.8300000000000003,0.8400000000000003,0.8500000000000003,0.8600000000000003,0.8700000000000003,0.8800000000000003,0.8900000000000003,0.9000000000000004,0.9100000000000004,0.9200000000000004,0.9300000000000004,0.9400000000000004,0.9500000000000004,0.9600000000000004,0.9700000000000004,0.9800000000000004,0.9900000000000004,1.0000000000000004,1.0100000000000005,1.0200000000000005,1.0300000000000005,1.0400000000000005,1.0500000000000005,1.0600000000000005,1.0700000000000005,1.0800000000000005,1.0900000000000005,1.1000000000000005,1.1100000000000005,1.1200000000000006,1.1300000000000006,1.1400000000000006,1.1500000000000006,1.1600000000000006,1.1700000000000006,1.1800000000000006,1.1900000000000006,1.2000000000000006,1.2100000000000006,1.2200000000000006,1.2300000000000006,1.2400000000000007,1.2500000000000007,1.2600000000000007,1.2700000000000007,1.2800000000000007,1.2900000000000007,1.3000000000000007,1.3100000000000007,1.3200000000000007,1.3300000000000007,1.3400000000000007,1.3500000000000008,1.3600000000000008,1.3700000000000008,1.3800000000000008,1.3900000000000008,1.4000000000000008,1.4100000000000008,1.4200000000000008,1.4300000000000008,1.4400000000000008,1.4500000000000008,1.4600000000000009,1.4700000000000009,1.4800000000000009,1.4900000000000009,1.5000000000000009,1.510000000000001,1.520000000000001,1.530000000000001,1.540000000000001,1.550000000000001,1.560000000000001,1.570000000000001,1.580000000000001,1.590000000000001,1.600000000000001,1.610000000000001,1.620000000000001,1.630000000000001,1.640000000000001,1.650000000000001,1.660000000000001,1.670000000000001,1.680000000000001,1.690000000000001,1.700000000000001,1.710000000000001,1.720000000000001,1.730000000000001,1.740000000000001,1.750000000000001,1.7600000000000011,1.7700000000000011,1.7800000000000011,1.7900000000000011,1.8000000000000012,1.8100000000000012,1.8200000000000012,1.8300000000000012,1.8400000000000012,1.8500000000000012,1.8600000000000012,1.8700000000000012,1.8800000000000012,1.8900000000000012,1.9000000000000012,1.9100000000000013,1.9200000000000013,1.9300000000000013,1.9400000000000013,1.9500000000000013,1.9600000000000013,1.9700000000000013,1.9800000000000013,1.9900000000000013,2.0000000000000013,2.0100000000000016,2.0200000000000014,2.030000000000001,2.0400000000000014,2.0500000000000016,2.0600000000000014,2.070000000000001,2.0800000000000014,2.0900000000000016,2.1000000000000014,2.110000000000001,2.1200000000000014,2.1300000000000017,2.1400000000000015,2.1500000000000012,2.1600000000000015,2.1700000000000017,2.1800000000000015,2.1900000000000013,2.2000000000000015,2.2100000000000017,2.2200000000000015,2.2300000000000013,2.2400000000000015,2.2500000000000018,2.2600000000000016,2.2700000000000014,2.2800000000000016,2.290000000000002,2.3000000000000016,2.3100000000000014,2.3200000000000016,2.330000000000002,2.3400000000000016,2.3500000000000014,2.3600000000000017,2.370000000000002,2.3800000000000017,2.3900000000000015,2.4000000000000017,2.410000000000002,2.4200000000000017,2.4300000000000015,2.4400000000000017,2.450000000000002,2.4600000000000017,2.4700000000000015,2.4800000000000018,2.490000000000002,2.5000000000000018,2.5100000000000016,2.520000000000002,2.530000000000002,2.540000000000002,2.5500000000000016,2.560000000000002,2.570000000000002,2.580000000000002,2.5900000000000016,2.600000000000002,2.610000000000002,2.620000000000002,2.6300000000000017,2.640000000000002,2.650000000000002,2.660000000000002,2.6700000000000017,2.680000000000002,2.690000000000002,2.700000000000002,2.7100000000000017,2.720000000000002,2.730000000000002,2.740000000000002,2.7500000000000018,2.760000000000002,2.7700000000000022,2.780000000000002,2.790000000000002,2.800000000000002,2.8100000000000023,2.820000000000002,2.830000000000002,2.840000000000002,2.8500000000000023,2.860000000000002,2.870000000000002,2.880000000000002,2.8900000000000023,2.900000000000002,2.910000000000002,2.920000000000002,2.9300000000000024,2.940000000000002,2.950000000000002,2.960000000000002,2.9700000000000024,2.980000000000002,2.990000000000002,3.000000000000002,3.0100000000000025,3.0200000000000022,3.030000000000002,3.0400000000000023,3.0500000000000025,3.0600000000000023,3.070000000000002,3.0800000000000023,3.0900000000000025,3.1000000000000023,3.110000000000002,3.1200000000000023,3.1300000000000026,3.1400000000000023,3.150000000000002,3.1600000000000024,3.1700000000000026,3.1800000000000024,3.190000000000002,3.2000000000000024,3.2100000000000026,3.2200000000000024,3.230000000000002,3.2400000000000024,3.2500000000000027,3.2600000000000025,3.2700000000000022,3.2800000000000025,3.2900000000000027,3.3000000000000025,3.3100000000000023,3.3200000000000025,3.3300000000000027,3.3400000000000025,3.3500000000000023,3.3600000000000025,3.3700000000000028,3.3800000000000026,3.3900000000000023,3.4000000000000026,3.410000000000003,3.4200000000000026,3.4300000000000024,3.4400000000000026,3.450000000000003,3.4600000000000026,3.4700000000000024,3.4800000000000026,3.490000000000003],\"xaxis\":\"x\",\"y\":[-0.11943834171258423,-0.12205758959712294,-0.12468676681960172,-0.12732592994911257,-0.12997513598527655,-0.13263444236234725,-0.1353039069533615,-0.13798358807433744,-0.14067354448852126,-0.14337383541068263,-0.14608452051145976,-0.14880565992175485,-0.1515373142371804,-0.15427954452255707,-0.15703241231646414,-0.15979597963584294,-0.16257030898065375,-0.16535546333858772,-0.16815150618983357,-0.1709585015119008,-0.17377651378449926,-0.17660560799447642,-0.17944584964081317,-0.1822973047396785,-0.18516003982954457,-0.18803412197636193,-0.1909196187787974,-0.19381659837353346,-0.1967251294406316,-0.19964528120895997,-0.20257712346168594,-0.20552072654183495,-0.2084761613579164,-0.2114434993896174,-0.2144228126935656,-0.21741417390916165,-0.22041765626448298,-0.22343333358225922,-0.22646128028592064,-0.22950157140572025,-0.23255428258493163,-0.23561949008612218,-0.238697270797504,-0.24178770223936272,-0.24489086257056614,-0.24800683059515333,-0.25113568576900525,-0.25427750820659867,-0.2574323786878439,-0.2606003786650084,-0.2637815902697263,-0.2669760963200962,-0.27018398032786844,-0.2734053265057222,-0.2766402197746349,-0.2798887457713444,-0.28315099085590634,-0.2864270421193466,-0.28971698739141205,-0.29302091524841906,-0.29633891502120324,-0.2996710768031708,-0.30301749145845236,-0.30637825063016305,-0.30975344674876787,-0.3131431730405555,-0.3165475235362219,-0.3199665930795653,-0.32340047733629385,-0.3268492728029481,-0.3303130768159406,-0.33379198756071254,-0.33728610408101184,-0.3407955262882922,-0.34432035497123614,-0.3478606918054042,-0.35141663936301093,-0.3549883011228313,-0.35857578148023844,-0.3621791857573748,-0.3657986202134594,-0.36943419205523254,-0.37308600944754156,-0.376754181524067,-0.380438818398195,-0.38414003117403545,-0.3878579319575895,-0.39159263386806825,-0.3953442510493653,-0.399112898681686,-0.40289869299333453,-0.4067017512726632,-0.4105221918801848,-0.4143601342608518,-0.4182156989565049,-0.422089007618493,-0.4259801830204678,-0.4298893490713567,-0.4338166308285147,-0.4377621545110606,-0.4417260475133995,-0.44570843841893376,-0.44970945701396703,-0.4537292343018039,-0.45776790251704785,-0.46182559514010185,-0.4659024469118737,-0.46999859384869064,-0.4741141732574263,-0.47824932375084284,-0.48240418526315326,-0.48657889906580626,-0.49077360778349827,-0.4949884554104153,-0.4992235873267107,-0.50347915031522,-0.5077552925784191,-0.5120521637556286,-0.516369914940469,-0.520708698698572,-0.5250686690855492,-0.5294499816652263,-0.5338527935281456,-0.538277263310341,-0.5427235512123907,-0.5471918190187532,-0.5516822301173899,-0.5561949495196807,-0.560730143880637,-0.5652879815194177,-0.5698686324401527,-0.5744722683530804,-0.5790990626960038,-0.5837491906560716,-0.5884228291918895,-0.5931201570559678,-0.5978413548175109,-0.6025866048855549,-0.6073560915324614,-0.6121500009177702,-0.6169685211124194,-0.6218118421233414,-0.6266801559184387,-0.6315736564519454,-0.6364925396901866,-0.6414370036377378,-0.6464072483639938,-0.6514034760301538,-0.6564258909166322,-0.6614746994509003,-0.6665501102357685,-0.6716523340781165,-0.6767815840180806,-0.6819380753587061,-0.6871220256960721,-0.6923336549499,-0.6975731853946537,-0.7028408416911408,-0.7081368509186227,-0.7134614426074447,-0.7188148487721989,-0.724197303945423,-0.7296090452118517,-0.7350503122432261,-0.7405213473336787,-0.7460223954356965,-0.7515537041966801,-0.7571155239961057,-0.7627081079833069,-0.7683317121158817,-0.7739865951987436,-0.7796730189238223,-0.7853912479104348,-0.7911415497463332,-0.7969241950294458,-0.8027394574103236,-0.8085876136353084,-0.8144689435904366,-0.8203837303460885,-0.8263322602024049,-0.8323148227354826,-0.8383317108443642,-0.8443832207988401,-0.8504696522880775,-0.8565913084700922,-0.8627484960220868,-0.8689415251916615,-0.8751707098489259,-0.8814363675395247,-0.8877388195385997,-0.8940783909057017,-0.9004554105406786,-0.9068702112405538,-0.913323129757423,-0.9198145068573821,-0.9263446873805129,-0.9329140203019484,-0.9395228587940406,-0.9461715602896513,-0.9528604865465916,-0.959590003713237,-0.9663604823953386,-0.9731722977240584,-0.9800258294252544,-0.9869214618900428,-0.9938595842466657,-1.0008405904336894,-1.0078648792745648,-1.01493285455358,-1.0220449250932342,-1.0292015048330627,-1.0364030129099473,-1.043649873739946,-1.0509425171016706,-1.0582813782212517,-1.0656668978589212,-1.073099522397257,-1.0805797039311156,-1.0881079003593002,-1.095684575477998,-1.1033101990760306,-1.1109852470319526,-1.1187102014130497,-1.1264855505762676,-1.13431178927113,-1.1421894187446773,-1.1501189468484843,-1.1581008881477977,-1.1661357640328436,-1.1742241028323614,-1.1823664399294078,-1.1905633178794868,-1.1988152865310662,-1.2071229031485284,-1.21548673253762,-1.2239073471734512,-1.2323853273311185,-1.2409212612190006,-1.2495157451148,-1.2581693835043917,-1.2668827892235504,-1.2756565836026246,-1.2844913966142277,-1.2933878670240218,-1.3023466425446695,-1.311368379993034,-1.320453745450701,-1.3296034144279114,-1.3388180720309864,-1.3480984131333351,-1.3574451425501302,-1.3668589752167426,-1.3763406363710398,-1.3858908617396357,-1.3955103977281935,-1.4052000016158896,-1.4149604417541422,-1.4247924977697133,-1.4346969607723006,-1.444674633566726,-1.4547263308698555,-1.4648528795323605,-1.4750551187654504,-1.4853339003727106,-1.4956900889871787,-1.5061245623137953,-1.5166382113773769,-1.5272319407762485,-1.5379066689417014,-1.5486633284034237,-1.5595028660610615,-1.5704262434620846,-1.5814344370861257,-1.5925284386359695,-1.603709255335368,-1.6149779102338797,-1.6263354425189191,-1.637782907835224,-1.6493213786119323,-1.660951944397501,-1.6726757122026688,-1.6844938068517037,-1.696407371342156,-1.70841756721337,-1.720525574924,-1.7327325942387828,-1.7450398446248423,-1.7574485656577932,-1.7699600174379313,-1.782575481016808,-1.7952962588344816,-1.808123675167768,-1.8210590765898118,-1.8341038324413153,-1.8472593353137643,-1.8605270015450182,-1.8739082717276259,-1.8874046112302632,-1.901017510732672,-1.9147484867745206],\"yaxis\":\"y\",\"type\":\"scatter\"},{\"hovertemplate\":\"PE=PE_with_promotion0_segm1\\u003cbr\\u003eprice=%{x}\\u003cbr\\u003ePEValue=%{y}\\u003cextra\\u003e\\u003c\\u002fextra\\u003e\",\"legendgroup\":\"PE_with_promotion0_segm1\",\"line\":{\"color\":\"#EF553B\",\"dash\":\"solid\"},\"marker\":{\"symbol\":\"circle\"},\"mode\":\"lines\",\"name\":\"PE_with_promotion0_segm1\",\"orientation\":\"v\",\"showlegend\":true,\"x\":[0.5,0.51,0.52,0.53,0.54,0.55,0.56,0.5700000000000001,0.5800000000000001,0.5900000000000001,0.6000000000000001,0.6100000000000001,0.6200000000000001,0.6300000000000001,0.6400000000000001,0.6500000000000001,0.6600000000000001,0.6700000000000002,0.6800000000000002,0.6900000000000002,0.7000000000000002,0.7100000000000002,0.7200000000000002,0.7300000000000002,0.7400000000000002,0.7500000000000002,0.7600000000000002,0.7700000000000002,0.7800000000000002,0.7900000000000003,0.8000000000000003,0.8100000000000003,0.8200000000000003,0.8300000000000003,0.8400000000000003,0.8500000000000003,0.8600000000000003,0.8700000000000003,0.8800000000000003,0.8900000000000003,0.9000000000000004,0.9100000000000004,0.9200000000000004,0.9300000000000004,0.9400000000000004,0.9500000000000004,0.9600000000000004,0.9700000000000004,0.9800000000000004,0.9900000000000004,1.0000000000000004,1.0100000000000005,1.0200000000000005,1.0300000000000005,1.0400000000000005,1.0500000000000005,1.0600000000000005,1.0700000000000005,1.0800000000000005,1.0900000000000005,1.1000000000000005,1.1100000000000005,1.1200000000000006,1.1300000000000006,1.1400000000000006,1.1500000000000006,1.1600000000000006,1.1700000000000006,1.1800000000000006,1.1900000000000006,1.2000000000000006,1.2100000000000006,1.2200000000000006,1.2300000000000006,1.2400000000000007,1.2500000000000007,1.2600000000000007,1.2700000000000007,1.2800000000000007,1.2900000000000007,1.3000000000000007,1.3100000000000007,1.3200000000000007,1.3300000000000007,1.3400000000000007,1.3500000000000008,1.3600000000000008,1.3700000000000008,1.3800000000000008,1.3900000000000008,1.4000000000000008,1.4100000000000008,1.4200000000000008,1.4300000000000008,1.4400000000000008,1.4500000000000008,1.4600000000000009,1.4700000000000009,1.4800000000000009,1.4900000000000009,1.5000000000000009,1.510000000000001,1.520000000000001,1.530000000000001,1.540000000000001,1.550000000000001,1.560000000000001,1.570000000000001,1.580000000000001,1.590000000000001,1.600000000000001,1.610000000000001,1.620000000000001,1.630000000000001,1.640000000000001,1.650000000000001,1.660000000000001,1.670000000000001,1.680000000000001,1.690000000000001,1.700000000000001,1.710000000000001,1.720000000000001,1.730000000000001,1.740000000000001,1.750000000000001,1.7600000000000011,1.7700000000000011,1.7800000000000011,1.7900000000000011,1.8000000000000012,1.8100000000000012,1.8200000000000012,1.8300000000000012,1.8400000000000012,1.8500000000000012,1.8600000000000012,1.8700000000000012,1.8800000000000012,1.8900000000000012,1.9000000000000012,1.9100000000000013,1.9200000000000013,1.9300000000000013,1.9400000000000013,1.9500000000000013,1.9600000000000013,1.9700000000000013,1.9800000000000013,1.9900000000000013,2.0000000000000013,2.0100000000000016,2.0200000000000014,2.030000000000001,2.0400000000000014,2.0500000000000016,2.0600000000000014,2.070000000000001,2.0800000000000014,2.0900000000000016,2.1000000000000014,2.110000000000001,2.1200000000000014,2.1300000000000017,2.1400000000000015,2.1500000000000012,2.1600000000000015,2.1700000000000017,2.1800000000000015,2.1900000000000013,2.2000000000000015,2.2100000000000017,2.2200000000000015,2.2300000000000013,2.2400000000000015,2.2500000000000018,2.2600000000000016,2.2700000000000014,2.2800000000000016,2.290000000000002,2.3000000000000016,2.3100000000000014,2.3200000000000016,2.330000000000002,2.3400000000000016,2.3500000000000014,2.3600000000000017,2.370000000000002,2.3800000000000017,2.3900000000000015,2.4000000000000017,2.410000000000002,2.4200000000000017,2.4300000000000015,2.4400000000000017,2.450000000000002,2.4600000000000017,2.4700000000000015,2.4800000000000018,2.490000000000002,2.5000000000000018,2.5100000000000016,2.520000000000002,2.530000000000002,2.540000000000002,2.5500000000000016,2.560000000000002,2.570000000000002,2.580000000000002,2.5900000000000016,2.600000000000002,2.610000000000002,2.620000000000002,2.6300000000000017,2.640000000000002,2.650000000000002,2.660000000000002,2.6700000000000017,2.680000000000002,2.690000000000002,2.700000000000002,2.7100000000000017,2.720000000000002,2.730000000000002,2.740000000000002,2.7500000000000018,2.760000000000002,2.7700000000000022,2.780000000000002,2.790000000000002,2.800000000000002,2.8100000000000023,2.820000000000002,2.830000000000002,2.840000000000002,2.8500000000000023,2.860000000000002,2.870000000000002,2.880000000000002,2.8900000000000023,2.900000000000002,2.910000000000002,2.920000000000002,2.9300000000000024,2.940000000000002,2.950000000000002,2.960000000000002,2.9700000000000024,2.980000000000002,2.990000000000002,3.000000000000002,3.0100000000000025,3.0200000000000022,3.030000000000002,3.0400000000000023,3.0500000000000025,3.0600000000000023,3.070000000000002,3.0800000000000023,3.0900000000000025,3.1000000000000023,3.110000000000002,3.1200000000000023,3.1300000000000026,3.1400000000000023,3.150000000000002,3.1600000000000024,3.1700000000000026,3.1800000000000024,3.190000000000002,3.2000000000000024,3.2100000000000026,3.2200000000000024,3.230000000000002,3.2400000000000024,3.2500000000000027,3.2600000000000025,3.2700000000000022,3.2800000000000025,3.2900000000000027,3.3000000000000025,3.3100000000000023,3.3200000000000025,3.3300000000000027,3.3400000000000025,3.3500000000000023,3.3600000000000025,3.3700000000000028,3.3800000000000026,3.3900000000000023,3.4000000000000026,3.410000000000003,3.4200000000000026,3.4300000000000024,3.4400000000000026,3.450000000000003,3.4600000000000026,3.4700000000000024,3.4800000000000026,3.490000000000003],\"xaxis\":\"x\",\"y\":[-0.11860496268303192,-0.12120433485255934,-0.12381349199806364,-0.12643248947501104,-0.1290613830571984,-0.13170022894071254,-0.13434908374793447,-0.13700800453158934,-0.1396770487788426,-0.14235627441544305,-0.14504573980991345,-0.1477455037777892,-0.15045562558590586,-0.15317616495673597,-0.15590718207277632,-0.1586487375809855,-0.16140089259727342,-0.1641637087110427,-0.16693724798978293,-0.1697215729837189,-0.17251674673051254,-0.1753228327600205,-0.17813989509910724,-0.18096799827651489,-0.18380720732779027,-0.1866575878002703,-0.1895192057581262,-0.1923921277874676,-0.19527642100150708,-0.1981721530457865,-0.20107939210346512,-0.20399820690067133,-0.20692866671191826,-0.20987084136558437,-0.2128248012494598,-0.2157906173163597,-0.21876836108980507,-0.22175810466977244,-0.22475992073851314,-0.22777388256644324,-0.23080006401810496,-0.233838539558201,-0.23688938425770248,-0.2399526738000315,-0.2430284844873195,-0.2461168932467429,-0.24921797763693618,-0.2523318158544845,-0.2554584867404965,-0.25859806978725836,-0.261750645144971,-0.26491629362856983,-0.2680950967246315,-0.27128713659836484,-0.2744924961006911,-0.2777112587754115,-0.2809435088664658,-0.28418933132528257,-0.287448811818221,-0.29072203673410824,-0.29400909319187096,-0.2973100690482656,-0.3006250529057049,-0.30395413412018607,-0.30729740280931944,-0.3106549498604601,-0.31402686693894416,-0.31741324649643055,-0.32081418177935106,-0.32422976683746885,-0.3276600965325485,-0.33110526654713784,-0.3345653733934647,-0.33804051442244903,-0.34153078783283347,-0.34503629268043245,-0.34855712888750384,-0.35209339725224265,-0.35564519945840073,-0.3592126380850333,-0.3627958166163738,-0.366394839451841,-0.37000981191617804,-0.3736408402697272,-0.3772880317188414,-0.3809514944264357,-0.38463133752267975,-0.38832767111583405,-0.3920406063032328,-0.39577025518241393,-0.3995167308624013,-0.4032801474751387,-0.40706062018707945,-0.41085826521093477,-0.4146731998175817,-0.4185055423481348,-0.42235541222618234,-0.42622292997019207,-0.4301082172060874,-0.434011396679997,-0.4379325922711816,-0.44187192900513966,-0.44582953306689593,-0.44980553181447436,-0.45380005379256033,-0.457813228746354,-0.4618451876356176,-0.4658960626489213,-0.4699659872180891,-0.4740550960328499,-0.4781635250556961,-0.48229141153695243,-0.4864388940300604,-0.4906061124070807,-0.4947932078744171,-0.4990003229887659,-0.5032276016732954,-0.5074751892340577,-0.511743232376638,-0.5160318792230454,-0.5203412793288474,-0.5246715837005567,-0.5290229448132676,-0.5333955166285544,-0.5377894546126291,-0.5422049157547674,-0.546642058586006,-0.5511010431981158,-0.5555820312628559,-0.5600851860515137,-0.564610672454735,-0.5691586570026506,-0.5737293078853044,-0.5783227949733848,-0.5829392898392716,-0.5875789657783973,-0.5922419978309313,-0.5969285628037936,-0.6016388392930009,-0.6063730077063547,-0.6111312502864736,-0.6159137511341795,-0.6207206962322409,-0.6255522734694831,-0.630408672665267,-0.6352900855943501,-0.6401967060121291,-0.6451287296802768,-0.6500863543927767,-0.6550697800023654,-0.6600792084473883,-0.6651148437790768,-0.6701768921892539,-0.6752655620384795,-0.6803810638846377,-0.6855236105119793,-0.690693416960626,-0.6958907005565453,-0.7011156809420036,-0.706368580106508,-0.7116496224182456,-0.7169590346560301,-0.7222970460417629,-0.7276638882734215,-0.7330597955585831,-0.7384850046484964,-0.7439397548727068,-0.7494242881742498,-0.7549388491454246,-0.760483685064155,-0.7660590459309501,-0.7716651845064781,-0.7773023563497654,-0.7829708198570291,-0.7886708363011604,-0.7944026698718666,-0.8001665877164904,-0.8059628599815143,-0.8117917598547661,-0.8176535636083399,-0.8235485506422455,-0.8294770035288016,-0.8354392080577876,-0.8414354532823659,-0.8474660315657976,-0.8535312386289596,-0.8596313735986846,-0.8657667390569357,-0.8719376410908388,-0.8781443893435861,-0.8843872970662273,-0.8906666811703711,-0.8969828622818109,-0.9033361647950995,-0.9097269169290839,-0.9161554507834297,-0.922622102396148,-0.92912721180215,-0.9356711230928494,-0.9422541844768344,-0.9488767483416296,-0.955539171316579,-0.9622418143368611,-0.9689850427086709,-0.9757692261755876,-0.9825947389861576,-0.9894619599627148,-0.9963712725714644,-1.0033230649938638,-1.0103177301993207,-1.0173556660192433,-1.0244372752224635,-1.0315629655920755,-1.0387331500037102,-1.0459482465052807,-1.0532086783982297,-1.0605148743203163,-1.0678672683299715,-1.0752662999922593,-1.082712414466478,-1.0902060625954388,-1.0977477009964638,-1.1053377921541323,-1.112976804514822,-1.120665212583088,-1.1284034970199126,-1.136192144742876,-1.1440316490282887,-1.1519225096153298,-1.1598652328122412,-1.1678603316046225,-1.1759083257658705,-1.1840097419698241,-1.192165113905657,-1.2003749823950745,-1.2086398955118645,-1.2169604087038657,-1.225337084917405,-1.23377049472426,-1.242261216451212,-1.2508098363122488,-1.2594169485434845,-1.2680831555408525,-1.276809068000648,-1.285595305062985,-1.2944424944582382,-1.3033512726565448,-1.312322285020436,-1.3213561859606815,-1.3304536390954236,-1.3396153174126784,-1.3488419034362928,-1.3581340893954417,-1.367492577397752,-1.3769180796061478,-1.3864113184195055,-1.3959730266572201,-1.4056039477477782,-1.4153048359214435,-1.4250764564071505,-1.434919585633729,-1.4448350114355577,-1.454823533262768,-1.4648859623961097,-1.4750231221666101,-1.4852358481801415,-1.495524988547032,-1.505891404116844,-1.5163359687184697,-1.526859569405674,-1.5374631067082323,-1.5481474948888125,-1.5589136622057571,-1.5697625511819229,-1.5806951188797407,-1.5917123371826616,-1.6028151930831716,-1.614004688977546,-1.6252818429675298,-1.6366476891691388,-1.6481032780287723,-1.6596496766468476,-1.6712879691091576,-1.6830192568261715,-1.694844658880507,-1.706765312382791,-1.7187823728361624,-1.7308970145096465,-1.7431104308206673,-1.755423834726955,-1.767838459128116,-1.7803555572771437,-1.7929764032021678,-1.8057022921387342,-1.8185345409729188,-1.8314744886955978,-1.8445234968682112,-1.8576829501003473,-1.8709542565395056,-1.8843388483734027],\"yaxis\":\"y\",\"type\":\"scatter\"}],                        {\"template\":{\"data\":{\"histogram2dcontour\":[{\"type\":\"histogram2dcontour\",\"colorbar\":{\"outlinewidth\":0,\"ticks\":\"\"},\"colorscale\":[[0.0,\"#0d0887\"],[0.1111111111111111,\"#46039f\"],[0.2222222222222222,\"#7201a8\"],[0.3333333333333333,\"#9c179e\"],[0.4444444444444444,\"#bd3786\"],[0.5555555555555556,\"#d8576b\"],[0.6666666666666666,\"#ed7953\"],[0.7777777777777778,\"#fb9f3a\"],[0.8888888888888888,\"#fdca26\"],[1.0,\"#f0f921\"]]}],\"choropleth\":[{\"type\":\"choropleth\",\"colorbar\":{\"outlinewidth\":0,\"ticks\":\"\"}}],\"histogram2d\":[{\"type\":\"histogram2d\",\"colorbar\":{\"outlinewidth\":0,\"ticks\":\"\"},\"colorscale\":[[0.0,\"#0d0887\"],[0.1111111111111111,\"#46039f\"],[0.2222222222222222,\"#7201a8\"],[0.3333333333333333,\"#9c179e\"],[0.4444444444444444,\"#bd3786\"],[0.5555555555555556,\"#d8576b\"],[0.6666666666666666,\"#ed7953\"],[0.7777777777777778,\"#fb9f3a\"],[0.8888888888888888,\"#fdca26\"],[1.0,\"#f0f921\"]]}],\"heatmap\":[{\"type\":\"heatmap\",\"colorbar\":{\"outlinewidth\":0,\"ticks\":\"\"},\"colorscale\":[[0.0,\"#0d0887\"],[0.1111111111111111,\"#46039f\"],[0.2222222222222222,\"#7201a8\"],[0.3333333333333333,\"#9c179e\"],[0.4444444444444444,\"#bd3786\"],[0.5555555555555556,\"#d8576b\"],[0.6666666666666666,\"#ed7953\"],[0.7777777777777778,\"#fb9f3a\"],[0.8888888888888888,\"#fdca26\"],[1.0,\"#f0f921\"]]}],\"heatmapgl\":[{\"type\":\"heatmapgl\",\"colorbar\":{\"outlinewidth\":0,\"ticks\":\"\"},\"colorscale\":[[0.0,\"#0d0887\"],[0.1111111111111111,\"#46039f\"],[0.2222222222222222,\"#7201a8\"],[0.3333333333333333,\"#9c179e\"],[0.4444444444444444,\"#bd3786\"],[0.5555555555555556,\"#d8576b\"],[0.6666666666666666,\"#ed7953\"],[0.7777777777777778,\"#fb9f3a\"],[0.8888888888888888,\"#fdca26\"],[1.0,\"#f0f921\"]]}],\"contourcarpet\":[{\"type\":\"contourcarpet\",\"colorbar\":{\"outlinewidth\":0,\"ticks\":\"\"}}],\"contour\":[{\"type\":\"contour\",\"colorbar\":{\"outlinewidth\":0,\"ticks\":\"\"},\"colorscale\":[[0.0,\"#0d0887\"],[0.1111111111111111,\"#46039f\"],[0.2222222222222222,\"#7201a8\"],[0.3333333333333333,\"#9c179e\"],[0.4444444444444444,\"#bd3786\"],[0.5555555555555556,\"#d8576b\"],[0.6666666666666666,\"#ed7953\"],[0.7777777777777778,\"#fb9f3a\"],[0.8888888888888888,\"#fdca26\"],[1.0,\"#f0f921\"]]}],\"surface\":[{\"type\":\"surface\",\"colorbar\":{\"outlinewidth\":0,\"ticks\":\"\"},\"colorscale\":[[0.0,\"#0d0887\"],[0.1111111111111111,\"#46039f\"],[0.2222222222222222,\"#7201a8\"],[0.3333333333333333,\"#9c179e\"],[0.4444444444444444,\"#bd3786\"],[0.5555555555555556,\"#d8576b\"],[0.6666666666666666,\"#ed7953\"],[0.7777777777777778,\"#fb9f3a\"],[0.8888888888888888,\"#fdca26\"],[1.0,\"#f0f921\"]]}],\"mesh3d\":[{\"type\":\"mesh3d\",\"colorbar\":{\"outlinewidth\":0,\"ticks\":\"\"}}],\"scatter\":[{\"fillpattern\":{\"fillmode\":\"overlay\",\"size\":10,\"solidity\":0.2},\"type\":\"scatter\"}],\"parcoords\":[{\"type\":\"parcoords\",\"line\":{\"colorbar\":{\"outlinewidth\":0,\"ticks\":\"\"}}}],\"scatterpolargl\":[{\"type\":\"scatterpolargl\",\"marker\":{\"colorbar\":{\"outlinewidth\":0,\"ticks\":\"\"}}}],\"bar\":[{\"error_x\":{\"color\":\"#2a3f5f\"},\"error_y\":{\"color\":\"#2a3f5f\"},\"marker\":{\"line\":{\"color\":\"#E5ECF6\",\"width\":0.5},\"pattern\":{\"fillmode\":\"overlay\",\"size\":10,\"solidity\":0.2}},\"type\":\"bar\"}],\"scattergeo\":[{\"type\":\"scattergeo\",\"marker\":{\"colorbar\":{\"outlinewidth\":0,\"ticks\":\"\"}}}],\"scatterpolar\":[{\"type\":\"scatterpolar\",\"marker\":{\"colorbar\":{\"outlinewidth\":0,\"ticks\":\"\"}}}],\"histogram\":[{\"marker\":{\"pattern\":{\"fillmode\":\"overlay\",\"size\":10,\"solidity\":0.2}},\"type\":\"histogram\"}],\"scattergl\":[{\"type\":\"scattergl\",\"marker\":{\"colorbar\":{\"outlinewidth\":0,\"ticks\":\"\"}}}],\"scatter3d\":[{\"type\":\"scatter3d\",\"line\":{\"colorbar\":{\"outlinewidth\":0,\"ticks\":\"\"}},\"marker\":{\"colorbar\":{\"outlinewidth\":0,\"ticks\":\"\"}}}],\"scattermapbox\":[{\"type\":\"scattermapbox\",\"marker\":{\"colorbar\":{\"outlinewidth\":0,\"ticks\":\"\"}}}],\"scatterternary\":[{\"type\":\"scatterternary\",\"marker\":{\"colorbar\":{\"outlinewidth\":0,\"ticks\":\"\"}}}],\"scattercarpet\":[{\"type\":\"scattercarpet\",\"marker\":{\"colorbar\":{\"outlinewidth\":0,\"ticks\":\"\"}}}],\"carpet\":[{\"aaxis\":{\"endlinecolor\":\"#2a3f5f\",\"gridcolor\":\"white\",\"linecolor\":\"white\",\"minorgridcolor\":\"white\",\"startlinecolor\":\"#2a3f5f\"},\"baxis\":{\"endlinecolor\":\"#2a3f5f\",\"gridcolor\":\"white\",\"linecolor\":\"white\",\"minorgridcolor\":\"white\",\"startlinecolor\":\"#2a3f5f\"},\"type\":\"carpet\"}],\"table\":[{\"cells\":{\"fill\":{\"color\":\"#EBF0F8\"},\"line\":{\"color\":\"white\"}},\"header\":{\"fill\":{\"color\":\"#C8D4E3\"},\"line\":{\"color\":\"white\"}},\"type\":\"table\"}],\"barpolar\":[{\"marker\":{\"line\":{\"color\":\"#E5ECF6\",\"width\":0.5},\"pattern\":{\"fillmode\":\"overlay\",\"size\":10,\"solidity\":0.2}},\"type\":\"barpolar\"}],\"pie\":[{\"automargin\":true,\"type\":\"pie\"}]},\"layout\":{\"autotypenumbers\":\"strict\",\"colorway\":[\"#636efa\",\"#EF553B\",\"#00cc96\",\"#ab63fa\",\"#FFA15A\",\"#19d3f3\",\"#FF6692\",\"#B6E880\",\"#FF97FF\",\"#FECB52\"],\"font\":{\"color\":\"#2a3f5f\"},\"hovermode\":\"closest\",\"hoverlabel\":{\"align\":\"left\"},\"paper_bgcolor\":\"white\",\"plot_bgcolor\":\"#E5ECF6\",\"polar\":{\"bgcolor\":\"#E5ECF6\",\"angularaxis\":{\"gridcolor\":\"white\",\"linecolor\":\"white\",\"ticks\":\"\"},\"radialaxis\":{\"gridcolor\":\"white\",\"linecolor\":\"white\",\"ticks\":\"\"}},\"ternary\":{\"bgcolor\":\"#E5ECF6\",\"aaxis\":{\"gridcolor\":\"white\",\"linecolor\":\"white\",\"ticks\":\"\"},\"baxis\":{\"gridcolor\":\"white\",\"linecolor\":\"white\",\"ticks\":\"\"},\"caxis\":{\"gridcolor\":\"white\",\"linecolor\":\"white\",\"ticks\":\"\"}},\"coloraxis\":{\"colorbar\":{\"outlinewidth\":0,\"ticks\":\"\"}},\"colorscale\":{\"sequential\":[[0.0,\"#0d0887\"],[0.1111111111111111,\"#46039f\"],[0.2222222222222222,\"#7201a8\"],[0.3333333333333333,\"#9c179e\"],[0.4444444444444444,\"#bd3786\"],[0.5555555555555556,\"#d8576b\"],[0.6666666666666666,\"#ed7953\"],[0.7777777777777778,\"#fb9f3a\"],[0.8888888888888888,\"#fdca26\"],[1.0,\"#f0f921\"]],\"sequentialminus\":[[0.0,\"#0d0887\"],[0.1111111111111111,\"#46039f\"],[0.2222222222222222,\"#7201a8\"],[0.3333333333333333,\"#9c179e\"],[0.4444444444444444,\"#bd3786\"],[0.5555555555555556,\"#d8576b\"],[0.6666666666666666,\"#ed7953\"],[0.7777777777777778,\"#fb9f3a\"],[0.8888888888888888,\"#fdca26\"],[1.0,\"#f0f921\"]],\"diverging\":[[0,\"#8e0152\"],[0.1,\"#c51b7d\"],[0.2,\"#de77ae\"],[0.3,\"#f1b6da\"],[0.4,\"#fde0ef\"],[0.5,\"#f7f7f7\"],[0.6,\"#e6f5d0\"],[0.7,\"#b8e186\"],[0.8,\"#7fbc41\"],[0.9,\"#4d9221\"],[1,\"#276419\"]]},\"xaxis\":{\"gridcolor\":\"white\",\"linecolor\":\"white\",\"ticks\":\"\",\"title\":{\"standoff\":15},\"zerolinecolor\":\"white\",\"automargin\":true,\"zerolinewidth\":2},\"yaxis\":{\"gridcolor\":\"white\",\"linecolor\":\"white\",\"ticks\":\"\",\"title\":{\"standoff\":15},\"zerolinecolor\":\"white\",\"automargin\":true,\"zerolinewidth\":2},\"scene\":{\"xaxis\":{\"backgroundcolor\":\"#E5ECF6\",\"gridcolor\":\"white\",\"linecolor\":\"white\",\"showbackground\":true,\"ticks\":\"\",\"zerolinecolor\":\"white\",\"gridwidth\":2},\"yaxis\":{\"backgroundcolor\":\"#E5ECF6\",\"gridcolor\":\"white\",\"linecolor\":\"white\",\"showbackground\":true,\"ticks\":\"\",\"zerolinecolor\":\"white\",\"gridwidth\":2},\"zaxis\":{\"backgroundcolor\":\"#E5ECF6\",\"gridcolor\":\"white\",\"linecolor\":\"white\",\"showbackground\":true,\"ticks\":\"\",\"zerolinecolor\":\"white\",\"gridwidth\":2}},\"shapedefaults\":{\"line\":{\"color\":\"#2a3f5f\"}},\"annotationdefaults\":{\"arrowcolor\":\"#2a3f5f\",\"arrowhead\":0,\"arrowwidth\":1},\"geo\":{\"bgcolor\":\"white\",\"landcolor\":\"#E5ECF6\",\"subunitcolor\":\"white\",\"showland\":true,\"showlakes\":true,\"lakecolor\":\"white\"},\"title\":{\"x\":0.05},\"mapbox\":{\"style\":\"light\"}}},\"xaxis\":{\"anchor\":\"y\",\"domain\":[0.0,1.0],\"title\":{\"text\":\"Avg Price of chocolate brand\"}},\"yaxis\":{\"anchor\":\"x\",\"domain\":[0.0,1.0],\"title\":{\"text\":\"Mean Price Elasticity of Purchase quantity\"}},\"legend\":{\"title\":{\"text\":\"PE\"},\"tracegroupgap\":0},\"margin\":{\"t\":60},\"width\":1100,\"height\":300,\"title\":{\"text\":\"Price Elasticity of Purchase quantity (with promotion and without promotion) for customer segment 1\"}},                        {\"responsive\": true}                    ).then(function(){\n",
       "                            \n",
       "var gd = document.getElementById('8a0a17d9-ad5d-4855-862d-0ee67af8ae1e');\n",
       "var x = new MutationObserver(function (mutations, observer) {{\n",
       "        var display = window.getComputedStyle(gd).display;\n",
       "        if (!display || display === 'none') {{\n",
       "            console.log([gd, 'removed!']);\n",
       "            Plotly.purge(gd);\n",
       "            observer.disconnect();\n",
       "        }}\n",
       "}});\n",
       "\n",
       "// Listen for the removal of the full notebook cells\n",
       "var notebookContainer = gd.closest('#notebook-container');\n",
       "if (notebookContainer) {{\n",
       "    x.observe(notebookContainer, {childList: true});\n",
       "}}\n",
       "\n",
       "// Listen for the clearing of the current output cell\n",
       "var outputEl = gd.closest('.output');\n",
       "if (outputEl) {{\n",
       "    x.observe(outputEl, {childList: true});\n",
       "}}\n",
       "\n",
       "                        })                };                });            </script>        </div>"
      ]
     },
     "metadata": {},
     "output_type": "display_data"
    }
   ],
   "source": [
    "PE_0_1_promotion=df_price_elasticity_price_promotion.melt(id_vars=['price'],var_name='PE',value_name='PEValue',value_vars=['PE_with_promotion1_segm1','PE_with_promotion0_segm1'])\n",
    "# PE_0_1_promotion\n",
    "fig=px.line(PE_0_1_promotion,x=\"price\",y='PEValue',color='PE')\n",
    "fig.update_layout(width=1100,height=300,title='Price Elasticity of Purchase quantity (with promotion and without promotion) for customer segment 1',\n",
    "                  xaxis=dict(title='Avg Price of chocolate brand'),\n",
    "                  yaxis=dict(title='Mean Price Elasticity of Purchase quantity'))\n",
    "fig.show()"
   ]
  },
  {
   "cell_type": "markdown",
   "id": "b3864f67-35df-438c-a3cc-d8e9c78be818",
   "metadata": {},
   "source": [
    "# price elasticity of purchase quantity for customer of segment 2"
   ]
  },
  {
   "cell_type": "code",
   "execution_count": 42,
   "id": "b25fc7a0-ea2c-4cc8-99a4-bcfa8a1d58ea",
   "metadata": {},
   "outputs": [
    {
     "name": "stderr",
     "output_type": "stream",
     "text": [
      "C:\\Users\\adadi\\anaconda3\\envs\\HPOmenChallenge\\lib\\site-packages\\sklearn\\base.py:458: UserWarning:\n",
      "\n",
      "X has feature names, but LinearRegression was fitted without feature names\n",
      "\n",
      "C:\\Users\\adadi\\anaconda3\\envs\\HPOmenChallenge\\lib\\site-packages\\sklearn\\base.py:458: UserWarning:\n",
      "\n",
      "X has feature names, but LinearRegression was fitted without feature names\n",
      "\n"
     ]
    }
   ],
   "source": [
    "df_price_elasticity_price_promotion['PE_with_promotion1_segm2']=reg_2.coef_[0]*(df_price_elasticity_price_promotion['price']/\n",
    "                                                                               reg_0.predict(df_price_elasticity_price_promotion[['price','promotion_1']])\n",
    "                                                                               )\n",
    "df_price_elasticity_price_promotion['PE_with_promotion0_segm2']=reg_2.coef_[0]*(df_price_elasticity_price_promotion['price']/\n",
    "                                                                               reg_0.predict(df_price_elasticity_price_promotion[['price','promotion_0']])\n",
    "                                                                               )"
   ]
  },
  {
   "cell_type": "code",
   "execution_count": 43,
   "id": "f4699e2f-ab5e-4c59-96b7-531a2507aa22",
   "metadata": {},
   "outputs": [
    {
     "data": {
      "application/vnd.plotly.v1+json": {
       "config": {
        "plotlyServerURL": "https://plot.ly"
       },
       "data": [
        {
         "hovertemplate": "PE=PE_with_promotion1_segm2<br>price=%{x}<br>PEValue=%{y}<extra></extra>",
         "legendgroup": "PE_with_promotion1_segm2",
         "line": {
          "color": "#636efa",
          "dash": "solid"
         },
         "marker": {
          "symbol": "circle"
         },
         "mode": "lines",
         "name": "PE_with_promotion1_segm2",
         "orientation": "v",
         "showlegend": true,
         "type": "scatter",
         "x": [
          0.5,
          0.51,
          0.52,
          0.53,
          0.54,
          0.55,
          0.56,
          0.5700000000000001,
          0.5800000000000001,
          0.5900000000000001,
          0.6000000000000001,
          0.6100000000000001,
          0.6200000000000001,
          0.6300000000000001,
          0.6400000000000001,
          0.6500000000000001,
          0.6600000000000001,
          0.6700000000000002,
          0.6800000000000002,
          0.6900000000000002,
          0.7000000000000002,
          0.7100000000000002,
          0.7200000000000002,
          0.7300000000000002,
          0.7400000000000002,
          0.7500000000000002,
          0.7600000000000002,
          0.7700000000000002,
          0.7800000000000002,
          0.7900000000000003,
          0.8000000000000003,
          0.8100000000000003,
          0.8200000000000003,
          0.8300000000000003,
          0.8400000000000003,
          0.8500000000000003,
          0.8600000000000003,
          0.8700000000000003,
          0.8800000000000003,
          0.8900000000000003,
          0.9000000000000004,
          0.9100000000000004,
          0.9200000000000004,
          0.9300000000000004,
          0.9400000000000004,
          0.9500000000000004,
          0.9600000000000004,
          0.9700000000000004,
          0.9800000000000004,
          0.9900000000000004,
          1.0000000000000004,
          1.0100000000000005,
          1.0200000000000005,
          1.0300000000000005,
          1.0400000000000005,
          1.0500000000000005,
          1.0600000000000005,
          1.0700000000000005,
          1.0800000000000005,
          1.0900000000000005,
          1.1000000000000005,
          1.1100000000000005,
          1.1200000000000006,
          1.1300000000000006,
          1.1400000000000006,
          1.1500000000000006,
          1.1600000000000006,
          1.1700000000000006,
          1.1800000000000006,
          1.1900000000000006,
          1.2000000000000006,
          1.2100000000000006,
          1.2200000000000006,
          1.2300000000000006,
          1.2400000000000007,
          1.2500000000000007,
          1.2600000000000007,
          1.2700000000000007,
          1.2800000000000007,
          1.2900000000000007,
          1.3000000000000007,
          1.3100000000000007,
          1.3200000000000007,
          1.3300000000000007,
          1.3400000000000007,
          1.3500000000000008,
          1.3600000000000008,
          1.3700000000000008,
          1.3800000000000008,
          1.3900000000000008,
          1.4000000000000008,
          1.4100000000000008,
          1.4200000000000008,
          1.4300000000000008,
          1.4400000000000008,
          1.4500000000000008,
          1.4600000000000009,
          1.4700000000000009,
          1.4800000000000009,
          1.4900000000000009,
          1.5000000000000009,
          1.510000000000001,
          1.520000000000001,
          1.530000000000001,
          1.540000000000001,
          1.550000000000001,
          1.560000000000001,
          1.570000000000001,
          1.580000000000001,
          1.590000000000001,
          1.600000000000001,
          1.610000000000001,
          1.620000000000001,
          1.630000000000001,
          1.640000000000001,
          1.650000000000001,
          1.660000000000001,
          1.670000000000001,
          1.680000000000001,
          1.690000000000001,
          1.700000000000001,
          1.710000000000001,
          1.720000000000001,
          1.730000000000001,
          1.740000000000001,
          1.750000000000001,
          1.7600000000000011,
          1.7700000000000011,
          1.7800000000000011,
          1.7900000000000011,
          1.8000000000000012,
          1.8100000000000012,
          1.8200000000000012,
          1.8300000000000012,
          1.8400000000000012,
          1.8500000000000012,
          1.8600000000000012,
          1.8700000000000012,
          1.8800000000000012,
          1.8900000000000012,
          1.9000000000000012,
          1.9100000000000013,
          1.9200000000000013,
          1.9300000000000013,
          1.9400000000000013,
          1.9500000000000013,
          1.9600000000000013,
          1.9700000000000013,
          1.9800000000000013,
          1.9900000000000013,
          2.0000000000000013,
          2.0100000000000016,
          2.0200000000000014,
          2.030000000000001,
          2.0400000000000014,
          2.0500000000000016,
          2.0600000000000014,
          2.070000000000001,
          2.0800000000000014,
          2.0900000000000016,
          2.1000000000000014,
          2.110000000000001,
          2.1200000000000014,
          2.1300000000000017,
          2.1400000000000015,
          2.1500000000000012,
          2.1600000000000015,
          2.1700000000000017,
          2.1800000000000015,
          2.1900000000000013,
          2.2000000000000015,
          2.2100000000000017,
          2.2200000000000015,
          2.2300000000000013,
          2.2400000000000015,
          2.2500000000000018,
          2.2600000000000016,
          2.2700000000000014,
          2.2800000000000016,
          2.290000000000002,
          2.3000000000000016,
          2.3100000000000014,
          2.3200000000000016,
          2.330000000000002,
          2.3400000000000016,
          2.3500000000000014,
          2.3600000000000017,
          2.370000000000002,
          2.3800000000000017,
          2.3900000000000015,
          2.4000000000000017,
          2.410000000000002,
          2.4200000000000017,
          2.4300000000000015,
          2.4400000000000017,
          2.450000000000002,
          2.4600000000000017,
          2.4700000000000015,
          2.4800000000000018,
          2.490000000000002,
          2.5000000000000018,
          2.5100000000000016,
          2.520000000000002,
          2.530000000000002,
          2.540000000000002,
          2.5500000000000016,
          2.560000000000002,
          2.570000000000002,
          2.580000000000002,
          2.5900000000000016,
          2.600000000000002,
          2.610000000000002,
          2.620000000000002,
          2.6300000000000017,
          2.640000000000002,
          2.650000000000002,
          2.660000000000002,
          2.6700000000000017,
          2.680000000000002,
          2.690000000000002,
          2.700000000000002,
          2.7100000000000017,
          2.720000000000002,
          2.730000000000002,
          2.740000000000002,
          2.7500000000000018,
          2.760000000000002,
          2.7700000000000022,
          2.780000000000002,
          2.790000000000002,
          2.800000000000002,
          2.8100000000000023,
          2.820000000000002,
          2.830000000000002,
          2.840000000000002,
          2.8500000000000023,
          2.860000000000002,
          2.870000000000002,
          2.880000000000002,
          2.8900000000000023,
          2.900000000000002,
          2.910000000000002,
          2.920000000000002,
          2.9300000000000024,
          2.940000000000002,
          2.950000000000002,
          2.960000000000002,
          2.9700000000000024,
          2.980000000000002,
          2.990000000000002,
          3.000000000000002,
          3.0100000000000025,
          3.0200000000000022,
          3.030000000000002,
          3.0400000000000023,
          3.0500000000000025,
          3.0600000000000023,
          3.070000000000002,
          3.0800000000000023,
          3.0900000000000025,
          3.1000000000000023,
          3.110000000000002,
          3.1200000000000023,
          3.1300000000000026,
          3.1400000000000023,
          3.150000000000002,
          3.1600000000000024,
          3.1700000000000026,
          3.1800000000000024,
          3.190000000000002,
          3.2000000000000024,
          3.2100000000000026,
          3.2200000000000024,
          3.230000000000002,
          3.2400000000000024,
          3.2500000000000027,
          3.2600000000000025,
          3.2700000000000022,
          3.2800000000000025,
          3.2900000000000027,
          3.3000000000000025,
          3.3100000000000023,
          3.3200000000000025,
          3.3300000000000027,
          3.3400000000000025,
          3.3500000000000023,
          3.3600000000000025,
          3.3700000000000028,
          3.3800000000000026,
          3.3900000000000023,
          3.4000000000000026,
          3.410000000000003,
          3.4200000000000026,
          3.4300000000000024,
          3.4400000000000026,
          3.450000000000003,
          3.4600000000000026,
          3.4700000000000024,
          3.4800000000000026,
          3.490000000000003
         ],
         "xaxis": "x",
         "y": [
          -0.09507475070882687,
          -0.09715971217175803,
          -0.09925257753988259,
          -0.10135339184306488,
          -0.10346220045387694,
          -0.10557904909086495,
          -0.10770398382185324,
          -0.10983705106728615,
          -0.11197829760360835,
          -0.11412777056668408,
          -0.11628551745525599,
          -0.11845158613444388,
          -0.12062602483928409,
          -0.12280888217830986,
          -0.12500020713717355,
          -0.12720004908231097,
          -0.12940845776464852,
          -0.1316254833233538,
          -0.13385117628963003,
          -0.13608558759055542,
          -0.1383287685529673,
          -0.14058077090739235,
          -0.14284164679202332,
          -0.1451114487567426,
          -0.14739022976719385,
          -0.14967804320890177,
          -0.15197494289144117,
          -0.15428098305265575,
          -0.15659621836292714,
          -0.15892070392949545,
          -0.1612544953008316,
          -0.163597648471062,
          -0.165950219884447,
          -0.1683122664399131,
          -0.1706838454956404,
          -0.1730650148737052,
          -0.1754558328647796,
          -0.17785635823288784,
          -0.18026665022022118,
          -0.18268676855201105,
          -0.18511677344146266,
          -0.18755672559474856,
          -0.19000668621606412,
          -0.19246671701274487,
          -0.1949368802004476,
          -0.1974172385083953,
          -0.19990785518468704,
          -0.20240879400167433,
          -0.2049201192614039,
          -0.2074418958011292,
          -0.20997418899888975,
          -0.21251706477916157,
          -0.21507058961857786,
          -0.21763483055172214,
          -0.22020985517699396,
          -0.22279573166254935,
          -0.22539252875231622,
          -0.22800031577208618,
          -0.2306191626356838,
          -0.23324913985121468,
          -0.23589031852739323,
          -0.2385427703799516,
          -0.2412065677381306,
          -0.24388178355125445,
          -0.24656849139539008,
          -0.24926676548009222,
          -0.25197668065523615,
          -0.25469831241793894,
          -0.25743173691957055,
          -0.2601770309728565,
          -0.2629342720590728,
          -0.265703538335336,
          -0.26848490864198726,
          -0.2712784625100752,
          -0.27408428016893605,
          -0.27690244255387425,
          -0.27973303131394495,
          -0.282576128819839,
          -0.28543181817187363,
          -0.2883001832080885,
          -0.2911813085124506,
          -0.29407527942316863,
          -0.29698218204111876,
          -0.2999021032383836,
          -0.3028351306669063,
          -0.3057813527672612,
          -0.3087408587775436,
          -0.3117137387423793,
          -0.3147000835220573,
          -0.3176999848017863,
          -0.3207135351010782,
          -0.32374082778325897,
          -0.32678195706511104,
          -0.3298370180266474,
          -0.3329061066210209,
          -0.3359893196845698,
          -0.33908675494700274,
          -0.3421985110417251,
          -0.3453246875163084,
          -0.3484653848431058,
          -0.35162070443001636,
          -0.35479074863139926,
          -0.3579756207591416,
          -0.3611754250938816,
          -0.36439026689639076,
          -0.36762025241911556,
          -0.3708654889178839,
          -0.37412608466377717,
          -0.37740214895517127,
          -0.38069379212994947,
          -0.3840011255778903,
          -0.38732426175323215,
          -0.39066331418741956,
          -0.39401839750203166,
          -0.3973896274218988,
          -0.40077712078840794,
          -0.40418099557300147,
          -0.4076013708908722,
          -0.4110383670148581,
          -0.4144921053895401,
          -0.41796270864554674,
          -0.4214503006140676,
          -0.424955006341582,
          -0.4284769521048045,
          -0.43201626542585103,
          -0.43557307508763016,
          -0.43914751114946343,
          -0.44273970496293863,
          -0.4463497891879993,
          -0.4499778978092756,
          -0.453624166152661,
          -0.45728873090213695,
          -0.46097173011685316,
          -0.4646733032484651,
          -0.4683935911587354,
          -0.472132736137402,
          -0.4758908819203192,
          -0.4796681737078759,
          -0.48346475818369616,
          -0.4872807835336271,
          -0.49111639946501817,
          -0.4949717572263,
          -0.4988470096268652,
          -0.5027423110572571,
          -0.506657817509674,
          -0.5105936865987932,
          -0.5145500775829193,
          -0.5185271513854658,
          -0.5225250706167734,
          -0.5265439995962735,
          -0.5305841043750004,
          -0.5346455527584618,
          -0.5387285143298712,
          -0.542833160473753,
          -0.5469596643999213,
          -0.5511082011678452,
          -0.555278947711405,
          -0.5594720828640468,
          -0.5636877873843436,
          -0.5679262439819682,
          -0.5721876373440922,
          -0.5764721541622103,
          -0.5807799831594055,
          -0.5851113151180573,
          -0.5894663429080087,
          -0.5938452615151942,
          -0.5982482680707403,
          -0.6026755618805479,
          -0.6071273444553666,
          -0.6116038195413678,
          -0.6161051931512294,
          -0.6206316735957386,
          -0.6251834715159277,
          -0.6297607999157487,
          -0.6343638741953005,
          -0.6389929121846157,
          -0.6436481341780247,
          -0.6483297629691019,
          -0.6530380238862092,
          -0.6577731448286471,
          -0.6625353563034269,
          -0.6673248914626758,
          -0.6721419861416884,
          -0.6769868788976352,
          -0.6818598110489437,
          -0.6867610267153672,
          -0.6916907728587512,
          -0.696649299324514,
          -0.7016368588838559,
          -0.7066537072767137,
          -0.711700103255473,
          -0.7167763086294532,
          -0.7218825883101865,
          -0.7270192103575024,
          -0.7321864460264365,
          -0.7373845698149794,
          -0.7426138595126859,
          -0.7478745962501615,
          -0.7531670645494429,
          -0.7584915523752926,
          -0.7638483511874297,
          -0.7692377559937124,
          -0.7746600654042956,
          -0.7801155816867826,
          -0.7856046108223937,
          -0.7911274625631739,
          -0.7966844504902605,
          -0.802275892073233,
          -0.807902108730574,
          -0.8135634258912589,
          -0.8192601730575028,
          -0.824992683868688,
          -0.8307612961665016,
          -0.8365663520613064,
          -0.8424081979997733,
          -0.8482871848338026,
          -0.8542036678907682,
          -0.8601580070451056,
          -0.8661505667912808,
          -0.8721817163181673,
          -0.8782518295848679,
          -0.8843612853980066,
          -0.8905104674905313,
          -0.8966997646020564,
          -0.9029295705607857,
          -0.9092002843670466,
          -0.9155123102784767,
          -0.9218660578968996,
          -0.9282619422569269,
          -0.9347003839163331,
          -0.9411818090482373,
          -0.9477066495351372,
          -0.9542753430648405,
          -0.9608883332283377,
          -0.9675460696196598,
          -0.9742490079377696,
          -0.9809976100905375,
          -0.9877923443008494,
          -0.9946336852148959,
          -1.0015221140126986,
          -1.0084581185209276,
          -1.0154421933280637,
          -1.0224748399019634,
          -1.0295565667098843,
          -1.0366878893410338,
          -1.0438693306317024,
          -1.051101420793042,
          -1.0583846975415578,
          -1.065719706232383,
          -1.073106999995402,
          -1.080547139874295,
          -1.0880406949685757,
          -1.095588242578703,
          -1.1031903683543383,
          -1.1108476664458302,
          -1.1185607396590103,
          -1.1263301996133843,
          -1.1341566669038052,
          -1.1420407712657177,
          -1.1499831517440653,
          -1.1579844568659612,
          -1.1660453448172128,
          -1.1741664836228067,
          -1.1823485513314524,
          -1.1905922362043009,
          -1.1988982369079382,
          -1.2072672627117749,
          -1.2157000336899437,
          -1.2241972809278299,
          -1.232759746733358,
          -1.2413881848531603,
          -1.2500833606937614,
          -1.2588460515479156,
          -1.26767704682624,
          -1.2765771482942798,
          -1.2855471703151642,
          -1.2945879400980036,
          -1.3037002979521894,
          -1.312885097547754,
          -1.3221432061819687,
          -1.3314755050523495,
          -1.3408828895362543,
          -1.3503662694772531,
          -1.3599265694784675,
          -1.3695647292030797,
          -1.3792817036822098,
          -1.3890784636303801,
          -1.3989559957687796,
          -1.408915303156558,
          -1.4189574055303857,
          -1.4290833396525127,
          -1.439294159667582,
          -1.4495909374684566,
          -1.4599747630713242,
          -1.470446745000353,
          -1.481008010682188,
          -1.4916597068505788,
          -1.502402999961452,
          -1.5132390766187307,
          -1.5241691440112362
         ],
         "yaxis": "y"
        },
        {
         "hovertemplate": "PE=PE_with_promotion0_segm2<br>price=%{x}<br>PEValue=%{y}<extra></extra>",
         "legendgroup": "PE_with_promotion0_segm2",
         "line": {
          "color": "#EF553B",
          "dash": "solid"
         },
         "marker": {
          "symbol": "circle"
         },
         "mode": "lines",
         "name": "PE_with_promotion0_segm2",
         "orientation": "v",
         "showlegend": true,
         "type": "scatter",
         "x": [
          0.5,
          0.51,
          0.52,
          0.53,
          0.54,
          0.55,
          0.56,
          0.5700000000000001,
          0.5800000000000001,
          0.5900000000000001,
          0.6000000000000001,
          0.6100000000000001,
          0.6200000000000001,
          0.6300000000000001,
          0.6400000000000001,
          0.6500000000000001,
          0.6600000000000001,
          0.6700000000000002,
          0.6800000000000002,
          0.6900000000000002,
          0.7000000000000002,
          0.7100000000000002,
          0.7200000000000002,
          0.7300000000000002,
          0.7400000000000002,
          0.7500000000000002,
          0.7600000000000002,
          0.7700000000000002,
          0.7800000000000002,
          0.7900000000000003,
          0.8000000000000003,
          0.8100000000000003,
          0.8200000000000003,
          0.8300000000000003,
          0.8400000000000003,
          0.8500000000000003,
          0.8600000000000003,
          0.8700000000000003,
          0.8800000000000003,
          0.8900000000000003,
          0.9000000000000004,
          0.9100000000000004,
          0.9200000000000004,
          0.9300000000000004,
          0.9400000000000004,
          0.9500000000000004,
          0.9600000000000004,
          0.9700000000000004,
          0.9800000000000004,
          0.9900000000000004,
          1.0000000000000004,
          1.0100000000000005,
          1.0200000000000005,
          1.0300000000000005,
          1.0400000000000005,
          1.0500000000000005,
          1.0600000000000005,
          1.0700000000000005,
          1.0800000000000005,
          1.0900000000000005,
          1.1000000000000005,
          1.1100000000000005,
          1.1200000000000006,
          1.1300000000000006,
          1.1400000000000006,
          1.1500000000000006,
          1.1600000000000006,
          1.1700000000000006,
          1.1800000000000006,
          1.1900000000000006,
          1.2000000000000006,
          1.2100000000000006,
          1.2200000000000006,
          1.2300000000000006,
          1.2400000000000007,
          1.2500000000000007,
          1.2600000000000007,
          1.2700000000000007,
          1.2800000000000007,
          1.2900000000000007,
          1.3000000000000007,
          1.3100000000000007,
          1.3200000000000007,
          1.3300000000000007,
          1.3400000000000007,
          1.3500000000000008,
          1.3600000000000008,
          1.3700000000000008,
          1.3800000000000008,
          1.3900000000000008,
          1.4000000000000008,
          1.4100000000000008,
          1.4200000000000008,
          1.4300000000000008,
          1.4400000000000008,
          1.4500000000000008,
          1.4600000000000009,
          1.4700000000000009,
          1.4800000000000009,
          1.4900000000000009,
          1.5000000000000009,
          1.510000000000001,
          1.520000000000001,
          1.530000000000001,
          1.540000000000001,
          1.550000000000001,
          1.560000000000001,
          1.570000000000001,
          1.580000000000001,
          1.590000000000001,
          1.600000000000001,
          1.610000000000001,
          1.620000000000001,
          1.630000000000001,
          1.640000000000001,
          1.650000000000001,
          1.660000000000001,
          1.670000000000001,
          1.680000000000001,
          1.690000000000001,
          1.700000000000001,
          1.710000000000001,
          1.720000000000001,
          1.730000000000001,
          1.740000000000001,
          1.750000000000001,
          1.7600000000000011,
          1.7700000000000011,
          1.7800000000000011,
          1.7900000000000011,
          1.8000000000000012,
          1.8100000000000012,
          1.8200000000000012,
          1.8300000000000012,
          1.8400000000000012,
          1.8500000000000012,
          1.8600000000000012,
          1.8700000000000012,
          1.8800000000000012,
          1.8900000000000012,
          1.9000000000000012,
          1.9100000000000013,
          1.9200000000000013,
          1.9300000000000013,
          1.9400000000000013,
          1.9500000000000013,
          1.9600000000000013,
          1.9700000000000013,
          1.9800000000000013,
          1.9900000000000013,
          2.0000000000000013,
          2.0100000000000016,
          2.0200000000000014,
          2.030000000000001,
          2.0400000000000014,
          2.0500000000000016,
          2.0600000000000014,
          2.070000000000001,
          2.0800000000000014,
          2.0900000000000016,
          2.1000000000000014,
          2.110000000000001,
          2.1200000000000014,
          2.1300000000000017,
          2.1400000000000015,
          2.1500000000000012,
          2.1600000000000015,
          2.1700000000000017,
          2.1800000000000015,
          2.1900000000000013,
          2.2000000000000015,
          2.2100000000000017,
          2.2200000000000015,
          2.2300000000000013,
          2.2400000000000015,
          2.2500000000000018,
          2.2600000000000016,
          2.2700000000000014,
          2.2800000000000016,
          2.290000000000002,
          2.3000000000000016,
          2.3100000000000014,
          2.3200000000000016,
          2.330000000000002,
          2.3400000000000016,
          2.3500000000000014,
          2.3600000000000017,
          2.370000000000002,
          2.3800000000000017,
          2.3900000000000015,
          2.4000000000000017,
          2.410000000000002,
          2.4200000000000017,
          2.4300000000000015,
          2.4400000000000017,
          2.450000000000002,
          2.4600000000000017,
          2.4700000000000015,
          2.4800000000000018,
          2.490000000000002,
          2.5000000000000018,
          2.5100000000000016,
          2.520000000000002,
          2.530000000000002,
          2.540000000000002,
          2.5500000000000016,
          2.560000000000002,
          2.570000000000002,
          2.580000000000002,
          2.5900000000000016,
          2.600000000000002,
          2.610000000000002,
          2.620000000000002,
          2.6300000000000017,
          2.640000000000002,
          2.650000000000002,
          2.660000000000002,
          2.6700000000000017,
          2.680000000000002,
          2.690000000000002,
          2.700000000000002,
          2.7100000000000017,
          2.720000000000002,
          2.730000000000002,
          2.740000000000002,
          2.7500000000000018,
          2.760000000000002,
          2.7700000000000022,
          2.780000000000002,
          2.790000000000002,
          2.800000000000002,
          2.8100000000000023,
          2.820000000000002,
          2.830000000000002,
          2.840000000000002,
          2.8500000000000023,
          2.860000000000002,
          2.870000000000002,
          2.880000000000002,
          2.8900000000000023,
          2.900000000000002,
          2.910000000000002,
          2.920000000000002,
          2.9300000000000024,
          2.940000000000002,
          2.950000000000002,
          2.960000000000002,
          2.9700000000000024,
          2.980000000000002,
          2.990000000000002,
          3.000000000000002,
          3.0100000000000025,
          3.0200000000000022,
          3.030000000000002,
          3.0400000000000023,
          3.0500000000000025,
          3.0600000000000023,
          3.070000000000002,
          3.0800000000000023,
          3.0900000000000025,
          3.1000000000000023,
          3.110000000000002,
          3.1200000000000023,
          3.1300000000000026,
          3.1400000000000023,
          3.150000000000002,
          3.1600000000000024,
          3.1700000000000026,
          3.1800000000000024,
          3.190000000000002,
          3.2000000000000024,
          3.2100000000000026,
          3.2200000000000024,
          3.230000000000002,
          3.2400000000000024,
          3.2500000000000027,
          3.2600000000000025,
          3.2700000000000022,
          3.2800000000000025,
          3.2900000000000027,
          3.3000000000000025,
          3.3100000000000023,
          3.3200000000000025,
          3.3300000000000027,
          3.3400000000000025,
          3.3500000000000023,
          3.3600000000000025,
          3.3700000000000028,
          3.3800000000000026,
          3.3900000000000023,
          3.4000000000000026,
          3.410000000000003,
          3.4200000000000026,
          3.4300000000000024,
          3.4400000000000026,
          3.450000000000003,
          3.4600000000000026,
          3.4700000000000024,
          3.4800000000000026,
          3.490000000000003
         ],
         "xaxis": "x",
         "y": [
          -0.09441136822758549,
          -0.09648050831672024,
          -0.09855743739671297,
          -0.10064219953136327,
          -0.10273483911746835,
          -0.10483540088797465,
          -0.10694392991516533,
          -0.10906047161388409,
          -0.11118507174479576,
          -0.1133177764176843,
          -0.11545863209478845,
          -0.11760768559417586,
          -0.11976498409315611,
          -0.12193057513173271,
          -0.12410450661609554,
          -0.12628682682215325,
          -0.1284775843991069,
          -0.13067682837306493,
          -0.13288460815070052,
          -0.1351009735229512,
          -0.13732597466876217,
          -0.13955966215887308,
          -0.1418020869596494,
          -0.14405330043695896,
          -0.14631335436009385,
          -0.14858230090573896,
          -0.15086019266198716,
          -0.15314708263240234,
          -0.15544302424013043,
          -0.1577480713320595,
          -0.16006227818302954,
          -0.16238569950009205,
          -0.16471839042682132,
          -0.16706040654767695,
          -0.16941180389241872,
          -0.17177263894057507,
          -0.17414296862596496,
          -0.17652285034127485,
          -0.17891234194269084,
          -0.18131150175458718,
          -0.18372038857427164,
          -0.18613906167678895,
          -0.18856758081978278,
          -0.19100600624841715,
          -0.19345439870035827,
          -0.19591281941081762,
          -0.19838133011765702,
          -0.20085999306655689,
          -0.20334887101624813,
          -0.20584802724380896,
          -0.2083575255500278,
          -0.21087743026483202,
          -0.21340780625278552,
          -0.21594871891865403,
          -0.21850023421304066,
          -0.22106241863809176,
          -0.22363533925327475,
          -0.22621906368122868,
          -0.22881366011368867,
          -0.23141919731748517,
          -0.23403574464061921,
          -0.23666337201841553,
          -0.2393021499797527,
          -0.24195214965337414,
          -0.24461344277427896,
          -0.24728610169019494,
          -0.24997019936813455,
          -0.25266580940103545,
          -0.25537300601448654,
          -0.25809186407354084,
          -0.260822459089617,
          -0.2635648672274897,
          -0.2663191653123715,
          -0.2690854308370869,
          -0.2718637419693402,
          -0.274654177559078,
          -0.2774568171459491,
          -0.2802717409668617,
          -0.2830990299636409,
          -0.2859387657907868,
          -0.2887910308233356,
          -0.2916559081648248,
          -0.2945334816553642,
          -0.297423835879815,
          -0.30032705617607736,
          -0.3032432286434896,
          -0.30617244015133943,
          -0.3091147783474899,
          -0.3120703316671219,
          -0.3150391893415938,
          -0.3180214414074223,
          -0.32101717871538393,
          -0.32402649293974095,
          -0.3270494765875926,
          -0.33008622300835455,
          -0.3331368264033679,
          -0.3362013818356393,
          -0.3392799852397164,
          -0.3423727334316985,
          -0.34547972411938543,
          -0.34860105591256746,
          -0.3517368283334577,
          -0.35488714182727,
          -0.3580520977729435,
          -0.36123179849401804,
          -0.36442634726966167,
          -0.36763584834585245,
          -0.37086040694671824,
          -0.37410012928603625,
          -0.37735512257889514,
          -0.38062549505352283,
          -0.3839113559632815,
          -0.38721281559883436,
          -0.3905299853004856,
          -0.39386297747069693,
          -0.39721190558678365,
          -0.4005768842137938,
          -0.40395802901757194,
          -0.40735545677801277,
          -0.4107692854025055,
          -0.41419963393957465,
          -0.41764662259271856,
          -0.42111037273444957,
          -0.4245910069205405,
          -0.42808864890447906,
          -0.4316034236521352,
          -0.4351354573566439,
          -0.4386848774535085,
          -0.4422518126359275,
          -0.44583639287034804,
          -0.44943874941225165,
          -0.45305901482217503,
          -0.45669732298197097,
          -0.4603538091113112,
          -0.46402860978443977,
          -0.46772186294717716,
          -0.4714337079341814,
          -0.47516428548647044,
          -0.4789137377692113,
          -0.4826822083897791,
          -0.4864698424160917,
          -0.490276786395225,
          -0.49410318837231354,
          -0.49794919790974196,
          -0.5018149661066313,
          -0.5057006456186278,
          -0.509606390677997,
          -0.5135323571140311,
          -0.5174787023737726,
          -0.5214455855430632,
          -0.525433167367921,
          -0.5294416102762539,
          -0.5334710783999134,
          -0.5375217375970986,
          -0.5415937554751131,
          -0.5456873014134817,
          -0.5498025465874372,
          -0.5539396639917811,
          -0.5580988284651238,
          -0.5622802167145158,
          -0.5664840073404729,
          -0.5707103808624067,
          -0.5749595197444644,
          -0.5792316084217872,
          -0.5835268333271966,
          -0.5878453829183152,
          -0.5921874477051295,
          -0.5965532202780044,
          -0.6009428953361591,
          -0.6053566697166107,
          -0.6097947424235968,
          -0.6142573146584833,
          -0.6187445898501723,
          -0.6232567736860133,
          -0.6277940741432324,
          -0.632356701520886,
          -0.6369448684723534,
          -0.6415587900383758,
          -0.6461986836806511,
          -0.6508647693160009,
          -0.6555572693511157,
          -0.6602764087178921,
          -0.665022414909375,
          -0.6697955180163123,
          -0.674595950764341,
          -0.679423948551812,
          -0.6842797494882686,
          -0.6891635944335917,
          -0.6940757270378248,
          -0.6990163937816952,
          -0.7039858440178398,
          -0.7089843300127566,
          -0.7140121069894917,
          -0.7190694331710811,
          -0.724156569824758,
          -0.7292737813069464,
          -0.7344213351090539,
          -0.7395995019040816,
          -0.7448085555940691,
          -0.7500487733583898,
          -0.7553204357029144,
          -0.760623826510067,
          -0.765959233089782,
          -0.7713269462313901,
          -0.7767272602564473,
          -0.7821604730725331,
          -0.7876268862280317,
          -0.7931268049679199,
          -0.7986605382905879,
          -0.8042283990057075,
          -0.8098307037931772,
          -0.815467773263161,
          -0.821139932017252,
          -0.8268475087107809,
          -0.8325908361162943,
          -0.8383702511882285,
          -0.8441860951288098,
          -0.8500387134552028,
          -0.8559284560679354,
          -0.8618556773206325,
          -0.8678207360910822,
          -0.8738239958536717,
          -0.8798658247532148,
          -0.8859465956802086,
          -0.8920666863475516,
          -0.8982264793687533,
          -0.9044263623376712,
          -0.9106667279098085,
          -0.9169479738852119,
          -0.9232705032930028,
          -0.9296347244775808,
          -0.9360410511865367,
          -0.9424899026603193,
          -0.9489817037236907,
          -0.955516884879018,
          -0.9620958824014368,
          -0.9687191384359409,
          -0.9753871010964347,
          -0.9821002245667989,
          -0.9888589692040153,
          -0.9956638016434043,
          -1.0025151949060203,
          -1.0094136285082598,
          -1.0163595885737344,
          -1.0233535679474641,
          -1.03039606631245,
          -1.037487590308676,
          -1.044628653654609,
          -1.0518197772712525,
          -1.0590614894088188,
          -1.0663543257760848,
          -1.0736988296724936,
          -1.0810955521230787,
          -1.0885450520162732,
          -1.0960478962446798,
          -1.1036046598488771,
          -1.111215926164336,
          -1.1188822869715267,
          -1.1266043426492995,
          -1.1343827023316155,
          -1.1422179840677242,
          -1.1501108149858665,
          -1.1580618314606008,
          -1.1660716792838388,
          -1.174141013839698,
          -1.1822705002832608,
          -1.1904608137233472,
          -1.1987126394094045,
          -1.207026672922624,
          -1.2154036203713994,
          -1.2238441985912345,
          -1.2323491353492269,
          -1.2409191695532449,
          -1.249555051465929,
          -1.2582575429236438,
          -1.2670274175605134,
          -1.2758654610376843,
          -1.284772471277956,
          -1.2937492587059232,
          -1.3027966464937846,
          -1.3119154708129748,
          -1.3211065810917824,
          -1.3303708402791146,
          -1.3397091251145872,
          -1.3491223264051166,
          -1.3586113493081913,
          -1.3681771136220207,
          -1.3778205540827475,
          -1.3875426206689339,
          -1.3973442789135246,
          -1.4072265102235038,
          -1.4171903122074636,
          -1.4272366990113232,
          -1.43736670166243,
          -1.447581368422285,
          -1.4578817651481493,
          -1.4682689756637985,
          -1.4787441021396879,
          -1.4893082654828103,
          -1.4999626057365405
         ],
         "yaxis": "y"
        }
       ],
       "layout": {
        "height": 300,
        "legend": {
         "title": {
          "text": "PE"
         },
         "tracegroupgap": 0
        },
        "margin": {
         "t": 60
        },
        "template": {
         "data": {
          "bar": [
           {
            "error_x": {
             "color": "#2a3f5f"
            },
            "error_y": {
             "color": "#2a3f5f"
            },
            "marker": {
             "line": {
              "color": "#E5ECF6",
              "width": 0.5
             },
             "pattern": {
              "fillmode": "overlay",
              "size": 10,
              "solidity": 0.2
             }
            },
            "type": "bar"
           }
          ],
          "barpolar": [
           {
            "marker": {
             "line": {
              "color": "#E5ECF6",
              "width": 0.5
             },
             "pattern": {
              "fillmode": "overlay",
              "size": 10,
              "solidity": 0.2
             }
            },
            "type": "barpolar"
           }
          ],
          "carpet": [
           {
            "aaxis": {
             "endlinecolor": "#2a3f5f",
             "gridcolor": "white",
             "linecolor": "white",
             "minorgridcolor": "white",
             "startlinecolor": "#2a3f5f"
            },
            "baxis": {
             "endlinecolor": "#2a3f5f",
             "gridcolor": "white",
             "linecolor": "white",
             "minorgridcolor": "white",
             "startlinecolor": "#2a3f5f"
            },
            "type": "carpet"
           }
          ],
          "choropleth": [
           {
            "colorbar": {
             "outlinewidth": 0,
             "ticks": ""
            },
            "type": "choropleth"
           }
          ],
          "contour": [
           {
            "colorbar": {
             "outlinewidth": 0,
             "ticks": ""
            },
            "colorscale": [
             [
              0,
              "#0d0887"
             ],
             [
              0.1111111111111111,
              "#46039f"
             ],
             [
              0.2222222222222222,
              "#7201a8"
             ],
             [
              0.3333333333333333,
              "#9c179e"
             ],
             [
              0.4444444444444444,
              "#bd3786"
             ],
             [
              0.5555555555555556,
              "#d8576b"
             ],
             [
              0.6666666666666666,
              "#ed7953"
             ],
             [
              0.7777777777777778,
              "#fb9f3a"
             ],
             [
              0.8888888888888888,
              "#fdca26"
             ],
             [
              1,
              "#f0f921"
             ]
            ],
            "type": "contour"
           }
          ],
          "contourcarpet": [
           {
            "colorbar": {
             "outlinewidth": 0,
             "ticks": ""
            },
            "type": "contourcarpet"
           }
          ],
          "heatmap": [
           {
            "colorbar": {
             "outlinewidth": 0,
             "ticks": ""
            },
            "colorscale": [
             [
              0,
              "#0d0887"
             ],
             [
              0.1111111111111111,
              "#46039f"
             ],
             [
              0.2222222222222222,
              "#7201a8"
             ],
             [
              0.3333333333333333,
              "#9c179e"
             ],
             [
              0.4444444444444444,
              "#bd3786"
             ],
             [
              0.5555555555555556,
              "#d8576b"
             ],
             [
              0.6666666666666666,
              "#ed7953"
             ],
             [
              0.7777777777777778,
              "#fb9f3a"
             ],
             [
              0.8888888888888888,
              "#fdca26"
             ],
             [
              1,
              "#f0f921"
             ]
            ],
            "type": "heatmap"
           }
          ],
          "heatmapgl": [
           {
            "colorbar": {
             "outlinewidth": 0,
             "ticks": ""
            },
            "colorscale": [
             [
              0,
              "#0d0887"
             ],
             [
              0.1111111111111111,
              "#46039f"
             ],
             [
              0.2222222222222222,
              "#7201a8"
             ],
             [
              0.3333333333333333,
              "#9c179e"
             ],
             [
              0.4444444444444444,
              "#bd3786"
             ],
             [
              0.5555555555555556,
              "#d8576b"
             ],
             [
              0.6666666666666666,
              "#ed7953"
             ],
             [
              0.7777777777777778,
              "#fb9f3a"
             ],
             [
              0.8888888888888888,
              "#fdca26"
             ],
             [
              1,
              "#f0f921"
             ]
            ],
            "type": "heatmapgl"
           }
          ],
          "histogram": [
           {
            "marker": {
             "pattern": {
              "fillmode": "overlay",
              "size": 10,
              "solidity": 0.2
             }
            },
            "type": "histogram"
           }
          ],
          "histogram2d": [
           {
            "colorbar": {
             "outlinewidth": 0,
             "ticks": ""
            },
            "colorscale": [
             [
              0,
              "#0d0887"
             ],
             [
              0.1111111111111111,
              "#46039f"
             ],
             [
              0.2222222222222222,
              "#7201a8"
             ],
             [
              0.3333333333333333,
              "#9c179e"
             ],
             [
              0.4444444444444444,
              "#bd3786"
             ],
             [
              0.5555555555555556,
              "#d8576b"
             ],
             [
              0.6666666666666666,
              "#ed7953"
             ],
             [
              0.7777777777777778,
              "#fb9f3a"
             ],
             [
              0.8888888888888888,
              "#fdca26"
             ],
             [
              1,
              "#f0f921"
             ]
            ],
            "type": "histogram2d"
           }
          ],
          "histogram2dcontour": [
           {
            "colorbar": {
             "outlinewidth": 0,
             "ticks": ""
            },
            "colorscale": [
             [
              0,
              "#0d0887"
             ],
             [
              0.1111111111111111,
              "#46039f"
             ],
             [
              0.2222222222222222,
              "#7201a8"
             ],
             [
              0.3333333333333333,
              "#9c179e"
             ],
             [
              0.4444444444444444,
              "#bd3786"
             ],
             [
              0.5555555555555556,
              "#d8576b"
             ],
             [
              0.6666666666666666,
              "#ed7953"
             ],
             [
              0.7777777777777778,
              "#fb9f3a"
             ],
             [
              0.8888888888888888,
              "#fdca26"
             ],
             [
              1,
              "#f0f921"
             ]
            ],
            "type": "histogram2dcontour"
           }
          ],
          "mesh3d": [
           {
            "colorbar": {
             "outlinewidth": 0,
             "ticks": ""
            },
            "type": "mesh3d"
           }
          ],
          "parcoords": [
           {
            "line": {
             "colorbar": {
              "outlinewidth": 0,
              "ticks": ""
             }
            },
            "type": "parcoords"
           }
          ],
          "pie": [
           {
            "automargin": true,
            "type": "pie"
           }
          ],
          "scatter": [
           {
            "fillpattern": {
             "fillmode": "overlay",
             "size": 10,
             "solidity": 0.2
            },
            "type": "scatter"
           }
          ],
          "scatter3d": [
           {
            "line": {
             "colorbar": {
              "outlinewidth": 0,
              "ticks": ""
             }
            },
            "marker": {
             "colorbar": {
              "outlinewidth": 0,
              "ticks": ""
             }
            },
            "type": "scatter3d"
           }
          ],
          "scattercarpet": [
           {
            "marker": {
             "colorbar": {
              "outlinewidth": 0,
              "ticks": ""
             }
            },
            "type": "scattercarpet"
           }
          ],
          "scattergeo": [
           {
            "marker": {
             "colorbar": {
              "outlinewidth": 0,
              "ticks": ""
             }
            },
            "type": "scattergeo"
           }
          ],
          "scattergl": [
           {
            "marker": {
             "colorbar": {
              "outlinewidth": 0,
              "ticks": ""
             }
            },
            "type": "scattergl"
           }
          ],
          "scattermapbox": [
           {
            "marker": {
             "colorbar": {
              "outlinewidth": 0,
              "ticks": ""
             }
            },
            "type": "scattermapbox"
           }
          ],
          "scatterpolar": [
           {
            "marker": {
             "colorbar": {
              "outlinewidth": 0,
              "ticks": ""
             }
            },
            "type": "scatterpolar"
           }
          ],
          "scatterpolargl": [
           {
            "marker": {
             "colorbar": {
              "outlinewidth": 0,
              "ticks": ""
             }
            },
            "type": "scatterpolargl"
           }
          ],
          "scatterternary": [
           {
            "marker": {
             "colorbar": {
              "outlinewidth": 0,
              "ticks": ""
             }
            },
            "type": "scatterternary"
           }
          ],
          "surface": [
           {
            "colorbar": {
             "outlinewidth": 0,
             "ticks": ""
            },
            "colorscale": [
             [
              0,
              "#0d0887"
             ],
             [
              0.1111111111111111,
              "#46039f"
             ],
             [
              0.2222222222222222,
              "#7201a8"
             ],
             [
              0.3333333333333333,
              "#9c179e"
             ],
             [
              0.4444444444444444,
              "#bd3786"
             ],
             [
              0.5555555555555556,
              "#d8576b"
             ],
             [
              0.6666666666666666,
              "#ed7953"
             ],
             [
              0.7777777777777778,
              "#fb9f3a"
             ],
             [
              0.8888888888888888,
              "#fdca26"
             ],
             [
              1,
              "#f0f921"
             ]
            ],
            "type": "surface"
           }
          ],
          "table": [
           {
            "cells": {
             "fill": {
              "color": "#EBF0F8"
             },
             "line": {
              "color": "white"
             }
            },
            "header": {
             "fill": {
              "color": "#C8D4E3"
             },
             "line": {
              "color": "white"
             }
            },
            "type": "table"
           }
          ]
         },
         "layout": {
          "annotationdefaults": {
           "arrowcolor": "#2a3f5f",
           "arrowhead": 0,
           "arrowwidth": 1
          },
          "autotypenumbers": "strict",
          "coloraxis": {
           "colorbar": {
            "outlinewidth": 0,
            "ticks": ""
           }
          },
          "colorscale": {
           "diverging": [
            [
             0,
             "#8e0152"
            ],
            [
             0.1,
             "#c51b7d"
            ],
            [
             0.2,
             "#de77ae"
            ],
            [
             0.3,
             "#f1b6da"
            ],
            [
             0.4,
             "#fde0ef"
            ],
            [
             0.5,
             "#f7f7f7"
            ],
            [
             0.6,
             "#e6f5d0"
            ],
            [
             0.7,
             "#b8e186"
            ],
            [
             0.8,
             "#7fbc41"
            ],
            [
             0.9,
             "#4d9221"
            ],
            [
             1,
             "#276419"
            ]
           ],
           "sequential": [
            [
             0,
             "#0d0887"
            ],
            [
             0.1111111111111111,
             "#46039f"
            ],
            [
             0.2222222222222222,
             "#7201a8"
            ],
            [
             0.3333333333333333,
             "#9c179e"
            ],
            [
             0.4444444444444444,
             "#bd3786"
            ],
            [
             0.5555555555555556,
             "#d8576b"
            ],
            [
             0.6666666666666666,
             "#ed7953"
            ],
            [
             0.7777777777777778,
             "#fb9f3a"
            ],
            [
             0.8888888888888888,
             "#fdca26"
            ],
            [
             1,
             "#f0f921"
            ]
           ],
           "sequentialminus": [
            [
             0,
             "#0d0887"
            ],
            [
             0.1111111111111111,
             "#46039f"
            ],
            [
             0.2222222222222222,
             "#7201a8"
            ],
            [
             0.3333333333333333,
             "#9c179e"
            ],
            [
             0.4444444444444444,
             "#bd3786"
            ],
            [
             0.5555555555555556,
             "#d8576b"
            ],
            [
             0.6666666666666666,
             "#ed7953"
            ],
            [
             0.7777777777777778,
             "#fb9f3a"
            ],
            [
             0.8888888888888888,
             "#fdca26"
            ],
            [
             1,
             "#f0f921"
            ]
           ]
          },
          "colorway": [
           "#636efa",
           "#EF553B",
           "#00cc96",
           "#ab63fa",
           "#FFA15A",
           "#19d3f3",
           "#FF6692",
           "#B6E880",
           "#FF97FF",
           "#FECB52"
          ],
          "font": {
           "color": "#2a3f5f"
          },
          "geo": {
           "bgcolor": "white",
           "lakecolor": "white",
           "landcolor": "#E5ECF6",
           "showlakes": true,
           "showland": true,
           "subunitcolor": "white"
          },
          "hoverlabel": {
           "align": "left"
          },
          "hovermode": "closest",
          "mapbox": {
           "style": "light"
          },
          "paper_bgcolor": "white",
          "plot_bgcolor": "#E5ECF6",
          "polar": {
           "angularaxis": {
            "gridcolor": "white",
            "linecolor": "white",
            "ticks": ""
           },
           "bgcolor": "#E5ECF6",
           "radialaxis": {
            "gridcolor": "white",
            "linecolor": "white",
            "ticks": ""
           }
          },
          "scene": {
           "xaxis": {
            "backgroundcolor": "#E5ECF6",
            "gridcolor": "white",
            "gridwidth": 2,
            "linecolor": "white",
            "showbackground": true,
            "ticks": "",
            "zerolinecolor": "white"
           },
           "yaxis": {
            "backgroundcolor": "#E5ECF6",
            "gridcolor": "white",
            "gridwidth": 2,
            "linecolor": "white",
            "showbackground": true,
            "ticks": "",
            "zerolinecolor": "white"
           },
           "zaxis": {
            "backgroundcolor": "#E5ECF6",
            "gridcolor": "white",
            "gridwidth": 2,
            "linecolor": "white",
            "showbackground": true,
            "ticks": "",
            "zerolinecolor": "white"
           }
          },
          "shapedefaults": {
           "line": {
            "color": "#2a3f5f"
           }
          },
          "ternary": {
           "aaxis": {
            "gridcolor": "white",
            "linecolor": "white",
            "ticks": ""
           },
           "baxis": {
            "gridcolor": "white",
            "linecolor": "white",
            "ticks": ""
           },
           "bgcolor": "#E5ECF6",
           "caxis": {
            "gridcolor": "white",
            "linecolor": "white",
            "ticks": ""
           }
          },
          "title": {
           "x": 0.05
          },
          "xaxis": {
           "automargin": true,
           "gridcolor": "white",
           "linecolor": "white",
           "ticks": "",
           "title": {
            "standoff": 15
           },
           "zerolinecolor": "white",
           "zerolinewidth": 2
          },
          "yaxis": {
           "automargin": true,
           "gridcolor": "white",
           "linecolor": "white",
           "ticks": "",
           "title": {
            "standoff": 15
           },
           "zerolinecolor": "white",
           "zerolinewidth": 2
          }
         }
        },
        "title": {
         "text": "Price Elasticity of Purchase quantity (with promotion and without promotion) for customer segment 2"
        },
        "width": 1100,
        "xaxis": {
         "anchor": "y",
         "autorange": true,
         "domain": [
          0,
          1
         ],
         "range": [
          0.5,
          3.490000000000003
         ],
         "title": {
          "text": "Avg Price of chocolate brand"
         },
         "type": "linear"
        },
        "yaxis": {
         "anchor": "x",
         "autorange": true,
         "domain": [
          0,
          1
         ],
         "range": [
          -1.6036001315547723,
          -0.014980380684049346
         ],
         "title": {
          "text": "Mean Price Elasticity of Purchase quantity"
         },
         "type": "linear"
        }
       }
      },
      "image/png": "[encoded data removed]",
      "text/html": [
       "<div>                            <div id=\"516260fb-b151-4e57-ac74-dc5ce95217bc\" class=\"plotly-graph-div\" style=\"height:300px; width:1100px;\"></div>            <script type=\"text/javascript\">                require([\"plotly\"], function(Plotly) {                    window.PLOTLYENV=window.PLOTLYENV || {};                                    if (document.getElementById(\"516260fb-b151-4e57-ac74-dc5ce95217bc\")) {                    Plotly.newPlot(                        \"516260fb-b151-4e57-ac74-dc5ce95217bc\",                        [{\"hovertemplate\":\"PE=PE_with_promotion1_segm2\\u003cbr\\u003eprice=%{x}\\u003cbr\\u003ePEValue=%{y}\\u003cextra\\u003e\\u003c\\u002fextra\\u003e\",\"legendgroup\":\"PE_with_promotion1_segm2\",\"line\":{\"color\":\"#636efa\",\"dash\":\"solid\"},\"marker\":{\"symbol\":\"circle\"},\"mode\":\"lines\",\"name\":\"PE_with_promotion1_segm2\",\"orientation\":\"v\",\"showlegend\":true,\"x\":[0.5,0.51,0.52,0.53,0.54,0.55,0.56,0.5700000000000001,0.5800000000000001,0.5900000000000001,0.6000000000000001,0.6100000000000001,0.6200000000000001,0.6300000000000001,0.6400000000000001,0.6500000000000001,0.6600000000000001,0.6700000000000002,0.6800000000000002,0.6900000000000002,0.7000000000000002,0.7100000000000002,0.7200000000000002,0.7300000000000002,0.7400000000000002,0.7500000000000002,0.7600000000000002,0.7700000000000002,0.7800000000000002,0.7900000000000003,0.8000000000000003,0.8100000000000003,0.8200000000000003,0.8300000000000003,0.8400000000000003,0.8500000000000003,0.8600000000000003,0.8700000000000003,0.8800000000000003,0.8900000000000003,0.9000000000000004,0.9100000000000004,0.9200000000000004,0.9300000000000004,0.9400000000000004,0.9500000000000004,0.9600000000000004,0.9700000000000004,0.9800000000000004,0.9900000000000004,1.0000000000000004,1.0100000000000005,1.0200000000000005,1.0300000000000005,1.0400000000000005,1.0500000000000005,1.0600000000000005,1.0700000000000005,1.0800000000000005,1.0900000000000005,1.1000000000000005,1.1100000000000005,1.1200000000000006,1.1300000000000006,1.1400000000000006,1.1500000000000006,1.1600000000000006,1.1700000000000006,1.1800000000000006,1.1900000000000006,1.2000000000000006,1.2100000000000006,1.2200000000000006,1.2300000000000006,1.2400000000000007,1.2500000000000007,1.2600000000000007,1.2700000000000007,1.2800000000000007,1.2900000000000007,1.3000000000000007,1.3100000000000007,1.3200000000000007,1.3300000000000007,1.3400000000000007,1.3500000000000008,1.3600000000000008,1.3700000000000008,1.3800000000000008,1.3900000000000008,1.4000000000000008,1.4100000000000008,1.4200000000000008,1.4300000000000008,1.4400000000000008,1.4500000000000008,1.4600000000000009,1.4700000000000009,1.4800000000000009,1.4900000000000009,1.5000000000000009,1.510000000000001,1.520000000000001,1.530000000000001,1.540000000000001,1.550000000000001,1.560000000000001,1.570000000000001,1.580000000000001,1.590000000000001,1.600000000000001,1.610000000000001,1.620000000000001,1.630000000000001,1.640000000000001,1.650000000000001,1.660000000000001,1.670000000000001,1.680000000000001,1.690000000000001,1.700000000000001,1.710000000000001,1.720000000000001,1.730000000000001,1.740000000000001,1.750000000000001,1.7600000000000011,1.7700000000000011,1.7800000000000011,1.7900000000000011,1.8000000000000012,1.8100000000000012,1.8200000000000012,1.8300000000000012,1.8400000000000012,1.8500000000000012,1.8600000000000012,1.8700000000000012,1.8800000000000012,1.8900000000000012,1.9000000000000012,1.9100000000000013,1.9200000000000013,1.9300000000000013,1.9400000000000013,1.9500000000000013,1.9600000000000013,1.9700000000000013,1.9800000000000013,1.9900000000000013,2.0000000000000013,2.0100000000000016,2.0200000000000014,2.030000000000001,2.0400000000000014,2.0500000000000016,2.0600000000000014,2.070000000000001,2.0800000000000014,2.0900000000000016,2.1000000000000014,2.110000000000001,2.1200000000000014,2.1300000000000017,2.1400000000000015,2.1500000000000012,2.1600000000000015,2.1700000000000017,2.1800000000000015,2.1900000000000013,2.2000000000000015,2.2100000000000017,2.2200000000000015,2.2300000000000013,2.2400000000000015,2.2500000000000018,2.2600000000000016,2.2700000000000014,2.2800000000000016,2.290000000000002,2.3000000000000016,2.3100000000000014,2.3200000000000016,2.330000000000002,2.3400000000000016,2.3500000000000014,2.3600000000000017,2.370000000000002,2.3800000000000017,2.3900000000000015,2.4000000000000017,2.410000000000002,2.4200000000000017,2.4300000000000015,2.4400000000000017,2.450000000000002,2.4600000000000017,2.4700000000000015,2.4800000000000018,2.490000000000002,2.5000000000000018,2.5100000000000016,2.520000000000002,2.530000000000002,2.540000000000002,2.5500000000000016,2.560000000000002,2.570000000000002,2.580000000000002,2.5900000000000016,2.600000000000002,2.610000000000002,2.620000000000002,2.6300000000000017,2.640000000000002,2.650000000000002,2.660000000000002,2.6700000000000017,2.680000000000002,2.690000000000002,2.700000000000002,2.7100000000000017,2.720000000000002,2.730000000000002,2.740000000000002,2.7500000000000018,2.760000000000002,2.7700000000000022,2.780000000000002,2.790000000000002,2.800000000000002,2.8100000000000023,2.820000000000002,2.830000000000002,2.840000000000002,2.8500000000000023,2.860000000000002,2.870000000000002,2.880000000000002,2.8900000000000023,2.900000000000002,2.910000000000002,2.920000000000002,2.9300000000000024,2.940000000000002,2.950000000000002,2.960000000000002,2.9700000000000024,2.980000000000002,2.990000000000002,3.000000000000002,3.0100000000000025,3.0200000000000022,3.030000000000002,3.0400000000000023,3.0500000000000025,3.0600000000000023,3.070000000000002,3.0800000000000023,3.0900000000000025,3.1000000000000023,3.110000000000002,3.1200000000000023,3.1300000000000026,3.1400000000000023,3.150000000000002,3.1600000000000024,3.1700000000000026,3.1800000000000024,3.190000000000002,3.2000000000000024,3.2100000000000026,3.2200000000000024,3.230000000000002,3.2400000000000024,3.2500000000000027,3.2600000000000025,3.2700000000000022,3.2800000000000025,3.2900000000000027,3.3000000000000025,3.3100000000000023,3.3200000000000025,3.3300000000000027,3.3400000000000025,3.3500000000000023,3.3600000000000025,3.3700000000000028,3.3800000000000026,3.3900000000000023,3.4000000000000026,3.410000000000003,3.4200000000000026,3.4300000000000024,3.4400000000000026,3.450000000000003,3.4600000000000026,3.4700000000000024,3.4800000000000026,3.490000000000003],\"xaxis\":\"x\",\"y\":[-0.09507475070882687,-0.09715971217175803,-0.09925257753988259,-0.10135339184306488,-0.10346220045387694,-0.10557904909086495,-0.10770398382185324,-0.10983705106728615,-0.11197829760360835,-0.11412777056668408,-0.11628551745525599,-0.11845158613444388,-0.12062602483928409,-0.12280888217830986,-0.12500020713717355,-0.12720004908231097,-0.12940845776464852,-0.1316254833233538,-0.13385117628963003,-0.13608558759055542,-0.1383287685529673,-0.14058077090739235,-0.14284164679202332,-0.1451114487567426,-0.14739022976719385,-0.14967804320890177,-0.15197494289144117,-0.15428098305265575,-0.15659621836292714,-0.15892070392949545,-0.1612544953008316,-0.163597648471062,-0.165950219884447,-0.1683122664399131,-0.1706838454956404,-0.1730650148737052,-0.1754558328647796,-0.17785635823288784,-0.18026665022022118,-0.18268676855201105,-0.18511677344146266,-0.18755672559474856,-0.19000668621606412,-0.19246671701274487,-0.1949368802004476,-0.1974172385083953,-0.19990785518468704,-0.20240879400167433,-0.2049201192614039,-0.2074418958011292,-0.20997418899888975,-0.21251706477916157,-0.21507058961857786,-0.21763483055172214,-0.22020985517699396,-0.22279573166254935,-0.22539252875231622,-0.22800031577208618,-0.2306191626356838,-0.23324913985121468,-0.23589031852739323,-0.2385427703799516,-0.2412065677381306,-0.24388178355125445,-0.24656849139539008,-0.24926676548009222,-0.25197668065523615,-0.25469831241793894,-0.25743173691957055,-0.2601770309728565,-0.2629342720590728,-0.265703538335336,-0.26848490864198726,-0.2712784625100752,-0.27408428016893605,-0.27690244255387425,-0.27973303131394495,-0.282576128819839,-0.28543181817187363,-0.2883001832080885,-0.2911813085124506,-0.29407527942316863,-0.29698218204111876,-0.2999021032383836,-0.3028351306669063,-0.3057813527672612,-0.3087408587775436,-0.3117137387423793,-0.3147000835220573,-0.3176999848017863,-0.3207135351010782,-0.32374082778325897,-0.32678195706511104,-0.3298370180266474,-0.3329061066210209,-0.3359893196845698,-0.33908675494700274,-0.3421985110417251,-0.3453246875163084,-0.3484653848431058,-0.35162070443001636,-0.35479074863139926,-0.3579756207591416,-0.3611754250938816,-0.36439026689639076,-0.36762025241911556,-0.3708654889178839,-0.37412608466377717,-0.37740214895517127,-0.38069379212994947,-0.3840011255778903,-0.38732426175323215,-0.39066331418741956,-0.39401839750203166,-0.3973896274218988,-0.40077712078840794,-0.40418099557300147,-0.4076013708908722,-0.4110383670148581,-0.4144921053895401,-0.41796270864554674,-0.4214503006140676,-0.424955006341582,-0.4284769521048045,-0.43201626542585103,-0.43557307508763016,-0.43914751114946343,-0.44273970496293863,-0.4463497891879993,-0.4499778978092756,-0.453624166152661,-0.45728873090213695,-0.46097173011685316,-0.4646733032484651,-0.4683935911587354,-0.472132736137402,-0.4758908819203192,-0.4796681737078759,-0.48346475818369616,-0.4872807835336271,-0.49111639946501817,-0.4949717572263,-0.4988470096268652,-0.5027423110572571,-0.506657817509674,-0.5105936865987932,-0.5145500775829193,-0.5185271513854658,-0.5225250706167734,-0.5265439995962735,-0.5305841043750004,-0.5346455527584618,-0.5387285143298712,-0.542833160473753,-0.5469596643999213,-0.5511082011678452,-0.555278947711405,-0.5594720828640468,-0.5636877873843436,-0.5679262439819682,-0.5721876373440922,-0.5764721541622103,-0.5807799831594055,-0.5851113151180573,-0.5894663429080087,-0.5938452615151942,-0.5982482680707403,-0.6026755618805479,-0.6071273444553666,-0.6116038195413678,-0.6161051931512294,-0.6206316735957386,-0.6251834715159277,-0.6297607999157487,-0.6343638741953005,-0.6389929121846157,-0.6436481341780247,-0.6483297629691019,-0.6530380238862092,-0.6577731448286471,-0.6625353563034269,-0.6673248914626758,-0.6721419861416884,-0.6769868788976352,-0.6818598110489437,-0.6867610267153672,-0.6916907728587512,-0.696649299324514,-0.7016368588838559,-0.7066537072767137,-0.711700103255473,-0.7167763086294532,-0.7218825883101865,-0.7270192103575024,-0.7321864460264365,-0.7373845698149794,-0.7426138595126859,-0.7478745962501615,-0.7531670645494429,-0.7584915523752926,-0.7638483511874297,-0.7692377559937124,-0.7746600654042956,-0.7801155816867826,-0.7856046108223937,-0.7911274625631739,-0.7966844504902605,-0.802275892073233,-0.807902108730574,-0.8135634258912589,-0.8192601730575028,-0.824992683868688,-0.8307612961665016,-0.8365663520613064,-0.8424081979997733,-0.8482871848338026,-0.8542036678907682,-0.8601580070451056,-0.8661505667912808,-0.8721817163181673,-0.8782518295848679,-0.8843612853980066,-0.8905104674905313,-0.8966997646020564,-0.9029295705607857,-0.9092002843670466,-0.9155123102784767,-0.9218660578968996,-0.9282619422569269,-0.9347003839163331,-0.9411818090482373,-0.9477066495351372,-0.9542753430648405,-0.9608883332283377,-0.9675460696196598,-0.9742490079377696,-0.9809976100905375,-0.9877923443008494,-0.9946336852148959,-1.0015221140126986,-1.0084581185209276,-1.0154421933280637,-1.0224748399019634,-1.0295565667098843,-1.0366878893410338,-1.0438693306317024,-1.051101420793042,-1.0583846975415578,-1.065719706232383,-1.073106999995402,-1.080547139874295,-1.0880406949685757,-1.095588242578703,-1.1031903683543383,-1.1108476664458302,-1.1185607396590103,-1.1263301996133843,-1.1341566669038052,-1.1420407712657177,-1.1499831517440653,-1.1579844568659612,-1.1660453448172128,-1.1741664836228067,-1.1823485513314524,-1.1905922362043009,-1.1988982369079382,-1.2072672627117749,-1.2157000336899437,-1.2241972809278299,-1.232759746733358,-1.2413881848531603,-1.2500833606937614,-1.2588460515479156,-1.26767704682624,-1.2765771482942798,-1.2855471703151642,-1.2945879400980036,-1.3037002979521894,-1.312885097547754,-1.3221432061819687,-1.3314755050523495,-1.3408828895362543,-1.3503662694772531,-1.3599265694784675,-1.3695647292030797,-1.3792817036822098,-1.3890784636303801,-1.3989559957687796,-1.408915303156558,-1.4189574055303857,-1.4290833396525127,-1.439294159667582,-1.4495909374684566,-1.4599747630713242,-1.470446745000353,-1.481008010682188,-1.4916597068505788,-1.502402999961452,-1.5132390766187307,-1.5241691440112362],\"yaxis\":\"y\",\"type\":\"scatter\"},{\"hovertemplate\":\"PE=PE_with_promotion0_segm2\\u003cbr\\u003eprice=%{x}\\u003cbr\\u003ePEValue=%{y}\\u003cextra\\u003e\\u003c\\u002fextra\\u003e\",\"legendgroup\":\"PE_with_promotion0_segm2\",\"line\":{\"color\":\"#EF553B\",\"dash\":\"solid\"},\"marker\":{\"symbol\":\"circle\"},\"mode\":\"lines\",\"name\":\"PE_with_promotion0_segm2\",\"orientation\":\"v\",\"showlegend\":true,\"x\":[0.5,0.51,0.52,0.53,0.54,0.55,0.56,0.5700000000000001,0.5800000000000001,0.5900000000000001,0.6000000000000001,0.6100000000000001,0.6200000000000001,0.6300000000000001,0.6400000000000001,0.6500000000000001,0.6600000000000001,0.6700000000000002,0.6800000000000002,0.6900000000000002,0.7000000000000002,0.7100000000000002,0.7200000000000002,0.7300000000000002,0.7400000000000002,0.7500000000000002,0.7600000000000002,0.7700000000000002,0.7800000000000002,0.7900000000000003,0.8000000000000003,0.8100000000000003,0.8200000000000003,0.8300000000000003,0.8400000000000003,0.8500000000000003,0.8600000000000003,0.8700000000000003,0.8800000000000003,0.8900000000000003,0.9000000000000004,0.9100000000000004,0.9200000000000004,0.9300000000000004,0.9400000000000004,0.9500000000000004,0.9600000000000004,0.9700000000000004,0.9800000000000004,0.9900000000000004,1.0000000000000004,1.0100000000000005,1.0200000000000005,1.0300000000000005,1.0400000000000005,1.0500000000000005,1.0600000000000005,1.0700000000000005,1.0800000000000005,1.0900000000000005,1.1000000000000005,1.1100000000000005,1.1200000000000006,1.1300000000000006,1.1400000000000006,1.1500000000000006,1.1600000000000006,1.1700000000000006,1.1800000000000006,1.1900000000000006,1.2000000000000006,1.2100000000000006,1.2200000000000006,1.2300000000000006,1.2400000000000007,1.2500000000000007,1.2600000000000007,1.2700000000000007,1.2800000000000007,1.2900000000000007,1.3000000000000007,1.3100000000000007,1.3200000000000007,1.3300000000000007,1.3400000000000007,1.3500000000000008,1.3600000000000008,1.3700000000000008,1.3800000000000008,1.3900000000000008,1.4000000000000008,1.4100000000000008,1.4200000000000008,1.4300000000000008,1.4400000000000008,1.4500000000000008,1.4600000000000009,1.4700000000000009,1.4800000000000009,1.4900000000000009,1.5000000000000009,1.510000000000001,1.520000000000001,1.530000000000001,1.540000000000001,1.550000000000001,1.560000000000001,1.570000000000001,1.580000000000001,1.590000000000001,1.600000000000001,1.610000000000001,1.620000000000001,1.630000000000001,1.640000000000001,1.650000000000001,1.660000000000001,1.670000000000001,1.680000000000001,1.690000000000001,1.700000000000001,1.710000000000001,1.720000000000001,1.730000000000001,1.740000000000001,1.750000000000001,1.7600000000000011,1.7700000000000011,1.7800000000000011,1.7900000000000011,1.8000000000000012,1.8100000000000012,1.8200000000000012,1.8300000000000012,1.8400000000000012,1.8500000000000012,1.8600000000000012,1.8700000000000012,1.8800000000000012,1.8900000000000012,1.9000000000000012,1.9100000000000013,1.9200000000000013,1.9300000000000013,1.9400000000000013,1.9500000000000013,1.9600000000000013,1.9700000000000013,1.9800000000000013,1.9900000000000013,2.0000000000000013,2.0100000000000016,2.0200000000000014,2.030000000000001,2.0400000000000014,2.0500000000000016,2.0600000000000014,2.070000000000001,2.0800000000000014,2.0900000000000016,2.1000000000000014,2.110000000000001,2.1200000000000014,2.1300000000000017,2.1400000000000015,2.1500000000000012,2.1600000000000015,2.1700000000000017,2.1800000000000015,2.1900000000000013,2.2000000000000015,2.2100000000000017,2.2200000000000015,2.2300000000000013,2.2400000000000015,2.2500000000000018,2.2600000000000016,2.2700000000000014,2.2800000000000016,2.290000000000002,2.3000000000000016,2.3100000000000014,2.3200000000000016,2.330000000000002,2.3400000000000016,2.3500000000000014,2.3600000000000017,2.370000000000002,2.3800000000000017,2.3900000000000015,2.4000000000000017,2.410000000000002,2.4200000000000017,2.4300000000000015,2.4400000000000017,2.450000000000002,2.4600000000000017,2.4700000000000015,2.4800000000000018,2.490000000000002,2.5000000000000018,2.5100000000000016,2.520000000000002,2.530000000000002,2.540000000000002,2.5500000000000016,2.560000000000002,2.570000000000002,2.580000000000002,2.5900000000000016,2.600000000000002,2.610000000000002,2.620000000000002,2.6300000000000017,2.640000000000002,2.650000000000002,2.660000000000002,2.6700000000000017,2.680000000000002,2.690000000000002,2.700000000000002,2.7100000000000017,2.720000000000002,2.730000000000002,2.740000000000002,2.7500000000000018,2.760000000000002,2.7700000000000022,2.780000000000002,2.790000000000002,2.800000000000002,2.8100000000000023,2.820000000000002,2.830000000000002,2.840000000000002,2.8500000000000023,2.860000000000002,2.870000000000002,2.880000000000002,2.8900000000000023,2.900000000000002,2.910000000000002,2.920000000000002,2.9300000000000024,2.940000000000002,2.950000000000002,2.960000000000002,2.9700000000000024,2.980000000000002,2.990000000000002,3.000000000000002,3.0100000000000025,3.0200000000000022,3.030000000000002,3.0400000000000023,3.0500000000000025,3.0600000000000023,3.070000000000002,3.0800000000000023,3.0900000000000025,3.1000000000000023,3.110000000000002,3.1200000000000023,3.1300000000000026,3.1400000000000023,3.150000000000002,3.1600000000000024,3.1700000000000026,3.1800000000000024,3.190000000000002,3.2000000000000024,3.2100000000000026,3.2200000000000024,3.230000000000002,3.2400000000000024,3.2500000000000027,3.2600000000000025,3.2700000000000022,3.2800000000000025,3.2900000000000027,3.3000000000000025,3.3100000000000023,3.3200000000000025,3.3300000000000027,3.3400000000000025,3.3500000000000023,3.3600000000000025,3.3700000000000028,3.3800000000000026,3.3900000000000023,3.4000000000000026,3.410000000000003,3.4200000000000026,3.4300000000000024,3.4400000000000026,3.450000000000003,3.4600000000000026,3.4700000000000024,3.4800000000000026,3.490000000000003],\"xaxis\":\"x\",\"y\":[-0.09441136822758549,-0.09648050831672024,-0.09855743739671297,-0.10064219953136327,-0.10273483911746835,-0.10483540088797465,-0.10694392991516533,-0.10906047161388409,-0.11118507174479576,-0.1133177764176843,-0.11545863209478845,-0.11760768559417586,-0.11976498409315611,-0.12193057513173271,-0.12410450661609554,-0.12628682682215325,-0.1284775843991069,-0.13067682837306493,-0.13288460815070052,-0.1351009735229512,-0.13732597466876217,-0.13955966215887308,-0.1418020869596494,-0.14405330043695896,-0.14631335436009385,-0.14858230090573896,-0.15086019266198716,-0.15314708263240234,-0.15544302424013043,-0.1577480713320595,-0.16006227818302954,-0.16238569950009205,-0.16471839042682132,-0.16706040654767695,-0.16941180389241872,-0.17177263894057507,-0.17414296862596496,-0.17652285034127485,-0.17891234194269084,-0.18131150175458718,-0.18372038857427164,-0.18613906167678895,-0.18856758081978278,-0.19100600624841715,-0.19345439870035827,-0.19591281941081762,-0.19838133011765702,-0.20085999306655689,-0.20334887101624813,-0.20584802724380896,-0.2083575255500278,-0.21087743026483202,-0.21340780625278552,-0.21594871891865403,-0.21850023421304066,-0.22106241863809176,-0.22363533925327475,-0.22621906368122868,-0.22881366011368867,-0.23141919731748517,-0.23403574464061921,-0.23666337201841553,-0.2393021499797527,-0.24195214965337414,-0.24461344277427896,-0.24728610169019494,-0.24997019936813455,-0.25266580940103545,-0.25537300601448654,-0.25809186407354084,-0.260822459089617,-0.2635648672274897,-0.2663191653123715,-0.2690854308370869,-0.2718637419693402,-0.274654177559078,-0.2774568171459491,-0.2802717409668617,-0.2830990299636409,-0.2859387657907868,-0.2887910308233356,-0.2916559081648248,-0.2945334816553642,-0.297423835879815,-0.30032705617607736,-0.3032432286434896,-0.30617244015133943,-0.3091147783474899,-0.3120703316671219,-0.3150391893415938,-0.3180214414074223,-0.32101717871538393,-0.32402649293974095,-0.3270494765875926,-0.33008622300835455,-0.3331368264033679,-0.3362013818356393,-0.3392799852397164,-0.3423727334316985,-0.34547972411938543,-0.34860105591256746,-0.3517368283334577,-0.35488714182727,-0.3580520977729435,-0.36123179849401804,-0.36442634726966167,-0.36763584834585245,-0.37086040694671824,-0.37410012928603625,-0.37735512257889514,-0.38062549505352283,-0.3839113559632815,-0.38721281559883436,-0.3905299853004856,-0.39386297747069693,-0.39721190558678365,-0.4005768842137938,-0.40395802901757194,-0.40735545677801277,-0.4107692854025055,-0.41419963393957465,-0.41764662259271856,-0.42111037273444957,-0.4245910069205405,-0.42808864890447906,-0.4316034236521352,-0.4351354573566439,-0.4386848774535085,-0.4422518126359275,-0.44583639287034804,-0.44943874941225165,-0.45305901482217503,-0.45669732298197097,-0.4603538091113112,-0.46402860978443977,-0.46772186294717716,-0.4714337079341814,-0.47516428548647044,-0.4789137377692113,-0.4826822083897791,-0.4864698424160917,-0.490276786395225,-0.49410318837231354,-0.49794919790974196,-0.5018149661066313,-0.5057006456186278,-0.509606390677997,-0.5135323571140311,-0.5174787023737726,-0.5214455855430632,-0.525433167367921,-0.5294416102762539,-0.5334710783999134,-0.5375217375970986,-0.5415937554751131,-0.5456873014134817,-0.5498025465874372,-0.5539396639917811,-0.5580988284651238,-0.5622802167145158,-0.5664840073404729,-0.5707103808624067,-0.5749595197444644,-0.5792316084217872,-0.5835268333271966,-0.5878453829183152,-0.5921874477051295,-0.5965532202780044,-0.6009428953361591,-0.6053566697166107,-0.6097947424235968,-0.6142573146584833,-0.6187445898501723,-0.6232567736860133,-0.6277940741432324,-0.632356701520886,-0.6369448684723534,-0.6415587900383758,-0.6461986836806511,-0.6508647693160009,-0.6555572693511157,-0.6602764087178921,-0.665022414909375,-0.6697955180163123,-0.674595950764341,-0.679423948551812,-0.6842797494882686,-0.6891635944335917,-0.6940757270378248,-0.6990163937816952,-0.7039858440178398,-0.7089843300127566,-0.7140121069894917,-0.7190694331710811,-0.724156569824758,-0.7292737813069464,-0.7344213351090539,-0.7395995019040816,-0.7448085555940691,-0.7500487733583898,-0.7553204357029144,-0.760623826510067,-0.765959233089782,-0.7713269462313901,-0.7767272602564473,-0.7821604730725331,-0.7876268862280317,-0.7931268049679199,-0.7986605382905879,-0.8042283990057075,-0.8098307037931772,-0.815467773263161,-0.821139932017252,-0.8268475087107809,-0.8325908361162943,-0.8383702511882285,-0.8441860951288098,-0.8500387134552028,-0.8559284560679354,-0.8618556773206325,-0.8678207360910822,-0.8738239958536717,-0.8798658247532148,-0.8859465956802086,-0.8920666863475516,-0.8982264793687533,-0.9044263623376712,-0.9106667279098085,-0.9169479738852119,-0.9232705032930028,-0.9296347244775808,-0.9360410511865367,-0.9424899026603193,-0.9489817037236907,-0.955516884879018,-0.9620958824014368,-0.9687191384359409,-0.9753871010964347,-0.9821002245667989,-0.9888589692040153,-0.9956638016434043,-1.0025151949060203,-1.0094136285082598,-1.0163595885737344,-1.0233535679474641,-1.03039606631245,-1.037487590308676,-1.044628653654609,-1.0518197772712525,-1.0590614894088188,-1.0663543257760848,-1.0736988296724936,-1.0810955521230787,-1.0885450520162732,-1.0960478962446798,-1.1036046598488771,-1.111215926164336,-1.1188822869715267,-1.1266043426492995,-1.1343827023316155,-1.1422179840677242,-1.1501108149858665,-1.1580618314606008,-1.1660716792838388,-1.174141013839698,-1.1822705002832608,-1.1904608137233472,-1.1987126394094045,-1.207026672922624,-1.2154036203713994,-1.2238441985912345,-1.2323491353492269,-1.2409191695532449,-1.249555051465929,-1.2582575429236438,-1.2670274175605134,-1.2758654610376843,-1.284772471277956,-1.2937492587059232,-1.3027966464937846,-1.3119154708129748,-1.3211065810917824,-1.3303708402791146,-1.3397091251145872,-1.3491223264051166,-1.3586113493081913,-1.3681771136220207,-1.3778205540827475,-1.3875426206689339,-1.3973442789135246,-1.4072265102235038,-1.4171903122074636,-1.4272366990113232,-1.43736670166243,-1.447581368422285,-1.4578817651481493,-1.4682689756637985,-1.4787441021396879,-1.4893082654828103,-1.4999626057365405],\"yaxis\":\"y\",\"type\":\"scatter\"}],                        {\"template\":{\"data\":{\"histogram2dcontour\":[{\"type\":\"histogram2dcontour\",\"colorbar\":{\"outlinewidth\":0,\"ticks\":\"\"},\"colorscale\":[[0.0,\"#0d0887\"],[0.1111111111111111,\"#46039f\"],[0.2222222222222222,\"#7201a8\"],[0.3333333333333333,\"#9c179e\"],[0.4444444444444444,\"#bd3786\"],[0.5555555555555556,\"#d8576b\"],[0.6666666666666666,\"#ed7953\"],[0.7777777777777778,\"#fb9f3a\"],[0.8888888888888888,\"#fdca26\"],[1.0,\"#f0f921\"]]}],\"choropleth\":[{\"type\":\"choropleth\",\"colorbar\":{\"outlinewidth\":0,\"ticks\":\"\"}}],\"histogram2d\":[{\"type\":\"histogram2d\",\"colorbar\":{\"outlinewidth\":0,\"ticks\":\"\"},\"colorscale\":[[0.0,\"#0d0887\"],[0.1111111111111111,\"#46039f\"],[0.2222222222222222,\"#7201a8\"],[0.3333333333333333,\"#9c179e\"],[0.4444444444444444,\"#bd3786\"],[0.5555555555555556,\"#d8576b\"],[0.6666666666666666,\"#ed7953\"],[0.7777777777777778,\"#fb9f3a\"],[0.8888888888888888,\"#fdca26\"],[1.0,\"#f0f921\"]]}],\"heatmap\":[{\"type\":\"heatmap\",\"colorbar\":{\"outlinewidth\":0,\"ticks\":\"\"},\"colorscale\":[[0.0,\"#0d0887\"],[0.1111111111111111,\"#46039f\"],[0.2222222222222222,\"#7201a8\"],[0.3333333333333333,\"#9c179e\"],[0.4444444444444444,\"#bd3786\"],[0.5555555555555556,\"#d8576b\"],[0.6666666666666666,\"#ed7953\"],[0.7777777777777778,\"#fb9f3a\"],[0.8888888888888888,\"#fdca26\"],[1.0,\"#f0f921\"]]}],\"heatmapgl\":[{\"type\":\"heatmapgl\",\"colorbar\":{\"outlinewidth\":0,\"ticks\":\"\"},\"colorscale\":[[0.0,\"#0d0887\"],[0.1111111111111111,\"#46039f\"],[0.2222222222222222,\"#7201a8\"],[0.3333333333333333,\"#9c179e\"],[0.4444444444444444,\"#bd3786\"],[0.5555555555555556,\"#d8576b\"],[0.6666666666666666,\"#ed7953\"],[0.7777777777777778,\"#fb9f3a\"],[0.8888888888888888,\"#fdca26\"],[1.0,\"#f0f921\"]]}],\"contourcarpet\":[{\"type\":\"contourcarpet\",\"colorbar\":{\"outlinewidth\":0,\"ticks\":\"\"}}],\"contour\":[{\"type\":\"contour\",\"colorbar\":{\"outlinewidth\":0,\"ticks\":\"\"},\"colorscale\":[[0.0,\"#0d0887\"],[0.1111111111111111,\"#46039f\"],[0.2222222222222222,\"#7201a8\"],[0.3333333333333333,\"#9c179e\"],[0.4444444444444444,\"#bd3786\"],[0.5555555555555556,\"#d8576b\"],[0.6666666666666666,\"#ed7953\"],[0.7777777777777778,\"#fb9f3a\"],[0.8888888888888888,\"#fdca26\"],[1.0,\"#f0f921\"]]}],\"surface\":[{\"type\":\"surface\",\"colorbar\":{\"outlinewidth\":0,\"ticks\":\"\"},\"colorscale\":[[0.0,\"#0d0887\"],[0.1111111111111111,\"#46039f\"],[0.2222222222222222,\"#7201a8\"],[0.3333333333333333,\"#9c179e\"],[0.4444444444444444,\"#bd3786\"],[0.5555555555555556,\"#d8576b\"],[0.6666666666666666,\"#ed7953\"],[0.7777777777777778,\"#fb9f3a\"],[0.8888888888888888,\"#fdca26\"],[1.0,\"#f0f921\"]]}],\"mesh3d\":[{\"type\":\"mesh3d\",\"colorbar\":{\"outlinewidth\":0,\"ticks\":\"\"}}],\"scatter\":[{\"fillpattern\":{\"fillmode\":\"overlay\",\"size\":10,\"solidity\":0.2},\"type\":\"scatter\"}],\"parcoords\":[{\"type\":\"parcoords\",\"line\":{\"colorbar\":{\"outlinewidth\":0,\"ticks\":\"\"}}}],\"scatterpolargl\":[{\"type\":\"scatterpolargl\",\"marker\":{\"colorbar\":{\"outlinewidth\":0,\"ticks\":\"\"}}}],\"bar\":[{\"error_x\":{\"color\":\"#2a3f5f\"},\"error_y\":{\"color\":\"#2a3f5f\"},\"marker\":{\"line\":{\"color\":\"#E5ECF6\",\"width\":0.5},\"pattern\":{\"fillmode\":\"overlay\",\"size\":10,\"solidity\":0.2}},\"type\":\"bar\"}],\"scattergeo\":[{\"type\":\"scattergeo\",\"marker\":{\"colorbar\":{\"outlinewidth\":0,\"ticks\":\"\"}}}],\"scatterpolar\":[{\"type\":\"scatterpolar\",\"marker\":{\"colorbar\":{\"outlinewidth\":0,\"ticks\":\"\"}}}],\"histogram\":[{\"marker\":{\"pattern\":{\"fillmode\":\"overlay\",\"size\":10,\"solidity\":0.2}},\"type\":\"histogram\"}],\"scattergl\":[{\"type\":\"scattergl\",\"marker\":{\"colorbar\":{\"outlinewidth\":0,\"ticks\":\"\"}}}],\"scatter3d\":[{\"type\":\"scatter3d\",\"line\":{\"colorbar\":{\"outlinewidth\":0,\"ticks\":\"\"}},\"marker\":{\"colorbar\":{\"outlinewidth\":0,\"ticks\":\"\"}}}],\"scattermapbox\":[{\"type\":\"scattermapbox\",\"marker\":{\"colorbar\":{\"outlinewidth\":0,\"ticks\":\"\"}}}],\"scatterternary\":[{\"type\":\"scatterternary\",\"marker\":{\"colorbar\":{\"outlinewidth\":0,\"ticks\":\"\"}}}],\"scattercarpet\":[{\"type\":\"scattercarpet\",\"marker\":{\"colorbar\":{\"outlinewidth\":0,\"ticks\":\"\"}}}],\"carpet\":[{\"aaxis\":{\"endlinecolor\":\"#2a3f5f\",\"gridcolor\":\"white\",\"linecolor\":\"white\",\"minorgridcolor\":\"white\",\"startlinecolor\":\"#2a3f5f\"},\"baxis\":{\"endlinecolor\":\"#2a3f5f\",\"gridcolor\":\"white\",\"linecolor\":\"white\",\"minorgridcolor\":\"white\",\"startlinecolor\":\"#2a3f5f\"},\"type\":\"carpet\"}],\"table\":[{\"cells\":{\"fill\":{\"color\":\"#EBF0F8\"},\"line\":{\"color\":\"white\"}},\"header\":{\"fill\":{\"color\":\"#C8D4E3\"},\"line\":{\"color\":\"white\"}},\"type\":\"table\"}],\"barpolar\":[{\"marker\":{\"line\":{\"color\":\"#E5ECF6\",\"width\":0.5},\"pattern\":{\"fillmode\":\"overlay\",\"size\":10,\"solidity\":0.2}},\"type\":\"barpolar\"}],\"pie\":[{\"automargin\":true,\"type\":\"pie\"}]},\"layout\":{\"autotypenumbers\":\"strict\",\"colorway\":[\"#636efa\",\"#EF553B\",\"#00cc96\",\"#ab63fa\",\"#FFA15A\",\"#19d3f3\",\"#FF6692\",\"#B6E880\",\"#FF97FF\",\"#FECB52\"],\"font\":{\"color\":\"#2a3f5f\"},\"hovermode\":\"closest\",\"hoverlabel\":{\"align\":\"left\"},\"paper_bgcolor\":\"white\",\"plot_bgcolor\":\"#E5ECF6\",\"polar\":{\"bgcolor\":\"#E5ECF6\",\"angularaxis\":{\"gridcolor\":\"white\",\"linecolor\":\"white\",\"ticks\":\"\"},\"radialaxis\":{\"gridcolor\":\"white\",\"linecolor\":\"white\",\"ticks\":\"\"}},\"ternary\":{\"bgcolor\":\"#E5ECF6\",\"aaxis\":{\"gridcolor\":\"white\",\"linecolor\":\"white\",\"ticks\":\"\"},\"baxis\":{\"gridcolor\":\"white\",\"linecolor\":\"white\",\"ticks\":\"\"},\"caxis\":{\"gridcolor\":\"white\",\"linecolor\":\"white\",\"ticks\":\"\"}},\"coloraxis\":{\"colorbar\":{\"outlinewidth\":0,\"ticks\":\"\"}},\"colorscale\":{\"sequential\":[[0.0,\"#0d0887\"],[0.1111111111111111,\"#46039f\"],[0.2222222222222222,\"#7201a8\"],[0.3333333333333333,\"#9c179e\"],[0.4444444444444444,\"#bd3786\"],[0.5555555555555556,\"#d8576b\"],[0.6666666666666666,\"#ed7953\"],[0.7777777777777778,\"#fb9f3a\"],[0.8888888888888888,\"#fdca26\"],[1.0,\"#f0f921\"]],\"sequentialminus\":[[0.0,\"#0d0887\"],[0.1111111111111111,\"#46039f\"],[0.2222222222222222,\"#7201a8\"],[0.3333333333333333,\"#9c179e\"],[0.4444444444444444,\"#bd3786\"],[0.5555555555555556,\"#d8576b\"],[0.6666666666666666,\"#ed7953\"],[0.7777777777777778,\"#fb9f3a\"],[0.8888888888888888,\"#fdca26\"],[1.0,\"#f0f921\"]],\"diverging\":[[0,\"#8e0152\"],[0.1,\"#c51b7d\"],[0.2,\"#de77ae\"],[0.3,\"#f1b6da\"],[0.4,\"#fde0ef\"],[0.5,\"#f7f7f7\"],[0.6,\"#e6f5d0\"],[0.7,\"#b8e186\"],[0.8,\"#7fbc41\"],[0.9,\"#4d9221\"],[1,\"#276419\"]]},\"xaxis\":{\"gridcolor\":\"white\",\"linecolor\":\"white\",\"ticks\":\"\",\"title\":{\"standoff\":15},\"zerolinecolor\":\"white\",\"automargin\":true,\"zerolinewidth\":2},\"yaxis\":{\"gridcolor\":\"white\",\"linecolor\":\"white\",\"ticks\":\"\",\"title\":{\"standoff\":15},\"zerolinecolor\":\"white\",\"automargin\":true,\"zerolinewidth\":2},\"scene\":{\"xaxis\":{\"backgroundcolor\":\"#E5ECF6\",\"gridcolor\":\"white\",\"linecolor\":\"white\",\"showbackground\":true,\"ticks\":\"\",\"zerolinecolor\":\"white\",\"gridwidth\":2},\"yaxis\":{\"backgroundcolor\":\"#E5ECF6\",\"gridcolor\":\"white\",\"linecolor\":\"white\",\"showbackground\":true,\"ticks\":\"\",\"zerolinecolor\":\"white\",\"gridwidth\":2},\"zaxis\":{\"backgroundcolor\":\"#E5ECF6\",\"gridcolor\":\"white\",\"linecolor\":\"white\",\"showbackground\":true,\"ticks\":\"\",\"zerolinecolor\":\"white\",\"gridwidth\":2}},\"shapedefaults\":{\"line\":{\"color\":\"#2a3f5f\"}},\"annotationdefaults\":{\"arrowcolor\":\"#2a3f5f\",\"arrowhead\":0,\"arrowwidth\":1},\"geo\":{\"bgcolor\":\"white\",\"landcolor\":\"#E5ECF6\",\"subunitcolor\":\"white\",\"showland\":true,\"showlakes\":true,\"lakecolor\":\"white\"},\"title\":{\"x\":0.05},\"mapbox\":{\"style\":\"light\"}}},\"xaxis\":{\"anchor\":\"y\",\"domain\":[0.0,1.0],\"title\":{\"text\":\"Avg Price of chocolate brand\"}},\"yaxis\":{\"anchor\":\"x\",\"domain\":[0.0,1.0],\"title\":{\"text\":\"Mean Price Elasticity of Purchase quantity\"}},\"legend\":{\"title\":{\"text\":\"PE\"},\"tracegroupgap\":0},\"margin\":{\"t\":60},\"width\":1100,\"height\":300,\"title\":{\"text\":\"Price Elasticity of Purchase quantity (with promotion and without promotion) for customer segment 2\"}},                        {\"responsive\": true}                    ).then(function(){\n",
       "                            \n",
       "var gd = document.getElementById('516260fb-b151-4e57-ac74-dc5ce95217bc');\n",
       "var x = new MutationObserver(function (mutations, observer) {{\n",
       "        var display = window.getComputedStyle(gd).display;\n",
       "        if (!display || display === 'none') {{\n",
       "            console.log([gd, 'removed!']);\n",
       "            Plotly.purge(gd);\n",
       "            observer.disconnect();\n",
       "        }}\n",
       "}});\n",
       "\n",
       "// Listen for the removal of the full notebook cells\n",
       "var notebookContainer = gd.closest('#notebook-container');\n",
       "if (notebookContainer) {{\n",
       "    x.observe(notebookContainer, {childList: true});\n",
       "}}\n",
       "\n",
       "// Listen for the clearing of the current output cell\n",
       "var outputEl = gd.closest('.output');\n",
       "if (outputEl) {{\n",
       "    x.observe(outputEl, {childList: true});\n",
       "}}\n",
       "\n",
       "                        })                };                });            </script>        </div>"
      ]
     },
     "metadata": {},
     "output_type": "display_data"
    }
   ],
   "source": [
    "PE_0_1_promotion=df_price_elasticity_price_promotion.melt(id_vars=['price'],var_name='PE',value_name='PEValue',value_vars=['PE_with_promotion1_segm2','PE_with_promotion0_segm2'])\n",
    "# PE_0_1_promotion\n",
    "fig=px.line(PE_0_1_promotion,x=\"price\",y='PEValue',color='PE')\n",
    "fig.update_layout(width=1100,height=300,title='Price Elasticity of Purchase quantity (with promotion and without promotion) for customer segment 2',\n",
    "                  xaxis=dict(title='Avg Price of chocolate brand'),\n",
    "                  yaxis=dict(title='Mean Price Elasticity of Purchase quantity'))\n",
    "fig.show()"
   ]
  },
  {
   "cell_type": "markdown",
   "id": "9b730ce1-c2c2-47dd-afa4-8542dd489e3a",
   "metadata": {},
   "source": [
    "# price elasticity of purchase quantity for customer of segment 3"
   ]
  },
  {
   "cell_type": "code",
   "execution_count": 44,
   "id": "878f3c20-65fe-4409-93ac-882b833ba90d",
   "metadata": {},
   "outputs": [
    {
     "name": "stderr",
     "output_type": "stream",
     "text": [
      "C:\\Users\\adadi\\anaconda3\\envs\\HPOmenChallenge\\lib\\site-packages\\sklearn\\base.py:458: UserWarning:\n",
      "\n",
      "X has feature names, but LinearRegression was fitted without feature names\n",
      "\n",
      "C:\\Users\\adadi\\anaconda3\\envs\\HPOmenChallenge\\lib\\site-packages\\sklearn\\base.py:458: UserWarning:\n",
      "\n",
      "X has feature names, but LinearRegression was fitted without feature names\n",
      "\n"
     ]
    }
   ],
   "source": [
    "df_price_elasticity_price_promotion['PE_with_promotion1_segm3']=reg_3.coef_[0]*(df_price_elasticity_price_promotion['price']/\n",
    "                                                                               reg_0.predict(df_price_elasticity_price_promotion[['price','promotion_1']])\n",
    "                                                                               )\n",
    "df_price_elasticity_price_promotion['PE_with_promotion0_segm3']=reg_3.coef_[0]*(df_price_elasticity_price_promotion['price']/\n",
    "                                                                               reg_0.predict(df_price_elasticity_price_promotion[['price','promotion_0']])\n",
    "                                                                               )"
   ]
  },
  {
   "cell_type": "code",
   "execution_count": 45,
   "id": "269bfae6-c740-47cb-834f-1ecb2ea18add",
   "metadata": {},
   "outputs": [
    {
     "data": {
      "application/vnd.plotly.v1+json": {
       "config": {
        "plotlyServerURL": "https://plot.ly"
       },
       "data": [
        {
         "hovertemplate": "PE=PE_with_promotion1_segm3<br>price=%{x}<br>PEValue=%{y}<extra></extra>",
         "legendgroup": "PE_with_promotion1_segm3",
         "line": {
          "color": "#636efa",
          "dash": "solid"
         },
         "marker": {
          "symbol": "circle"
         },
         "mode": "lines",
         "name": "PE_with_promotion1_segm3",
         "orientation": "v",
         "showlegend": true,
         "type": "scatter",
         "x": [
          0.5,
          0.51,
          0.52,
          0.53,
          0.54,
          0.55,
          0.56,
          0.5700000000000001,
          0.5800000000000001,
          0.5900000000000001,
          0.6000000000000001,
          0.6100000000000001,
          0.6200000000000001,
          0.6300000000000001,
          0.6400000000000001,
          0.6500000000000001,
          0.6600000000000001,
          0.6700000000000002,
          0.6800000000000002,
          0.6900000000000002,
          0.7000000000000002,
          0.7100000000000002,
          0.7200000000000002,
          0.7300000000000002,
          0.7400000000000002,
          0.7500000000000002,
          0.7600000000000002,
          0.7700000000000002,
          0.7800000000000002,
          0.7900000000000003,
          0.8000000000000003,
          0.8100000000000003,
          0.8200000000000003,
          0.8300000000000003,
          0.8400000000000003,
          0.8500000000000003,
          0.8600000000000003,
          0.8700000000000003,
          0.8800000000000003,
          0.8900000000000003,
          0.9000000000000004,
          0.9100000000000004,
          0.9200000000000004,
          0.9300000000000004,
          0.9400000000000004,
          0.9500000000000004,
          0.9600000000000004,
          0.9700000000000004,
          0.9800000000000004,
          0.9900000000000004,
          1.0000000000000004,
          1.0100000000000005,
          1.0200000000000005,
          1.0300000000000005,
          1.0400000000000005,
          1.0500000000000005,
          1.0600000000000005,
          1.0700000000000005,
          1.0800000000000005,
          1.0900000000000005,
          1.1000000000000005,
          1.1100000000000005,
          1.1200000000000006,
          1.1300000000000006,
          1.1400000000000006,
          1.1500000000000006,
          1.1600000000000006,
          1.1700000000000006,
          1.1800000000000006,
          1.1900000000000006,
          1.2000000000000006,
          1.2100000000000006,
          1.2200000000000006,
          1.2300000000000006,
          1.2400000000000007,
          1.2500000000000007,
          1.2600000000000007,
          1.2700000000000007,
          1.2800000000000007,
          1.2900000000000007,
          1.3000000000000007,
          1.3100000000000007,
          1.3200000000000007,
          1.3300000000000007,
          1.3400000000000007,
          1.3500000000000008,
          1.3600000000000008,
          1.3700000000000008,
          1.3800000000000008,
          1.3900000000000008,
          1.4000000000000008,
          1.4100000000000008,
          1.4200000000000008,
          1.4300000000000008,
          1.4400000000000008,
          1.4500000000000008,
          1.4600000000000009,
          1.4700000000000009,
          1.4800000000000009,
          1.4900000000000009,
          1.5000000000000009,
          1.510000000000001,
          1.520000000000001,
          1.530000000000001,
          1.540000000000001,
          1.550000000000001,
          1.560000000000001,
          1.570000000000001,
          1.580000000000001,
          1.590000000000001,
          1.600000000000001,
          1.610000000000001,
          1.620000000000001,
          1.630000000000001,
          1.640000000000001,
          1.650000000000001,
          1.660000000000001,
          1.670000000000001,
          1.680000000000001,
          1.690000000000001,
          1.700000000000001,
          1.710000000000001,
          1.720000000000001,
          1.730000000000001,
          1.740000000000001,
          1.750000000000001,
          1.7600000000000011,
          1.7700000000000011,
          1.7800000000000011,
          1.7900000000000011,
          1.8000000000000012,
          1.8100000000000012,
          1.8200000000000012,
          1.8300000000000012,
          1.8400000000000012,
          1.8500000000000012,
          1.8600000000000012,
          1.8700000000000012,
          1.8800000000000012,
          1.8900000000000012,
          1.9000000000000012,
          1.9100000000000013,
          1.9200000000000013,
          1.9300000000000013,
          1.9400000000000013,
          1.9500000000000013,
          1.9600000000000013,
          1.9700000000000013,
          1.9800000000000013,
          1.9900000000000013,
          2.0000000000000013,
          2.0100000000000016,
          2.0200000000000014,
          2.030000000000001,
          2.0400000000000014,
          2.0500000000000016,
          2.0600000000000014,
          2.070000000000001,
          2.0800000000000014,
          2.0900000000000016,
          2.1000000000000014,
          2.110000000000001,
          2.1200000000000014,
          2.1300000000000017,
          2.1400000000000015,
          2.1500000000000012,
          2.1600000000000015,
          2.1700000000000017,
          2.1800000000000015,
          2.1900000000000013,
          2.2000000000000015,
          2.2100000000000017,
          2.2200000000000015,
          2.2300000000000013,
          2.2400000000000015,
          2.2500000000000018,
          2.2600000000000016,
          2.2700000000000014,
          2.2800000000000016,
          2.290000000000002,
          2.3000000000000016,
          2.3100000000000014,
          2.3200000000000016,
          2.330000000000002,
          2.3400000000000016,
          2.3500000000000014,
          2.3600000000000017,
          2.370000000000002,
          2.3800000000000017,
          2.3900000000000015,
          2.4000000000000017,
          2.410000000000002,
          2.4200000000000017,
          2.4300000000000015,
          2.4400000000000017,
          2.450000000000002,
          2.4600000000000017,
          2.4700000000000015,
          2.4800000000000018,
          2.490000000000002,
          2.5000000000000018,
          2.5100000000000016,
          2.520000000000002,
          2.530000000000002,
          2.540000000000002,
          2.5500000000000016,
          2.560000000000002,
          2.570000000000002,
          2.580000000000002,
          2.5900000000000016,
          2.600000000000002,
          2.610000000000002,
          2.620000000000002,
          2.6300000000000017,
          2.640000000000002,
          2.650000000000002,
          2.660000000000002,
          2.6700000000000017,
          2.680000000000002,
          2.690000000000002,
          2.700000000000002,
          2.7100000000000017,
          2.720000000000002,
          2.730000000000002,
          2.740000000000002,
          2.7500000000000018,
          2.760000000000002,
          2.7700000000000022,
          2.780000000000002,
          2.790000000000002,
          2.800000000000002,
          2.8100000000000023,
          2.820000000000002,
          2.830000000000002,
          2.840000000000002,
          2.8500000000000023,
          2.860000000000002,
          2.870000000000002,
          2.880000000000002,
          2.8900000000000023,
          2.900000000000002,
          2.910000000000002,
          2.920000000000002,
          2.9300000000000024,
          2.940000000000002,
          2.950000000000002,
          2.960000000000002,
          2.9700000000000024,
          2.980000000000002,
          2.990000000000002,
          3.000000000000002,
          3.0100000000000025,
          3.0200000000000022,
          3.030000000000002,
          3.0400000000000023,
          3.0500000000000025,
          3.0600000000000023,
          3.070000000000002,
          3.0800000000000023,
          3.0900000000000025,
          3.1000000000000023,
          3.110000000000002,
          3.1200000000000023,
          3.1300000000000026,
          3.1400000000000023,
          3.150000000000002,
          3.1600000000000024,
          3.1700000000000026,
          3.1800000000000024,
          3.190000000000002,
          3.2000000000000024,
          3.2100000000000026,
          3.2200000000000024,
          3.230000000000002,
          3.2400000000000024,
          3.2500000000000027,
          3.2600000000000025,
          3.2700000000000022,
          3.2800000000000025,
          3.2900000000000027,
          3.3000000000000025,
          3.3100000000000023,
          3.3200000000000025,
          3.3300000000000027,
          3.3400000000000025,
          3.3500000000000023,
          3.3600000000000025,
          3.3700000000000028,
          3.3800000000000026,
          3.3900000000000023,
          3.4000000000000026,
          3.410000000000003,
          3.4200000000000026,
          3.4300000000000024,
          3.4400000000000026,
          3.450000000000003,
          3.4600000000000026,
          3.4700000000000024,
          3.4800000000000026,
          3.490000000000003
         ],
         "xaxis": "x",
         "y": [
          -0.11263430189263703,
          -0.1151043391748752,
          -0.11758374015080751,
          -0.12007255816695651,
          -0.12257084697584787,
          -0.12507866073988005,
          -0.12759605403523858,
          -0.1301230818558551,
          -0.13265979961741203,
          -0.13520626316139328,
          -0.13776252875918193,
          -0.1403286531162052,
          -0.1429046933761274,
          -0.1454907071250918,
          -0.14808675239601152,
          -0.15069288767291097,
          -0.1533091718953174,
          -0.15593566446270438,
          -0.15857242523898693,
          -0.16121951455707004,
          -0.16387699322345015,
          -0.1665449225228713,
          -0.16922336422303622,
          -0.17191238057937316,
          -0.1746120343398594,
          -0.1773223887499019,
          -0.18004350755727658,
          -0.18277545501712592,
          -0.18551829589701674,
          -0.18827209548205867,
          -0.19103691958008392,
          -0.19381283452688922,
          -0.1965999071915414,
          -0.1993982049817467,
          -0.20220779584928547,
          -0.20502874829551215,
          -0.20786113137692283,
          -0.2107050147107903,
          -0.2135604684808679,
          -0.21642756344316286,
          -0.21930637093178101,
          -0.2221969628648428,
          -0.22509941175047218,
          -0.22801379069285949,
          -0.23094017339839898,
          -0.2338786341819028,
          -0.23682924797289154,
          -0.23979209032196336,
          -0.24276723740724232,
          -0.24575476604090735,
          -0.24875475367580266,
          -0.2517672784121312,
          -0.2547924190042323,
          -0.25783025486744443,
          -0.2608808660850546,
          -0.2639443334153358,
          -0.26702073829867323,
          -0.27011016286478146,
          -0.2732126899400132,
          -0.2763284030547609,
          -0.2794573864509537,
          -0.2825997250896498,
          -0.2857555046587261,
          -0.28892481158066763,
          -0.29210773302045634,
          -0.29530435689356216,
          -0.2985147718740377,
          -0.3017390674027179,
          -0.3049773336955258,
          -0.30822966175188704,
          -0.31149614336325393,
          -0.3147768711217414,
          -0.3180719384288755,
          -0.3213814395044575,
          -0.3247054693955449,
          -0.32804412398554994,
          -0.33139750000345947,
          -0.3347656950331767,
          -0.3381488075229872,
          -0.3415469367951507,
          -0.3449601830556209,
          -0.34838864740389563,
          -0.35183243184299906,
          -0.3552916392895972,
          -0.3587663735842509,
          -0.362256739501806,
          -0.36576284276192494,
          -0.36928479003976084,
          -0.3728226889767761,
          -0.3763766481917093,
          -0.37994677729169096,
          -0.3835331868835119,
          -0.3871359885850457,
          -0.3907552950368285,
          -0.39439121991379816,
          -0.39804387793719537,
          -0.40171338488662967,
          -0.4053998576123128,
          -0.4091034140474619,
          -0.4128241732208757,
          -0.4165622552696866,
          -0.42031778145229076,
          -0.4240908741614602,
          -0.42788165693763863,
          -0.4316902544824257,
          -0.43551679267225085,
          -0.4393613985722413,
          -0.4432242004502871,
          -0.4471053277913058,
          -0.4510049113117114,
          -0.45492308297408945,
          -0.45885997600208295,
          -0.4628157248954922,
          -0.46679046544559166,
          -0.4707843347506684,
          -0.47479747123178534,
          -0.4788300146487733,
          -0.48288210611645466,
          -0.4869538881211053,
          -0.4910455045371556,
          -0.4951571006441368,
          -0.4992888231438755,
          -0.5034408201779426,
          -0.5076132413453585,
          -0.5118062377205609,
          -0.5160199618716387,
          -0.5202545678788367,
          -0.5245102113533378,
          -0.5287870494563228,
          -0.5330852409183193,
          -0.5374049460588378,
          -0.5417463268063055,
          -0.5461095467183003,
          -0.5504947710020905,
          -0.5549021665354874,
          -0.5593319018880133,
          -0.5637841473423928,
          -0.5682590749163732,
          -0.5727568583848786,
          -0.577277673302505,
          -0.58182169702636,
          -0.5863891087392579,
          -0.5909800894732721,
          -0.5955948221336528,
          -0.6002334915231183,
          -0.6048962843665245,
          -0.6095833893359199,
          -0.6142949970759939,
          -0.6190313002299256,
          -0.6237924934656398,
          -0.6285787735024778,
          -0.6333903391382916,
          -0.638227391276967,
          -0.6430901329563885,
          -0.6479787693768472,
          -0.6528935079299051,
          -0.6578345582277249,
          -0.6628021321328694,
          -0.6677964437885839,
          -0.672817709649567,
          -0.6778661485132429,
          -0.6829419815515431,
          -0.688045432343204,
          -0.6931767269065956,
          -0.6983360937330886,
          -0.7035237638209705,
          -0.7087399707099211,
          -0.7139849505160577,
          -0.7192589419675648,
          -0.7245621864409127,
          -0.7298949279976847,
          -0.7352574134220156,
          -0.7406498922586626,
          -0.7460726168517162,
          -0.7515258423839618,
          -0.757009826916909,
          -0.7625248314315007,
          -0.7680711198695152,
          -0.7736489591756721,
          -0.7792586193404626,
          -0.7849003734437118,
          -0.7905744976988929,
          -0.7962812714982056,
          -0.8020209774584348,
          -0.8077939014676045,
          -0.8136003327324474,
          -0.8194405638266997,
          -0.8253148907402438,
          -0.8312236129291126,
          -0.837167033366378,
          -0.843145458593935,
          -0.8491591987752053,
          -0.855208567748776,
          -0.8612938830829979,
          -0.8674154661315568,
          -0.8735736420900417,
          -0.8797687400535313,
          -0.8860010930752207,
          -0.8922710382261064,
          -0.898578916655755,
          -0.9049250736541802,
          -0.9113098587148484,
          -0.9177336255988379,
          -0.924196732400177,
          -0.9306995416123868,
          -0.9372424201962541,
          -0.9438257396488614,
          -0.9504498760738975,
          -0.9571152102532854,
          -0.9638221277201471,
          -0.9705710188331392,
          -0.9773622788521874,
          -0.9841963080156549,
          -0.9910735116189705,
          -0.9979943000947531,
          -1.004959089094462,
          -1.0119682995716142,
          -1.0190223578665945,
          -1.0261216957931012,
          -1.0332667507262603,
          -1.04045796569245,
          -1.047695789460868,
          -1.05498067663689,
          -1.0623130877572489,
          -1.069693489387089,
          -1.0771223542189285,
          -1.0846001611735796,
          -1.0921273955030684,
          -1.0997045488956023,
          -1.107332119582636,
          -1.1150106124480783,
          -1.122740539139693,
          -1.1305224181827493,
          -1.1383567750959693,
          -1.1462441425098306,
          -1.1541850602872736,
          -1.1621800756468839,
          -1.1702297432885937,
          -1.1783346255219755,
          -1.1864952923971779,
          -1.1947123218385816,
          -1.202986299781231,
          -1.2113178203101123,
          -1.2197074858023456,
          -1.2281559070723695,
          -1.2366637035201844,
          -1.2452315032827292,
          -1.2538599433884763,
          -1.2625496699153198,
          -1.2713013381518394,
          -1.2801156127620263,
          -1.2889931679535538,
          -1.2979346876496891,
          -1.3069408656649337,
          -1.316012405884486,
          -1.3251500224476254,
          -1.3343544399351224,
          -1.3436263935607686,
          -1.352966629367143,
          -1.3623759044257135,
          -1.3718549870413994,
          -1.3814046569616985,
          -1.3910257055905049,
          -1.400718936206739,
          -1.410485164187918,
          -1.4203252172387968,
          -1.4302399356252116,
          -1.4402301724132671,
          -1.4502967937140114,
          -1.4604406789337463,
          -1.4706627210301189,
          -1.4809638267741583,
          -1.4913449170184163,
          -1.5018069269713796,
          -1.5123508064783202,
          -1.5229775203087683,
          -1.5336880484507858,
          -1.5444833864122327,
          -1.555364545529215,
          -1.5663325532819208,
          -1.5773884536180465,
          -1.5885333072840353,
          -1.599768192164337,
          -1.6110942036289242,
          -1.6225124548893048,
          -1.6340240773632597,
          -1.6456302210485723,
          -1.6573320549059962,
          -1.6691307672517386,
          -1.6810275661597316,
          -1.6930236798739766,
          -1.7051203572312585,
          -1.717318868094537,
          -1.7296205037973305,
          -1.7420265775994148,
          -1.75453842515418,
          -1.7671574049879897,
          -1.779884898991914,
          -1.792722312926194,
          -1.8056710769378364
         ],
         "yaxis": "y"
        },
        {
         "hovertemplate": "PE=PE_with_promotion0_segm3<br>price=%{x}<br>PEValue=%{y}<extra></extra>",
         "legendgroup": "PE_with_promotion0_segm3",
         "line": {
          "color": "#EF553B",
          "dash": "solid"
         },
         "marker": {
          "symbol": "circle"
         },
         "mode": "lines",
         "name": "PE_with_promotion0_segm3",
         "orientation": "v",
         "showlegend": true,
         "type": "scatter",
         "x": [
          0.5,
          0.51,
          0.52,
          0.53,
          0.54,
          0.55,
          0.56,
          0.5700000000000001,
          0.5800000000000001,
          0.5900000000000001,
          0.6000000000000001,
          0.6100000000000001,
          0.6200000000000001,
          0.6300000000000001,
          0.6400000000000001,
          0.6500000000000001,
          0.6600000000000001,
          0.6700000000000002,
          0.6800000000000002,
          0.6900000000000002,
          0.7000000000000002,
          0.7100000000000002,
          0.7200000000000002,
          0.7300000000000002,
          0.7400000000000002,
          0.7500000000000002,
          0.7600000000000002,
          0.7700000000000002,
          0.7800000000000002,
          0.7900000000000003,
          0.8000000000000003,
          0.8100000000000003,
          0.8200000000000003,
          0.8300000000000003,
          0.8400000000000003,
          0.8500000000000003,
          0.8600000000000003,
          0.8700000000000003,
          0.8800000000000003,
          0.8900000000000003,
          0.9000000000000004,
          0.9100000000000004,
          0.9200000000000004,
          0.9300000000000004,
          0.9400000000000004,
          0.9500000000000004,
          0.9600000000000004,
          0.9700000000000004,
          0.9800000000000004,
          0.9900000000000004,
          1.0000000000000004,
          1.0100000000000005,
          1.0200000000000005,
          1.0300000000000005,
          1.0400000000000005,
          1.0500000000000005,
          1.0600000000000005,
          1.0700000000000005,
          1.0800000000000005,
          1.0900000000000005,
          1.1000000000000005,
          1.1100000000000005,
          1.1200000000000006,
          1.1300000000000006,
          1.1400000000000006,
          1.1500000000000006,
          1.1600000000000006,
          1.1700000000000006,
          1.1800000000000006,
          1.1900000000000006,
          1.2000000000000006,
          1.2100000000000006,
          1.2200000000000006,
          1.2300000000000006,
          1.2400000000000007,
          1.2500000000000007,
          1.2600000000000007,
          1.2700000000000007,
          1.2800000000000007,
          1.2900000000000007,
          1.3000000000000007,
          1.3100000000000007,
          1.3200000000000007,
          1.3300000000000007,
          1.3400000000000007,
          1.3500000000000008,
          1.3600000000000008,
          1.3700000000000008,
          1.3800000000000008,
          1.3900000000000008,
          1.4000000000000008,
          1.4100000000000008,
          1.4200000000000008,
          1.4300000000000008,
          1.4400000000000008,
          1.4500000000000008,
          1.4600000000000009,
          1.4700000000000009,
          1.4800000000000009,
          1.4900000000000009,
          1.5000000000000009,
          1.510000000000001,
          1.520000000000001,
          1.530000000000001,
          1.540000000000001,
          1.550000000000001,
          1.560000000000001,
          1.570000000000001,
          1.580000000000001,
          1.590000000000001,
          1.600000000000001,
          1.610000000000001,
          1.620000000000001,
          1.630000000000001,
          1.640000000000001,
          1.650000000000001,
          1.660000000000001,
          1.670000000000001,
          1.680000000000001,
          1.690000000000001,
          1.700000000000001,
          1.710000000000001,
          1.720000000000001,
          1.730000000000001,
          1.740000000000001,
          1.750000000000001,
          1.7600000000000011,
          1.7700000000000011,
          1.7800000000000011,
          1.7900000000000011,
          1.8000000000000012,
          1.8100000000000012,
          1.8200000000000012,
          1.8300000000000012,
          1.8400000000000012,
          1.8500000000000012,
          1.8600000000000012,
          1.8700000000000012,
          1.8800000000000012,
          1.8900000000000012,
          1.9000000000000012,
          1.9100000000000013,
          1.9200000000000013,
          1.9300000000000013,
          1.9400000000000013,
          1.9500000000000013,
          1.9600000000000013,
          1.9700000000000013,
          1.9800000000000013,
          1.9900000000000013,
          2.0000000000000013,
          2.0100000000000016,
          2.0200000000000014,
          2.030000000000001,
          2.0400000000000014,
          2.0500000000000016,
          2.0600000000000014,
          2.070000000000001,
          2.0800000000000014,
          2.0900000000000016,
          2.1000000000000014,
          2.110000000000001,
          2.1200000000000014,
          2.1300000000000017,
          2.1400000000000015,
          2.1500000000000012,
          2.1600000000000015,
          2.1700000000000017,
          2.1800000000000015,
          2.1900000000000013,
          2.2000000000000015,
          2.2100000000000017,
          2.2200000000000015,
          2.2300000000000013,
          2.2400000000000015,
          2.2500000000000018,
          2.2600000000000016,
          2.2700000000000014,
          2.2800000000000016,
          2.290000000000002,
          2.3000000000000016,
          2.3100000000000014,
          2.3200000000000016,
          2.330000000000002,
          2.3400000000000016,
          2.3500000000000014,
          2.3600000000000017,
          2.370000000000002,
          2.3800000000000017,
          2.3900000000000015,
          2.4000000000000017,
          2.410000000000002,
          2.4200000000000017,
          2.4300000000000015,
          2.4400000000000017,
          2.450000000000002,
          2.4600000000000017,
          2.4700000000000015,
          2.4800000000000018,
          2.490000000000002,
          2.5000000000000018,
          2.5100000000000016,
          2.520000000000002,
          2.530000000000002,
          2.540000000000002,
          2.5500000000000016,
          2.560000000000002,
          2.570000000000002,
          2.580000000000002,
          2.5900000000000016,
          2.600000000000002,
          2.610000000000002,
          2.620000000000002,
          2.6300000000000017,
          2.640000000000002,
          2.650000000000002,
          2.660000000000002,
          2.6700000000000017,
          2.680000000000002,
          2.690000000000002,
          2.700000000000002,
          2.7100000000000017,
          2.720000000000002,
          2.730000000000002,
          2.740000000000002,
          2.7500000000000018,
          2.760000000000002,
          2.7700000000000022,
          2.780000000000002,
          2.790000000000002,
          2.800000000000002,
          2.8100000000000023,
          2.820000000000002,
          2.830000000000002,
          2.840000000000002,
          2.8500000000000023,
          2.860000000000002,
          2.870000000000002,
          2.880000000000002,
          2.8900000000000023,
          2.900000000000002,
          2.910000000000002,
          2.920000000000002,
          2.9300000000000024,
          2.940000000000002,
          2.950000000000002,
          2.960000000000002,
          2.9700000000000024,
          2.980000000000002,
          2.990000000000002,
          3.000000000000002,
          3.0100000000000025,
          3.0200000000000022,
          3.030000000000002,
          3.0400000000000023,
          3.0500000000000025,
          3.0600000000000023,
          3.070000000000002,
          3.0800000000000023,
          3.0900000000000025,
          3.1000000000000023,
          3.110000000000002,
          3.1200000000000023,
          3.1300000000000026,
          3.1400000000000023,
          3.150000000000002,
          3.1600000000000024,
          3.1700000000000026,
          3.1800000000000024,
          3.190000000000002,
          3.2000000000000024,
          3.2100000000000026,
          3.2200000000000024,
          3.230000000000002,
          3.2400000000000024,
          3.2500000000000027,
          3.2600000000000025,
          3.2700000000000022,
          3.2800000000000025,
          3.2900000000000027,
          3.3000000000000025,
          3.3100000000000023,
          3.3200000000000025,
          3.3300000000000027,
          3.3400000000000025,
          3.3500000000000023,
          3.3600000000000025,
          3.3700000000000028,
          3.3800000000000026,
          3.3900000000000023,
          3.4000000000000026,
          3.410000000000003,
          3.4200000000000026,
          3.4300000000000024,
          3.4400000000000026,
          3.450000000000003,
          3.4600000000000026,
          3.4700000000000024,
          3.4800000000000026,
          3.490000000000003
         ],
         "xaxis": "x",
         "y": [
          -0.11184839793700886,
          -0.11429969176339513,
          -0.11676021314537526,
          -0.11923001428498256,
          -0.12170914777875,
          -0.12419766662144387,
          -0.12669562420983999,
          -0.1292030743465429,
          -0.1317200712438487,
          -0.1342466695276522,
          -0.13678292424139848,
          -0.1393288908500804,
          -0.1418846252442818,
          -0.1444501837442672,
          -0.14702562310411926,
          -0.14961100051592335,
          -0.15220637361400152,
          -0.15481180047919504,
          -0.15742733964319705,
          -0.16005305009293574,
          -0.1626889912750089,
          -0.16533522310017007,
          -0.16799180594786747,
          -0.17065880067083672,
          -0.17333626859974688,
          -0.17602427154790207,
          -0.17872287181599816,
          -0.18143213219693624,
          -0.18415211598069284,
          -0.1868828869592486,
          -0.18962450943157513,
          -0.19237704820868193,
          -0.19514056861872334,
          -0.19791513651216705,
          -0.2007008182670244,
          -0.20349768079414404,
          -0.20630579154256903,
          -0.20912521850495913,
          -0.21195603022307832,
          -0.2147982957933495,
          -0.2176520848724761,
          -0.2205174676831327,
          -0.22339451501972513,
          -0.22628329825422047,
          -0.2291838893420495,
          -0.23209636082808077,
          -0.23502078585266875,
          -0.23795723815777653,
          -0.24090579209317406,
          -0.24386652262271324,
          -0.24683950533068125,
          -0.2498248164282321,
          -0.25282253275989924,
          -0.2558327318101891,
          -0.25885549171025735,
          -0.2618908912446684,
          -0.26493900985824054,
          -0.2679999276629772,
          -0.2710737254450851,
          -0.27416048467208215,
          -0.27726028749999415,
          -0.2803732167806448,
          -0.28349935606903626,
          -0.28663878963082584,
          -0.2897916024498971,
          -0.29295788023602837,
          -0.29613770943265977,
          -0.29933117722475977,
          -0.3025383715467941,
          -0.3057593810907962,
          -0.3089942953145439,
          -0.3122432044498407,
          -0.3155061995109057,
          -0.3187833723028725,
          -0.32207481543039934,
          -0.32538062230639153,
          -0.32870088716083923,
          -0.33203570504977015,
          -0.3353851718643215,
          -0.33874938433993096,
          -0.3421284400656494,
          -0.3455224374935775,
          -0.34893147594842744,
          -0.35235565563721233,
          -0.35579507765906454,
          -0.3592498440151862,
          -0.3627200576189323,
          -0.36620582230603005,
          -0.3697072428449356,
          -0.3732244249473305,
          -0.3767574752787607,
          -0.3803065014694196,
          -0.38387161212507726,
          -0.3874529168381593,
          -0.39105052619897707,
          -0.39466455180711085,
          -0.3982951062829495,
          -0.4019423032793896,
          -0.4056062574936948,
          -0.4092870846795193,
          -0.4129849016590984,
          -0.41669982633560737,
          -0.420431977705693,
          -0.4241814758721793,
          -0.42794844205695093,
          -0.4317329986140179,
          -0.4355352690427623,
          -0.4393553780013724,
          -0.44319345132046645,
          -0.44704961601690824,
          -0.45092400030781954,
          -0.45481673362479064,
          -0.45872794662829414,
          -0.46265777122230384,
          -0.4666063405691233,
          -0.47057378910442654,
          -0.4745602525525157,
          -0.47856586794179823,
          -0.48259077362048736,
          -0.4866351092725308,
          -0.49069901593376947,
          -0.4947826360083331,
          -0.498886113285273,
          -0.5030095929554396,
          -0.5071532216286065,
          -0.5113171473508474,
          -0.5155015196221666,
          -0.5197064894143927,
          -0.5239322091893355,
          -0.5281788329172126,
          -0.5324465160953502,
          -0.5367354157671631,
          -0.5410456905414187,
          -0.545377500611788,
          -0.5497310077766929,
          -0.5541063754594513,
          -0.5585037687287253,
          -0.5629233543192811,
          -0.5673653006530628,
          -0.5718297778605865,
          -0.5763169578026625,
          -0.5808270140924472,
          -0.5853601221178355,
          -0.5899164590641963,
          -0.5944962039374581,
          -0.5990995375875521,
          -0.6037266427322182,
          -0.6083777039811811,
          -0.6130529078607011,
          -0.6177524428385112,
          -0.6224764993491418,
          -0.6272252698196454,
          -0.6319989486957225,
          -0.6367977324682641,
          -0.641621819700311,
          -0.6464714110544408,
          -0.6513467093205924,
          -0.6562479194443321,
          -0.6611752485555736,
          -0.6661289059977552,
          -0.6711091033574894,
          -0.6761160544946891,
          -0.6811499755731799,
          -0.6862110850918086,
          -0.6912996039160577,
          -0.6964157553101756,
          -0.7015597649698301,
          -0.7067318610552961,
          -0.7119322742251921,
          -0.7171612376707689,
          -0.7224189871507655,
          -0.7277057610268419,
          -0.7330218002996025,
          -0.738367348645216,
          -0.7437426524526503,
          -0.7491479608615266,
          -0.7545835258006144,
          -0.760049602026971,
          -0.765546447165743,
          -0.7710743217506415,
          -0.7766334892651061,
          -0.7822242161841678,
          -0.7878467720170297,
          -0.7935014293503732,
          -0.7991884638924113,
          -0.8049081545177005,
          -0.8106607833127253,
          -0.8164466356222732,
          -0.8222660000966151,
          -0.8281191687395105,
          -0.8340064369570478,
          -0.8399281036073428,
          -0.845884471051111,
          -0.8518758452031316,
          -0.8579025355846205,
          -0.8639648553765332,
          -0.870063121473815,
          -0.8761976545406205,
          -0.8823687790665198,
          -0.8885768234237148,
          -0.8948221199252822,
          -0.9011050048844746,
          -0.9074258186750892,
          -0.9137849057929355,
          -0.9201826149184233,
          -0.9266192989802953,
          -0.9330953152205266,
          -0.9396110252604166,
          -0.9461667951679034,
          -0.9527629955261202,
          -0.9594000015032271,
          -0.9660781929235382,
          -0.9727979543399827,
          -0.9795596751079199,
          -0.9863637494603418,
          -0.9932105765844929,
          -1.00010056069994,
          -1.007034111138123,
          -1.0140116424234178,
          -1.021033574355749,
          -1.028100332094781,
          -1.0352123462457332,
          -1.0423700529468418,
          -1.0495738939585166,
          -1.0568243167542275,
          -1.0641217746131602,
          -1.0714667267146782,
          -1.0788596382346376,
          -1.0863009804435928,
          -1.0937912308069426,
          -1.1013308730870537,
          -1.1089203974474096,
          -1.1165603005588396,
          -1.124251085707865,
          -1.1319932629072196,
          -1.139787349008591,
          -1.1476338678176412,
          -1.1555333502113527,
          -1.163486334257761,
          -1.1714933653381254,
          -1.179554996271603,
          -1.1876717874424791,
          -1.1958443069300198,
          -1.2040731306410057,
          -1.2123588424450171,
          -1.2207020343125354,
          -1.2291033064559251,
          -1.2375632674733732,
          -1.246082534495854,
          -1.2546617333371979,
          -1.263301498647337,
          -1.2720024740688056,
          -1.2807653123965836,
          -1.2895906757413578,
          -1.2984792356962915,
          -1.30743167350739,
          -1.3164486802475512,
          -1.3255309569943976,
          -1.3346792150119835,
          -1.343894175936474,
          -1.3531765719659046,
          -1.362527146054121,
          -1.371946652109007,
          -1.3814358551951098,
          -1.3909955317407876,
          -1.4006264697499822,
          -1.41032946901875,
          -1.420105341356667,
          -1.4299549108132454,
          -1.4398790139094897,
          -1.449878499874727,
          -1.4599542308888558,
          -1.470107082330158,
          -1.4803379430288244,
          -1.4906477155263436,
          -1.5010373163409163,
          -1.5115076762390622,
          -1.5220597405135832,
          -1.5326944692680577,
          -1.5434128377080514,
          -1.5542158364392196,
          -1.5651044717725082,
          -1.5760797660366321,
          -1.5871427578980497,
          -1.5982945026886382,
          -1.6095360727412833,
          -1.6208685577336173,
          -1.6322930650401228,
          -1.6438107200928556,
          -1.6554226667510255,
          -1.6671300676796899,
          -1.6789341047378235,
          -1.6908359793760397,
          -1.7028369130442471,
          -1.714938147609518,
          -1.727140945784483,
          -1.7394465915665591,
          -1.7518563906883289,
          -1.7643716710794024,
          -1.7769937833401093
         ],
         "yaxis": "y"
        }
       ],
       "layout": {
        "height": 300,
        "legend": {
         "title": {
          "text": "PE"
         },
         "tracegroupgap": 0
        },
        "margin": {
         "t": 60
        },
        "template": {
         "data": {
          "bar": [
           {
            "error_x": {
             "color": "#2a3f5f"
            },
            "error_y": {
             "color": "#2a3f5f"
            },
            "marker": {
             "line": {
              "color": "#E5ECF6",
              "width": 0.5
             },
             "pattern": {
              "fillmode": "overlay",
              "size": 10,
              "solidity": 0.2
             }
            },
            "type": "bar"
           }
          ],
          "barpolar": [
           {
            "marker": {
             "line": {
              "color": "#E5ECF6",
              "width": 0.5
             },
             "pattern": {
              "fillmode": "overlay",
              "size": 10,
              "solidity": 0.2
             }
            },
            "type": "barpolar"
           }
          ],
          "carpet": [
           {
            "aaxis": {
             "endlinecolor": "#2a3f5f",
             "gridcolor": "white",
             "linecolor": "white",
             "minorgridcolor": "white",
             "startlinecolor": "#2a3f5f"
            },
            "baxis": {
             "endlinecolor": "#2a3f5f",
             "gridcolor": "white",
             "linecolor": "white",
             "minorgridcolor": "white",
             "startlinecolor": "#2a3f5f"
            },
            "type": "carpet"
           }
          ],
          "choropleth": [
           {
            "colorbar": {
             "outlinewidth": 0,
             "ticks": ""
            },
            "type": "choropleth"
           }
          ],
          "contour": [
           {
            "colorbar": {
             "outlinewidth": 0,
             "ticks": ""
            },
            "colorscale": [
             [
              0,
              "#0d0887"
             ],
             [
              0.1111111111111111,
              "#46039f"
             ],
             [
              0.2222222222222222,
              "#7201a8"
             ],
             [
              0.3333333333333333,
              "#9c179e"
             ],
             [
              0.4444444444444444,
              "#bd3786"
             ],
             [
              0.5555555555555556,
              "#d8576b"
             ],
             [
              0.6666666666666666,
              "#ed7953"
             ],
             [
              0.7777777777777778,
              "#fb9f3a"
             ],
             [
              0.8888888888888888,
              "#fdca26"
             ],
             [
              1,
              "#f0f921"
             ]
            ],
            "type": "contour"
           }
          ],
          "contourcarpet": [
           {
            "colorbar": {
             "outlinewidth": 0,
             "ticks": ""
            },
            "type": "contourcarpet"
           }
          ],
          "heatmap": [
           {
            "colorbar": {
             "outlinewidth": 0,
             "ticks": ""
            },
            "colorscale": [
             [
              0,
              "#0d0887"
             ],
             [
              0.1111111111111111,
              "#46039f"
             ],
             [
              0.2222222222222222,
              "#7201a8"
             ],
             [
              0.3333333333333333,
              "#9c179e"
             ],
             [
              0.4444444444444444,
              "#bd3786"
             ],
             [
              0.5555555555555556,
              "#d8576b"
             ],
             [
              0.6666666666666666,
              "#ed7953"
             ],
             [
              0.7777777777777778,
              "#fb9f3a"
             ],
             [
              0.8888888888888888,
              "#fdca26"
             ],
             [
              1,
              "#f0f921"
             ]
            ],
            "type": "heatmap"
           }
          ],
          "heatmapgl": [
           {
            "colorbar": {
             "outlinewidth": 0,
             "ticks": ""
            },
            "colorscale": [
             [
              0,
              "#0d0887"
             ],
             [
              0.1111111111111111,
              "#46039f"
             ],
             [
              0.2222222222222222,
              "#7201a8"
             ],
             [
              0.3333333333333333,
              "#9c179e"
             ],
             [
              0.4444444444444444,
              "#bd3786"
             ],
             [
              0.5555555555555556,
              "#d8576b"
             ],
             [
              0.6666666666666666,
              "#ed7953"
             ],
             [
              0.7777777777777778,
              "#fb9f3a"
             ],
             [
              0.8888888888888888,
              "#fdca26"
             ],
             [
              1,
              "#f0f921"
             ]
            ],
            "type": "heatmapgl"
           }
          ],
          "histogram": [
           {
            "marker": {
             "pattern": {
              "fillmode": "overlay",
              "size": 10,
              "solidity": 0.2
             }
            },
            "type": "histogram"
           }
          ],
          "histogram2d": [
           {
            "colorbar": {
             "outlinewidth": 0,
             "ticks": ""
            },
            "colorscale": [
             [
              0,
              "#0d0887"
             ],
             [
              0.1111111111111111,
              "#46039f"
             ],
             [
              0.2222222222222222,
              "#7201a8"
             ],
             [
              0.3333333333333333,
              "#9c179e"
             ],
             [
              0.4444444444444444,
              "#bd3786"
             ],
             [
              0.5555555555555556,
              "#d8576b"
             ],
             [
              0.6666666666666666,
              "#ed7953"
             ],
             [
              0.7777777777777778,
              "#fb9f3a"
             ],
             [
              0.8888888888888888,
              "#fdca26"
             ],
             [
              1,
              "#f0f921"
             ]
            ],
            "type": "histogram2d"
           }
          ],
          "histogram2dcontour": [
           {
            "colorbar": {
             "outlinewidth": 0,
             "ticks": ""
            },
            "colorscale": [
             [
              0,
              "#0d0887"
             ],
             [
              0.1111111111111111,
              "#46039f"
             ],
             [
              0.2222222222222222,
              "#7201a8"
             ],
             [
              0.3333333333333333,
              "#9c179e"
             ],
             [
              0.4444444444444444,
              "#bd3786"
             ],
             [
              0.5555555555555556,
              "#d8576b"
             ],
             [
              0.6666666666666666,
              "#ed7953"
             ],
             [
              0.7777777777777778,
              "#fb9f3a"
             ],
             [
              0.8888888888888888,
              "#fdca26"
             ],
             [
              1,
              "#f0f921"
             ]
            ],
            "type": "histogram2dcontour"
           }
          ],
          "mesh3d": [
           {
            "colorbar": {
             "outlinewidth": 0,
             "ticks": ""
            },
            "type": "mesh3d"
           }
          ],
          "parcoords": [
           {
            "line": {
             "colorbar": {
              "outlinewidth": 0,
              "ticks": ""
             }
            },
            "type": "parcoords"
           }
          ],
          "pie": [
           {
            "automargin": true,
            "type": "pie"
           }
          ],
          "scatter": [
           {
            "fillpattern": {
             "fillmode": "overlay",
             "size": 10,
             "solidity": 0.2
            },
            "type": "scatter"
           }
          ],
          "scatter3d": [
           {
            "line": {
             "colorbar": {
              "outlinewidth": 0,
              "ticks": ""
             }
            },
            "marker": {
             "colorbar": {
              "outlinewidth": 0,
              "ticks": ""
             }
            },
            "type": "scatter3d"
           }
          ],
          "scattercarpet": [
           {
            "marker": {
             "colorbar": {
              "outlinewidth": 0,
              "ticks": ""
             }
            },
            "type": "scattercarpet"
           }
          ],
          "scattergeo": [
           {
            "marker": {
             "colorbar": {
              "outlinewidth": 0,
              "ticks": ""
             }
            },
            "type": "scattergeo"
           }
          ],
          "scattergl": [
           {
            "marker": {
             "colorbar": {
              "outlinewidth": 0,
              "ticks": ""
             }
            },
            "type": "scattergl"
           }
          ],
          "scattermapbox": [
           {
            "marker": {
             "colorbar": {
              "outlinewidth": 0,
              "ticks": ""
             }
            },
            "type": "scattermapbox"
           }
          ],
          "scatterpolar": [
           {
            "marker": {
             "colorbar": {
              "outlinewidth": 0,
              "ticks": ""
             }
            },
            "type": "scatterpolar"
           }
          ],
          "scatterpolargl": [
           {
            "marker": {
             "colorbar": {
              "outlinewidth": 0,
              "ticks": ""
             }
            },
            "type": "scatterpolargl"
           }
          ],
          "scatterternary": [
           {
            "marker": {
             "colorbar": {
              "outlinewidth": 0,
              "ticks": ""
             }
            },
            "type": "scatterternary"
           }
          ],
          "surface": [
           {
            "colorbar": {
             "outlinewidth": 0,
             "ticks": ""
            },
            "colorscale": [
             [
              0,
              "#0d0887"
             ],
             [
              0.1111111111111111,
              "#46039f"
             ],
             [
              0.2222222222222222,
              "#7201a8"
             ],
             [
              0.3333333333333333,
              "#9c179e"
             ],
             [
              0.4444444444444444,
              "#bd3786"
             ],
             [
              0.5555555555555556,
              "#d8576b"
             ],
             [
              0.6666666666666666,
              "#ed7953"
             ],
             [
              0.7777777777777778,
              "#fb9f3a"
             ],
             [
              0.8888888888888888,
              "#fdca26"
             ],
             [
              1,
              "#f0f921"
             ]
            ],
            "type": "surface"
           }
          ],
          "table": [
           {
            "cells": {
             "fill": {
              "color": "#EBF0F8"
             },
             "line": {
              "color": "white"
             }
            },
            "header": {
             "fill": {
              "color": "#C8D4E3"
             },
             "line": {
              "color": "white"
             }
            },
            "type": "table"
           }
          ]
         },
         "layout": {
          "annotationdefaults": {
           "arrowcolor": "#2a3f5f",
           "arrowhead": 0,
           "arrowwidth": 1
          },
          "autotypenumbers": "strict",
          "coloraxis": {
           "colorbar": {
            "outlinewidth": 0,
            "ticks": ""
           }
          },
          "colorscale": {
           "diverging": [
            [
             0,
             "#8e0152"
            ],
            [
             0.1,
             "#c51b7d"
            ],
            [
             0.2,
             "#de77ae"
            ],
            [
             0.3,
             "#f1b6da"
            ],
            [
             0.4,
             "#fde0ef"
            ],
            [
             0.5,
             "#f7f7f7"
            ],
            [
             0.6,
             "#e6f5d0"
            ],
            [
             0.7,
             "#b8e186"
            ],
            [
             0.8,
             "#7fbc41"
            ],
            [
             0.9,
             "#4d9221"
            ],
            [
             1,
             "#276419"
            ]
           ],
           "sequential": [
            [
             0,
             "#0d0887"
            ],
            [
             0.1111111111111111,
             "#46039f"
            ],
            [
             0.2222222222222222,
             "#7201a8"
            ],
            [
             0.3333333333333333,
             "#9c179e"
            ],
            [
             0.4444444444444444,
             "#bd3786"
            ],
            [
             0.5555555555555556,
             "#d8576b"
            ],
            [
             0.6666666666666666,
             "#ed7953"
            ],
            [
             0.7777777777777778,
             "#fb9f3a"
            ],
            [
             0.8888888888888888,
             "#fdca26"
            ],
            [
             1,
             "#f0f921"
            ]
           ],
           "sequentialminus": [
            [
             0,
             "#0d0887"
            ],
            [
             0.1111111111111111,
             "#46039f"
            ],
            [
             0.2222222222222222,
             "#7201a8"
            ],
            [
             0.3333333333333333,
             "#9c179e"
            ],
            [
             0.4444444444444444,
             "#bd3786"
            ],
            [
             0.5555555555555556,
             "#d8576b"
            ],
            [
             0.6666666666666666,
             "#ed7953"
            ],
            [
             0.7777777777777778,
             "#fb9f3a"
            ],
            [
             0.8888888888888888,
             "#fdca26"
            ],
            [
             1,
             "#f0f921"
            ]
           ]
          },
          "colorway": [
           "#636efa",
           "#EF553B",
           "#00cc96",
           "#ab63fa",
           "#FFA15A",
           "#19d3f3",
           "#FF6692",
           "#B6E880",
           "#FF97FF",
           "#FECB52"
          ],
          "font": {
           "color": "#2a3f5f"
          },
          "geo": {
           "bgcolor": "white",
           "lakecolor": "white",
           "landcolor": "#E5ECF6",
           "showlakes": true,
           "showland": true,
           "subunitcolor": "white"
          },
          "hoverlabel": {
           "align": "left"
          },
          "hovermode": "closest",
          "mapbox": {
           "style": "light"
          },
          "paper_bgcolor": "white",
          "plot_bgcolor": "#E5ECF6",
          "polar": {
           "angularaxis": {
            "gridcolor": "white",
            "linecolor": "white",
            "ticks": ""
           },
           "bgcolor": "#E5ECF6",
           "radialaxis": {
            "gridcolor": "white",
            "linecolor": "white",
            "ticks": ""
           }
          },
          "scene": {
           "xaxis": {
            "backgroundcolor": "#E5ECF6",
            "gridcolor": "white",
            "gridwidth": 2,
            "linecolor": "white",
            "showbackground": true,
            "ticks": "",
            "zerolinecolor": "white"
           },
           "yaxis": {
            "backgroundcolor": "#E5ECF6",
            "gridcolor": "white",
            "gridwidth": 2,
            "linecolor": "white",
            "showbackground": true,
            "ticks": "",
            "zerolinecolor": "white"
           },
           "zaxis": {
            "backgroundcolor": "#E5ECF6",
            "gridcolor": "white",
            "gridwidth": 2,
            "linecolor": "white",
            "showbackground": true,
            "ticks": "",
            "zerolinecolor": "white"
           }
          },
          "shapedefaults": {
           "line": {
            "color": "#2a3f5f"
           }
          },
          "ternary": {
           "aaxis": {
            "gridcolor": "white",
            "linecolor": "white",
            "ticks": ""
           },
           "baxis": {
            "gridcolor": "white",
            "linecolor": "white",
            "ticks": ""
           },
           "bgcolor": "#E5ECF6",
           "caxis": {
            "gridcolor": "white",
            "linecolor": "white",
            "ticks": ""
           }
          },
          "title": {
           "x": 0.05
          },
          "xaxis": {
           "automargin": true,
           "gridcolor": "white",
           "linecolor": "white",
           "ticks": "",
           "title": {
            "standoff": 15
           },
           "zerolinecolor": "white",
           "zerolinewidth": 2
          },
          "yaxis": {
           "automargin": true,
           "gridcolor": "white",
           "linecolor": "white",
           "ticks": "",
           "title": {
            "standoff": 15
           },
           "zerolinecolor": "white",
           "zerolinewidth": 2
          }
         }
        },
        "title": {
         "text": "Price Elasticity of Purchase quantity (with promotion and without promotion) for customer segment 3"
        },
        "width": 1100,
        "xaxis": {
         "anchor": "y",
         "autorange": true,
         "domain": [
          0,
          1
         ],
         "range": [
          0.5,
          3.490000000000003
         ],
         "title": {
          "text": "Avg Price of chocolate brand"
         },
         "type": "linear"
        },
        "yaxis": {
         "anchor": "x",
         "autorange": true,
         "domain": [
          0,
          1
         ],
         "range": [
          -1.8997723368823267,
          -0.01774713799251844
         ],
         "title": {
          "text": "Mean Price Elasticity of Purchase quantity"
         },
         "type": "linear"
        }
       }
      },
      "image/png": "[encoded data removed]",
      "text/html": [
       "<div>                            <div id=\"d9d78f56-9567-4980-a384-8de63ed26a0e\" class=\"plotly-graph-div\" style=\"height:300px; width:1100px;\"></div>            <script type=\"text/javascript\">                require([\"plotly\"], function(Plotly) {                    window.PLOTLYENV=window.PLOTLYENV || {};                                    if (document.getElementById(\"d9d78f56-9567-4980-a384-8de63ed26a0e\")) {                    Plotly.newPlot(                        \"d9d78f56-9567-4980-a384-8de63ed26a0e\",                        [{\"hovertemplate\":\"PE=PE_with_promotion1_segm3\\u003cbr\\u003eprice=%{x}\\u003cbr\\u003ePEValue=%{y}\\u003cextra\\u003e\\u003c\\u002fextra\\u003e\",\"legendgroup\":\"PE_with_promotion1_segm3\",\"line\":{\"color\":\"#636efa\",\"dash\":\"solid\"},\"marker\":{\"symbol\":\"circle\"},\"mode\":\"lines\",\"name\":\"PE_with_promotion1_segm3\",\"orientation\":\"v\",\"showlegend\":true,\"x\":[0.5,0.51,0.52,0.53,0.54,0.55,0.56,0.5700000000000001,0.5800000000000001,0.5900000000000001,0.6000000000000001,0.6100000000000001,0.6200000000000001,0.6300000000000001,0.6400000000000001,0.6500000000000001,0.6600000000000001,0.6700000000000002,0.6800000000000002,0.6900000000000002,0.7000000000000002,0.7100000000000002,0.7200000000000002,0.7300000000000002,0.7400000000000002,0.7500000000000002,0.7600000000000002,0.7700000000000002,0.7800000000000002,0.7900000000000003,0.8000000000000003,0.8100000000000003,0.8200000000000003,0.8300000000000003,0.8400000000000003,0.8500000000000003,0.8600000000000003,0.8700000000000003,0.8800000000000003,0.8900000000000003,0.9000000000000004,0.9100000000000004,0.9200000000000004,0.9300000000000004,0.9400000000000004,0.9500000000000004,0.9600000000000004,0.9700000000000004,0.9800000000000004,0.9900000000000004,1.0000000000000004,1.0100000000000005,1.0200000000000005,1.0300000000000005,1.0400000000000005,1.0500000000000005,1.0600000000000005,1.0700000000000005,1.0800000000000005,1.0900000000000005,1.1000000000000005,1.1100000000000005,1.1200000000000006,1.1300000000000006,1.1400000000000006,1.1500000000000006,1.1600000000000006,1.1700000000000006,1.1800000000000006,1.1900000000000006,1.2000000000000006,1.2100000000000006,1.2200000000000006,1.2300000000000006,1.2400000000000007,1.2500000000000007,1.2600000000000007,1.2700000000000007,1.2800000000000007,1.2900000000000007,1.3000000000000007,1.3100000000000007,1.3200000000000007,1.3300000000000007,1.3400000000000007,1.3500000000000008,1.3600000000000008,1.3700000000000008,1.3800000000000008,1.3900000000000008,1.4000000000000008,1.4100000000000008,1.4200000000000008,1.4300000000000008,1.4400000000000008,1.4500000000000008,1.4600000000000009,1.4700000000000009,1.4800000000000009,1.4900000000000009,1.5000000000000009,1.510000000000001,1.520000000000001,1.530000000000001,1.540000000000001,1.550000000000001,1.560000000000001,1.570000000000001,1.580000000000001,1.590000000000001,1.600000000000001,1.610000000000001,1.620000000000001,1.630000000000001,1.640000000000001,1.650000000000001,1.660000000000001,1.670000000000001,1.680000000000001,1.690000000000001,1.700000000000001,1.710000000000001,1.720000000000001,1.730000000000001,1.740000000000001,1.750000000000001,1.7600000000000011,1.7700000000000011,1.7800000000000011,1.7900000000000011,1.8000000000000012,1.8100000000000012,1.8200000000000012,1.8300000000000012,1.8400000000000012,1.8500000000000012,1.8600000000000012,1.8700000000000012,1.8800000000000012,1.8900000000000012,1.9000000000000012,1.9100000000000013,1.9200000000000013,1.9300000000000013,1.9400000000000013,1.9500000000000013,1.9600000000000013,1.9700000000000013,1.9800000000000013,1.9900000000000013,2.0000000000000013,2.0100000000000016,2.0200000000000014,2.030000000000001,2.0400000000000014,2.0500000000000016,2.0600000000000014,2.070000000000001,2.0800000000000014,2.0900000000000016,2.1000000000000014,2.110000000000001,2.1200000000000014,2.1300000000000017,2.1400000000000015,2.1500000000000012,2.1600000000000015,2.1700000000000017,2.1800000000000015,2.1900000000000013,2.2000000000000015,2.2100000000000017,2.2200000000000015,2.2300000000000013,2.2400000000000015,2.2500000000000018,2.2600000000000016,2.2700000000000014,2.2800000000000016,2.290000000000002,2.3000000000000016,2.3100000000000014,2.3200000000000016,2.330000000000002,2.3400000000000016,2.3500000000000014,2.3600000000000017,2.370000000000002,2.3800000000000017,2.3900000000000015,2.4000000000000017,2.410000000000002,2.4200000000000017,2.4300000000000015,2.4400000000000017,2.450000000000002,2.4600000000000017,2.4700000000000015,2.4800000000000018,2.490000000000002,2.5000000000000018,2.5100000000000016,2.520000000000002,2.530000000000002,2.540000000000002,2.5500000000000016,2.560000000000002,2.570000000000002,2.580000000000002,2.5900000000000016,2.600000000000002,2.610000000000002,2.620000000000002,2.6300000000000017,2.640000000000002,2.650000000000002,2.660000000000002,2.6700000000000017,2.680000000000002,2.690000000000002,2.700000000000002,2.7100000000000017,2.720000000000002,2.730000000000002,2.740000000000002,2.7500000000000018,2.760000000000002,2.7700000000000022,2.780000000000002,2.790000000000002,2.800000000000002,2.8100000000000023,2.820000000000002,2.830000000000002,2.840000000000002,2.8500000000000023,2.860000000000002,2.870000000000002,2.880000000000002,2.8900000000000023,2.900000000000002,2.910000000000002,2.920000000000002,2.9300000000000024,2.940000000000002,2.950000000000002,2.960000000000002,2.9700000000000024,2.980000000000002,2.990000000000002,3.000000000000002,3.0100000000000025,3.0200000000000022,3.030000000000002,3.0400000000000023,3.0500000000000025,3.0600000000000023,3.070000000000002,3.0800000000000023,3.0900000000000025,3.1000000000000023,3.110000000000002,3.1200000000000023,3.1300000000000026,3.1400000000000023,3.150000000000002,3.1600000000000024,3.1700000000000026,3.1800000000000024,3.190000000000002,3.2000000000000024,3.2100000000000026,3.2200000000000024,3.230000000000002,3.2400000000000024,3.2500000000000027,3.2600000000000025,3.2700000000000022,3.2800000000000025,3.2900000000000027,3.3000000000000025,3.3100000000000023,3.3200000000000025,3.3300000000000027,3.3400000000000025,3.3500000000000023,3.3600000000000025,3.3700000000000028,3.3800000000000026,3.3900000000000023,3.4000000000000026,3.410000000000003,3.4200000000000026,3.4300000000000024,3.4400000000000026,3.450000000000003,3.4600000000000026,3.4700000000000024,3.4800000000000026,3.490000000000003],\"xaxis\":\"x\",\"y\":[-0.11263430189263703,-0.1151043391748752,-0.11758374015080751,-0.12007255816695651,-0.12257084697584787,-0.12507866073988005,-0.12759605403523858,-0.1301230818558551,-0.13265979961741203,-0.13520626316139328,-0.13776252875918193,-0.1403286531162052,-0.1429046933761274,-0.1454907071250918,-0.14808675239601152,-0.15069288767291097,-0.1533091718953174,-0.15593566446270438,-0.15857242523898693,-0.16121951455707004,-0.16387699322345015,-0.1665449225228713,-0.16922336422303622,-0.17191238057937316,-0.1746120343398594,-0.1773223887499019,-0.18004350755727658,-0.18277545501712592,-0.18551829589701674,-0.18827209548205867,-0.19103691958008392,-0.19381283452688922,-0.1965999071915414,-0.1993982049817467,-0.20220779584928547,-0.20502874829551215,-0.20786113137692283,-0.2107050147107903,-0.2135604684808679,-0.21642756344316286,-0.21930637093178101,-0.2221969628648428,-0.22509941175047218,-0.22801379069285949,-0.23094017339839898,-0.2338786341819028,-0.23682924797289154,-0.23979209032196336,-0.24276723740724232,-0.24575476604090735,-0.24875475367580266,-0.2517672784121312,-0.2547924190042323,-0.25783025486744443,-0.2608808660850546,-0.2639443334153358,-0.26702073829867323,-0.27011016286478146,-0.2732126899400132,-0.2763284030547609,-0.2794573864509537,-0.2825997250896498,-0.2857555046587261,-0.28892481158066763,-0.29210773302045634,-0.29530435689356216,-0.2985147718740377,-0.3017390674027179,-0.3049773336955258,-0.30822966175188704,-0.31149614336325393,-0.3147768711217414,-0.3180719384288755,-0.3213814395044575,-0.3247054693955449,-0.32804412398554994,-0.33139750000345947,-0.3347656950331767,-0.3381488075229872,-0.3415469367951507,-0.3449601830556209,-0.34838864740389563,-0.35183243184299906,-0.3552916392895972,-0.3587663735842509,-0.362256739501806,-0.36576284276192494,-0.36928479003976084,-0.3728226889767761,-0.3763766481917093,-0.37994677729169096,-0.3835331868835119,-0.3871359885850457,-0.3907552950368285,-0.39439121991379816,-0.39804387793719537,-0.40171338488662967,-0.4053998576123128,-0.4091034140474619,-0.4128241732208757,-0.4165622552696866,-0.42031778145229076,-0.4240908741614602,-0.42788165693763863,-0.4316902544824257,-0.43551679267225085,-0.4393613985722413,-0.4432242004502871,-0.4471053277913058,-0.4510049113117114,-0.45492308297408945,-0.45885997600208295,-0.4628157248954922,-0.46679046544559166,-0.4707843347506684,-0.47479747123178534,-0.4788300146487733,-0.48288210611645466,-0.4869538881211053,-0.4910455045371556,-0.4951571006441368,-0.4992888231438755,-0.5034408201779426,-0.5076132413453585,-0.5118062377205609,-0.5160199618716387,-0.5202545678788367,-0.5245102113533378,-0.5287870494563228,-0.5330852409183193,-0.5374049460588378,-0.5417463268063055,-0.5461095467183003,-0.5504947710020905,-0.5549021665354874,-0.5593319018880133,-0.5637841473423928,-0.5682590749163732,-0.5727568583848786,-0.577277673302505,-0.58182169702636,-0.5863891087392579,-0.5909800894732721,-0.5955948221336528,-0.6002334915231183,-0.6048962843665245,-0.6095833893359199,-0.6142949970759939,-0.6190313002299256,-0.6237924934656398,-0.6285787735024778,-0.6333903391382916,-0.638227391276967,-0.6430901329563885,-0.6479787693768472,-0.6528935079299051,-0.6578345582277249,-0.6628021321328694,-0.6677964437885839,-0.672817709649567,-0.6778661485132429,-0.6829419815515431,-0.688045432343204,-0.6931767269065956,-0.6983360937330886,-0.7035237638209705,-0.7087399707099211,-0.7139849505160577,-0.7192589419675648,-0.7245621864409127,-0.7298949279976847,-0.7352574134220156,-0.7406498922586626,-0.7460726168517162,-0.7515258423839618,-0.757009826916909,-0.7625248314315007,-0.7680711198695152,-0.7736489591756721,-0.7792586193404626,-0.7849003734437118,-0.7905744976988929,-0.7962812714982056,-0.8020209774584348,-0.8077939014676045,-0.8136003327324474,-0.8194405638266997,-0.8253148907402438,-0.8312236129291126,-0.837167033366378,-0.843145458593935,-0.8491591987752053,-0.855208567748776,-0.8612938830829979,-0.8674154661315568,-0.8735736420900417,-0.8797687400535313,-0.8860010930752207,-0.8922710382261064,-0.898578916655755,-0.9049250736541802,-0.9113098587148484,-0.9177336255988379,-0.924196732400177,-0.9306995416123868,-0.9372424201962541,-0.9438257396488614,-0.9504498760738975,-0.9571152102532854,-0.9638221277201471,-0.9705710188331392,-0.9773622788521874,-0.9841963080156549,-0.9910735116189705,-0.9979943000947531,-1.004959089094462,-1.0119682995716142,-1.0190223578665945,-1.0261216957931012,-1.0332667507262603,-1.04045796569245,-1.047695789460868,-1.05498067663689,-1.0623130877572489,-1.069693489387089,-1.0771223542189285,-1.0846001611735796,-1.0921273955030684,-1.0997045488956023,-1.107332119582636,-1.1150106124480783,-1.122740539139693,-1.1305224181827493,-1.1383567750959693,-1.1462441425098306,-1.1541850602872736,-1.1621800756468839,-1.1702297432885937,-1.1783346255219755,-1.1864952923971779,-1.1947123218385816,-1.202986299781231,-1.2113178203101123,-1.2197074858023456,-1.2281559070723695,-1.2366637035201844,-1.2452315032827292,-1.2538599433884763,-1.2625496699153198,-1.2713013381518394,-1.2801156127620263,-1.2889931679535538,-1.2979346876496891,-1.3069408656649337,-1.316012405884486,-1.3251500224476254,-1.3343544399351224,-1.3436263935607686,-1.352966629367143,-1.3623759044257135,-1.3718549870413994,-1.3814046569616985,-1.3910257055905049,-1.400718936206739,-1.410485164187918,-1.4203252172387968,-1.4302399356252116,-1.4402301724132671,-1.4502967937140114,-1.4604406789337463,-1.4706627210301189,-1.4809638267741583,-1.4913449170184163,-1.5018069269713796,-1.5123508064783202,-1.5229775203087683,-1.5336880484507858,-1.5444833864122327,-1.555364545529215,-1.5663325532819208,-1.5773884536180465,-1.5885333072840353,-1.599768192164337,-1.6110942036289242,-1.6225124548893048,-1.6340240773632597,-1.6456302210485723,-1.6573320549059962,-1.6691307672517386,-1.6810275661597316,-1.6930236798739766,-1.7051203572312585,-1.717318868094537,-1.7296205037973305,-1.7420265775994148,-1.75453842515418,-1.7671574049879897,-1.779884898991914,-1.792722312926194,-1.8056710769378364],\"yaxis\":\"y\",\"type\":\"scatter\"},{\"hovertemplate\":\"PE=PE_with_promotion0_segm3\\u003cbr\\u003eprice=%{x}\\u003cbr\\u003ePEValue=%{y}\\u003cextra\\u003e\\u003c\\u002fextra\\u003e\",\"legendgroup\":\"PE_with_promotion0_segm3\",\"line\":{\"color\":\"#EF553B\",\"dash\":\"solid\"},\"marker\":{\"symbol\":\"circle\"},\"mode\":\"lines\",\"name\":\"PE_with_promotion0_segm3\",\"orientation\":\"v\",\"showlegend\":true,\"x\":[0.5,0.51,0.52,0.53,0.54,0.55,0.56,0.5700000000000001,0.5800000000000001,0.5900000000000001,0.6000000000000001,0.6100000000000001,0.6200000000000001,0.6300000000000001,0.6400000000000001,0.6500000000000001,0.6600000000000001,0.6700000000000002,0.6800000000000002,0.6900000000000002,0.7000000000000002,0.7100000000000002,0.7200000000000002,0.7300000000000002,0.7400000000000002,0.7500000000000002,0.7600000000000002,0.7700000000000002,0.7800000000000002,0.7900000000000003,0.8000000000000003,0.8100000000000003,0.8200000000000003,0.8300000000000003,0.8400000000000003,0.8500000000000003,0.8600000000000003,0.8700000000000003,0.8800000000000003,0.8900000000000003,0.9000000000000004,0.9100000000000004,0.9200000000000004,0.9300000000000004,0.9400000000000004,0.9500000000000004,0.9600000000000004,0.9700000000000004,0.9800000000000004,0.9900000000000004,1.0000000000000004,1.0100000000000005,1.0200000000000005,1.0300000000000005,1.0400000000000005,1.0500000000000005,1.0600000000000005,1.0700000000000005,1.0800000000000005,1.0900000000000005,1.1000000000000005,1.1100000000000005,1.1200000000000006,1.1300000000000006,1.1400000000000006,1.1500000000000006,1.1600000000000006,1.1700000000000006,1.1800000000000006,1.1900000000000006,1.2000000000000006,1.2100000000000006,1.2200000000000006,1.2300000000000006,1.2400000000000007,1.2500000000000007,1.2600000000000007,1.2700000000000007,1.2800000000000007,1.2900000000000007,1.3000000000000007,1.3100000000000007,1.3200000000000007,1.3300000000000007,1.3400000000000007,1.3500000000000008,1.3600000000000008,1.3700000000000008,1.3800000000000008,1.3900000000000008,1.4000000000000008,1.4100000000000008,1.4200000000000008,1.4300000000000008,1.4400000000000008,1.4500000000000008,1.4600000000000009,1.4700000000000009,1.4800000000000009,1.4900000000000009,1.5000000000000009,1.510000000000001,1.520000000000001,1.530000000000001,1.540000000000001,1.550000000000001,1.560000000000001,1.570000000000001,1.580000000000001,1.590000000000001,1.600000000000001,1.610000000000001,1.620000000000001,1.630000000000001,1.640000000000001,1.650000000000001,1.660000000000001,1.670000000000001,1.680000000000001,1.690000000000001,1.700000000000001,1.710000000000001,1.720000000000001,1.730000000000001,1.740000000000001,1.750000000000001,1.7600000000000011,1.7700000000000011,1.7800000000000011,1.7900000000000011,1.8000000000000012,1.8100000000000012,1.8200000000000012,1.8300000000000012,1.8400000000000012,1.8500000000000012,1.8600000000000012,1.8700000000000012,1.8800000000000012,1.8900000000000012,1.9000000000000012,1.9100000000000013,1.9200000000000013,1.9300000000000013,1.9400000000000013,1.9500000000000013,1.9600000000000013,1.9700000000000013,1.9800000000000013,1.9900000000000013,2.0000000000000013,2.0100000000000016,2.0200000000000014,2.030000000000001,2.0400000000000014,2.0500000000000016,2.0600000000000014,2.070000000000001,2.0800000000000014,2.0900000000000016,2.1000000000000014,2.110000000000001,2.1200000000000014,2.1300000000000017,2.1400000000000015,2.1500000000000012,2.1600000000000015,2.1700000000000017,2.1800000000000015,2.1900000000000013,2.2000000000000015,2.2100000000000017,2.2200000000000015,2.2300000000000013,2.2400000000000015,2.2500000000000018,2.2600000000000016,2.2700000000000014,2.2800000000000016,2.290000000000002,2.3000000000000016,2.3100000000000014,2.3200000000000016,2.330000000000002,2.3400000000000016,2.3500000000000014,2.3600000000000017,2.370000000000002,2.3800000000000017,2.3900000000000015,2.4000000000000017,2.410000000000002,2.4200000000000017,2.4300000000000015,2.4400000000000017,2.450000000000002,2.4600000000000017,2.4700000000000015,2.4800000000000018,2.490000000000002,2.5000000000000018,2.5100000000000016,2.520000000000002,2.530000000000002,2.540000000000002,2.5500000000000016,2.560000000000002,2.570000000000002,2.580000000000002,2.5900000000000016,2.600000000000002,2.610000000000002,2.620000000000002,2.6300000000000017,2.640000000000002,2.650000000000002,2.660000000000002,2.6700000000000017,2.680000000000002,2.690000000000002,2.700000000000002,2.7100000000000017,2.720000000000002,2.730000000000002,2.740000000000002,2.7500000000000018,2.760000000000002,2.7700000000000022,2.780000000000002,2.790000000000002,2.800000000000002,2.8100000000000023,2.820000000000002,2.830000000000002,2.840000000000002,2.8500000000000023,2.860000000000002,2.870000000000002,2.880000000000002,2.8900000000000023,2.900000000000002,2.910000000000002,2.920000000000002,2.9300000000000024,2.940000000000002,2.950000000000002,2.960000000000002,2.9700000000000024,2.980000000000002,2.990000000000002,3.000000000000002,3.0100000000000025,3.0200000000000022,3.030000000000002,3.0400000000000023,3.0500000000000025,3.0600000000000023,3.070000000000002,3.0800000000000023,3.0900000000000025,3.1000000000000023,3.110000000000002,3.1200000000000023,3.1300000000000026,3.1400000000000023,3.150000000000002,3.1600000000000024,3.1700000000000026,3.1800000000000024,3.190000000000002,3.2000000000000024,3.2100000000000026,3.2200000000000024,3.230000000000002,3.2400000000000024,3.2500000000000027,3.2600000000000025,3.2700000000000022,3.2800000000000025,3.2900000000000027,3.3000000000000025,3.3100000000000023,3.3200000000000025,3.3300000000000027,3.3400000000000025,3.3500000000000023,3.3600000000000025,3.3700000000000028,3.3800000000000026,3.3900000000000023,3.4000000000000026,3.410000000000003,3.4200000000000026,3.4300000000000024,3.4400000000000026,3.450000000000003,3.4600000000000026,3.4700000000000024,3.4800000000000026,3.490000000000003],\"xaxis\":\"x\",\"y\":[-0.11184839793700886,-0.11429969176339513,-0.11676021314537526,-0.11923001428498256,-0.12170914777875,-0.12419766662144387,-0.12669562420983999,-0.1292030743465429,-0.1317200712438487,-0.1342466695276522,-0.13678292424139848,-0.1393288908500804,-0.1418846252442818,-0.1444501837442672,-0.14702562310411926,-0.14961100051592335,-0.15220637361400152,-0.15481180047919504,-0.15742733964319705,-0.16005305009293574,-0.1626889912750089,-0.16533522310017007,-0.16799180594786747,-0.17065880067083672,-0.17333626859974688,-0.17602427154790207,-0.17872287181599816,-0.18143213219693624,-0.18415211598069284,-0.1868828869592486,-0.18962450943157513,-0.19237704820868193,-0.19514056861872334,-0.19791513651216705,-0.2007008182670244,-0.20349768079414404,-0.20630579154256903,-0.20912521850495913,-0.21195603022307832,-0.2147982957933495,-0.2176520848724761,-0.2205174676831327,-0.22339451501972513,-0.22628329825422047,-0.2291838893420495,-0.23209636082808077,-0.23502078585266875,-0.23795723815777653,-0.24090579209317406,-0.24386652262271324,-0.24683950533068125,-0.2498248164282321,-0.25282253275989924,-0.2558327318101891,-0.25885549171025735,-0.2618908912446684,-0.26493900985824054,-0.2679999276629772,-0.2710737254450851,-0.27416048467208215,-0.27726028749999415,-0.2803732167806448,-0.28349935606903626,-0.28663878963082584,-0.2897916024498971,-0.29295788023602837,-0.29613770943265977,-0.29933117722475977,-0.3025383715467941,-0.3057593810907962,-0.3089942953145439,-0.3122432044498407,-0.3155061995109057,-0.3187833723028725,-0.32207481543039934,-0.32538062230639153,-0.32870088716083923,-0.33203570504977015,-0.3353851718643215,-0.33874938433993096,-0.3421284400656494,-0.3455224374935775,-0.34893147594842744,-0.35235565563721233,-0.35579507765906454,-0.3592498440151862,-0.3627200576189323,-0.36620582230603005,-0.3697072428449356,-0.3732244249473305,-0.3767574752787607,-0.3803065014694196,-0.38387161212507726,-0.3874529168381593,-0.39105052619897707,-0.39466455180711085,-0.3982951062829495,-0.4019423032793896,-0.4056062574936948,-0.4092870846795193,-0.4129849016590984,-0.41669982633560737,-0.420431977705693,-0.4241814758721793,-0.42794844205695093,-0.4317329986140179,-0.4355352690427623,-0.4393553780013724,-0.44319345132046645,-0.44704961601690824,-0.45092400030781954,-0.45481673362479064,-0.45872794662829414,-0.46265777122230384,-0.4666063405691233,-0.47057378910442654,-0.4745602525525157,-0.47856586794179823,-0.48259077362048736,-0.4866351092725308,-0.49069901593376947,-0.4947826360083331,-0.498886113285273,-0.5030095929554396,-0.5071532216286065,-0.5113171473508474,-0.5155015196221666,-0.5197064894143927,-0.5239322091893355,-0.5281788329172126,-0.5324465160953502,-0.5367354157671631,-0.5410456905414187,-0.545377500611788,-0.5497310077766929,-0.5541063754594513,-0.5585037687287253,-0.5629233543192811,-0.5673653006530628,-0.5718297778605865,-0.5763169578026625,-0.5808270140924472,-0.5853601221178355,-0.5899164590641963,-0.5944962039374581,-0.5990995375875521,-0.6037266427322182,-0.6083777039811811,-0.6130529078607011,-0.6177524428385112,-0.6224764993491418,-0.6272252698196454,-0.6319989486957225,-0.6367977324682641,-0.641621819700311,-0.6464714110544408,-0.6513467093205924,-0.6562479194443321,-0.6611752485555736,-0.6661289059977552,-0.6711091033574894,-0.6761160544946891,-0.6811499755731799,-0.6862110850918086,-0.6912996039160577,-0.6964157553101756,-0.7015597649698301,-0.7067318610552961,-0.7119322742251921,-0.7171612376707689,-0.7224189871507655,-0.7277057610268419,-0.7330218002996025,-0.738367348645216,-0.7437426524526503,-0.7491479608615266,-0.7545835258006144,-0.760049602026971,-0.765546447165743,-0.7710743217506415,-0.7766334892651061,-0.7822242161841678,-0.7878467720170297,-0.7935014293503732,-0.7991884638924113,-0.8049081545177005,-0.8106607833127253,-0.8164466356222732,-0.8222660000966151,-0.8281191687395105,-0.8340064369570478,-0.8399281036073428,-0.845884471051111,-0.8518758452031316,-0.8579025355846205,-0.8639648553765332,-0.870063121473815,-0.8761976545406205,-0.8823687790665198,-0.8885768234237148,-0.8948221199252822,-0.9011050048844746,-0.9074258186750892,-0.9137849057929355,-0.9201826149184233,-0.9266192989802953,-0.9330953152205266,-0.9396110252604166,-0.9461667951679034,-0.9527629955261202,-0.9594000015032271,-0.9660781929235382,-0.9727979543399827,-0.9795596751079199,-0.9863637494603418,-0.9932105765844929,-1.00010056069994,-1.007034111138123,-1.0140116424234178,-1.021033574355749,-1.028100332094781,-1.0352123462457332,-1.0423700529468418,-1.0495738939585166,-1.0568243167542275,-1.0641217746131602,-1.0714667267146782,-1.0788596382346376,-1.0863009804435928,-1.0937912308069426,-1.1013308730870537,-1.1089203974474096,-1.1165603005588396,-1.124251085707865,-1.1319932629072196,-1.139787349008591,-1.1476338678176412,-1.1555333502113527,-1.163486334257761,-1.1714933653381254,-1.179554996271603,-1.1876717874424791,-1.1958443069300198,-1.2040731306410057,-1.2123588424450171,-1.2207020343125354,-1.2291033064559251,-1.2375632674733732,-1.246082534495854,-1.2546617333371979,-1.263301498647337,-1.2720024740688056,-1.2807653123965836,-1.2895906757413578,-1.2984792356962915,-1.30743167350739,-1.3164486802475512,-1.3255309569943976,-1.3346792150119835,-1.343894175936474,-1.3531765719659046,-1.362527146054121,-1.371946652109007,-1.3814358551951098,-1.3909955317407876,-1.4006264697499822,-1.41032946901875,-1.420105341356667,-1.4299549108132454,-1.4398790139094897,-1.449878499874727,-1.4599542308888558,-1.470107082330158,-1.4803379430288244,-1.4906477155263436,-1.5010373163409163,-1.5115076762390622,-1.5220597405135832,-1.5326944692680577,-1.5434128377080514,-1.5542158364392196,-1.5651044717725082,-1.5760797660366321,-1.5871427578980497,-1.5982945026886382,-1.6095360727412833,-1.6208685577336173,-1.6322930650401228,-1.6438107200928556,-1.6554226667510255,-1.6671300676796899,-1.6789341047378235,-1.6908359793760397,-1.7028369130442471,-1.714938147609518,-1.727140945784483,-1.7394465915665591,-1.7518563906883289,-1.7643716710794024,-1.7769937833401093],\"yaxis\":\"y\",\"type\":\"scatter\"}],                        {\"template\":{\"data\":{\"histogram2dcontour\":[{\"type\":\"histogram2dcontour\",\"colorbar\":{\"outlinewidth\":0,\"ticks\":\"\"},\"colorscale\":[[0.0,\"#0d0887\"],[0.1111111111111111,\"#46039f\"],[0.2222222222222222,\"#7201a8\"],[0.3333333333333333,\"#9c179e\"],[0.4444444444444444,\"#bd3786\"],[0.5555555555555556,\"#d8576b\"],[0.6666666666666666,\"#ed7953\"],[0.7777777777777778,\"#fb9f3a\"],[0.8888888888888888,\"#fdca26\"],[1.0,\"#f0f921\"]]}],\"choropleth\":[{\"type\":\"choropleth\",\"colorbar\":{\"outlinewidth\":0,\"ticks\":\"\"}}],\"histogram2d\":[{\"type\":\"histogram2d\",\"colorbar\":{\"outlinewidth\":0,\"ticks\":\"\"},\"colorscale\":[[0.0,\"#0d0887\"],[0.1111111111111111,\"#46039f\"],[0.2222222222222222,\"#7201a8\"],[0.3333333333333333,\"#9c179e\"],[0.4444444444444444,\"#bd3786\"],[0.5555555555555556,\"#d8576b\"],[0.6666666666666666,\"#ed7953\"],[0.7777777777777778,\"#fb9f3a\"],[0.8888888888888888,\"#fdca26\"],[1.0,\"#f0f921\"]]}],\"heatmap\":[{\"type\":\"heatmap\",\"colorbar\":{\"outlinewidth\":0,\"ticks\":\"\"},\"colorscale\":[[0.0,\"#0d0887\"],[0.1111111111111111,\"#46039f\"],[0.2222222222222222,\"#7201a8\"],[0.3333333333333333,\"#9c179e\"],[0.4444444444444444,\"#bd3786\"],[0.5555555555555556,\"#d8576b\"],[0.6666666666666666,\"#ed7953\"],[0.7777777777777778,\"#fb9f3a\"],[0.8888888888888888,\"#fdca26\"],[1.0,\"#f0f921\"]]}],\"heatmapgl\":[{\"type\":\"heatmapgl\",\"colorbar\":{\"outlinewidth\":0,\"ticks\":\"\"},\"colorscale\":[[0.0,\"#0d0887\"],[0.1111111111111111,\"#46039f\"],[0.2222222222222222,\"#7201a8\"],[0.3333333333333333,\"#9c179e\"],[0.4444444444444444,\"#bd3786\"],[0.5555555555555556,\"#d8576b\"],[0.6666666666666666,\"#ed7953\"],[0.7777777777777778,\"#fb9f3a\"],[0.8888888888888888,\"#fdca26\"],[1.0,\"#f0f921\"]]}],\"contourcarpet\":[{\"type\":\"contourcarpet\",\"colorbar\":{\"outlinewidth\":0,\"ticks\":\"\"}}],\"contour\":[{\"type\":\"contour\",\"colorbar\":{\"outlinewidth\":0,\"ticks\":\"\"},\"colorscale\":[[0.0,\"#0d0887\"],[0.1111111111111111,\"#46039f\"],[0.2222222222222222,\"#7201a8\"],[0.3333333333333333,\"#9c179e\"],[0.4444444444444444,\"#bd3786\"],[0.5555555555555556,\"#d8576b\"],[0.6666666666666666,\"#ed7953\"],[0.7777777777777778,\"#fb9f3a\"],[0.8888888888888888,\"#fdca26\"],[1.0,\"#f0f921\"]]}],\"surface\":[{\"type\":\"surface\",\"colorbar\":{\"outlinewidth\":0,\"ticks\":\"\"},\"colorscale\":[[0.0,\"#0d0887\"],[0.1111111111111111,\"#46039f\"],[0.2222222222222222,\"#7201a8\"],[0.3333333333333333,\"#9c179e\"],[0.4444444444444444,\"#bd3786\"],[0.5555555555555556,\"#d8576b\"],[0.6666666666666666,\"#ed7953\"],[0.7777777777777778,\"#fb9f3a\"],[0.8888888888888888,\"#fdca26\"],[1.0,\"#f0f921\"]]}],\"mesh3d\":[{\"type\":\"mesh3d\",\"colorbar\":{\"outlinewidth\":0,\"ticks\":\"\"}}],\"scatter\":[{\"fillpattern\":{\"fillmode\":\"overlay\",\"size\":10,\"solidity\":0.2},\"type\":\"scatter\"}],\"parcoords\":[{\"type\":\"parcoords\",\"line\":{\"colorbar\":{\"outlinewidth\":0,\"ticks\":\"\"}}}],\"scatterpolargl\":[{\"type\":\"scatterpolargl\",\"marker\":{\"colorbar\":{\"outlinewidth\":0,\"ticks\":\"\"}}}],\"bar\":[{\"error_x\":{\"color\":\"#2a3f5f\"},\"error_y\":{\"color\":\"#2a3f5f\"},\"marker\":{\"line\":{\"color\":\"#E5ECF6\",\"width\":0.5},\"pattern\":{\"fillmode\":\"overlay\",\"size\":10,\"solidity\":0.2}},\"type\":\"bar\"}],\"scattergeo\":[{\"type\":\"scattergeo\",\"marker\":{\"colorbar\":{\"outlinewidth\":0,\"ticks\":\"\"}}}],\"scatterpolar\":[{\"type\":\"scatterpolar\",\"marker\":{\"colorbar\":{\"outlinewidth\":0,\"ticks\":\"\"}}}],\"histogram\":[{\"marker\":{\"pattern\":{\"fillmode\":\"overlay\",\"size\":10,\"solidity\":0.2}},\"type\":\"histogram\"}],\"scattergl\":[{\"type\":\"scattergl\",\"marker\":{\"colorbar\":{\"outlinewidth\":0,\"ticks\":\"\"}}}],\"scatter3d\":[{\"type\":\"scatter3d\",\"line\":{\"colorbar\":{\"outlinewidth\":0,\"ticks\":\"\"}},\"marker\":{\"colorbar\":{\"outlinewidth\":0,\"ticks\":\"\"}}}],\"scattermapbox\":[{\"type\":\"scattermapbox\",\"marker\":{\"colorbar\":{\"outlinewidth\":0,\"ticks\":\"\"}}}],\"scatterternary\":[{\"type\":\"scatterternary\",\"marker\":{\"colorbar\":{\"outlinewidth\":0,\"ticks\":\"\"}}}],\"scattercarpet\":[{\"type\":\"scattercarpet\",\"marker\":{\"colorbar\":{\"outlinewidth\":0,\"ticks\":\"\"}}}],\"carpet\":[{\"aaxis\":{\"endlinecolor\":\"#2a3f5f\",\"gridcolor\":\"white\",\"linecolor\":\"white\",\"minorgridcolor\":\"white\",\"startlinecolor\":\"#2a3f5f\"},\"baxis\":{\"endlinecolor\":\"#2a3f5f\",\"gridcolor\":\"white\",\"linecolor\":\"white\",\"minorgridcolor\":\"white\",\"startlinecolor\":\"#2a3f5f\"},\"type\":\"carpet\"}],\"table\":[{\"cells\":{\"fill\":{\"color\":\"#EBF0F8\"},\"line\":{\"color\":\"white\"}},\"header\":{\"fill\":{\"color\":\"#C8D4E3\"},\"line\":{\"color\":\"white\"}},\"type\":\"table\"}],\"barpolar\":[{\"marker\":{\"line\":{\"color\":\"#E5ECF6\",\"width\":0.5},\"pattern\":{\"fillmode\":\"overlay\",\"size\":10,\"solidity\":0.2}},\"type\":\"barpolar\"}],\"pie\":[{\"automargin\":true,\"type\":\"pie\"}]},\"layout\":{\"autotypenumbers\":\"strict\",\"colorway\":[\"#636efa\",\"#EF553B\",\"#00cc96\",\"#ab63fa\",\"#FFA15A\",\"#19d3f3\",\"#FF6692\",\"#B6E880\",\"#FF97FF\",\"#FECB52\"],\"font\":{\"color\":\"#2a3f5f\"},\"hovermode\":\"closest\",\"hoverlabel\":{\"align\":\"left\"},\"paper_bgcolor\":\"white\",\"plot_bgcolor\":\"#E5ECF6\",\"polar\":{\"bgcolor\":\"#E5ECF6\",\"angularaxis\":{\"gridcolor\":\"white\",\"linecolor\":\"white\",\"ticks\":\"\"},\"radialaxis\":{\"gridcolor\":\"white\",\"linecolor\":\"white\",\"ticks\":\"\"}},\"ternary\":{\"bgcolor\":\"#E5ECF6\",\"aaxis\":{\"gridcolor\":\"white\",\"linecolor\":\"white\",\"ticks\":\"\"},\"baxis\":{\"gridcolor\":\"white\",\"linecolor\":\"white\",\"ticks\":\"\"},\"caxis\":{\"gridcolor\":\"white\",\"linecolor\":\"white\",\"ticks\":\"\"}},\"coloraxis\":{\"colorbar\":{\"outlinewidth\":0,\"ticks\":\"\"}},\"colorscale\":{\"sequential\":[[0.0,\"#0d0887\"],[0.1111111111111111,\"#46039f\"],[0.2222222222222222,\"#7201a8\"],[0.3333333333333333,\"#9c179e\"],[0.4444444444444444,\"#bd3786\"],[0.5555555555555556,\"#d8576b\"],[0.6666666666666666,\"#ed7953\"],[0.7777777777777778,\"#fb9f3a\"],[0.8888888888888888,\"#fdca26\"],[1.0,\"#f0f921\"]],\"sequentialminus\":[[0.0,\"#0d0887\"],[0.1111111111111111,\"#46039f\"],[0.2222222222222222,\"#7201a8\"],[0.3333333333333333,\"#9c179e\"],[0.4444444444444444,\"#bd3786\"],[0.5555555555555556,\"#d8576b\"],[0.6666666666666666,\"#ed7953\"],[0.7777777777777778,\"#fb9f3a\"],[0.8888888888888888,\"#fdca26\"],[1.0,\"#f0f921\"]],\"diverging\":[[0,\"#8e0152\"],[0.1,\"#c51b7d\"],[0.2,\"#de77ae\"],[0.3,\"#f1b6da\"],[0.4,\"#fde0ef\"],[0.5,\"#f7f7f7\"],[0.6,\"#e6f5d0\"],[0.7,\"#b8e186\"],[0.8,\"#7fbc41\"],[0.9,\"#4d9221\"],[1,\"#276419\"]]},\"xaxis\":{\"gridcolor\":\"white\",\"linecolor\":\"white\",\"ticks\":\"\",\"title\":{\"standoff\":15},\"zerolinecolor\":\"white\",\"automargin\":true,\"zerolinewidth\":2},\"yaxis\":{\"gridcolor\":\"white\",\"linecolor\":\"white\",\"ticks\":\"\",\"title\":{\"standoff\":15},\"zerolinecolor\":\"white\",\"automargin\":true,\"zerolinewidth\":2},\"scene\":{\"xaxis\":{\"backgroundcolor\":\"#E5ECF6\",\"gridcolor\":\"white\",\"linecolor\":\"white\",\"showbackground\":true,\"ticks\":\"\",\"zerolinecolor\":\"white\",\"gridwidth\":2},\"yaxis\":{\"backgroundcolor\":\"#E5ECF6\",\"gridcolor\":\"white\",\"linecolor\":\"white\",\"showbackground\":true,\"ticks\":\"\",\"zerolinecolor\":\"white\",\"gridwidth\":2},\"zaxis\":{\"backgroundcolor\":\"#E5ECF6\",\"gridcolor\":\"white\",\"linecolor\":\"white\",\"showbackground\":true,\"ticks\":\"\",\"zerolinecolor\":\"white\",\"gridwidth\":2}},\"shapedefaults\":{\"line\":{\"color\":\"#2a3f5f\"}},\"annotationdefaults\":{\"arrowcolor\":\"#2a3f5f\",\"arrowhead\":0,\"arrowwidth\":1},\"geo\":{\"bgcolor\":\"white\",\"landcolor\":\"#E5ECF6\",\"subunitcolor\":\"white\",\"showland\":true,\"showlakes\":true,\"lakecolor\":\"white\"},\"title\":{\"x\":0.05},\"mapbox\":{\"style\":\"light\"}}},\"xaxis\":{\"anchor\":\"y\",\"domain\":[0.0,1.0],\"title\":{\"text\":\"Avg Price of chocolate brand\"}},\"yaxis\":{\"anchor\":\"x\",\"domain\":[0.0,1.0],\"title\":{\"text\":\"Mean Price Elasticity of Purchase quantity\"}},\"legend\":{\"title\":{\"text\":\"PE\"},\"tracegroupgap\":0},\"margin\":{\"t\":60},\"width\":1100,\"height\":300,\"title\":{\"text\":\"Price Elasticity of Purchase quantity (with promotion and without promotion) for customer segment 3\"}},                        {\"responsive\": true}                    ).then(function(){\n",
       "                            \n",
       "var gd = document.getElementById('d9d78f56-9567-4980-a384-8de63ed26a0e');\n",
       "var x = new MutationObserver(function (mutations, observer) {{\n",
       "        var display = window.getComputedStyle(gd).display;\n",
       "        if (!display || display === 'none') {{\n",
       "            console.log([gd, 'removed!']);\n",
       "            Plotly.purge(gd);\n",
       "            observer.disconnect();\n",
       "        }}\n",
       "}});\n",
       "\n",
       "// Listen for the removal of the full notebook cells\n",
       "var notebookContainer = gd.closest('#notebook-container');\n",
       "if (notebookContainer) {{\n",
       "    x.observe(notebookContainer, {childList: true});\n",
       "}}\n",
       "\n",
       "// Listen for the clearing of the current output cell\n",
       "var outputEl = gd.closest('.output');\n",
       "if (outputEl) {{\n",
       "    x.observe(outputEl, {childList: true});\n",
       "}}\n",
       "\n",
       "                        })                };                });            </script>        </div>"
      ]
     },
     "metadata": {},
     "output_type": "display_data"
    }
   ],
   "source": [
    "PE_0_1_promotion=df_price_elasticity_price_promotion.melt(id_vars=['price'],var_name='PE',value_name='PEValue',value_vars=['PE_with_promotion1_segm3','PE_with_promotion0_segm3'])\n",
    "# PE_0_1_promotion\n",
    "fig=px.line(PE_0_1_promotion,x=\"price\",y='PEValue',color='PE')\n",
    "fig.update_layout(width=1100,height=300,title='Price Elasticity of Purchase quantity (with promotion and without promotion) for customer segment 3',\n",
    "                  xaxis=dict(title='Avg Price of chocolate brand'),\n",
    "                  yaxis=dict(title='Mean Price Elasticity of Purchase quantity'))\n",
    "fig.show()"
   ]
  },
  {
   "cell_type": "code",
   "execution_count": 46,
   "id": "a6f275ee-52fe-4289-a51f-5f5fc2ae1682",
   "metadata": {},
   "outputs": [
    {
     "data": {
      "text/html": [
       "<div>\n",
       "<style scoped>\n",
       "    .dataframe tbody tr th:only-of-type {\n",
       "        vertical-align: middle;\n",
       "    }\n",
       "\n",
       "    .dataframe tbody tr th {\n",
       "        vertical-align: top;\n",
       "    }\n",
       "\n",
       "    .dataframe thead th {\n",
       "        text-align: right;\n",
       "    }\n",
       "</style>\n",
       "<table border=\"1\" class=\"dataframe\">\n",
       "  <thead>\n",
       "    <tr style=\"text-align: right;\">\n",
       "      <th></th>\n",
       "      <th>price</th>\n",
       "      <th>promotion_1</th>\n",
       "      <th>promotion_0</th>\n",
       "      <th>PE_with_promotion_1</th>\n",
       "      <th>PE_with_promotion_0</th>\n",
       "      <th>PE_with_promotion1_segm0</th>\n",
       "      <th>PE_with_promotion0_segm0</th>\n",
       "      <th>PE_with_promotion1_segm1</th>\n",
       "      <th>PE_with_promotion0_segm1</th>\n",
       "      <th>PE_with_promotion1_segm2</th>\n",
       "      <th>PE_with_promotion0_segm2</th>\n",
       "      <th>PE_with_promotion1_segm3</th>\n",
       "      <th>PE_with_promotion0_segm3</th>\n",
       "    </tr>\n",
       "  </thead>\n",
       "  <tbody>\n",
       "    <tr>\n",
       "      <th>0</th>\n",
       "      <td>0.50</td>\n",
       "      <td>1</td>\n",
       "      <td>0</td>\n",
       "      <td>-0.102157</td>\n",
       "      <td>-0.099543</td>\n",
       "      <td>-0.094415</td>\n",
       "      <td>-0.093756</td>\n",
       "      <td>-0.119438</td>\n",
       "      <td>-0.118605</td>\n",
       "      <td>-0.095075</td>\n",
       "      <td>-0.094411</td>\n",
       "      <td>-0.112634</td>\n",
       "      <td>-0.111848</td>\n",
       "    </tr>\n",
       "    <tr>\n",
       "      <th>1</th>\n",
       "      <td>0.51</td>\n",
       "      <td>1</td>\n",
       "      <td>0</td>\n",
       "      <td>-0.104413</td>\n",
       "      <td>-0.101736</td>\n",
       "      <td>-0.096485</td>\n",
       "      <td>-0.095811</td>\n",
       "      <td>-0.122058</td>\n",
       "      <td>-0.121204</td>\n",
       "      <td>-0.097160</td>\n",
       "      <td>-0.096481</td>\n",
       "      <td>-0.115104</td>\n",
       "      <td>-0.114300</td>\n",
       "    </tr>\n",
       "    <tr>\n",
       "      <th>2</th>\n",
       "      <td>0.52</td>\n",
       "      <td>1</td>\n",
       "      <td>0</td>\n",
       "      <td>-0.106679</td>\n",
       "      <td>-0.103939</td>\n",
       "      <td>-0.098564</td>\n",
       "      <td>-0.097873</td>\n",
       "      <td>-0.124687</td>\n",
       "      <td>-0.123813</td>\n",
       "      <td>-0.099253</td>\n",
       "      <td>-0.098557</td>\n",
       "      <td>-0.117584</td>\n",
       "      <td>-0.116760</td>\n",
       "    </tr>\n",
       "    <tr>\n",
       "      <th>3</th>\n",
       "      <td>0.53</td>\n",
       "      <td>1</td>\n",
       "      <td>0</td>\n",
       "      <td>-0.108954</td>\n",
       "      <td>-0.106150</td>\n",
       "      <td>-0.100650</td>\n",
       "      <td>-0.099944</td>\n",
       "      <td>-0.127326</td>\n",
       "      <td>-0.126432</td>\n",
       "      <td>-0.101353</td>\n",
       "      <td>-0.100642</td>\n",
       "      <td>-0.120073</td>\n",
       "      <td>-0.119230</td>\n",
       "    </tr>\n",
       "    <tr>\n",
       "      <th>4</th>\n",
       "      <td>0.54</td>\n",
       "      <td>1</td>\n",
       "      <td>0</td>\n",
       "      <td>-0.111238</td>\n",
       "      <td>-0.108369</td>\n",
       "      <td>-0.102744</td>\n",
       "      <td>-0.102022</td>\n",
       "      <td>-0.129975</td>\n",
       "      <td>-0.129061</td>\n",
       "      <td>-0.103462</td>\n",
       "      <td>-0.102735</td>\n",
       "      <td>-0.122571</td>\n",
       "      <td>-0.121709</td>\n",
       "    </tr>\n",
       "    <tr>\n",
       "      <th>...</th>\n",
       "      <td>...</td>\n",
       "      <td>...</td>\n",
       "      <td>...</td>\n",
       "      <td>...</td>\n",
       "      <td>...</td>\n",
       "      <td>...</td>\n",
       "      <td>...</td>\n",
       "      <td>...</td>\n",
       "      <td>...</td>\n",
       "      <td>...</td>\n",
       "      <td>...</td>\n",
       "      <td>...</td>\n",
       "      <td>...</td>\n",
       "    </tr>\n",
       "    <tr>\n",
       "      <th>295</th>\n",
       "      <td>3.45</td>\n",
       "      <td>1</td>\n",
       "      <td>0</td>\n",
       "      <td>-1.774292</td>\n",
       "      <td>-1.664290</td>\n",
       "      <td>-1.470729</td>\n",
       "      <td>-1.447763</td>\n",
       "      <td>-1.860527</td>\n",
       "      <td>-1.831474</td>\n",
       "      <td>-1.481008</td>\n",
       "      <td>-1.457882</td>\n",
       "      <td>-1.754538</td>\n",
       "      <td>-1.727141</td>\n",
       "    </tr>\n",
       "    <tr>\n",
       "      <th>296</th>\n",
       "      <td>3.46</td>\n",
       "      <td>1</td>\n",
       "      <td>0</td>\n",
       "      <td>-1.788634</td>\n",
       "      <td>-1.677205</td>\n",
       "      <td>-1.481307</td>\n",
       "      <td>-1.458078</td>\n",
       "      <td>-1.873908</td>\n",
       "      <td>-1.844523</td>\n",
       "      <td>-1.491660</td>\n",
       "      <td>-1.468269</td>\n",
       "      <td>-1.767157</td>\n",
       "      <td>-1.739447</td>\n",
       "    </tr>\n",
       "    <tr>\n",
       "      <th>297</th>\n",
       "      <td>3.47</td>\n",
       "      <td>1</td>\n",
       "      <td>0</td>\n",
       "      <td>-1.803124</td>\n",
       "      <td>-1.690246</td>\n",
       "      <td>-1.491975</td>\n",
       "      <td>-1.468481</td>\n",
       "      <td>-1.887405</td>\n",
       "      <td>-1.857683</td>\n",
       "      <td>-1.502403</td>\n",
       "      <td>-1.478744</td>\n",
       "      <td>-1.779885</td>\n",
       "      <td>-1.751856</td>\n",
       "    </tr>\n",
       "    <tr>\n",
       "      <th>298</th>\n",
       "      <td>3.48</td>\n",
       "      <td>1</td>\n",
       "      <td>0</td>\n",
       "      <td>-1.817766</td>\n",
       "      <td>-1.703414</td>\n",
       "      <td>-1.502736</td>\n",
       "      <td>-1.478972</td>\n",
       "      <td>-1.901018</td>\n",
       "      <td>-1.870954</td>\n",
       "      <td>-1.513239</td>\n",
       "      <td>-1.489308</td>\n",
       "      <td>-1.792722</td>\n",
       "      <td>-1.764372</td>\n",
       "    </tr>\n",
       "    <tr>\n",
       "      <th>299</th>\n",
       "      <td>3.49</td>\n",
       "      <td>1</td>\n",
       "      <td>0</td>\n",
       "      <td>-1.832562</td>\n",
       "      <td>-1.716712</td>\n",
       "      <td>-1.513591</td>\n",
       "      <td>-1.489552</td>\n",
       "      <td>-1.914748</td>\n",
       "      <td>-1.884339</td>\n",
       "      <td>-1.524169</td>\n",
       "      <td>-1.499963</td>\n",
       "      <td>-1.805671</td>\n",
       "      <td>-1.776994</td>\n",
       "    </tr>\n",
       "  </tbody>\n",
       "</table>\n",
       "<p>300 rows × 13 columns</p>\n",
       "</div>"
      ],
      "text/plain": [
       "     price  promotion_1  promotion_0  PE_with_promotion_1  \\\n",
       "0     0.50            1            0            -0.102157   \n",
       "1     0.51            1            0            -0.104413   \n",
       "2     0.52            1            0            -0.106679   \n",
       "3     0.53            1            0            -0.108954   \n",
       "4     0.54            1            0            -0.111238   \n",
       "..     ...          ...          ...                  ...   \n",
       "295   3.45            1            0            -1.774292   \n",
       "296   3.46            1            0            -1.788634   \n",
       "297   3.47            1            0            -1.803124   \n",
       "298   3.48            1            0            -1.817766   \n",
       "299   3.49            1            0            -1.832562   \n",
       "\n",
       "     PE_with_promotion_0  PE_with_promotion1_segm0  PE_with_promotion0_segm0  \\\n",
       "0              -0.099543                 -0.094415                 -0.093756   \n",
       "1              -0.101736                 -0.096485                 -0.095811   \n",
       "2              -0.103939                 -0.098564                 -0.097873   \n",
       "3              -0.106150                 -0.100650                 -0.099944   \n",
       "4              -0.108369                 -0.102744                 -0.102022   \n",
       "..                   ...                       ...                       ...   \n",
       "295            -1.664290                 -1.470729                 -1.447763   \n",
       "296            -1.677205                 -1.481307                 -1.458078   \n",
       "297            -1.690246                 -1.491975                 -1.468481   \n",
       "298            -1.703414                 -1.502736                 -1.478972   \n",
       "299            -1.716712                 -1.513591                 -1.489552   \n",
       "\n",
       "     PE_with_promotion1_segm1  PE_with_promotion0_segm1  \\\n",
       "0                   -0.119438                 -0.118605   \n",
       "1                   -0.122058                 -0.121204   \n",
       "2                   -0.124687                 -0.123813   \n",
       "3                   -0.127326                 -0.126432   \n",
       "4                   -0.129975                 -0.129061   \n",
       "..                        ...                       ...   \n",
       "295                 -1.860527                 -1.831474   \n",
       "296                 -1.873908                 -1.844523   \n",
       "297                 -1.887405                 -1.857683   \n",
       "298                 -1.901018                 -1.870954   \n",
       "299                 -1.914748                 -1.884339   \n",
       "\n",
       "     PE_with_promotion1_segm2  PE_with_promotion0_segm2  \\\n",
       "0                   -0.095075                 -0.094411   \n",
       "1                   -0.097160                 -0.096481   \n",
       "2                   -0.099253                 -0.098557   \n",
       "3                   -0.101353                 -0.100642   \n",
       "4                   -0.103462                 -0.102735   \n",
       "..                        ...                       ...   \n",
       "295                 -1.481008                 -1.457882   \n",
       "296                 -1.491660                 -1.468269   \n",
       "297                 -1.502403                 -1.478744   \n",
       "298                 -1.513239                 -1.489308   \n",
       "299                 -1.524169                 -1.499963   \n",
       "\n",
       "     PE_with_promotion1_segm3  PE_with_promotion0_segm3  \n",
       "0                   -0.112634                 -0.111848  \n",
       "1                   -0.115104                 -0.114300  \n",
       "2                   -0.117584                 -0.116760  \n",
       "3                   -0.120073                 -0.119230  \n",
       "4                   -0.122571                 -0.121709  \n",
       "..                        ...                       ...  \n",
       "295                 -1.754538                 -1.727141  \n",
       "296                 -1.767157                 -1.739447  \n",
       "297                 -1.779885                 -1.751856  \n",
       "298                 -1.792722                 -1.764372  \n",
       "299                 -1.805671                 -1.776994  \n",
       "\n",
       "[300 rows x 13 columns]"
      ]
     },
     "execution_count": 46,
     "metadata": {},
     "output_type": "execute_result"
    }
   ],
   "source": [
    "df_price_elasticity_price_promotion"
   ]
  },
  {
   "cell_type": "code",
   "execution_count": null,
   "id": "485e5c12-c315-4ecd-9a1b-663e4762f720",
   "metadata": {},
   "outputs": [],
   "source": []
  }
 ],
 "metadata": {
  "kernelspec": {
   "display_name": "HPOmenChallenge",
   "language": "python",
   "name": "hpomenchallenge"
  },
  "language_info": {
   "codemirror_mode": {
    "name": "ipython",
    "version": 3
   },
   "file_extension": ".py",
   "mimetype": "text/x-python",
   "name": "python",
   "nbconvert_exporter": "python",
   "pygments_lexer": "ipython3",
   "version": "3.8.19"
  },
  "widgets": {
   "application/vnd.jupyter.widget-state+json": {
    "state": {},
    "version_major": 2,
    "version_minor": 0
   }
  }
 },
 "nbformat": 4,
 "nbformat_minor": 5
}
